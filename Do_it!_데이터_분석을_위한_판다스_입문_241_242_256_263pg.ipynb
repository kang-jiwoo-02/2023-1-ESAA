{
  "nbformat": 4,
  "nbformat_minor": 0,
  "metadata": {
    "colab": {
      "private_outputs": true,
      "provenance": []
    },
    "kernelspec": {
      "name": "python3",
      "display_name": "Python 3"
    },
    "language_info": {
      "name": "python"
    }
  },
  "cells": [
    {
      "cell_type": "markdown",
      "source": [
        "[개념정리]\n",
        "============\n",
        "datetime 라이브러리 : 날짜와 시간을 처리하는 등의 다양한 기능 제공하는 파이썬 라이브러리\n",
        "- date / time / datetime 오브젝트 ..."
      ],
      "metadata": {
        "id": "28oBaqPNS1Ix"
      }
    },
    {
      "cell_type": "code",
      "execution_count": null,
      "metadata": {
        "id": "gmdDByE-R-3Y"
      },
      "outputs": [],
      "source": [
        "# pg.241 : datetime 오브젝트\n",
        "from datetime import datetime   # datetime 라이브러리 불러옴"
      ]
    },
    {
      "cell_type": "code",
      "source": [
        "# now, today 메서드 : 현재 시간 출력\n",
        "now1 = datetime.now()\n",
        "print(now1)\n",
        "\n",
        "now2 = datetime.today()\n",
        "print(now2)"
      ],
      "metadata": {
        "id": "mL2MWuL8TBtr"
      },
      "execution_count": null,
      "outputs": []
    },
    {
      "cell_type": "code",
      "source": [
        "t1 = datetime.now()\n",
        "t2 = datetime(1970,1,1)\n",
        "t3 = datetime(1970,12,12,13,24,34)\n",
        "\n",
        "print(t1)\n",
        "print(t2)\n",
        "print(t3)"
      ],
      "metadata": {
        "id": "znJAZ86iTMhl"
      },
      "execution_count": null,
      "outputs": []
    },
    {
      "cell_type": "code",
      "source": [
        "# 두 datetime 오브젝트의 차이 계산\n",
        "diff1 = t1 - t2\n",
        "print(diff1)\n",
        "print(type(diff1))\n",
        "\n",
        "diff2 = t2 - t1\n",
        "print(diff2)\n",
        "print(type(diff2))"
      ],
      "metadata": {
        "id": "hqSnzncbTbfN"
      },
      "execution_count": null,
      "outputs": []
    },
    {
      "cell_type": "code",
      "source": [
        "# pg.256 : 테슬라 주식 데이터로 시간 계산하기\n",
        "import pandas as pd"
      ],
      "metadata": {
        "id": "_KdLt74VTn1A"
      },
      "execution_count": null,
      "outputs": []
    },
    {
      "cell_type": "code",
      "source": [
        "pd.core.common.is_list_like = pd.api.types.is_list_like\n",
        "import pandas_datareader as pdr"
      ],
      "metadata": {
        "id": "SRrkcIrjW7_F"
      },
      "execution_count": null,
      "outputs": []
    },
    {
      "cell_type": "code",
      "source": [
        "tesla = pd.read_csv(\"/content/sample_data/tesla_stock_quandl.csv\")   # tesla 에는 데이터 프레임이 저장됨"
      ],
      "metadata": {
        "id": "QTCf1mrHXia5"
      },
      "execution_count": null,
      "outputs": []
    },
    {
      "cell_type": "code",
      "source": [
        "# get_data_quandl 메서드에 TSLA 라는 문자열 전달해서 테슬라 주식 데이터를 내려받음\n",
        "# to_csv 메서드를 이용해서 tesla_stock_quandl.csv 이름으로 저장\n",
        "tesla.to_csv('/content/sample_data/tesla_stock_quandl.csv')"
      ],
      "metadata": {
        "id": "BOaww2aHZtJa"
      },
      "execution_count": null,
      "outputs": []
    },
    {
      "cell_type": "code",
      "source": [
        "print(tesla.head())   # Date열 : 문자열 -> datetime 오브젝트로 자료형을 변환해야 시간 계산을 할 수 있음"
      ],
      "metadata": {
        "id": "x9ZUe0nVXb_y"
      },
      "execution_count": null,
      "outputs": []
    },
    {
      "cell_type": "code",
      "source": [
        "tesla = pd.read_csv('/content/sample_data/tesla_stock_quandl.csv', parse_dates=[\"Date\"])\n",
        "print(tesla.info())   # Date열을 Datetime 형으로 변환하는 법 : parse_dates 인자에 Date열 전달"
      ],
      "metadata": {
        "id": "e7fiqmUjYTPQ"
      },
      "execution_count": null,
      "outputs": []
    },
    {
      "cell_type": "code",
      "source": [
        "# datetime 오브젝트로 변환돼서 dt 접근자 사용 가능\n",
        "print(tesla.loc[(tesla.Date.dt.year == 2010) & (tesla.Date.dt.month == 6)])"
      ],
      "metadata": {
        "id": "OuiEB1SnY-WP"
      },
      "execution_count": null,
      "outputs": []
    },
    {
      "cell_type": "code",
      "source": [
        "# pg.258 : datetime 오브젝트를 인덱스로 설정해 데이터 추출하기\n",
        "tesla.index = tesla['Date']   # Date 열을 tesla 데이터프레임의 인덱스로 지정\n",
        "print(tesla.index)"
      ],
      "metadata": {
        "id": "pRJl9H8EZgFB"
      },
      "execution_count": null,
      "outputs": []
    },
    {
      "cell_type": "code",
      "source": [
        "print(tesla['2015'].iloc[:5,:5])    # 2015년 데이터 추출"
      ],
      "metadata": {
        "id": "69Sbnfmfb2Z9"
      },
      "execution_count": null,
      "outputs": []
    },
    {
      "cell_type": "code",
      "source": [
        "print(tesla['2010-06'].iloc[:,:5])    # 2010년 6월 데이터 추출"
      ],
      "metadata": {
        "id": "Nr-M2B74cEKh"
      },
      "execution_count": null,
      "outputs": []
    },
    {
      "cell_type": "code",
      "source": [
        "# pg.259 : 시간 간격을 인덱스로 지정해 데이터 추출하기\n",
        "\n",
        "# Date열 - Date열의 최솟값 : 데이터를 수집한 이후 시간이 얼마나 흘렀는지를 알려줌 (시간 간격)\n",
        "tesla['ref_date'] = tesla['Date'] - tesla['Date'].min()\n",
        "print(tesla.head())"
      ],
      "metadata": {
        "id": "zpRfw9Z8cO9p"
      },
      "execution_count": null,
      "outputs": []
    },
    {
      "cell_type": "code",
      "source": [
        "tesla.index = tesla['ref_date']\n",
        "print(tesla.iloc[:5,:5])    # 시간 간격 이용해서 데이터 추출"
      ],
      "metadata": {
        "id": "33kHfo3vceKT"
      },
      "execution_count": null,
      "outputs": []
    },
    {
      "cell_type": "code",
      "source": [
        "print(tesla['5 days':].iloc[:5,:5])"
      ],
      "metadata": {
        "id": "9dbRDBosctVQ"
      },
      "execution_count": null,
      "outputs": []
    },
    {
      "cell_type": "code",
      "source": [
        "# pg.261 : 시간 범위 생성해 인덱스로 지정하기\n",
        "ebola = pd.read_csv('/content/sample_data/country_timeseries.csv', parse_dates=[0])\n",
        "print(ebola.iloc[:5,:5])    # 2015.01.01 데이터가 누락됨"
      ],
      "metadata": {
        "id": "TBKTqrUkc5S9"
      },
      "execution_count": null,
      "outputs": []
    },
    {
      "cell_type": "code",
      "source": [
        "print(ebola.iloc[-5:,:5])   # 2014.03.23 데이터가 누락됨"
      ],
      "metadata": {
        "id": "a4ShT7-idfw_"
      },
      "execution_count": null,
      "outputs": []
    },
    {
      "cell_type": "code",
      "source": [
        "# date_range 메서드 이용해서 시간 인덱스 생성하기\n",
        "head_range = pd.date_range(start='2014-12-31', end='2015-01-05')\n",
        "print(head_range)"
      ],
      "metadata": {
        "id": "557_L_TNeh7p"
      },
      "execution_count": null,
      "outputs": []
    },
    {
      "cell_type": "code",
      "source": [
        "ebola_5 = ebola.head()\n",
        "ebola_5.index = ebola_5['Date']   # Date열을 인덱스로 먼저 지정해야 오류 발생 안함 !\n",
        "ebola_5.reindex(head_range)\n",
        "print(ebola_5.iloc[:5,:5])"
      ],
      "metadata": {
        "id": "Esrm3OwkepSJ"
      },
      "execution_count": null,
      "outputs": []
    },
    {
      "cell_type": "markdown",
      "source": [
        "- 시간 범위를 인덱스로 지정하면 Datetimeindex 자료형이 만들어짐\n",
        "\n",
        "- Datetimeindex에는 freq 속성이 포함되어 있음\n",
        "\n",
        "- freq 속성값을 지정하면 시간 간격을 조절하여 Datetimeindex를 만들 수 있음"
      ],
      "metadata": {
        "id": "7BOzUGkefFkX"
      }
    },
    {
      "cell_type": "code",
      "source": [],
      "metadata": {
        "id": "Yd0RLbnee5yZ"
      },
      "execution_count": null,
      "outputs": []
    }
  ]
}