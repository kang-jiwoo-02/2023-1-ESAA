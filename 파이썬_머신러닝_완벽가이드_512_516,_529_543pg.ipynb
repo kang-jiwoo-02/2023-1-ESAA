{
  "nbformat": 4,
  "nbformat_minor": 0,
  "metadata": {
    "colab": {
      "provenance": []
    },
    "kernelspec": {
      "name": "python3",
      "display_name": "Python 3"
    },
    "language_info": {
      "name": "python"
    }
  },
  "cells": [
    {
      "cell_type": "markdown",
      "source": [
        "# 6. 토픽 모델링 - 20 뉴스그룹\n",
        "\n",
        "토픽 모델링\n",
        "- 문서 집합에 숨어있는 주체를 찾아내는 것\n",
        "- 많은 양의 문서가 있을 때 사람이 문서를 다 읽고 핵심 주제를 찾는 것은 매우 많은 시간 소모\n",
        "  - 머신러닝 기반의 토픽 모델링을 적용해 숨어 있는 중요 주제를 효과적으로 찾아낼 수 있음\n",
        "  - LDA가 자주 사용됨\n",
        "- 사이킷런의 LatentDirichletAllocation 클래스로 제공"
      ],
      "metadata": {
        "id": "5_QMbALrXpwp"
      }
    },
    {
      "cell_type": "code",
      "execution_count": 27,
      "metadata": {
        "id": "q6jz8bV1XNJU"
      },
      "outputs": [],
      "source": [
        "from sklearn.datasets import fetch_20newsgroups\n",
        "from sklearn.feature_extraction.text import CountVectorizer\n",
        "from sklearn.decomposition import LatentDirichletAllocation"
      ]
    },
    {
      "cell_type": "code",
      "source": [
        "# 모토사이클, 야구, 그래픽스, 윈도우즈, 중동, 기독교, 전자공학, 의학 9개 주제를 추출\n",
        "cats = ['rec.motorcycles', 'rec.sport.baseball', 'comp.graphics', 'comp.windows.x', 'talk.politics.mideast', 'soc.religion.christian', 'sci.electronics', 'sci.med']\n",
        "\n",
        "# 위에서 cats 변수로 기재된 카테고리만 추출. featch_20newsgroups( ) 의 categories에 cats 입력\n",
        "news_df = fetch_20newsgroups(subset='all', remove = ('headers', 'footers', 'quotes'), categories=cats, random_state=0)\n",
        "\n",
        "# LDA는 count기반의 벡터화만 적용\n",
        "count_vect = CountVectorizer(max_df=0.95, max_features=1000, min_df=2, stop_words='english', ngram_range=(1,2))\n",
        "\n",
        "feat_vect = count_vect.fit_transform(news_df.data)\n",
        "print('CountVectorizer Shape:', feat_vect.shape)"
      ],
      "metadata": {
        "colab": {
          "base_uri": "https://localhost:8080/"
        },
        "id": "G9mfDGm1YUo_",
        "outputId": "779ad3e5-14d4-4594-b246-fa53ae1a7e46"
      },
      "execution_count": 28,
      "outputs": [
        {
          "output_type": "stream",
          "name": "stdout",
          "text": [
            "CountVectorizer Shape: (7862, 1000)\n"
          ]
        }
      ]
    },
    {
      "cell_type": "code",
      "source": [
        "# 토픽의 개수를 위의 뉴스 그룹에서 추출한 주제와 동일한 8개로 정하기\n",
        "\n",
        "lda = LatentDirichletAllocation(n_components=8, random_state=0)\n",
        "lda.fit(feat_vect)"
      ],
      "metadata": {
        "colab": {
          "base_uri": "https://localhost:8080/",
          "height": 75
        },
        "id": "wPBFCIyHYWHD",
        "outputId": "f35d9f6b-5a8a-44f7-8ffe-5defd17bb8c6"
      },
      "execution_count": 29,
      "outputs": [
        {
          "output_type": "execute_result",
          "data": {
            "text/plain": [
              "LatentDirichletAllocation(n_components=8, random_state=0)"
            ],
            "text/html": [
              "<style>#sk-container-id-2 {color: black;background-color: white;}#sk-container-id-2 pre{padding: 0;}#sk-container-id-2 div.sk-toggleable {background-color: white;}#sk-container-id-2 label.sk-toggleable__label {cursor: pointer;display: block;width: 100%;margin-bottom: 0;padding: 0.3em;box-sizing: border-box;text-align: center;}#sk-container-id-2 label.sk-toggleable__label-arrow:before {content: \"▸\";float: left;margin-right: 0.25em;color: #696969;}#sk-container-id-2 label.sk-toggleable__label-arrow:hover:before {color: black;}#sk-container-id-2 div.sk-estimator:hover label.sk-toggleable__label-arrow:before {color: black;}#sk-container-id-2 div.sk-toggleable__content {max-height: 0;max-width: 0;overflow: hidden;text-align: left;background-color: #f0f8ff;}#sk-container-id-2 div.sk-toggleable__content pre {margin: 0.2em;color: black;border-radius: 0.25em;background-color: #f0f8ff;}#sk-container-id-2 input.sk-toggleable__control:checked~div.sk-toggleable__content {max-height: 200px;max-width: 100%;overflow: auto;}#sk-container-id-2 input.sk-toggleable__control:checked~label.sk-toggleable__label-arrow:before {content: \"▾\";}#sk-container-id-2 div.sk-estimator input.sk-toggleable__control:checked~label.sk-toggleable__label {background-color: #d4ebff;}#sk-container-id-2 div.sk-label input.sk-toggleable__control:checked~label.sk-toggleable__label {background-color: #d4ebff;}#sk-container-id-2 input.sk-hidden--visually {border: 0;clip: rect(1px 1px 1px 1px);clip: rect(1px, 1px, 1px, 1px);height: 1px;margin: -1px;overflow: hidden;padding: 0;position: absolute;width: 1px;}#sk-container-id-2 div.sk-estimator {font-family: monospace;background-color: #f0f8ff;border: 1px dotted black;border-radius: 0.25em;box-sizing: border-box;margin-bottom: 0.5em;}#sk-container-id-2 div.sk-estimator:hover {background-color: #d4ebff;}#sk-container-id-2 div.sk-parallel-item::after {content: \"\";width: 100%;border-bottom: 1px solid gray;flex-grow: 1;}#sk-container-id-2 div.sk-label:hover label.sk-toggleable__label {background-color: #d4ebff;}#sk-container-id-2 div.sk-serial::before {content: \"\";position: absolute;border-left: 1px solid gray;box-sizing: border-box;top: 0;bottom: 0;left: 50%;z-index: 0;}#sk-container-id-2 div.sk-serial {display: flex;flex-direction: column;align-items: center;background-color: white;padding-right: 0.2em;padding-left: 0.2em;position: relative;}#sk-container-id-2 div.sk-item {position: relative;z-index: 1;}#sk-container-id-2 div.sk-parallel {display: flex;align-items: stretch;justify-content: center;background-color: white;position: relative;}#sk-container-id-2 div.sk-item::before, #sk-container-id-2 div.sk-parallel-item::before {content: \"\";position: absolute;border-left: 1px solid gray;box-sizing: border-box;top: 0;bottom: 0;left: 50%;z-index: -1;}#sk-container-id-2 div.sk-parallel-item {display: flex;flex-direction: column;z-index: 1;position: relative;background-color: white;}#sk-container-id-2 div.sk-parallel-item:first-child::after {align-self: flex-end;width: 50%;}#sk-container-id-2 div.sk-parallel-item:last-child::after {align-self: flex-start;width: 50%;}#sk-container-id-2 div.sk-parallel-item:only-child::after {width: 0;}#sk-container-id-2 div.sk-dashed-wrapped {border: 1px dashed gray;margin: 0 0.4em 0.5em 0.4em;box-sizing: border-box;padding-bottom: 0.4em;background-color: white;}#sk-container-id-2 div.sk-label label {font-family: monospace;font-weight: bold;display: inline-block;line-height: 1.2em;}#sk-container-id-2 div.sk-label-container {text-align: center;}#sk-container-id-2 div.sk-container {/* jupyter's `normalize.less` sets `[hidden] { display: none; }` but bootstrap.min.css set `[hidden] { display: none !important; }` so we also need the `!important` here to be able to override the default hidden behavior on the sphinx rendered scikit-learn.org. See: https://github.com/scikit-learn/scikit-learn/issues/21755 */display: inline-block !important;position: relative;}#sk-container-id-2 div.sk-text-repr-fallback {display: none;}</style><div id=\"sk-container-id-2\" class=\"sk-top-container\"><div class=\"sk-text-repr-fallback\"><pre>LatentDirichletAllocation(n_components=8, random_state=0)</pre><b>In a Jupyter environment, please rerun this cell to show the HTML representation or trust the notebook. <br />On GitHub, the HTML representation is unable to render, please try loading this page with nbviewer.org.</b></div><div class=\"sk-container\" hidden><div class=\"sk-item\"><div class=\"sk-estimator sk-toggleable\"><input class=\"sk-toggleable__control sk-hidden--visually\" id=\"sk-estimator-id-2\" type=\"checkbox\" checked><label for=\"sk-estimator-id-2\" class=\"sk-toggleable__label sk-toggleable__label-arrow\">LatentDirichletAllocation</label><div class=\"sk-toggleable__content\"><pre>LatentDirichletAllocation(n_components=8, random_state=0)</pre></div></div></div></div></div>"
            ]
          },
          "metadata": {},
          "execution_count": 29
        }
      ]
    },
    {
      "cell_type": "code",
      "source": [
        "# components_의 형태와 속성값 확인\n",
        "\n",
        "print(lda.components_.shape)\n",
        "lda.components_"
      ],
      "metadata": {
        "colab": {
          "base_uri": "https://localhost:8080/"
        },
        "id": "cEgxMDjMYZTT",
        "outputId": "a6ec990b-9580-4b51-db7b-835a9cf6dd59"
      },
      "execution_count": 30,
      "outputs": [
        {
          "output_type": "stream",
          "name": "stdout",
          "text": [
            "(8, 1000)\n"
          ]
        },
        {
          "output_type": "execute_result",
          "data": {
            "text/plain": [
              "array([[3.60992018e+01, 1.35626798e+02, 2.15751867e+01, ...,\n",
              "        3.02911688e+01, 8.66830093e+01, 6.79285199e+01],\n",
              "       [1.25199920e-01, 1.44401815e+01, 1.25045596e-01, ...,\n",
              "        1.81506995e+02, 1.25097844e-01, 9.39593286e+01],\n",
              "       [3.34762663e+02, 1.25176265e-01, 1.46743299e+02, ...,\n",
              "        1.25105772e-01, 3.63689741e+01, 1.25025218e-01],\n",
              "       ...,\n",
              "       [3.60204965e+01, 2.08640688e+01, 4.29606813e+00, ...,\n",
              "        1.45056650e+01, 8.33854413e+00, 1.55690009e+01],\n",
              "       [1.25128711e-01, 1.25247756e-01, 1.25005143e-01, ...,\n",
              "        9.17278769e+01, 1.25177668e-01, 3.74575887e+01],\n",
              "       [5.49258690e+01, 4.47009532e+00, 9.88524814e+00, ...,\n",
              "        4.87048440e+01, 1.25034678e-01, 1.25074632e-01]])"
            ]
          },
          "metadata": {},
          "execution_count": 30
        }
      ]
    },
    {
      "cell_type": "code",
      "source": [
        "def display_topics(model, feature_names, no_top_words):\n",
        "  for topic_index, topic in enumerate(model.components_):\n",
        "    print('Topic #', topic_index)\n",
        "\n",
        "    # components_ array에서 가장 값이 큰 순으로 정렬했을 때, 그 값의 array 인덱스를 반환.\n",
        "    topic_word_indexes = topic.argsort()[::-1]\n",
        "    top_indexes=topic_word_indexes[:no_top_words]\n",
        "\n",
        "    # top_indexes 대상인 인덱스별로 feature_names에 해당하는 word feature 추출 후 joint으로 concat\n",
        "    feature_concat = ' '.join([feature_names[i] for i in top_indexes])\n",
        "    print(feature_concat)\n",
        "\n",
        "# CountVectorizer객체 내의 전체 word의 명칭을 get_features_names()를 통해 추출\n",
        "feature_names = count_vect.get_feature_names_out()\n",
        "\n",
        "# 토빅별 가장 연관도가 높은 word를 15개만 추출\n",
        "display_topics(lda, feature_names, 15)"
      ],
      "metadata": {
        "colab": {
          "base_uri": "https://localhost:8080/"
        },
        "id": "y61iKc80Yax5",
        "outputId": "a230fe08-61ee-41b6-8455-9929e407e816"
      },
      "execution_count": 31,
      "outputs": [
        {
          "output_type": "stream",
          "name": "stdout",
          "text": [
            "Topic # 0\n",
            "year 10 game medical health team 12 20 disease cancer 1993 games years patients good\n",
            "Topic # 1\n",
            "don just like know people said think time ve didn right going say ll way\n",
            "Topic # 2\n",
            "image file jpeg program gif images output format files color entry 00 use bit 03\n",
            "Topic # 3\n",
            "like know don think use does just good time book read information people used post\n",
            "Topic # 4\n",
            "armenian israel armenians jews turkish people israeli jewish government war dos dos turkey arab armenia 000\n",
            "Topic # 5\n",
            "edu com available graphics ftp data pub motif mail widget software mit information version sun\n",
            "Topic # 6\n",
            "god people jesus church believe christ does christian say think christians bible faith sin life\n",
            "Topic # 7\n",
            "use dos thanks windows using window does display help like problem server need know run\n"
          ]
        }
      ]
    },
    {
      "cell_type": "markdown",
      "source": [
        "두 벡터 사잇각\n",
        "\n",
        "![image.png](data:image/png;base64,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)"
      ],
      "metadata": {
        "id": "UJN5ACucYlv_"
      }
    },
    {
      "cell_type": "code",
      "source": [
        "# 코사인 유사도 구하는 함수\n",
        "\n",
        "import numpy as np\n",
        "\n",
        "def cos_similarity(v1, v2):\n",
        "  dot_product = np.dot(v1, v2)\n",
        "  l2_norm = (np.sqrt(sum(np.square(v1))) * np.sqrt(sum(np.square(v2))))\n",
        "  similarity = dot_product / l2_norm\n",
        "\n",
        "  return similarity"
      ],
      "metadata": {
        "id": "9s-zR-wgYclT"
      },
      "execution_count": 32,
      "outputs": []
    },
    {
      "cell_type": "code",
      "source": [
        "# TF-IDF 벡터화된 행렬로 변환\n",
        "\n",
        "from sklearn.feature_extraction.text import TfidfVectorizer\n",
        "\n",
        "doc_list = ['if you take the blue pill, the story ends',\n",
        "            'if you take the red pill, you stay in Wonderland',\n",
        "            'if you take the red pill, I show you how deep the rabbit hole goes']\n",
        "\n",
        "tfidf_vect_simple = TfidfVectorizer()\n",
        "feature_vect_simple = tfidf_vect_simple.fit_transform(doc_list)\n",
        "print(feature_vect_simple.shape)"
      ],
      "metadata": {
        "colab": {
          "base_uri": "https://localhost:8080/"
        },
        "id": "UzbSj7jVYs1S",
        "outputId": "f380a3eb-f590-4082-f875-8c9d08a36e39"
      },
      "execution_count": 33,
      "outputs": [
        {
          "output_type": "stream",
          "name": "stdout",
          "text": [
            "(3, 18)\n"
          ]
        }
      ]
    },
    {
      "cell_type": "code",
      "source": [
        "# TFidfVectorizer로 transform()한 결과는 희소 행렬이므로 밀집 행렬로 변환.\n",
        "feature_vect_dense = feature_vect_simple.todense()\n",
        "\n",
        "# 첫 번째 문장과 두 번째 문장의 피처 벡터 추출\n",
        "vect1 = np.array(feature_vect_dense[0]).reshape(-1, )\n",
        "vect2 = np.array(feature_vect_dense[1]).reshape(-1, )\n",
        "\n",
        "# 첫 번째 문장과 두 번째 문장의 피처 벡터로 두 개 문장의 코사인 유사도 추출\n",
        "similarity_simple = cos_similarity(vect1, vect2)\n",
        "print('문장 1, 문장 2 Cosine 유사도: {0:.3f}'.format(similarity_simple))"
      ],
      "metadata": {
        "colab": {
          "base_uri": "https://localhost:8080/"
        },
        "id": "141sRmv1Yue_",
        "outputId": "34872c35-81d5-47b0-ebf9-fdb5f83b7b41"
      },
      "execution_count": 34,
      "outputs": [
        {
          "output_type": "stream",
          "name": "stdout",
          "text": [
            "문장 1, 문장 2 Cosine 유사도: 0.402\n"
          ]
        }
      ]
    },
    {
      "cell_type": "code",
      "source": [
        "vect1 = np.array(feature_vect_dense[0]).reshape(-1, )\n",
        "vect3 = np.array(feature_vect_dense[2]).reshape(-1, )\n",
        "similarity_simple = cos_similarity(vect1, vect3)\n",
        "print('문장 1, 문장 3 Cosine 유사도: {0:.3f}'.format(similarity_simple))\n",
        "\n",
        "vect2 = np.array(feature_vect_dense[1]).reshape(-1, )\n",
        "vect3 = np.array(feature_vect_dense[2]).reshape(-1, )\n",
        "similarity_simple = cos_similarity(vect2, vect3)\n",
        "print('문장 2, 문장 3 Cosine 유사도: {0:.3f}'.format(similarity_simple))"
      ],
      "metadata": {
        "colab": {
          "base_uri": "https://localhost:8080/"
        },
        "id": "q7ceud-CYwuK",
        "outputId": "51025536-0967-45b7-c82f-5cf04ccc9212"
      },
      "execution_count": 35,
      "outputs": [
        {
          "output_type": "stream",
          "name": "stdout",
          "text": [
            "문장 1, 문장 3 Cosine 유사도: 0.404\n",
            "문장 2, 문장 3 Cosine 유사도: 0.456\n"
          ]
        }
      ]
    },
    {
      "cell_type": "code",
      "source": [
        "from sklearn.metrics.pairwise import cosine_similarity\n",
        "\n",
        "similarity_simple_pair = cosine_similarity(feature_vect_simple[0], feature_vect_simple)\n",
        "print(similarity_simple_pair)"
      ],
      "metadata": {
        "colab": {
          "base_uri": "https://localhost:8080/"
        },
        "id": "Ma8FA1uVYyU-",
        "outputId": "8ef587f6-51fa-4999-ed6e-5b0401f4ba8b"
      },
      "execution_count": 36,
      "outputs": [
        {
          "output_type": "stream",
          "name": "stdout",
          "text": [
            "[[1.         0.40207758 0.40425045]]\n"
          ]
        }
      ]
    },
    {
      "cell_type": "code",
      "source": [
        "from sklearn.metrics.pairwise import cosine_similarity\n",
        "\n",
        "similarity_simple_pair = cosine_similarity(feature_vect_simple[0], feature_vect_simple[1:])\n",
        "print(similarity_simple_pair)"
      ],
      "metadata": {
        "colab": {
          "base_uri": "https://localhost:8080/"
        },
        "id": "22dV6PuyYz2r",
        "outputId": "01469f2f-03e0-43a2-a789-8f456d900ae2"
      },
      "execution_count": 37,
      "outputs": [
        {
          "output_type": "stream",
          "name": "stdout",
          "text": [
            "[[0.40207758 0.40425045]]\n"
          ]
        }
      ]
    },
    {
      "cell_type": "code",
      "source": [
        "# 모든 개별 문서에 쌍으로 코사인 유사도 값 계산\n",
        "\n",
        "similarity_simple_pair = cosine_similarity(feature_vect_simple, feature_vect_simple)\n",
        "print(similarity_simple_pair)\n",
        "print('shape:', similarity_simple_pair.shape)"
      ],
      "metadata": {
        "colab": {
          "base_uri": "https://localhost:8080/"
        },
        "id": "s6QK3yXdY2dM",
        "outputId": "61b9bbb8-c1ee-453f-de2b-aa4411f734cd"
      },
      "execution_count": 38,
      "outputs": [
        {
          "output_type": "stream",
          "name": "stdout",
          "text": [
            "[[1.         0.40207758 0.40425045]\n",
            " [0.40207758 1.         0.45647296]\n",
            " [0.40425045 0.45647296 1.        ]]\n",
            "shape: (3, 3)\n"
          ]
        }
      ]
    },
    {
      "cell_type": "markdown",
      "source": [
        "Opinion Review 데이터 세트를 이용한 문사 유사도 측정"
      ],
      "metadata": {
        "id": "P8F_w_TGa1Tj"
      }
    },
    {
      "cell_type": "code",
      "source": [
        "from nltk.stem import WordNetLemmatizer\n",
        "import nltk\n",
        "import string\n",
        "\n",
        "remove_punct_dict = dict((ord(punct), None) for punct in string.punctuation)\n",
        "lemmar = WordNetLemmatizer()\n",
        "\n",
        "def LemTokens(tokens):\n",
        "    return [lemmar.lemmatize(token) for token in tokens]\n",
        "\n",
        "def LemNormalize(text):\n",
        "    return LemTokens(nltk.word_tokenize(text.lower().translate(remove_punct_dict)))"
      ],
      "metadata": {
        "id": "6zsj9H8NY330"
      },
      "execution_count": 39,
      "outputs": []
    },
    {
      "cell_type": "code",
      "source": [
        "%cd /content/drive/MyDrive/Colab Notebooks/topics"
      ],
      "metadata": {
        "colab": {
          "base_uri": "https://localhost:8080/"
        },
        "id": "w-EOtjeBasyp",
        "outputId": "7a3c4d25-5ab5-4c14-dc67-d25daceb434d"
      },
      "execution_count": 42,
      "outputs": [
        {
          "output_type": "stream",
          "name": "stdout",
          "text": [
            "/content/drive/MyDrive/Colab Notebooks/topics\n"
          ]
        }
      ]
    },
    {
      "cell_type": "code",
      "source": [
        "from nltk.stem import WordNetLemmatizer\n",
        "import nltk\n",
        "import string\n",
        "\n",
        "nltk.download('punkt')\n",
        "nltk.download('wordnet')\n",
        "\n",
        "# 단어 원형 추출 함수\n",
        "lemmar = WordNetLemmatizer()\n",
        "def LemTokens(tokens):\n",
        "    return [lemmar.lemmatize(token) for token in tokens]\n",
        "\n",
        "# 특수 문자 사전 생성: {33: None ...}\n",
        "# ord(): 아스키 코드 생성\n",
        "remove_punct_dict = dict((ord(punct), None) for punct in string.punctuation)\n",
        "\n",
        "# 특수 문자 제거 및 단어 원형 추출\n",
        "def LemNormalize(text):\n",
        "    # 텍스트 소문자 변경 후 특수 문자 제거\n",
        "    text_new = text.lower().translate(remove_punct_dict)\n",
        "\n",
        "    # 단어 토큰화\n",
        "    word_tokens = nltk.word_tokenize(text_new)\n",
        "\n",
        "    # 단어 원형 추출\n",
        "    return LemTokens(word_tokens)"
      ],
      "metadata": {
        "colab": {
          "base_uri": "https://localhost:8080/"
        },
        "id": "WCfV6Tbha8O3",
        "outputId": "3bcecd62-b486-4981-de04-be90b847b2fd"
      },
      "execution_count": 43,
      "outputs": [
        {
          "output_type": "stream",
          "name": "stderr",
          "text": [
            "[nltk_data] Downloading package punkt to /root/nltk_data...\n",
            "[nltk_data]   Package punkt is already up-to-date!\n",
            "[nltk_data] Downloading package wordnet to /root/nltk_data...\n",
            "[nltk_data]   Package wordnet is already up-to-date!\n"
          ]
        }
      ]
    },
    {
      "cell_type": "code",
      "source": [
        "import pandas as pd\n",
        "import glob\n",
        "from sklearn.feature_extraction.text import TfidfVectorizer\n",
        "from sklearn.cluster import KMeans\n",
        "\n",
        "all_files = glob.glob('*.data')\n",
        "filename_list = []\n",
        "opinion_text = []\n",
        "\n",
        "for file_ in all_files:\n",
        "  df = pd.read_table(file_, index_col=None, header=0, encoding='latin1')\n",
        "  filename_ = file_.split('\\')[-1]\n",
        "  filename = filename_.split('.')[0]\n",
        "  filename_list.append(filename)\n",
        "  opinion_text.append(df.to_string())\n",
        "\n",
        "document_df = pd.DataFrame({'filename':filename_list, 'opinion_text':opinion_text})\n",
        "\n",
        "tfidf_vect = TfidfVectorizer(tokenizer=LemNormalize, stop_words='english',\n",
        "                             ngram_range=(1,2), min_df=0.05, max_df=0.85)\n",
        "feature_vect = tfidf_vect.fit_transform(document_df['opinion_text'])\n",
        "\n",
        "km_cluster = KMeans(n_clusters=3, max_iter=10000, random_state=0)\n",
        "km_cluster.fit(feature_vect)\n",
        "cluster_label = km_cluster.labels_\n",
        "cluster_centers = km_cluster.cluster_centers_\n",
        "document_df['cluster_label'] = cluster_label"
      ],
      "metadata": {
        "id": "xkZwvetvcXH6"
      },
      "execution_count": null,
      "outputs": []
    },
    {
      "cell_type": "code",
      "source": [
        "from sklearn.metrics.pairwise import cosine_similarity\n",
        "\n",
        "# cluster_label = 1인 데이터는 호텔로 군집화된 데이터임. DataFrame에서 해당 인덱스를 추출\n",
        "hotel_indexes = document_df[document_df['cluster_label']==1].index\n",
        "print('호텔로 군집화 된 문서들의 DataFrame Index:', hotel_indexes)\n",
        "\n",
        "# 호텔로 군집화된 데이터 중 첫 번째 문서를 추출해 파일명 표시.\n",
        "comparison_docname = document_df.iloc[hotel_indexes[0]]['filename']\n",
        "print('##### 비교 기준 문서명 ', comparison_docname, ' 와 타 문서 유사도#####')\n",
        "\n",
        "''' document_df에서 추출한 Index 객체를 feature_vect로 입력해 호텔 군집화된 feature_vect 추출\n",
        "이를 이용해 호텔로 군집화된 문서 중 첫 번째 문서와 다른 문서 간의 코사인 유사도 측정.'''\n",
        "similarity_pair = cosine_similarity(feature_vect[hotel_indexes[0]], feature_vect[hotel_indexes])\n",
        "print(similarity_pair)"
      ],
      "metadata": {
        "id": "Ni2B5FcDY8Y-"
      },
      "execution_count": null,
      "outputs": []
    },
    {
      "cell_type": "code",
      "source": [
        "import seaborn as sns\n",
        "import numpy as np\n",
        "import matplotlib.pyplot as plt\n",
        "%matplotlib inline\n",
        "\n",
        "# 첫 번째 문서와 타 문서 간 유사도가 큰 순으로 정렬한 인덱스를 추출하되 자기 자신은은 제외\n",
        "sorted_index = similarity_pair.argsort()[:, ::-1]\n",
        "sorted_index = sorted_index[:, 1:]\n",
        "\n",
        "# 유사도 큰 순으로 hotel_index를 추출해 재정렬\n",
        "hotel_sorted_indexes = hotel_indexes[sorted_index.reshape(-1)]\n",
        "\n",
        "# 유사도가 큰 순으로 유사도 값을 재정렬하되 자기 자신은은 제외\n",
        "hotel_1_sim_value = np.sort(similarity_pair.reshape(-1))[::-1]\n",
        "hotel_1_sim_value = hotel_1_sim_value[1:]\n",
        "\n",
        "# 유사도가 큰 순으로 정렬된 인덱스와 유사도 값을 이용해 파일명과 유사도 값을 막대 그래프로 시각화\n",
        "hotel_1_sim_df = pd.DataFrame()\n",
        "hotel_1_sim_df['filename'] = document_df.iloc[hotel_sorted_indexes]['filename']\n",
        "hotel_1_sim_df['similarity'] = hotel_1_sim_value\n",
        "\n",
        "sns.barplot(x='similarity', y='filename', data=hotel_1_sim_df)\n",
        "plt.title(comparison_docname)\n",
        ""
      ],
      "metadata": {
        "id": "-TY1j1K-ZAGm"
      },
      "execution_count": null,
      "outputs": []
    },
    {
      "cell_type": "markdown",
      "source": [
        "# 9. 한글 텍스트 처리 - 네이버 영화 평점 감성 분석\n",
        "\n",
        "한글 NLP 처리의 어려움\n",
        "- 띄어쓰기, 다양한 조사 -> 의미 왜곡될 수 있음\n",
        "\n",
        "KoNLPy : 파이썬의 대표적인 한글 형태소 패키지\n",
        "- 형태소의 사전적 의미 : 단어로서 의미를 가지는 최소 단위"
      ],
      "metadata": {
        "id": "UtPenOs8c3Or"
      }
    },
    {
      "cell_type": "code",
      "source": [
        "pip install konlpy"
      ],
      "metadata": {
        "colab": {
          "base_uri": "https://localhost:8080/"
        },
        "id": "jzRTztNtdlI0",
        "outputId": "c25b3aa3-778f-4f2c-e93b-709cf53b2c1b"
      },
      "execution_count": 51,
      "outputs": [
        {
          "output_type": "stream",
          "name": "stdout",
          "text": [
            "Collecting konlpy\n",
            "  Downloading konlpy-0.6.0-py2.py3-none-any.whl (19.4 MB)\n",
            "\u001b[2K     \u001b[90m━━━━━━━━━━━━━━━━━━━━━━━━━━━━━━━━━━━━━━━━\u001b[0m \u001b[32m19.4/19.4 MB\u001b[0m \u001b[31m33.4 MB/s\u001b[0m eta \u001b[36m0:00:00\u001b[0m\n",
            "\u001b[?25hCollecting JPype1>=0.7.0 (from konlpy)\n",
            "  Downloading JPype1-1.4.1-cp310-cp310-manylinux_2_12_x86_64.manylinux2010_x86_64.whl (465 kB)\n",
            "\u001b[2K     \u001b[90m━━━━━━━━━━━━━━━━━━━━━━━━━━━━━━━━━━━━━━━━\u001b[0m \u001b[32m465.3/465.3 kB\u001b[0m \u001b[31m32.3 MB/s\u001b[0m eta \u001b[36m0:00:00\u001b[0m\n",
            "\u001b[?25hRequirement already satisfied: lxml>=4.1.0 in /usr/local/lib/python3.10/dist-packages (from konlpy) (4.9.3)\n",
            "Requirement already satisfied: numpy>=1.6 in /usr/local/lib/python3.10/dist-packages (from konlpy) (1.23.5)\n",
            "Requirement already satisfied: packaging in /usr/local/lib/python3.10/dist-packages (from JPype1>=0.7.0->konlpy) (23.2)\n",
            "Installing collected packages: JPype1, konlpy\n",
            "Successfully installed JPype1-1.4.1 konlpy-0.6.0\n"
          ]
        }
      ]
    },
    {
      "cell_type": "code",
      "source": [
        "import os\n",
        "os.chdir('/content')"
      ],
      "metadata": {
        "id": "JMx03otAdryF"
      },
      "execution_count": 52,
      "outputs": []
    },
    {
      "cell_type": "code",
      "source": [
        "# 데이터 로딩\n",
        "import pandas as pd\n",
        "\n",
        "train_df=pd.read_csv('/content/sample_data/ratings_train.txt', sep='\\t')\n",
        "train_df.head(3)"
      ],
      "metadata": {
        "colab": {
          "base_uri": "https://localhost:8080/",
          "height": 143
        },
        "id": "9Kl6F-1qdD6K",
        "outputId": "1c45fd8b-3a06-4679-c289-079cf29a3a5e"
      },
      "execution_count": 53,
      "outputs": [
        {
          "output_type": "execute_result",
          "data": {
            "text/plain": [
              "         id                           document  label\n",
              "0   9976970                아 더빙.. 진짜 짜증나네요 목소리      0\n",
              "1   3819312  흠...포스터보고 초딩영화줄....오버연기조차 가볍지 않구나      1\n",
              "2  10265843                  너무재밓었다그래서보는것을추천한다      0"
            ],
            "text/html": [
              "\n",
              "  <div id=\"df-ee2d6f69-a051-409b-9622-fc2c147bbba5\" class=\"colab-df-container\">\n",
              "    <div>\n",
              "<style scoped>\n",
              "    .dataframe tbody tr th:only-of-type {\n",
              "        vertical-align: middle;\n",
              "    }\n",
              "\n",
              "    .dataframe tbody tr th {\n",
              "        vertical-align: top;\n",
              "    }\n",
              "\n",
              "    .dataframe thead th {\n",
              "        text-align: right;\n",
              "    }\n",
              "</style>\n",
              "<table border=\"1\" class=\"dataframe\">\n",
              "  <thead>\n",
              "    <tr style=\"text-align: right;\">\n",
              "      <th></th>\n",
              "      <th>id</th>\n",
              "      <th>document</th>\n",
              "      <th>label</th>\n",
              "    </tr>\n",
              "  </thead>\n",
              "  <tbody>\n",
              "    <tr>\n",
              "      <th>0</th>\n",
              "      <td>9976970</td>\n",
              "      <td>아 더빙.. 진짜 짜증나네요 목소리</td>\n",
              "      <td>0</td>\n",
              "    </tr>\n",
              "    <tr>\n",
              "      <th>1</th>\n",
              "      <td>3819312</td>\n",
              "      <td>흠...포스터보고 초딩영화줄....오버연기조차 가볍지 않구나</td>\n",
              "      <td>1</td>\n",
              "    </tr>\n",
              "    <tr>\n",
              "      <th>2</th>\n",
              "      <td>10265843</td>\n",
              "      <td>너무재밓었다그래서보는것을추천한다</td>\n",
              "      <td>0</td>\n",
              "    </tr>\n",
              "  </tbody>\n",
              "</table>\n",
              "</div>\n",
              "    <div class=\"colab-df-buttons\">\n",
              "\n",
              "  <div class=\"colab-df-container\">\n",
              "    <button class=\"colab-df-convert\" onclick=\"convertToInteractive('df-ee2d6f69-a051-409b-9622-fc2c147bbba5')\"\n",
              "            title=\"Convert this dataframe to an interactive table.\"\n",
              "            style=\"display:none;\">\n",
              "\n",
              "  <svg xmlns=\"http://www.w3.org/2000/svg\" height=\"24px\" viewBox=\"0 -960 960 960\">\n",
              "    <path d=\"M120-120v-720h720v720H120Zm60-500h600v-160H180v160Zm220 220h160v-160H400v160Zm0 220h160v-160H400v160ZM180-400h160v-160H180v160Zm440 0h160v-160H620v160ZM180-180h160v-160H180v160Zm440 0h160v-160H620v160Z\"/>\n",
              "  </svg>\n",
              "    </button>\n",
              "\n",
              "  <style>\n",
              "    .colab-df-container {\n",
              "      display:flex;\n",
              "      gap: 12px;\n",
              "    }\n",
              "\n",
              "    .colab-df-convert {\n",
              "      background-color: #E8F0FE;\n",
              "      border: none;\n",
              "      border-radius: 50%;\n",
              "      cursor: pointer;\n",
              "      display: none;\n",
              "      fill: #1967D2;\n",
              "      height: 32px;\n",
              "      padding: 0 0 0 0;\n",
              "      width: 32px;\n",
              "    }\n",
              "\n",
              "    .colab-df-convert:hover {\n",
              "      background-color: #E2EBFA;\n",
              "      box-shadow: 0px 1px 2px rgba(60, 64, 67, 0.3), 0px 1px 3px 1px rgba(60, 64, 67, 0.15);\n",
              "      fill: #174EA6;\n",
              "    }\n",
              "\n",
              "    .colab-df-buttons div {\n",
              "      margin-bottom: 4px;\n",
              "    }\n",
              "\n",
              "    [theme=dark] .colab-df-convert {\n",
              "      background-color: #3B4455;\n",
              "      fill: #D2E3FC;\n",
              "    }\n",
              "\n",
              "    [theme=dark] .colab-df-convert:hover {\n",
              "      background-color: #434B5C;\n",
              "      box-shadow: 0px 1px 3px 1px rgba(0, 0, 0, 0.15);\n",
              "      filter: drop-shadow(0px 1px 2px rgba(0, 0, 0, 0.3));\n",
              "      fill: #FFFFFF;\n",
              "    }\n",
              "  </style>\n",
              "\n",
              "    <script>\n",
              "      const buttonEl =\n",
              "        document.querySelector('#df-ee2d6f69-a051-409b-9622-fc2c147bbba5 button.colab-df-convert');\n",
              "      buttonEl.style.display =\n",
              "        google.colab.kernel.accessAllowed ? 'block' : 'none';\n",
              "\n",
              "      async function convertToInteractive(key) {\n",
              "        const element = document.querySelector('#df-ee2d6f69-a051-409b-9622-fc2c147bbba5');\n",
              "        const dataTable =\n",
              "          await google.colab.kernel.invokeFunction('convertToInteractive',\n",
              "                                                    [key], {});\n",
              "        if (!dataTable) return;\n",
              "\n",
              "        const docLinkHtml = 'Like what you see? Visit the ' +\n",
              "          '<a target=\"_blank\" href=https://colab.research.google.com/notebooks/data_table.ipynb>data table notebook</a>'\n",
              "          + ' to learn more about interactive tables.';\n",
              "        element.innerHTML = '';\n",
              "        dataTable['output_type'] = 'display_data';\n",
              "        await google.colab.output.renderOutput(dataTable, element);\n",
              "        const docLink = document.createElement('div');\n",
              "        docLink.innerHTML = docLinkHtml;\n",
              "        element.appendChild(docLink);\n",
              "      }\n",
              "    </script>\n",
              "  </div>\n",
              "\n",
              "\n",
              "<div id=\"df-f3eecb88-38e9-4676-bbfa-a86d808086af\">\n",
              "  <button class=\"colab-df-quickchart\" onclick=\"quickchart('df-f3eecb88-38e9-4676-bbfa-a86d808086af')\"\n",
              "            title=\"Suggest charts.\"\n",
              "            style=\"display:none;\">\n",
              "\n",
              "<svg xmlns=\"http://www.w3.org/2000/svg\" height=\"24px\"viewBox=\"0 0 24 24\"\n",
              "     width=\"24px\">\n",
              "    <g>\n",
              "        <path d=\"M19 3H5c-1.1 0-2 .9-2 2v14c0 1.1.9 2 2 2h14c1.1 0 2-.9 2-2V5c0-1.1-.9-2-2-2zM9 17H7v-7h2v7zm4 0h-2V7h2v10zm4 0h-2v-4h2v4z\"/>\n",
              "    </g>\n",
              "</svg>\n",
              "  </button>\n",
              "\n",
              "<style>\n",
              "  .colab-df-quickchart {\n",
              "      --bg-color: #E8F0FE;\n",
              "      --fill-color: #1967D2;\n",
              "      --hover-bg-color: #E2EBFA;\n",
              "      --hover-fill-color: #174EA6;\n",
              "      --disabled-fill-color: #AAA;\n",
              "      --disabled-bg-color: #DDD;\n",
              "  }\n",
              "\n",
              "  [theme=dark] .colab-df-quickchart {\n",
              "      --bg-color: #3B4455;\n",
              "      --fill-color: #D2E3FC;\n",
              "      --hover-bg-color: #434B5C;\n",
              "      --hover-fill-color: #FFFFFF;\n",
              "      --disabled-bg-color: #3B4455;\n",
              "      --disabled-fill-color: #666;\n",
              "  }\n",
              "\n",
              "  .colab-df-quickchart {\n",
              "    background-color: var(--bg-color);\n",
              "    border: none;\n",
              "    border-radius: 50%;\n",
              "    cursor: pointer;\n",
              "    display: none;\n",
              "    fill: var(--fill-color);\n",
              "    height: 32px;\n",
              "    padding: 0;\n",
              "    width: 32px;\n",
              "  }\n",
              "\n",
              "  .colab-df-quickchart:hover {\n",
              "    background-color: var(--hover-bg-color);\n",
              "    box-shadow: 0 1px 2px rgba(60, 64, 67, 0.3), 0 1px 3px 1px rgba(60, 64, 67, 0.15);\n",
              "    fill: var(--button-hover-fill-color);\n",
              "  }\n",
              "\n",
              "  .colab-df-quickchart-complete:disabled,\n",
              "  .colab-df-quickchart-complete:disabled:hover {\n",
              "    background-color: var(--disabled-bg-color);\n",
              "    fill: var(--disabled-fill-color);\n",
              "    box-shadow: none;\n",
              "  }\n",
              "\n",
              "  .colab-df-spinner {\n",
              "    border: 2px solid var(--fill-color);\n",
              "    border-color: transparent;\n",
              "    border-bottom-color: var(--fill-color);\n",
              "    animation:\n",
              "      spin 1s steps(1) infinite;\n",
              "  }\n",
              "\n",
              "  @keyframes spin {\n",
              "    0% {\n",
              "      border-color: transparent;\n",
              "      border-bottom-color: var(--fill-color);\n",
              "      border-left-color: var(--fill-color);\n",
              "    }\n",
              "    20% {\n",
              "      border-color: transparent;\n",
              "      border-left-color: var(--fill-color);\n",
              "      border-top-color: var(--fill-color);\n",
              "    }\n",
              "    30% {\n",
              "      border-color: transparent;\n",
              "      border-left-color: var(--fill-color);\n",
              "      border-top-color: var(--fill-color);\n",
              "      border-right-color: var(--fill-color);\n",
              "    }\n",
              "    40% {\n",
              "      border-color: transparent;\n",
              "      border-right-color: var(--fill-color);\n",
              "      border-top-color: var(--fill-color);\n",
              "    }\n",
              "    60% {\n",
              "      border-color: transparent;\n",
              "      border-right-color: var(--fill-color);\n",
              "    }\n",
              "    80% {\n",
              "      border-color: transparent;\n",
              "      border-right-color: var(--fill-color);\n",
              "      border-bottom-color: var(--fill-color);\n",
              "    }\n",
              "    90% {\n",
              "      border-color: transparent;\n",
              "      border-bottom-color: var(--fill-color);\n",
              "    }\n",
              "  }\n",
              "</style>\n",
              "\n",
              "  <script>\n",
              "    async function quickchart(key) {\n",
              "      const quickchartButtonEl =\n",
              "        document.querySelector('#' + key + ' button');\n",
              "      quickchartButtonEl.disabled = true;  // To prevent multiple clicks.\n",
              "      quickchartButtonEl.classList.add('colab-df-spinner');\n",
              "      try {\n",
              "        const charts = await google.colab.kernel.invokeFunction(\n",
              "            'suggestCharts', [key], {});\n",
              "      } catch (error) {\n",
              "        console.error('Error during call to suggestCharts:', error);\n",
              "      }\n",
              "      quickchartButtonEl.classList.remove('colab-df-spinner');\n",
              "      quickchartButtonEl.classList.add('colab-df-quickchart-complete');\n",
              "    }\n",
              "    (() => {\n",
              "      let quickchartButtonEl =\n",
              "        document.querySelector('#df-f3eecb88-38e9-4676-bbfa-a86d808086af button');\n",
              "      quickchartButtonEl.style.display =\n",
              "        google.colab.kernel.accessAllowed ? 'block' : 'none';\n",
              "    })();\n",
              "  </script>\n",
              "</div>\n",
              "    </div>\n",
              "  </div>\n"
            ]
          },
          "metadata": {},
          "execution_count": 53
        }
      ]
    },
    {
      "cell_type": "code",
      "source": [
        "train_df['label'].value_counts()"
      ],
      "metadata": {
        "colab": {
          "base_uri": "https://localhost:8080/"
        },
        "id": "z27O0uugek8I",
        "outputId": "7cd53587-1e35-4e12-b11a-7bd541490a32"
      },
      "execution_count": 54,
      "outputs": [
        {
          "output_type": "execute_result",
          "data": {
            "text/plain": [
              "0    75173\n",
              "1    74827\n",
              "Name: label, dtype: int64"
            ]
          },
          "metadata": {},
          "execution_count": 54
        }
      ]
    },
    {
      "cell_type": "code",
      "source": [
        "import re\n",
        "\n",
        "train_df = train_df.fillna(' ')\n",
        "# 정규 표현식을 이용해 숫자를 공백으로 변경 (정규 표현식으로 \\d는 숫자를 의미)\n",
        "train_df['document'] = train_df['document'].apply(lambda x: re.sub(r'\\d+', ' ', x))\n",
        "\n",
        "# 테스트 데이터 세트를 로딩하고 동일하게 null 및 숫자를 공백으로 변환\n",
        "test_df = pd.read_csv('/content/sample_data/ratings_test.txt', sep='\\t')\n",
        "test_df = test_df.fillna(' ')\n",
        "test_df['document'] = test_df['document'].apply(lambda x: re.sub(r'\\d+', ' ', x))\n",
        "\n",
        "# id 칼럼 삭제 수행\n",
        "train_df.drop('id', axis=1, inplace=True)\n",
        "test_df.drop('id', axis=1, inplace=True)"
      ],
      "metadata": {
        "id": "ObTBWM4hepes"
      },
      "execution_count": 57,
      "outputs": []
    },
    {
      "cell_type": "code",
      "source": [
        "# twitter 객체의 morphs() 메서드를 이용하면 입력 인자로 들어온 문장을 형태로 단어 형태로 토큰화해 list 객체로 반환\n",
        "from konlpy.tag import Twitter\n",
        "\n",
        "twitter = Twitter()\n",
        "def tw_tokenizer(text):\n",
        "  # 입력 인자로 들어온 텍스트를 형태소 단어로 토큰화해 리스트 형태로 반환\n",
        "  tokens_ko = twitter.morphs(text)\n",
        "  return tokens_ko"
      ],
      "metadata": {
        "colab": {
          "base_uri": "https://localhost:8080/"
        },
        "id": "uoSSifAreqzG",
        "outputId": "3b5632da-f619-4518-fac5-b9526a89a75e"
      },
      "execution_count": 58,
      "outputs": [
        {
          "output_type": "stream",
          "name": "stderr",
          "text": [
            "/usr/local/lib/python3.10/dist-packages/konlpy/tag/_okt.py:17: UserWarning: \"Twitter\" has changed to \"Okt\" since KoNLPy v0.4.5.\n",
            "  warn('\"Twitter\" has changed to \"Okt\" since KoNLPy v0.4.5.')\n"
          ]
        }
      ]
    },
    {
      "cell_type": "code",
      "source": [
        "from sklearn.feature_extraction.text import TfidfVectorizer\n",
        "from sklearn.linear_model import LogisticRegression\n",
        "from sklearn.model_selection import GridSearchCV\n",
        "\n",
        "# twitter 객체의 morphs() 객체를 이용한 tokenizer 사용. ngram_range=(1,2)\n",
        "tfidf_vect = TfidfVectorizer(tokenizer=tw_tokenizer, ngram_range=(1,2), min_df=3, max_df=0.9)\n",
        "tfidf_vect.fit(train_df['document'])\n",
        "tfidf_matrix_train = tfidf_vect.transform(train_df['document'])"
      ],
      "metadata": {
        "colab": {
          "base_uri": "https://localhost:8080/"
        },
        "id": "83BHThUpe48a",
        "outputId": "83497c88-fbd4-4d76-e748-5006d3474119"
      },
      "execution_count": 59,
      "outputs": [
        {
          "output_type": "stream",
          "name": "stderr",
          "text": [
            "/usr/local/lib/python3.10/dist-packages/sklearn/feature_extraction/text.py:528: UserWarning: The parameter 'token_pattern' will not be used since 'tokenizer' is not None'\n",
            "  warnings.warn(\n"
          ]
        }
      ]
    },
    {
      "cell_type": "code",
      "source": [
        "# 로지스틱 회귀를 이용해 감성 분석 분류 수행\n",
        "lg_clf = LogisticRegression(random_state=0)\n",
        "\n",
        "# 파라미터 C의 최적화를 위해 GridSearchCV 이용\n",
        "params = {'C':[1, 3.5, 4.5, 5.5, 10]}\n",
        "\n",
        "grid_cv = GridSearchCV(lg_clf, param_grid=params, cv=3, scoring='accuracy', verbose=1)\n",
        "grid_cv.fit(tfidf_matrix_train, train_df['label'])\n",
        "print(grid_cv.best_params_, round(grid_cv.best_score_, 4))"
      ],
      "metadata": {
        "colab": {
          "base_uri": "https://localhost:8080/"
        },
        "id": "VL0K84uAe6Tn",
        "outputId": "5db36545-4147-4546-f2f3-f5bbbd657987"
      },
      "execution_count": 60,
      "outputs": [
        {
          "output_type": "stream",
          "name": "stdout",
          "text": [
            "Fitting 3 folds for each of 5 candidates, totalling 15 fits\n"
          ]
        },
        {
          "output_type": "stream",
          "name": "stderr",
          "text": [
            "/usr/local/lib/python3.10/dist-packages/sklearn/linear_model/_logistic.py:458: ConvergenceWarning: lbfgs failed to converge (status=1):\n",
            "STOP: TOTAL NO. of ITERATIONS REACHED LIMIT.\n",
            "\n",
            "Increase the number of iterations (max_iter) or scale the data as shown in:\n",
            "    https://scikit-learn.org/stable/modules/preprocessing.html\n",
            "Please also refer to the documentation for alternative solver options:\n",
            "    https://scikit-learn.org/stable/modules/linear_model.html#logistic-regression\n",
            "  n_iter_i = _check_optimize_result(\n",
            "/usr/local/lib/python3.10/dist-packages/sklearn/linear_model/_logistic.py:458: ConvergenceWarning: lbfgs failed to converge (status=1):\n",
            "STOP: TOTAL NO. of ITERATIONS REACHED LIMIT.\n",
            "\n",
            "Increase the number of iterations (max_iter) or scale the data as shown in:\n",
            "    https://scikit-learn.org/stable/modules/preprocessing.html\n",
            "Please also refer to the documentation for alternative solver options:\n",
            "    https://scikit-learn.org/stable/modules/linear_model.html#logistic-regression\n",
            "  n_iter_i = _check_optimize_result(\n",
            "/usr/local/lib/python3.10/dist-packages/sklearn/linear_model/_logistic.py:458: ConvergenceWarning: lbfgs failed to converge (status=1):\n",
            "STOP: TOTAL NO. of ITERATIONS REACHED LIMIT.\n",
            "\n",
            "Increase the number of iterations (max_iter) or scale the data as shown in:\n",
            "    https://scikit-learn.org/stable/modules/preprocessing.html\n",
            "Please also refer to the documentation for alternative solver options:\n",
            "    https://scikit-learn.org/stable/modules/linear_model.html#logistic-regression\n",
            "  n_iter_i = _check_optimize_result(\n",
            "/usr/local/lib/python3.10/dist-packages/sklearn/linear_model/_logistic.py:458: ConvergenceWarning: lbfgs failed to converge (status=1):\n",
            "STOP: TOTAL NO. of ITERATIONS REACHED LIMIT.\n",
            "\n",
            "Increase the number of iterations (max_iter) or scale the data as shown in:\n",
            "    https://scikit-learn.org/stable/modules/preprocessing.html\n",
            "Please also refer to the documentation for alternative solver options:\n",
            "    https://scikit-learn.org/stable/modules/linear_model.html#logistic-regression\n",
            "  n_iter_i = _check_optimize_result(\n",
            "/usr/local/lib/python3.10/dist-packages/sklearn/linear_model/_logistic.py:458: ConvergenceWarning: lbfgs failed to converge (status=1):\n",
            "STOP: TOTAL NO. of ITERATIONS REACHED LIMIT.\n",
            "\n",
            "Increase the number of iterations (max_iter) or scale the data as shown in:\n",
            "    https://scikit-learn.org/stable/modules/preprocessing.html\n",
            "Please also refer to the documentation for alternative solver options:\n",
            "    https://scikit-learn.org/stable/modules/linear_model.html#logistic-regression\n",
            "  n_iter_i = _check_optimize_result(\n",
            "/usr/local/lib/python3.10/dist-packages/sklearn/linear_model/_logistic.py:458: ConvergenceWarning: lbfgs failed to converge (status=1):\n",
            "STOP: TOTAL NO. of ITERATIONS REACHED LIMIT.\n",
            "\n",
            "Increase the number of iterations (max_iter) or scale the data as shown in:\n",
            "    https://scikit-learn.org/stable/modules/preprocessing.html\n",
            "Please also refer to the documentation for alternative solver options:\n",
            "    https://scikit-learn.org/stable/modules/linear_model.html#logistic-regression\n",
            "  n_iter_i = _check_optimize_result(\n",
            "/usr/local/lib/python3.10/dist-packages/sklearn/linear_model/_logistic.py:458: ConvergenceWarning: lbfgs failed to converge (status=1):\n",
            "STOP: TOTAL NO. of ITERATIONS REACHED LIMIT.\n",
            "\n",
            "Increase the number of iterations (max_iter) or scale the data as shown in:\n",
            "    https://scikit-learn.org/stable/modules/preprocessing.html\n",
            "Please also refer to the documentation for alternative solver options:\n",
            "    https://scikit-learn.org/stable/modules/linear_model.html#logistic-regression\n",
            "  n_iter_i = _check_optimize_result(\n",
            "/usr/local/lib/python3.10/dist-packages/sklearn/linear_model/_logistic.py:458: ConvergenceWarning: lbfgs failed to converge (status=1):\n",
            "STOP: TOTAL NO. of ITERATIONS REACHED LIMIT.\n",
            "\n",
            "Increase the number of iterations (max_iter) or scale the data as shown in:\n",
            "    https://scikit-learn.org/stable/modules/preprocessing.html\n",
            "Please also refer to the documentation for alternative solver options:\n",
            "    https://scikit-learn.org/stable/modules/linear_model.html#logistic-regression\n",
            "  n_iter_i = _check_optimize_result(\n",
            "/usr/local/lib/python3.10/dist-packages/sklearn/linear_model/_logistic.py:458: ConvergenceWarning: lbfgs failed to converge (status=1):\n",
            "STOP: TOTAL NO. of ITERATIONS REACHED LIMIT.\n",
            "\n",
            "Increase the number of iterations (max_iter) or scale the data as shown in:\n",
            "    https://scikit-learn.org/stable/modules/preprocessing.html\n",
            "Please also refer to the documentation for alternative solver options:\n",
            "    https://scikit-learn.org/stable/modules/linear_model.html#logistic-regression\n",
            "  n_iter_i = _check_optimize_result(\n",
            "/usr/local/lib/python3.10/dist-packages/sklearn/linear_model/_logistic.py:458: ConvergenceWarning: lbfgs failed to converge (status=1):\n",
            "STOP: TOTAL NO. of ITERATIONS REACHED LIMIT.\n",
            "\n",
            "Increase the number of iterations (max_iter) or scale the data as shown in:\n",
            "    https://scikit-learn.org/stable/modules/preprocessing.html\n",
            "Please also refer to the documentation for alternative solver options:\n",
            "    https://scikit-learn.org/stable/modules/linear_model.html#logistic-regression\n",
            "  n_iter_i = _check_optimize_result(\n",
            "/usr/local/lib/python3.10/dist-packages/sklearn/linear_model/_logistic.py:458: ConvergenceWarning: lbfgs failed to converge (status=1):\n",
            "STOP: TOTAL NO. of ITERATIONS REACHED LIMIT.\n",
            "\n",
            "Increase the number of iterations (max_iter) or scale the data as shown in:\n",
            "    https://scikit-learn.org/stable/modules/preprocessing.html\n",
            "Please also refer to the documentation for alternative solver options:\n",
            "    https://scikit-learn.org/stable/modules/linear_model.html#logistic-regression\n",
            "  n_iter_i = _check_optimize_result(\n",
            "/usr/local/lib/python3.10/dist-packages/sklearn/linear_model/_logistic.py:458: ConvergenceWarning: lbfgs failed to converge (status=1):\n",
            "STOP: TOTAL NO. of ITERATIONS REACHED LIMIT.\n",
            "\n",
            "Increase the number of iterations (max_iter) or scale the data as shown in:\n",
            "    https://scikit-learn.org/stable/modules/preprocessing.html\n",
            "Please also refer to the documentation for alternative solver options:\n",
            "    https://scikit-learn.org/stable/modules/linear_model.html#logistic-regression\n",
            "  n_iter_i = _check_optimize_result(\n"
          ]
        },
        {
          "output_type": "stream",
          "name": "stdout",
          "text": [
            "{'C': 3.5} 0.8593\n"
          ]
        },
        {
          "output_type": "stream",
          "name": "stderr",
          "text": [
            "/usr/local/lib/python3.10/dist-packages/sklearn/linear_model/_logistic.py:458: ConvergenceWarning: lbfgs failed to converge (status=1):\n",
            "STOP: TOTAL NO. of ITERATIONS REACHED LIMIT.\n",
            "\n",
            "Increase the number of iterations (max_iter) or scale the data as shown in:\n",
            "    https://scikit-learn.org/stable/modules/preprocessing.html\n",
            "Please also refer to the documentation for alternative solver options:\n",
            "    https://scikit-learn.org/stable/modules/linear_model.html#logistic-regression\n",
            "  n_iter_i = _check_optimize_result(\n"
          ]
        }
      ]
    },
    {
      "cell_type": "code",
      "source": [
        "from sklearn.metrics import accuracy_score\n",
        "\n",
        "# 학습 데이터를 적용한 TfidfVectorizer를 이용해 테스트 데이터를 TF-IDF 값으로 피처 변환함\n",
        "tfidf_matrix_test = tfidf_vect.transform(test_df['document'])\n",
        "\n",
        "# classifier는 gridsearchcv에서 최적 파라미터로 학습된 calssifier를 그대로 이용\n",
        "best_estimator = grid_cv.best_estimator_\n",
        "preds = best_estimator.predict(tfidf_matrix_test)\n",
        "\n",
        "print('Logistic Regression 정확도:', accuracy_score(test_df['label'], preds))"
      ],
      "metadata": {
        "colab": {
          "base_uri": "https://localhost:8080/"
        },
        "id": "p2qinDNNe8P2",
        "outputId": "bbc9affc-1fb9-4e11-e532-2dcf225370b3"
      },
      "execution_count": 61,
      "outputs": [
        {
          "output_type": "stream",
          "name": "stdout",
          "text": [
            "Logistic Regression 정확도: 0.86186\n"
          ]
        }
      ]
    },
    {
      "cell_type": "code",
      "source": [],
      "metadata": {
        "id": "dQ42RonqfEOR"
      },
      "execution_count": null,
      "outputs": []
    }
  ]
}