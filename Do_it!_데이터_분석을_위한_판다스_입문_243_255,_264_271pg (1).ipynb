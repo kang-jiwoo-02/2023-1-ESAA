{
  "nbformat": 4,
  "nbformat_minor": 0,
  "metadata": {
    "colab": {
      "private_outputs": true,
      "provenance": []
    },
    "kernelspec": {
      "name": "python3",
      "display_name": "Python 3"
    },
    "language_info": {
      "name": "python"
    }
  },
  "cells": [
    {
      "cell_type": "markdown",
      "source": [
        "[개념정리]\n",
        "=============\n",
        "to_datetime 메서드 : 문자열을 datetime 오브젝트로 변환해줌\n",
        "\n",
        "시간 형식 지정자 - pg.245\n",
        "\n",
        "strftime 메서드, 시간 형식 지정자를 이용해서 시계열 데이터 잘라내기\n",
        "\n",
        "dt 접근자, quarter 속성(dt.quarter) 이용해서 은행 파산 분기 알아내기\n",
        "\n",
        "shift 메서드 : 인잣값만큼 데이터를 밀어내는 메서드\n",
        "\n",
        "reindex 메서드 사용해서 새로 생성한 인덱스(new_idx)를 새로운 인덱스로 지정\n",
        "\n",
        "last_valid_index : 가장 오래된 데이터를 가져옴\n",
        "\n",
        "first_valid_index : 가장 최근의 데이터를 가져옴"
      ],
      "metadata": {
        "id": "UiueRtlFdWyM"
      }
    },
    {
      "cell_type": "code",
      "execution_count": null,
      "metadata": {
        "id": "QV1po3W8cxZK"
      },
      "outputs": [],
      "source": [
        "# pg.243\n",
        "import pandas as pd\n",
        "import os\n",
        "ebola = pd.read_csv('/content/sample_data/country_timeseries.csv')    # ebola 데이터 집합 불러옴"
      ]
    },
    {
      "cell_type": "code",
      "source": [
        "print(ebola.info( ))    # Date열이 문자열로 저장되어 있음"
      ],
      "metadata": {
        "id": "S7ltSmw-d6EH"
      },
      "execution_count": null,
      "outputs": []
    },
    {
      "cell_type": "code",
      "source": [
        "# date_dt라는 새로운 열에 Date열의 자료형을 datetime오브젝트로 변환한 결과 넣어줌\n",
        "ebola['date_dt'] = pd.to_datetime(ebola['Date'])\n",
        "print(ebola.info( ))"
      ],
      "metadata": {
        "id": "E3Ja5MajeIMF"
      },
      "execution_count": null,
      "outputs": []
    },
    {
      "cell_type": "code",
      "source": [
        "# 시간 형식 지정자 (%d, %m, %y)\n",
        "test_df1 = pd.DataFrame({'order_day':['01/01/15', '02/01/15', '03/01/15']})\n",
        "test_df1['date_dt1'] = pd.to_datetime(test_df1['order_day'], format = '%d/%m/%y')\n",
        "test_df1['date_dt2'] = pd.to_datetime(test_df1['order_day'], format = '%m/%d/%y')\n",
        "test_df1['date_dt3'] = pd.to_datetime(test_df1['order_day'], format = '%y/%m/%d')\n",
        "print(test_df1)"
      ],
      "metadata": {
        "id": "9ySd9FH-eQJ_"
      },
      "execution_count": null,
      "outputs": []
    },
    {
      "cell_type": "code",
      "source": [
        "test_df2 = pd.DataFrame({'order_day':['01-01-15', '02-01-15', '03-01-15']})\n",
        "test_df2['date_dt'] = pd.to_datetime(test_df2['order_day'], format='%d-%m-%y')\n",
        "print(test_df2)"
      ],
      "metadata": {
        "id": "E3Z8sbK7fBXL"
      },
      "execution_count": null,
      "outputs": []
    },
    {
      "cell_type": "code",
      "source": [
        "# pg.246 : 시계열 데이터를 구분해서 추출\n",
        "# strftime 메서드, 시간 형식 지정자를 이용해서 시계열 데이터 잘라내기\n",
        "from datetime import datetime\n",
        "now = datetime.now()\n",
        "print(now)"
      ],
      "metadata": {
        "id": "Nl6jnG1Ugn4i"
      },
      "execution_count": null,
      "outputs": []
    },
    {
      "cell_type": "code",
      "source": [
        "nowDate = now.strftime('%Y-%m-%d')\n",
        "print(nowDate)"
      ],
      "metadata": {
        "id": "KsalD_pchGTd"
      },
      "execution_count": null,
      "outputs": []
    },
    {
      "cell_type": "code",
      "source": [
        "nowTime = now.strftime('%H:%M:%S')\n",
        "print(nowTime)"
      ],
      "metadata": {
        "id": "8YKBiAZVhxxf"
      },
      "execution_count": null,
      "outputs": []
    },
    {
      "cell_type": "code",
      "source": [
        "nowDatetime = now.strftime('%Y-%m-%d %H:%M:%S')\n",
        "print(nowDatetime)"
      ],
      "metadata": {
        "id": "ehVKl0psh3k9"
      },
      "execution_count": null,
      "outputs": []
    },
    {
      "cell_type": "code",
      "source": [
        "# pg.247 : datetime 오브젝트로 변환하려는 열을 지정하여 데이터 집합 불러오기\n",
        "# parse_dates 인자에 datetime 오브젝트로 변환하고자 하는 열의 이름 전달해서 데이터 집합 불러오기\n",
        "ebolal = pd.read_csv('/content/sample_data/country_timeseries.csv', parse_dates=['Date']) \n",
        "print(ebolal.info( ))"
      ],
      "metadata": {
        "id": "hYLdOli-h_3c"
      },
      "execution_count": null,
      "outputs": []
    },
    {
      "cell_type": "code",
      "source": [
        "# datetime 오브젝트에서 날짜 정보 추출하기\n",
        "# 문자열로 저장된 날짜를 시리즈에 담아 datetime 오브젝트로 변환함\n",
        "date_series = pd.Series(['2018-05-16', '2018-05-17', '2018-05-18'])\n",
        "d1 = pd.to_datetime(date_series)\n",
        "print(d1)"
      ],
      "metadata": {
        "id": "xo23KMvGicGR"
      },
      "execution_count": null,
      "outputs": []
    },
    {
      "cell_type": "code",
      "source": [
        "print(d1[0].year)\n",
        "print(d1[0].month)\n",
        "print(d1[0].day)"
      ],
      "metadata": {
        "id": "ZDHefzvAi69T"
      },
      "execution_count": null,
      "outputs": []
    },
    {
      "cell_type": "code",
      "source": [
        "# pg.248 : dt접근자로 시계열 데이터 정리하기\n",
        "ebola = pd.read_csv('/content/sample_data/country_timeseries.csv')\n",
        "ebola['date_dt'] = pd.to_datetime(ebola['Date'])"
      ],
      "metadata": {
        "id": "DA35RXHmjIZC"
      },
      "execution_count": null,
      "outputs": []
    },
    {
      "cell_type": "code",
      "source": [
        "print(ebola[['Date', 'date_dt']].head())"
      ],
      "metadata": {
        "id": "e7_wzGJDj8Z_"
      },
      "execution_count": null,
      "outputs": []
    },
    {
      "cell_type": "code",
      "source": [
        "print(ebola['date_dt'][3].year)"
      ],
      "metadata": {
        "id": "TrwGWIyXkNrn"
      },
      "execution_count": null,
      "outputs": []
    },
    {
      "cell_type": "code",
      "source": [
        "print(ebola['date_dt'][3].month)"
      ],
      "metadata": {
        "id": "W71BgslRkSv1"
      },
      "execution_count": null,
      "outputs": []
    },
    {
      "cell_type": "code",
      "source": [
        "print(ebola['date_dt'][3].day)"
      ],
      "metadata": {
        "id": "AXGXAqmpkVQY"
      },
      "execution_count": null,
      "outputs": []
    },
    {
      "cell_type": "code",
      "source": [
        "# dt접근자로 date_df열에 한번에 접근 -> year 속성 이용해서 연도값을 추출\n",
        "ebola['year'] = ebola['date_dt'].dt.year\n",
        "print(ebola[['Date', 'date_dt', 'year']].head( ))"
      ],
      "metadata": {
        "id": "rsK10a3IkW5t"
      },
      "execution_count": null,
      "outputs": []
    },
    {
      "cell_type": "code",
      "source": [
        "ebola['month'], ebola['day'] = (ebola['date_dt'].dt.month, ebola['date_dt'].dt.day)\n",
        "print(ebola[['Date', 'date_dt', 'year', 'month', 'day']].head( ))"
      ],
      "metadata": {
        "id": "wubaeqlQkf7V"
      },
      "execution_count": null,
      "outputs": []
    },
    {
      "cell_type": "code",
      "source": [
        "print(ebola.info())   # date_dt열은 datetime오브젝트 / 나머지는 정수형"
      ],
      "metadata": {
        "id": "MN26eNWkk-oQ"
      },
      "execution_count": null,
      "outputs": []
    },
    {
      "cell_type": "code",
      "source": [
        "# pg.251 : 에볼라 최초 발병일 계산하기\n",
        "print(ebola.iloc[-5:,:5])   # ebola 데이터프레임의 마지막 행,열 5개 보기"
      ],
      "metadata": {
        "id": "NToFYO4ulLMm"
      },
      "execution_count": null,
      "outputs": []
    },
    {
      "cell_type": "code",
      "source": [
        "print(ebola['date_dt'].min( ))    # 에볼라가 발생하기 시작한 날\n",
        "print(type(ebola['date_dt'].min( )))"
      ],
      "metadata": {
        "id": "cYQnuXwdla3s"
      },
      "execution_count": null,
      "outputs": []
    },
    {
      "cell_type": "code",
      "source": [
        "ebola['outbreak_d'] = ebola['date_dt'] - ebola['date_dt'].min()   # 에볼라의 진행 정도\n",
        "print(ebola[['Date','Day','outbreak_d']].head())"
      ],
      "metadata": {
        "id": "XTC77AcJljjm"
      },
      "execution_count": null,
      "outputs": []
    },
    {
      "cell_type": "code",
      "source": [
        "# pg.252 : 파산한 은행의 개수 계산하기\n",
        "banks = pd.read_csv('/content/sample_data/banklist.csv')\n",
        "print(banks.head())   # Closing Date / Updated Date 열의 데이터 자료형이 시계열 데이터임"
      ],
      "metadata": {
        "id": "Z0ZifDs5lzru"
      },
      "execution_count": null,
      "outputs": []
    },
    {
      "cell_type": "code",
      "source": [
        "banks_no_dates = pd.read_csv('/content/sample_data/banklist.csv')\n",
        "print(banks_no_dates.info())"
      ],
      "metadata": {
        "id": "IVkPwdSimIum"
      },
      "execution_count": null,
      "outputs": []
    },
    {
      "cell_type": "code",
      "source": [
        "banks = pd.read_csv('/content/sample_data/banklist.csv', parse_dates=[5,6])   # datetime 오브젝트로 변환해서 불러옴\n",
        "print(banks.info())"
      ],
      "metadata": {
        "id": "889vm_xHmsyB"
      },
      "execution_count": null,
      "outputs": []
    },
    {
      "cell_type": "code",
      "source": [
        "# dt 접근자, quarter 속성 이용해서 은행 파산 분기 알아내기\n",
        "banks['closing_quarter'], banks['closing_year'] = (banks['Closing Date'].dt.quarter, banks['Closing Date'].dt.year)\n",
        "print(banks.head())"
      ],
      "metadata": {
        "id": "MAO5fqUlm5FJ"
      },
      "execution_count": null,
      "outputs": []
    },
    {
      "cell_type": "code",
      "source": [
        "# groupby 메서드 이용해서 연도별로 파산한 은행의 개수 알아내기\n",
        "closing_year = banks.groupby(['closing_year']).size()\n",
        "print(closing_year)"
      ],
      "metadata": {
        "id": "9Re2DaTQnPvc"
      },
      "execution_count": null,
      "outputs": []
    },
    {
      "cell_type": "code",
      "source": [
        "# 각 연도별, 분기별로 파산한 은행의 개수 알아보기\n",
        "closing_year_q = banks.groupby(['closing_year', 'closing_quarter']).size()\n",
        "print(closing_year_q)"
      ],
      "metadata": {
        "id": "6sLMFasunvrK"
      },
      "execution_count": null,
      "outputs": []
    },
    {
      "cell_type": "code",
      "source": [
        "# 연도별 , 분기별 파산 은행개수 그래프 그리기\n",
        "import matplotlib.pyplot as plt\n",
        "fig,ax = plt.subplots()\n",
        "ax = closing_year.plot()\n",
        "plt.show()\n",
        "\n",
        "fig,ax = plt.subplots()\n",
        "ax = closing_year_q.plot()\n",
        "plt.show()"
      ],
      "metadata": {
        "id": "bygwawtioDjw"
      },
      "execution_count": null,
      "outputs": []
    },
    {
      "cell_type": "code",
      "source": [
        "# pg.264 : 에볼라의 확산 속도 비교하기\n",
        "import matplotlib.pyplot as plt\n",
        "\n",
        "ebola.index = ebola['Date']\n",
        "\n",
        "fig, ax = plt.subplots( )\n",
        "ax = ebola.iloc[0:, 1:20].plot(ax=ax)    # 1: 으로 하니깐 너무 커서 임의로 20으로 설정\n",
        "ax.legend(fontsize=5, loc=2, borderaxespad=0.)\n",
        "plt.show()    "
      ],
      "metadata": {
        "id": "j8SIzQhYokqJ"
      },
      "execution_count": null,
      "outputs": []
    },
    {
      "cell_type": "markdown",
      "source": [
        "각 나라의 에볼라 발병일이 달라서 그래프가 그려지기 시작한 지점도 다름\n",
        "\n",
        "각 나라의 발병일을 가장 처음에 에볼라가 발병한 Guinea와 동일한 위치로 옮겨야 나라별 에볼라의 확산속도를 제대로 비교할 수 있음"
      ],
      "metadata": {
        "id": "Vau3hozMtuEI"
      }
    },
    {
      "cell_type": "code",
      "source": [
        "ebola_sub = ebola[['Day','Cases_Guinea','Cases_Liberia']]\n",
        "print(ebola_sub.tail(10))"
      ],
      "metadata": {
        "id": "a435BBzGtyTX"
      },
      "execution_count": null,
      "outputs": []
    },
    {
      "cell_type": "code",
      "source": [
        "ebola = pd.read_csv('/content/sample_data/country_timeseries.csv', parse_dates=['Date'])\n",
        "print(ebola.head().iloc[:,:5])"
      ],
      "metadata": {
        "id": "Y-8CA8Fst6Mh"
      },
      "execution_count": null,
      "outputs": []
    },
    {
      "cell_type": "code",
      "source": [
        "print(ebola.tail().iloc[:,:5])"
      ],
      "metadata": {
        "id": "W-0gviaauCqH"
      },
      "execution_count": null,
      "outputs": []
    },
    {
      "cell_type": "code",
      "source": [
        "ebola.index = ebola['Date']   # Date열을 인덱스로 지정\n",
        "new_idx = pd.date_range(ebola.index.min(), ebola.index.max())   # 날짜가 아예 없었던 데이터의 인덱스를 생성가능케 함"
      ],
      "metadata": {
        "id": "cxKWuAW2uK0b"
      },
      "execution_count": null,
      "outputs": []
    },
    {
      "cell_type": "code",
      "source": [
        "print(new_idx)"
      ],
      "metadata": {
        "id": "B7y4aNG6uSl2"
      },
      "execution_count": null,
      "outputs": []
    },
    {
      "cell_type": "code",
      "source": [
        "new_idx = reversed(new_idx)   # reversed 메서드 사용해서 인덱스를 반대로 뒤집음"
      ],
      "metadata": {
        "id": "nHQEL7Q_ueCt"
      },
      "execution_count": null,
      "outputs": []
    },
    {
      "cell_type": "code",
      "source": [
        "ebola = ebola.reindex(new_idx)    # reindex 메서드 사용해서 새로 생성한 인덱스(new_idx)를 새로운 인덱스로 지정\n",
        "print(ebola.head().iloc[:,:5])"
      ],
      "metadata": {
        "id": "03KHww8fuhyq"
      },
      "execution_count": null,
      "outputs": []
    },
    {
      "cell_type": "code",
      "source": [
        "# last_valid_index : 가장 오래된 데이터를 가져옴\n",
        "last_valid = ebola.apply(pd.Series.last_valid_index)\n",
        "print(last_valid)"
      ],
      "metadata": {
        "id": "pd8Ouq50unTR"
      },
      "execution_count": null,
      "outputs": []
    },
    {
      "cell_type": "code",
      "source": [
        "# first_valid_index : 가장 최근의 데이터를 가져옴\n",
        "first_valid = ebola.apply(pd.Series.first_valid_index) \n",
        "print(first_valid)"
      ],
      "metadata": {
        "id": "MvIj7T_fvrpG"
      },
      "execution_count": null,
      "outputs": []
    },
    {
      "cell_type": "code",
      "source": [
        "earliest_date = ebola.index.min( ) \n",
        "print(earliest_date)"
      ],
      "metadata": {
        "id": "_ZZ11qewv7N1"
      },
      "execution_count": null,
      "outputs": []
    },
    {
      "cell_type": "code",
      "source": [
        "shift_values = last_valid - earliest_date   # (에볼라 처음 발병날 - 각 나라의 에볼라 발병일) 만큼 옮기기\n",
        "print(shift_values)"
      ],
      "metadata": {
        "id": "Srig0ewJwGWR"
      },
      "execution_count": null,
      "outputs": []
    },
    {
      "cell_type": "code",
      "source": [
        "ebola_dict = {}\n",
        "for idx, col in enumerate(ebola):\n",
        "  d = shift_values[idx].days\n",
        "  shifted = ebola[col].shift(d)   # shift 메서드 : 인잣값만큼 데이터를 밀어내는 메서드\n",
        "  ebola_dict[col] = shifted"
      ],
      "metadata": {
        "id": "nemLMOYBwM0b"
      },
      "execution_count": null,
      "outputs": []
    },
    {
      "cell_type": "code",
      "source": [
        "ebola_shift = pd.DataFrame(ebola_dict)    # 딕셔너리를 데이터프레임으로 변환\n",
        "print(ebola_shift.tail())"
      ],
      "metadata": {
        "id": "9dD2hfI6waEV"
      },
      "execution_count": null,
      "outputs": []
    },
    {
      "cell_type": "code",
      "source": [
        "print(ebola_shift.tail())   # 에볼라의 최초 발병일 기준으로 모든 열의 데이터가 옮겨져있음"
      ],
      "metadata": {
        "id": "PBl9pN8FwlUB"
      },
      "execution_count": null,
      "outputs": []
    },
    {
      "cell_type": "code",
      "source": [
        "ebola_shift.index = ebola_shift['Day']    # 인덱스를 Day 열로 지정\n",
        "ebola_shift = ebola_shift.drop(['Date', 'Day'], axis=1)   # 그래프에 필요없는 Date, Day 열 삭제\n",
        "print(ebola_shift.tail( ))"
      ],
      "metadata": {
        "id": "mEnQHGZlw6CO"
      },
      "execution_count": null,
      "outputs": []
    },
    {
      "cell_type": "code",
      "source": [
        "fig, ax = plt.subplots( ) \n",
        "ax = ebola_shift.iloc[:, :].plot(ax=ax) \n",
        "ax.legend(fontsize=7, loc=2, borderaxespad=0.)\n",
        "plt.show( )"
      ],
      "metadata": {
        "id": "9i27wOI9xpTG"
      },
      "execution_count": null,
      "outputs": []
    },
    {
      "cell_type": "code",
      "source": [],
      "metadata": {
        "id": "JA8Rq7RCyM3V"
      },
      "execution_count": null,
      "outputs": []
    }
  ]
}