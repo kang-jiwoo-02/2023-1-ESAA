{
  "nbformat": 4,
  "nbformat_minor": 0,
  "metadata": {
    "colab": {
      "provenance": []
    },
    "kernelspec": {
      "name": "python3",
      "display_name": "Python 3"
    },
    "language_info": {
      "name": "python"
    }
  },
  "cells": [
    {
      "cell_type": "markdown",
      "source": [
        "# 배경\n",
        "아마존 : 아이템-아이템 상호 필터링 사용\n",
        "\n",
        "아이템-아이템 상호 필터링\n",
        "- scales to massive datasets and produces high quality recommendation system in the real time\n",
        "- a kind of a information filtering system which seeks to predict the \"rating\" or preferences which user is interested in.\n",
        "\n",
        "# 추천 시스템 입문\n",
        "-Recommeder system creates a similarity between the user and items and exploits the similarity between user/item to make recommendations.\n",
        "\n",
        "# 추천 종류\n",
        "1. Popularity based systems :- It works by recommeding items viewed and purchased by most people and are rated high.It is not a personalized recommendation.\n",
        "2. Classification model based:- It works by understanding the features of the user and applying the classification algorithm to decide whether the user is interested or not in the prodcut.\n",
        "3. Content based recommedations:- It is based on the information on the contents of the item rather than on the user opinions.The main idea is if the user likes an item then he or she will like the \"other\" similar item.\n",
        "4. Collaberative Filtering:- It is based on assumption that people like things similar to other things they like, and things that are liked by other people with similar taste. it is mainly of two types: a) User-User b) Item -Item\n",
        "5. Hybrid Approaches:- This system approach is to combine collaborative filtering, content-based filtering, and other approaches .\n",
        "6. Association rule mining :- Association rules capture the relationships between items based on their patterns of co-occurrence across transactions\n",
        "\n",
        "# 속성 정보\n",
        "-  userId : Every user identified with a unique id\n",
        "- productId : Every product identified with a unique id\n",
        "- Rating : Rating of the corresponding product by the corresponding user\n",
        "- timestamp : Time of the rating ( ignore this column for this exercise)"
      ],
      "metadata": {
        "id": "FHGGZAONly72"
      }
    },
    {
      "cell_type": "markdown",
      "source": [
        "# 필요한 라이브러리 임포트하기"
      ],
      "metadata": {
        "id": "FNZBUlswmtCK"
      }
    },
    {
      "cell_type": "code",
      "execution_count": 2,
      "metadata": {
        "id": "DFs3Ol9slMXu"
      },
      "outputs": [],
      "source": [
        "import numpy as np # linear algebra\n",
        "import pandas as pd # data processing, CSV file I/O (e.g. pd.read_csv)\n",
        "import os\n",
        "from IPython.core.interactiveshell import InteractiveShell\n",
        "InteractiveShell.ast_node_interactivity = \"all\"\n",
        "import math\n",
        "import json\n",
        "import time\n",
        "import matplotlib.pyplot as plt\n",
        "import seaborn as sns\n",
        "from sklearn.metrics.pairwise import cosine_similarity\n",
        "from sklearn.model_selection import train_test_split\n",
        "from sklearn.neighbors import NearestNeighbors\n",
        "import joblib\n",
        "import scipy.sparse\n",
        "from scipy.sparse import csr_matrix\n",
        "from scipy.sparse.linalg import svds\n",
        "import warnings; warnings.simplefilter('ignore')\n",
        "%matplotlib inline\n",
        "\n",
        "for dirname, _, filenames in os.walk('/kaggle/input'):\n",
        "    for filename in filenames:\n",
        "        print(os.path.join(dirname, filename))\n",
        "\n",
        "# Any results you write to the current directory are saved as output."
      ]
    },
    {
      "cell_type": "markdown",
      "source": [
        "# 데이터 불러오기 + head 보기"
      ],
      "metadata": {
        "id": "JKkR88pzm_rO"
      }
    },
    {
      "cell_type": "code",
      "source": [
        "electronics_data=pd.read_csv(\"/content/sample_data/ratings_Electronics (1).csv\",names=['userId', 'productId','Rating','timestamp'])"
      ],
      "metadata": {
        "id": "_SL6Jl6ZmydN"
      },
      "execution_count": 3,
      "outputs": []
    },
    {
      "cell_type": "code",
      "source": [
        "# Display the data\n",
        "\n",
        "electronics_data.head()"
      ],
      "metadata": {
        "colab": {
          "base_uri": "https://localhost:8080/",
          "height": 206
        },
        "id": "IO0rp63PnFCo",
        "outputId": "b65168b4-ce37-4b76-d388-7835c6e41662"
      },
      "execution_count": 4,
      "outputs": [
        {
          "output_type": "execute_result",
          "data": {
            "text/plain": [
              "           userId   productId  Rating     timestamp\n",
              "0   AKM1MP6P0OYPR  0132793040     5.0  1.365811e+09\n",
              "1  A2CX7LUOHB2NDG  0321732944     5.0  1.341101e+09\n",
              "2  A2NWSAGRHCP8N5  0439886341     1.0  1.367194e+09\n",
              "3  A2WNBOD3WNDNKT  0439886341     3.0  1.374451e+09\n",
              "4  A1GI0U4ZRJA8WN  0439886341     1.0  1.334707e+09"
            ],
            "text/html": [
              "\n",
              "  <div id=\"df-ed512858-923b-4c1d-983e-42672b464986\" class=\"colab-df-container\">\n",
              "    <div>\n",
              "<style scoped>\n",
              "    .dataframe tbody tr th:only-of-type {\n",
              "        vertical-align: middle;\n",
              "    }\n",
              "\n",
              "    .dataframe tbody tr th {\n",
              "        vertical-align: top;\n",
              "    }\n",
              "\n",
              "    .dataframe thead th {\n",
              "        text-align: right;\n",
              "    }\n",
              "</style>\n",
              "<table border=\"1\" class=\"dataframe\">\n",
              "  <thead>\n",
              "    <tr style=\"text-align: right;\">\n",
              "      <th></th>\n",
              "      <th>userId</th>\n",
              "      <th>productId</th>\n",
              "      <th>Rating</th>\n",
              "      <th>timestamp</th>\n",
              "    </tr>\n",
              "  </thead>\n",
              "  <tbody>\n",
              "    <tr>\n",
              "      <th>0</th>\n",
              "      <td>AKM1MP6P0OYPR</td>\n",
              "      <td>0132793040</td>\n",
              "      <td>5.0</td>\n",
              "      <td>1.365811e+09</td>\n",
              "    </tr>\n",
              "    <tr>\n",
              "      <th>1</th>\n",
              "      <td>A2CX7LUOHB2NDG</td>\n",
              "      <td>0321732944</td>\n",
              "      <td>5.0</td>\n",
              "      <td>1.341101e+09</td>\n",
              "    </tr>\n",
              "    <tr>\n",
              "      <th>2</th>\n",
              "      <td>A2NWSAGRHCP8N5</td>\n",
              "      <td>0439886341</td>\n",
              "      <td>1.0</td>\n",
              "      <td>1.367194e+09</td>\n",
              "    </tr>\n",
              "    <tr>\n",
              "      <th>3</th>\n",
              "      <td>A2WNBOD3WNDNKT</td>\n",
              "      <td>0439886341</td>\n",
              "      <td>3.0</td>\n",
              "      <td>1.374451e+09</td>\n",
              "    </tr>\n",
              "    <tr>\n",
              "      <th>4</th>\n",
              "      <td>A1GI0U4ZRJA8WN</td>\n",
              "      <td>0439886341</td>\n",
              "      <td>1.0</td>\n",
              "      <td>1.334707e+09</td>\n",
              "    </tr>\n",
              "  </tbody>\n",
              "</table>\n",
              "</div>\n",
              "    <div class=\"colab-df-buttons\">\n",
              "\n",
              "  <div class=\"colab-df-container\">\n",
              "    <button class=\"colab-df-convert\" onclick=\"convertToInteractive('df-ed512858-923b-4c1d-983e-42672b464986')\"\n",
              "            title=\"Convert this dataframe to an interactive table.\"\n",
              "            style=\"display:none;\">\n",
              "\n",
              "  <svg xmlns=\"http://www.w3.org/2000/svg\" height=\"24px\" viewBox=\"0 -960 960 960\">\n",
              "    <path d=\"M120-120v-720h720v720H120Zm60-500h600v-160H180v160Zm220 220h160v-160H400v160Zm0 220h160v-160H400v160ZM180-400h160v-160H180v160Zm440 0h160v-160H620v160ZM180-180h160v-160H180v160Zm440 0h160v-160H620v160Z\"/>\n",
              "  </svg>\n",
              "    </button>\n",
              "\n",
              "  <style>\n",
              "    .colab-df-container {\n",
              "      display:flex;\n",
              "      gap: 12px;\n",
              "    }\n",
              "\n",
              "    .colab-df-convert {\n",
              "      background-color: #E8F0FE;\n",
              "      border: none;\n",
              "      border-radius: 50%;\n",
              "      cursor: pointer;\n",
              "      display: none;\n",
              "      fill: #1967D2;\n",
              "      height: 32px;\n",
              "      padding: 0 0 0 0;\n",
              "      width: 32px;\n",
              "    }\n",
              "\n",
              "    .colab-df-convert:hover {\n",
              "      background-color: #E2EBFA;\n",
              "      box-shadow: 0px 1px 2px rgba(60, 64, 67, 0.3), 0px 1px 3px 1px rgba(60, 64, 67, 0.15);\n",
              "      fill: #174EA6;\n",
              "    }\n",
              "\n",
              "    .colab-df-buttons div {\n",
              "      margin-bottom: 4px;\n",
              "    }\n",
              "\n",
              "    [theme=dark] .colab-df-convert {\n",
              "      background-color: #3B4455;\n",
              "      fill: #D2E3FC;\n",
              "    }\n",
              "\n",
              "    [theme=dark] .colab-df-convert:hover {\n",
              "      background-color: #434B5C;\n",
              "      box-shadow: 0px 1px 3px 1px rgba(0, 0, 0, 0.15);\n",
              "      filter: drop-shadow(0px 1px 2px rgba(0, 0, 0, 0.3));\n",
              "      fill: #FFFFFF;\n",
              "    }\n",
              "  </style>\n",
              "\n",
              "    <script>\n",
              "      const buttonEl =\n",
              "        document.querySelector('#df-ed512858-923b-4c1d-983e-42672b464986 button.colab-df-convert');\n",
              "      buttonEl.style.display =\n",
              "        google.colab.kernel.accessAllowed ? 'block' : 'none';\n",
              "\n",
              "      async function convertToInteractive(key) {\n",
              "        const element = document.querySelector('#df-ed512858-923b-4c1d-983e-42672b464986');\n",
              "        const dataTable =\n",
              "          await google.colab.kernel.invokeFunction('convertToInteractive',\n",
              "                                                    [key], {});\n",
              "        if (!dataTable) return;\n",
              "\n",
              "        const docLinkHtml = 'Like what you see? Visit the ' +\n",
              "          '<a target=\"_blank\" href=https://colab.research.google.com/notebooks/data_table.ipynb>data table notebook</a>'\n",
              "          + ' to learn more about interactive tables.';\n",
              "        element.innerHTML = '';\n",
              "        dataTable['output_type'] = 'display_data';\n",
              "        await google.colab.output.renderOutput(dataTable, element);\n",
              "        const docLink = document.createElement('div');\n",
              "        docLink.innerHTML = docLinkHtml;\n",
              "        element.appendChild(docLink);\n",
              "      }\n",
              "    </script>\n",
              "  </div>\n",
              "\n",
              "\n",
              "<div id=\"df-c3a964fd-c984-48eb-aacb-da9e12e71c38\">\n",
              "  <button class=\"colab-df-quickchart\" onclick=\"quickchart('df-c3a964fd-c984-48eb-aacb-da9e12e71c38')\"\n",
              "            title=\"Suggest charts\"\n",
              "            style=\"display:none;\">\n",
              "\n",
              "<svg xmlns=\"http://www.w3.org/2000/svg\" height=\"24px\"viewBox=\"0 0 24 24\"\n",
              "     width=\"24px\">\n",
              "    <g>\n",
              "        <path d=\"M19 3H5c-1.1 0-2 .9-2 2v14c0 1.1.9 2 2 2h14c1.1 0 2-.9 2-2V5c0-1.1-.9-2-2-2zM9 17H7v-7h2v7zm4 0h-2V7h2v10zm4 0h-2v-4h2v4z\"/>\n",
              "    </g>\n",
              "</svg>\n",
              "  </button>\n",
              "\n",
              "<style>\n",
              "  .colab-df-quickchart {\n",
              "      --bg-color: #E8F0FE;\n",
              "      --fill-color: #1967D2;\n",
              "      --hover-bg-color: #E2EBFA;\n",
              "      --hover-fill-color: #174EA6;\n",
              "      --disabled-fill-color: #AAA;\n",
              "      --disabled-bg-color: #DDD;\n",
              "  }\n",
              "\n",
              "  [theme=dark] .colab-df-quickchart {\n",
              "      --bg-color: #3B4455;\n",
              "      --fill-color: #D2E3FC;\n",
              "      --hover-bg-color: #434B5C;\n",
              "      --hover-fill-color: #FFFFFF;\n",
              "      --disabled-bg-color: #3B4455;\n",
              "      --disabled-fill-color: #666;\n",
              "  }\n",
              "\n",
              "  .colab-df-quickchart {\n",
              "    background-color: var(--bg-color);\n",
              "    border: none;\n",
              "    border-radius: 50%;\n",
              "    cursor: pointer;\n",
              "    display: none;\n",
              "    fill: var(--fill-color);\n",
              "    height: 32px;\n",
              "    padding: 0;\n",
              "    width: 32px;\n",
              "  }\n",
              "\n",
              "  .colab-df-quickchart:hover {\n",
              "    background-color: var(--hover-bg-color);\n",
              "    box-shadow: 0 1px 2px rgba(60, 64, 67, 0.3), 0 1px 3px 1px rgba(60, 64, 67, 0.15);\n",
              "    fill: var(--button-hover-fill-color);\n",
              "  }\n",
              "\n",
              "  .colab-df-quickchart-complete:disabled,\n",
              "  .colab-df-quickchart-complete:disabled:hover {\n",
              "    background-color: var(--disabled-bg-color);\n",
              "    fill: var(--disabled-fill-color);\n",
              "    box-shadow: none;\n",
              "  }\n",
              "\n",
              "  .colab-df-spinner {\n",
              "    border: 2px solid var(--fill-color);\n",
              "    border-color: transparent;\n",
              "    border-bottom-color: var(--fill-color);\n",
              "    animation:\n",
              "      spin 1s steps(1) infinite;\n",
              "  }\n",
              "\n",
              "  @keyframes spin {\n",
              "    0% {\n",
              "      border-color: transparent;\n",
              "      border-bottom-color: var(--fill-color);\n",
              "      border-left-color: var(--fill-color);\n",
              "    }\n",
              "    20% {\n",
              "      border-color: transparent;\n",
              "      border-left-color: var(--fill-color);\n",
              "      border-top-color: var(--fill-color);\n",
              "    }\n",
              "    30% {\n",
              "      border-color: transparent;\n",
              "      border-left-color: var(--fill-color);\n",
              "      border-top-color: var(--fill-color);\n",
              "      border-right-color: var(--fill-color);\n",
              "    }\n",
              "    40% {\n",
              "      border-color: transparent;\n",
              "      border-right-color: var(--fill-color);\n",
              "      border-top-color: var(--fill-color);\n",
              "    }\n",
              "    60% {\n",
              "      border-color: transparent;\n",
              "      border-right-color: var(--fill-color);\n",
              "    }\n",
              "    80% {\n",
              "      border-color: transparent;\n",
              "      border-right-color: var(--fill-color);\n",
              "      border-bottom-color: var(--fill-color);\n",
              "    }\n",
              "    90% {\n",
              "      border-color: transparent;\n",
              "      border-bottom-color: var(--fill-color);\n",
              "    }\n",
              "  }\n",
              "</style>\n",
              "\n",
              "  <script>\n",
              "    async function quickchart(key) {\n",
              "      const quickchartButtonEl =\n",
              "        document.querySelector('#' + key + ' button');\n",
              "      quickchartButtonEl.disabled = true;  // To prevent multiple clicks.\n",
              "      quickchartButtonEl.classList.add('colab-df-spinner');\n",
              "      try {\n",
              "        const charts = await google.colab.kernel.invokeFunction(\n",
              "            'suggestCharts', [key], {});\n",
              "      } catch (error) {\n",
              "        console.error('Error during call to suggestCharts:', error);\n",
              "      }\n",
              "      quickchartButtonEl.classList.remove('colab-df-spinner');\n",
              "      quickchartButtonEl.classList.add('colab-df-quickchart-complete');\n",
              "    }\n",
              "    (() => {\n",
              "      let quickchartButtonEl =\n",
              "        document.querySelector('#df-c3a964fd-c984-48eb-aacb-da9e12e71c38 button');\n",
              "      quickchartButtonEl.style.display =\n",
              "        google.colab.kernel.accessAllowed ? 'block' : 'none';\n",
              "    })();\n",
              "  </script>\n",
              "</div>\n",
              "    </div>\n",
              "  </div>\n"
            ]
          },
          "metadata": {},
          "execution_count": 4
        }
      ]
    },
    {
      "cell_type": "code",
      "source": [
        "#Shape of the data\n",
        "electronics_data.shape"
      ],
      "metadata": {
        "colab": {
          "base_uri": "https://localhost:8080/"
        },
        "id": "7HVNZbabnyOs",
        "outputId": "45959c0a-7a86-4354-d9f4-9e828d89eb56"
      },
      "execution_count": 5,
      "outputs": [
        {
          "output_type": "execute_result",
          "data": {
            "text/plain": [
              "(77618, 4)"
            ]
          },
          "metadata": {},
          "execution_count": 5
        }
      ]
    },
    {
      "cell_type": "code",
      "source": [
        "#Taking subset of the dataset\n",
        "electronics_data=electronics_data.iloc[:1048576,0:]"
      ],
      "metadata": {
        "id": "n47fUcprn5wI"
      },
      "execution_count": 6,
      "outputs": []
    },
    {
      "cell_type": "code",
      "source": [
        "#Check the datatypes\n",
        "electronics_data.dtypes"
      ],
      "metadata": {
        "colab": {
          "base_uri": "https://localhost:8080/"
        },
        "id": "_G_KC_Xln6tz",
        "outputId": "cc540845-417c-49a9-8ff7-a59494875f1e"
      },
      "execution_count": 7,
      "outputs": [
        {
          "output_type": "execute_result",
          "data": {
            "text/plain": [
              "userId        object\n",
              "productId     object\n",
              "Rating       float64\n",
              "timestamp    float64\n",
              "dtype: object"
            ]
          },
          "metadata": {},
          "execution_count": 7
        }
      ]
    },
    {
      "cell_type": "code",
      "source": [
        "electronics_data.info()"
      ],
      "metadata": {
        "colab": {
          "base_uri": "https://localhost:8080/"
        },
        "id": "UalOkYHan8YH",
        "outputId": "5e700d0e-3412-42b6-f8b8-6e8c85047c1e"
      },
      "execution_count": 8,
      "outputs": [
        {
          "output_type": "stream",
          "name": "stdout",
          "text": [
            "<class 'pandas.core.frame.DataFrame'>\n",
            "RangeIndex: 77618 entries, 0 to 77617\n",
            "Data columns (total 4 columns):\n",
            " #   Column     Non-Null Count  Dtype  \n",
            "---  ------     --------------  -----  \n",
            " 0   userId     77618 non-null  object \n",
            " 1   productId  77617 non-null  object \n",
            " 2   Rating     77617 non-null  float64\n",
            " 3   timestamp  77617 non-null  float64\n",
            "dtypes: float64(2), object(2)\n",
            "memory usage: 2.4+ MB\n"
          ]
        }
      ]
    },
    {
      "cell_type": "code",
      "source": [
        "#Five point summary\n",
        "\n",
        "electronics_data.describe()['Rating'].T"
      ],
      "metadata": {
        "colab": {
          "base_uri": "https://localhost:8080/"
        },
        "id": "hHZJ5g5Xn-Wr",
        "outputId": "39157371-bcd1-4249-e574-c030cf5222ed"
      },
      "execution_count": 9,
      "outputs": [
        {
          "output_type": "execute_result",
          "data": {
            "text/plain": [
              "count    77617.000000\n",
              "mean         4.055336\n",
              "std          1.339192\n",
              "min          1.000000\n",
              "25%          4.000000\n",
              "50%          5.000000\n",
              "75%          5.000000\n",
              "max          5.000000\n",
              "Name: Rating, dtype: float64"
            ]
          },
          "metadata": {},
          "execution_count": 9
        }
      ]
    },
    {
      "cell_type": "code",
      "source": [
        "#Find the minimum and maximum ratings\n",
        "print('Minimum rating is: %d' %(electronics_data.Rating.min()))\n",
        "print('Maximum rating is: %d' %(electronics_data.Rating.max()))"
      ],
      "metadata": {
        "colab": {
          "base_uri": "https://localhost:8080/"
        },
        "id": "aJVe2JfYn_xm",
        "outputId": "367571d2-2d1e-4ca4-90f5-a01c348b341a"
      },
      "execution_count": 10,
      "outputs": [
        {
          "output_type": "stream",
          "name": "stdout",
          "text": [
            "Minimum rating is: 1\n",
            "Maximum rating is: 5\n"
          ]
        }
      ]
    },
    {
      "cell_type": "markdown",
      "source": [
        "# 결측값 처리하기"
      ],
      "metadata": {
        "id": "gt_qfUZZoChC"
      }
    },
    {
      "cell_type": "code",
      "source": [
        "#Check for missing values\n",
        "print('Number of missing values across columns: \\n',electronics_data.isnull().sum())"
      ],
      "metadata": {
        "colab": {
          "base_uri": "https://localhost:8080/"
        },
        "id": "Dr2jXm1KoBfJ",
        "outputId": "19f3a0c9-3868-4078-e912-dae4b67c5c09"
      },
      "execution_count": 11,
      "outputs": [
        {
          "output_type": "stream",
          "name": "stdout",
          "text": [
            "Number of missing values across columns: \n",
            " userId       0\n",
            "productId    1\n",
            "Rating       1\n",
            "timestamp    1\n",
            "dtype: int64\n"
          ]
        }
      ]
    },
    {
      "cell_type": "markdown",
      "source": [
        "# 비율 확인하기"
      ],
      "metadata": {
        "id": "TctOC47hoGo9"
      }
    },
    {
      "cell_type": "code",
      "source": [
        "# Check the distribution of the rating\n",
        "with sns.axes_style('white'):\n",
        "    g = sns.catplot(x=\"Rating\", data=electronics_data, aspect=2.0,kind='count')\n",
        "    g.set_ylabels(\"Total number of ratings\")"
      ],
      "metadata": {
        "colab": {
          "base_uri": "https://localhost:8080/",
          "height": 524
        },
        "id": "jI0vErWjoFws",
        "outputId": "3c2b77f7-55e8-444c-e0e8-bf083d113d02"
      },
      "execution_count": 13,
      "outputs": [
        {
          "output_type": "execute_result",
          "data": {
            "text/plain": [
              "<seaborn.axisgrid.FacetGrid at 0x7eb9e8c2c280>"
            ]
          },
          "metadata": {},
          "execution_count": 13
        },
        {
          "output_type": "display_data",
          "data": {
            "text/plain": [
              "<Figure size 1000x500 with 1 Axes>"
            ],
            "image/png": "[encoded data removed]"
          },
          "metadata": {}
        }
      ]
    },
    {
      "cell_type": "markdown",
      "source": [
        "# unique값 확인하기"
      ],
      "metadata": {
        "id": "5PxhI4KvoROX"
      }
    },
    {
      "cell_type": "code",
      "source": [
        "print(\"Total data \")\n",
        "print(\"-\"*50)\n",
        "print(\"\\nTotal no of ratings :\",electronics_data.shape[0])\n",
        "print(\"Total No of Users   :\", len(np.unique(electronics_data.userId)))\n",
        "print(\"Total No of products  :\", len(np.unique(electronics_data.productId)))"
      ],
      "metadata": {
        "colab": {
          "base_uri": "https://localhost:8080/",
          "height": 465
        },
        "id": "fUC-V14aoIxv",
        "outputId": "cb2c98af-a39a-4c93-fd5f-57f87d73a02f"
      },
      "execution_count": 14,
      "outputs": [
        {
          "output_type": "stream",
          "name": "stdout",
          "text": [
            "Total data \n",
            "--------------------------------------------------\n",
            "\n",
            "Total no of ratings : 77618\n",
            "Total No of Users   : 70713\n"
          ]
        },
        {
          "output_type": "error",
          "ename": "TypeError",
          "evalue": "ignored",
          "traceback": [
            "\u001b[0;31m---------------------------------------------------------------------------\u001b[0m",
            "\u001b[0;31mTypeError\u001b[0m                                 Traceback (most recent call last)",
            "\u001b[0;32m<ipython-input-14-8098e2250c3e>\u001b[0m in \u001b[0;36m<cell line: 5>\u001b[0;34m()\u001b[0m\n\u001b[1;32m      3\u001b[0m \u001b[0mprint\u001b[0m\u001b[0;34m(\u001b[0m\u001b[0;34m\"\\nTotal no of ratings :\"\u001b[0m\u001b[0;34m,\u001b[0m\u001b[0melectronics_data\u001b[0m\u001b[0;34m.\u001b[0m\u001b[0mshape\u001b[0m\u001b[0;34m[\u001b[0m\u001b[0;36m0\u001b[0m\u001b[0;34m]\u001b[0m\u001b[0;34m)\u001b[0m\u001b[0;34m\u001b[0m\u001b[0;34m\u001b[0m\u001b[0m\n\u001b[1;32m      4\u001b[0m \u001b[0mprint\u001b[0m\u001b[0;34m(\u001b[0m\u001b[0;34m\"Total No of Users   :\"\u001b[0m\u001b[0;34m,\u001b[0m \u001b[0mlen\u001b[0m\u001b[0;34m(\u001b[0m\u001b[0mnp\u001b[0m\u001b[0;34m.\u001b[0m\u001b[0munique\u001b[0m\u001b[0;34m(\u001b[0m\u001b[0melectronics_data\u001b[0m\u001b[0;34m.\u001b[0m\u001b[0muserId\u001b[0m\u001b[0;34m)\u001b[0m\u001b[0;34m)\u001b[0m\u001b[0;34m)\u001b[0m\u001b[0;34m\u001b[0m\u001b[0;34m\u001b[0m\u001b[0m\n\u001b[0;32m----> 5\u001b[0;31m \u001b[0mprint\u001b[0m\u001b[0;34m(\u001b[0m\u001b[0;34m\"Total No of products  :\"\u001b[0m\u001b[0;34m,\u001b[0m \u001b[0mlen\u001b[0m\u001b[0;34m(\u001b[0m\u001b[0mnp\u001b[0m\u001b[0;34m.\u001b[0m\u001b[0munique\u001b[0m\u001b[0;34m(\u001b[0m\u001b[0melectronics_data\u001b[0m\u001b[0;34m.\u001b[0m\u001b[0mproductId\u001b[0m\u001b[0;34m)\u001b[0m\u001b[0;34m)\u001b[0m\u001b[0;34m)\u001b[0m\u001b[0;34m\u001b[0m\u001b[0;34m\u001b[0m\u001b[0m\n\u001b[0m",
            "\u001b[0;32m/usr/local/lib/python3.10/dist-packages/numpy/core/overrides.py\u001b[0m in \u001b[0;36munique\u001b[0;34m(*args, **kwargs)\u001b[0m\n",
            "\u001b[0;32m/usr/local/lib/python3.10/dist-packages/numpy/lib/arraysetops.py\u001b[0m in \u001b[0;36munique\u001b[0;34m(ar, return_index, return_inverse, return_counts, axis, equal_nan)\u001b[0m\n\u001b[1;32m    272\u001b[0m     \u001b[0mar\u001b[0m \u001b[0;34m=\u001b[0m \u001b[0mnp\u001b[0m\u001b[0;34m.\u001b[0m\u001b[0masanyarray\u001b[0m\u001b[0;34m(\u001b[0m\u001b[0mar\u001b[0m\u001b[0;34m)\u001b[0m\u001b[0;34m\u001b[0m\u001b[0;34m\u001b[0m\u001b[0m\n\u001b[1;32m    273\u001b[0m     \u001b[0;32mif\u001b[0m \u001b[0maxis\u001b[0m \u001b[0;32mis\u001b[0m \u001b[0;32mNone\u001b[0m\u001b[0;34m:\u001b[0m\u001b[0;34m\u001b[0m\u001b[0;34m\u001b[0m\u001b[0m\n\u001b[0;32m--> 274\u001b[0;31m         ret = _unique1d(ar, return_index, return_inverse, return_counts, \n\u001b[0m\u001b[1;32m    275\u001b[0m                         equal_nan=equal_nan)\n\u001b[1;32m    276\u001b[0m         \u001b[0;32mreturn\u001b[0m \u001b[0m_unpack_tuple\u001b[0m\u001b[0;34m(\u001b[0m\u001b[0mret\u001b[0m\u001b[0;34m)\u001b[0m\u001b[0;34m\u001b[0m\u001b[0;34m\u001b[0m\u001b[0m\n",
            "\u001b[0;32m/usr/local/lib/python3.10/dist-packages/numpy/lib/arraysetops.py\u001b[0m in \u001b[0;36m_unique1d\u001b[0;34m(ar, return_index, return_inverse, return_counts, equal_nan)\u001b[0m\n\u001b[1;32m    334\u001b[0m         \u001b[0maux\u001b[0m \u001b[0;34m=\u001b[0m \u001b[0mar\u001b[0m\u001b[0;34m[\u001b[0m\u001b[0mperm\u001b[0m\u001b[0;34m]\u001b[0m\u001b[0;34m\u001b[0m\u001b[0;34m\u001b[0m\u001b[0m\n\u001b[1;32m    335\u001b[0m     \u001b[0;32melse\u001b[0m\u001b[0;34m:\u001b[0m\u001b[0;34m\u001b[0m\u001b[0;34m\u001b[0m\u001b[0m\n\u001b[0;32m--> 336\u001b[0;31m         \u001b[0mar\u001b[0m\u001b[0;34m.\u001b[0m\u001b[0msort\u001b[0m\u001b[0;34m(\u001b[0m\u001b[0;34m)\u001b[0m\u001b[0;34m\u001b[0m\u001b[0;34m\u001b[0m\u001b[0m\n\u001b[0m\u001b[1;32m    337\u001b[0m         \u001b[0maux\u001b[0m \u001b[0;34m=\u001b[0m \u001b[0mar\u001b[0m\u001b[0;34m\u001b[0m\u001b[0;34m\u001b[0m\u001b[0m\n\u001b[1;32m    338\u001b[0m     \u001b[0mmask\u001b[0m \u001b[0;34m=\u001b[0m \u001b[0mnp\u001b[0m\u001b[0;34m.\u001b[0m\u001b[0mempty\u001b[0m\u001b[0;34m(\u001b[0m\u001b[0maux\u001b[0m\u001b[0;34m.\u001b[0m\u001b[0mshape\u001b[0m\u001b[0;34m,\u001b[0m \u001b[0mdtype\u001b[0m\u001b[0;34m=\u001b[0m\u001b[0mnp\u001b[0m\u001b[0;34m.\u001b[0m\u001b[0mbool_\u001b[0m\u001b[0;34m)\u001b[0m\u001b[0;34m\u001b[0m\u001b[0;34m\u001b[0m\u001b[0m\n",
            "\u001b[0;31mTypeError\u001b[0m: '<' not supported between instances of 'float' and 'str'"
          ]
        }
      ]
    },
    {
      "cell_type": "markdown",
      "source": [
        "# TimeStamp Column 제거하기"
      ],
      "metadata": {
        "id": "OznxrazioWW8"
      }
    },
    {
      "cell_type": "code",
      "source": [
        "#Dropping the Timestamp column\n",
        "\n",
        "electronics_data.drop(['timestamp'], axis=1,inplace=True)"
      ],
      "metadata": {
        "id": "CKa3QOr4oU2Q"
      },
      "execution_count": 15,
      "outputs": []
    },
    {
      "cell_type": "markdown",
      "source": [
        "# 비율 분석하기"
      ],
      "metadata": {
        "id": "KkG25EjSoZxp"
      }
    },
    {
      "cell_type": "code",
      "source": [
        "#Analysis of rating given by the user\n",
        "\n",
        "no_of_rated_products_per_user = electronics_data.groupby(by='userId')['Rating'].count().sort_values(ascending=False)\n",
        "\n",
        "no_of_rated_products_per_user.head()"
      ],
      "metadata": {
        "colab": {
          "base_uri": "https://localhost:8080/"
        },
        "id": "7Hil8iJGoY4B",
        "outputId": "d7293feb-2bd0-45dd-e246-3e1450782017"
      },
      "execution_count": 16,
      "outputs": [
        {
          "output_type": "execute_result",
          "data": {
            "text/plain": [
              "userId\n",
              "A231WM2Z2JL0U3    67\n",
              "A2BGZ52M908MJY    45\n",
              "AY8Q1X7G96HV5     36\n",
              "A1MJMYLRTZ76ZX    29\n",
              "A1NVD0TKNS1GT5    29\n",
              "Name: Rating, dtype: int64"
            ]
          },
          "metadata": {},
          "execution_count": 16
        }
      ]
    },
    {
      "cell_type": "code",
      "source": [
        "no_of_rated_products_per_user.describe()"
      ],
      "metadata": {
        "colab": {
          "base_uri": "https://localhost:8080/"
        },
        "id": "SR2nhubhobh3",
        "outputId": "a5d00d08-6247-4061-a6da-5348bfd507c9"
      },
      "execution_count": 17,
      "outputs": [
        {
          "output_type": "execute_result",
          "data": {
            "text/plain": [
              "count    70713.000000\n",
              "mean         1.097634\n",
              "std          0.655332\n",
              "min          0.000000\n",
              "25%          1.000000\n",
              "50%          1.000000\n",
              "75%          1.000000\n",
              "max         67.000000\n",
              "Name: Rating, dtype: float64"
            ]
          },
          "metadata": {},
          "execution_count": 17
        }
      ]
    },
    {
      "cell_type": "code",
      "source": [
        "quantiles = no_of_rated_products_per_user.quantile(np.arange(0,1.01,0.01), interpolation='higher')"
      ],
      "metadata": {
        "id": "WP7mPEITodFF"
      },
      "execution_count": 18,
      "outputs": []
    },
    {
      "cell_type": "code",
      "source": [
        "plt.figure(figsize=(10,10))\n",
        "plt.title(\"Quantiles and their Values\")\n",
        "quantiles.plot()\n",
        "# quantiles with 0.05 difference\n",
        "plt.scatter(x=quantiles.index[::5], y=quantiles.values[::5], c='orange', label=\"quantiles with 0.05 intervals\")\n",
        "# quantiles with 0.25 difference\n",
        "plt.scatter(x=quantiles.index[::25], y=quantiles.values[::25], c='m', label = \"quantiles with 0.25 intervals\")\n",
        "plt.ylabel('No of ratings by user')\n",
        "plt.xlabel('Value at the quantile')\n",
        "plt.legend(loc='best')\n",
        "plt.show()"
      ],
      "metadata": {
        "colab": {
          "base_uri": "https://localhost:8080/",
          "height": 909
        },
        "id": "dvUcyECgoeOV",
        "outputId": "652288e2-af6d-437b-9b50-0beb5474c5c0"
      },
      "execution_count": 19,
      "outputs": [
        {
          "output_type": "execute_result",
          "data": {
            "text/plain": [
              "<Figure size 1000x1000 with 0 Axes>"
            ]
          },
          "metadata": {},
          "execution_count": 19
        },
        {
          "output_type": "execute_result",
          "data": {
            "text/plain": [
              "Text(0.5, 1.0, 'Quantiles and their Values')"
            ]
          },
          "metadata": {},
          "execution_count": 19
        },
        {
          "output_type": "execute_result",
          "data": {
            "text/plain": [
              "<Axes: title={'center': 'Quantiles and their Values'}>"
            ]
          },
          "metadata": {},
          "execution_count": 19
        },
        {
          "output_type": "execute_result",
          "data": {
            "text/plain": [
              "<matplotlib.collections.PathCollection at 0x7eb9e5a64310>"
            ]
          },
          "metadata": {},
          "execution_count": 19
        },
        {
          "output_type": "execute_result",
          "data": {
            "text/plain": [
              "<matplotlib.collections.PathCollection at 0x7eb9e5a64be0>"
            ]
          },
          "metadata": {},
          "execution_count": 19
        },
        {
          "output_type": "execute_result",
          "data": {
            "text/plain": [
              "Text(0, 0.5, 'No of ratings by user')"
            ]
          },
          "metadata": {},
          "execution_count": 19
        },
        {
          "output_type": "execute_result",
          "data": {
            "text/plain": [
              "Text(0.5, 0, 'Value at the quantile')"
            ]
          },
          "metadata": {},
          "execution_count": 19
        },
        {
          "output_type": "execute_result",
          "data": {
            "text/plain": [
              "<matplotlib.legend.Legend at 0x7eb9e5a64520>"
            ]
          },
          "metadata": {},
          "execution_count": 19
        },
        {
          "output_type": "display_data",
          "data": {
            "text/plain": [
              "<Figure size 1000x1000 with 1 Axes>"
            ],
            "image/png": "[encoded data removed]"
          },
          "metadata": {}
        }
      ]
    },
    {
      "cell_type": "code",
      "source": [
        "print('\\n No of rated product more than 50 per user : {}\\n'.format(sum(no_of_rated_products_per_user >= 50)) )"
      ],
      "metadata": {
        "colab": {
          "base_uri": "https://localhost:8080/"
        },
        "id": "js_e-g83of5I",
        "outputId": "cd3de6f1-e49e-4089-cb97-0bc64107ebd6"
      },
      "execution_count": 20,
      "outputs": [
        {
          "output_type": "stream",
          "name": "stdout",
          "text": [
            "\n",
            " No of rated product more than 50 per user : 1\n",
            "\n"
          ]
        }
      ]
    },
    {
      "cell_type": "markdown",
      "source": [
        "# popularity based recommendation"
      ],
      "metadata": {
        "id": "belzMqK7ow_1"
      }
    },
    {
      "cell_type": "code",
      "source": [
        "#Getting the new dataframe which contains users who has given 50 or more ratings\n",
        "\n",
        "new_df=electronics_data.groupby(\"productId\").filter(lambda x:x['Rating'].count() >=50)"
      ],
      "metadata": {
        "id": "4oesgalgohxs"
      },
      "execution_count": 21,
      "outputs": []
    },
    {
      "cell_type": "code",
      "source": [
        "no_of_ratings_per_product = new_df.groupby(by='productId')['Rating'].count().sort_values(ascending=False)\n",
        "\n",
        "fig = plt.figure(figsize=plt.figaspect(.5))\n",
        "ax = plt.gca()\n",
        "plt.plot(no_of_ratings_per_product.values)\n",
        "plt.title('# RATINGS per Product')\n",
        "plt.xlabel('Product')\n",
        "plt.ylabel('No of ratings per product')\n",
        "ax.set_xticklabels([])\n",
        "\n",
        "plt.show()"
      ],
      "metadata": {
        "colab": {
          "base_uri": "https://localhost:8080/",
          "height": 605
        },
        "id": "M7Km9I-ao7qR",
        "outputId": "ad174e4f-58a1-4cb3-e5c2-ce694ca9de61"
      },
      "execution_count": 22,
      "outputs": [
        {
          "output_type": "execute_result",
          "data": {
            "text/plain": [
              "[<matplotlib.lines.Line2D at 0x7eb9e5dc5ba0>]"
            ]
          },
          "metadata": {},
          "execution_count": 22
        },
        {
          "output_type": "execute_result",
          "data": {
            "text/plain": [
              "Text(0.5, 1.0, '# RATINGS per Product')"
            ]
          },
          "metadata": {},
          "execution_count": 22
        },
        {
          "output_type": "execute_result",
          "data": {
            "text/plain": [
              "Text(0.5, 0, 'Product')"
            ]
          },
          "metadata": {},
          "execution_count": 22
        },
        {
          "output_type": "execute_result",
          "data": {
            "text/plain": [
              "Text(0, 0.5, 'No of ratings per product')"
            ]
          },
          "metadata": {},
          "execution_count": 22
        },
        {
          "output_type": "execute_result",
          "data": {
            "text/plain": [
              "[Text(-50.0, 0, ''),\n",
              " Text(0.0, 0, ''),\n",
              " Text(50.0, 0, ''),\n",
              " Text(100.0, 0, ''),\n",
              " Text(150.0, 0, ''),\n",
              " Text(200.0, 0, ''),\n",
              " Text(250.0, 0, ''),\n",
              " Text(300.0, 0, '')]"
            ]
          },
          "metadata": {},
          "execution_count": 22
        },
        {
          "output_type": "display_data",
          "data": {
            "text/plain": [
              "<Figure size 960x480 with 1 Axes>"
            ],
            "image/png": "[encoded data removed]"
          },
          "metadata": {}
        }
      ]
    },
    {
      "cell_type": "code",
      "source": [
        "#Average rating of the product\n",
        "\n",
        "new_df.groupby('productId')['Rating'].mean().head()"
      ],
      "metadata": {
        "colab": {
          "base_uri": "https://localhost:8080/"
        },
        "id": "YtmSCo7uo9Dm",
        "outputId": "124e2608-1618-4db1-b553-ff5ea0ae2cc5"
      },
      "execution_count": 23,
      "outputs": [
        {
          "output_type": "execute_result",
          "data": {
            "text/plain": [
              "productId\n",
              "0972683275    4.470980\n",
              "1400501466    3.560000\n",
              "1400501520    4.243902\n",
              "1400501776    3.884892\n",
              "1400532620    3.684211\n",
              "Name: Rating, dtype: float64"
            ]
          },
          "metadata": {},
          "execution_count": 23
        }
      ]
    },
    {
      "cell_type": "code",
      "source": [
        "new_df.groupby('productId')['Rating'].mean().sort_values(ascending=False).head()"
      ],
      "metadata": {
        "colab": {
          "base_uri": "https://localhost:8080/"
        },
        "id": "ImuS_cxGo-aP",
        "outputId": "bdf8a81d-c30c-45c7-f991-7f7eada1859d"
      },
      "execution_count": 24,
      "outputs": [
        {
          "output_type": "execute_result",
          "data": {
            "text/plain": [
              "productId\n",
              "B00004TDLD    4.840517\n",
              "B00004TENT    4.823529\n",
              "B00004Y2MM    4.808824\n",
              "B00004XOM3    4.794613\n",
              "B00004Z5KA    4.754717\n",
              "Name: Rating, dtype: float64"
            ]
          },
          "metadata": {},
          "execution_count": 24
        }
      ]
    },
    {
      "cell_type": "code",
      "source": [
        "#Total no of rating for product\n",
        "\n",
        "new_df.groupby('productId')['Rating'].count().sort_values(ascending=False).head()"
      ],
      "metadata": {
        "colab": {
          "base_uri": "https://localhost:8080/"
        },
        "id": "0G6ReITwo_jV",
        "outputId": "98cc6eb1-c8b1-41d2-a0ef-2926141de8a1"
      },
      "execution_count": 25,
      "outputs": [
        {
          "output_type": "execute_result",
          "data": {
            "text/plain": [
              "productId\n",
              "B00004ZCJE    2547\n",
              "B00001P4ZH    2075\n",
              "B00004T8R2    1692\n",
              "B00001WRSJ    1586\n",
              "0972683275    1051\n",
              "Name: Rating, dtype: int64"
            ]
          },
          "metadata": {},
          "execution_count": 25
        }
      ]
    },
    {
      "cell_type": "code",
      "source": [
        "ratings_mean_count = pd.DataFrame(new_df.groupby('productId')['Rating'].mean())"
      ],
      "metadata": {
        "id": "McKCcH8wpA8I"
      },
      "execution_count": 26,
      "outputs": []
    },
    {
      "cell_type": "code",
      "source": [
        "ratings_mean_count['rating_counts'] = pd.DataFrame(new_df.groupby('productId')['Rating'].count())"
      ],
      "metadata": {
        "id": "TPR4kA8PpCH4"
      },
      "execution_count": 27,
      "outputs": []
    },
    {
      "cell_type": "code",
      "source": [
        "ratings_mean_count.head()"
      ],
      "metadata": {
        "colab": {
          "base_uri": "https://localhost:8080/",
          "height": 238
        },
        "id": "t3ljlqeVpDwq",
        "outputId": "9de5b23a-c5b8-43f3-dc34-66fd5b67c04e"
      },
      "execution_count": 28,
      "outputs": [
        {
          "output_type": "execute_result",
          "data": {
            "text/plain": [
              "              Rating  rating_counts\n",
              "productId                          \n",
              "0972683275  4.470980           1051\n",
              "1400501466  3.560000            250\n",
              "1400501520  4.243902             82\n",
              "1400501776  3.884892            139\n",
              "1400532620  3.684211            171"
            ],
            "text/html": [
              "\n",
              "  <div id=\"df-84182704-8d4e-4cf3-98ed-4fcc28efac2d\" class=\"colab-df-container\">\n",
              "    <div>\n",
              "<style scoped>\n",
              "    .dataframe tbody tr th:only-of-type {\n",
              "        vertical-align: middle;\n",
              "    }\n",
              "\n",
              "    .dataframe tbody tr th {\n",
              "        vertical-align: top;\n",
              "    }\n",
              "\n",
              "    .dataframe thead th {\n",
              "        text-align: right;\n",
              "    }\n",
              "</style>\n",
              "<table border=\"1\" class=\"dataframe\">\n",
              "  <thead>\n",
              "    <tr style=\"text-align: right;\">\n",
              "      <th></th>\n",
              "      <th>Rating</th>\n",
              "      <th>rating_counts</th>\n",
              "    </tr>\n",
              "    <tr>\n",
              "      <th>productId</th>\n",
              "      <th></th>\n",
              "      <th></th>\n",
              "    </tr>\n",
              "  </thead>\n",
              "  <tbody>\n",
              "    <tr>\n",
              "      <th>0972683275</th>\n",
              "      <td>4.470980</td>\n",
              "      <td>1051</td>\n",
              "    </tr>\n",
              "    <tr>\n",
              "      <th>1400501466</th>\n",
              "      <td>3.560000</td>\n",
              "      <td>250</td>\n",
              "    </tr>\n",
              "    <tr>\n",
              "      <th>1400501520</th>\n",
              "      <td>4.243902</td>\n",
              "      <td>82</td>\n",
              "    </tr>\n",
              "    <tr>\n",
              "      <th>1400501776</th>\n",
              "      <td>3.884892</td>\n",
              "      <td>139</td>\n",
              "    </tr>\n",
              "    <tr>\n",
              "      <th>1400532620</th>\n",
              "      <td>3.684211</td>\n",
              "      <td>171</td>\n",
              "    </tr>\n",
              "  </tbody>\n",
              "</table>\n",
              "</div>\n",
              "    <div class=\"colab-df-buttons\">\n",
              "\n",
              "  <div class=\"colab-df-container\">\n",
              "    <button class=\"colab-df-convert\" onclick=\"convertToInteractive('df-84182704-8d4e-4cf3-98ed-4fcc28efac2d')\"\n",
              "            title=\"Convert this dataframe to an interactive table.\"\n",
              "            style=\"display:none;\">\n",
              "\n",
              "  <svg xmlns=\"http://www.w3.org/2000/svg\" height=\"24px\" viewBox=\"0 -960 960 960\">\n",
              "    <path d=\"M120-120v-720h720v720H120Zm60-500h600v-160H180v160Zm220 220h160v-160H400v160Zm0 220h160v-160H400v160ZM180-400h160v-160H180v160Zm440 0h160v-160H620v160ZM180-180h160v-160H180v160Zm440 0h160v-160H620v160Z\"/>\n",
              "  </svg>\n",
              "    </button>\n",
              "\n",
              "  <style>\n",
              "    .colab-df-container {\n",
              "      display:flex;\n",
              "      gap: 12px;\n",
              "    }\n",
              "\n",
              "    .colab-df-convert {\n",
              "      background-color: #E8F0FE;\n",
              "      border: none;\n",
              "      border-radius: 50%;\n",
              "      cursor: pointer;\n",
              "      display: none;\n",
              "      fill: #1967D2;\n",
              "      height: 32px;\n",
              "      padding: 0 0 0 0;\n",
              "      width: 32px;\n",
              "    }\n",
              "\n",
              "    .colab-df-convert:hover {\n",
              "      background-color: #E2EBFA;\n",
              "      box-shadow: 0px 1px 2px rgba(60, 64, 67, 0.3), 0px 1px 3px 1px rgba(60, 64, 67, 0.15);\n",
              "      fill: #174EA6;\n",
              "    }\n",
              "\n",
              "    .colab-df-buttons div {\n",
              "      margin-bottom: 4px;\n",
              "    }\n",
              "\n",
              "    [theme=dark] .colab-df-convert {\n",
              "      background-color: #3B4455;\n",
              "      fill: #D2E3FC;\n",
              "    }\n",
              "\n",
              "    [theme=dark] .colab-df-convert:hover {\n",
              "      background-color: #434B5C;\n",
              "      box-shadow: 0px 1px 3px 1px rgba(0, 0, 0, 0.15);\n",
              "      filter: drop-shadow(0px 1px 2px rgba(0, 0, 0, 0.3));\n",
              "      fill: #FFFFFF;\n",
              "    }\n",
              "  </style>\n",
              "\n",
              "    <script>\n",
              "      const buttonEl =\n",
              "        document.querySelector('#df-84182704-8d4e-4cf3-98ed-4fcc28efac2d button.colab-df-convert');\n",
              "      buttonEl.style.display =\n",
              "        google.colab.kernel.accessAllowed ? 'block' : 'none';\n",
              "\n",
              "      async function convertToInteractive(key) {\n",
              "        const element = document.querySelector('#df-84182704-8d4e-4cf3-98ed-4fcc28efac2d');\n",
              "        const dataTable =\n",
              "          await google.colab.kernel.invokeFunction('convertToInteractive',\n",
              "                                                    [key], {});\n",
              "        if (!dataTable) return;\n",
              "\n",
              "        const docLinkHtml = 'Like what you see? Visit the ' +\n",
              "          '<a target=\"_blank\" href=https://colab.research.google.com/notebooks/data_table.ipynb>data table notebook</a>'\n",
              "          + ' to learn more about interactive tables.';\n",
              "        element.innerHTML = '';\n",
              "        dataTable['output_type'] = 'display_data';\n",
              "        await google.colab.output.renderOutput(dataTable, element);\n",
              "        const docLink = document.createElement('div');\n",
              "        docLink.innerHTML = docLinkHtml;\n",
              "        element.appendChild(docLink);\n",
              "      }\n",
              "    </script>\n",
              "  </div>\n",
              "\n",
              "\n",
              "<div id=\"df-efa937cd-6c69-4c32-921d-81fa66fcc798\">\n",
              "  <button class=\"colab-df-quickchart\" onclick=\"quickchart('df-efa937cd-6c69-4c32-921d-81fa66fcc798')\"\n",
              "            title=\"Suggest charts\"\n",
              "            style=\"display:none;\">\n",
              "\n",
              "<svg xmlns=\"http://www.w3.org/2000/svg\" height=\"24px\"viewBox=\"0 0 24 24\"\n",
              "     width=\"24px\">\n",
              "    <g>\n",
              "        <path d=\"M19 3H5c-1.1 0-2 .9-2 2v14c0 1.1.9 2 2 2h14c1.1 0 2-.9 2-2V5c0-1.1-.9-2-2-2zM9 17H7v-7h2v7zm4 0h-2V7h2v10zm4 0h-2v-4h2v4z\"/>\n",
              "    </g>\n",
              "</svg>\n",
              "  </button>\n",
              "\n",
              "<style>\n",
              "  .colab-df-quickchart {\n",
              "      --bg-color: #E8F0FE;\n",
              "      --fill-color: #1967D2;\n",
              "      --hover-bg-color: #E2EBFA;\n",
              "      --hover-fill-color: #174EA6;\n",
              "      --disabled-fill-color: #AAA;\n",
              "      --disabled-bg-color: #DDD;\n",
              "  }\n",
              "\n",
              "  [theme=dark] .colab-df-quickchart {\n",
              "      --bg-color: #3B4455;\n",
              "      --fill-color: #D2E3FC;\n",
              "      --hover-bg-color: #434B5C;\n",
              "      --hover-fill-color: #FFFFFF;\n",
              "      --disabled-bg-color: #3B4455;\n",
              "      --disabled-fill-color: #666;\n",
              "  }\n",
              "\n",
              "  .colab-df-quickchart {\n",
              "    background-color: var(--bg-color);\n",
              "    border: none;\n",
              "    border-radius: 50%;\n",
              "    cursor: pointer;\n",
              "    display: none;\n",
              "    fill: var(--fill-color);\n",
              "    height: 32px;\n",
              "    padding: 0;\n",
              "    width: 32px;\n",
              "  }\n",
              "\n",
              "  .colab-df-quickchart:hover {\n",
              "    background-color: var(--hover-bg-color);\n",
              "    box-shadow: 0 1px 2px rgba(60, 64, 67, 0.3), 0 1px 3px 1px rgba(60, 64, 67, 0.15);\n",
              "    fill: var(--button-hover-fill-color);\n",
              "  }\n",
              "\n",
              "  .colab-df-quickchart-complete:disabled,\n",
              "  .colab-df-quickchart-complete:disabled:hover {\n",
              "    background-color: var(--disabled-bg-color);\n",
              "    fill: var(--disabled-fill-color);\n",
              "    box-shadow: none;\n",
              "  }\n",
              "\n",
              "  .colab-df-spinner {\n",
              "    border: 2px solid var(--fill-color);\n",
              "    border-color: transparent;\n",
              "    border-bottom-color: var(--fill-color);\n",
              "    animation:\n",
              "      spin 1s steps(1) infinite;\n",
              "  }\n",
              "\n",
              "  @keyframes spin {\n",
              "    0% {\n",
              "      border-color: transparent;\n",
              "      border-bottom-color: var(--fill-color);\n",
              "      border-left-color: var(--fill-color);\n",
              "    }\n",
              "    20% {\n",
              "      border-color: transparent;\n",
              "      border-left-color: var(--fill-color);\n",
              "      border-top-color: var(--fill-color);\n",
              "    }\n",
              "    30% {\n",
              "      border-color: transparent;\n",
              "      border-left-color: var(--fill-color);\n",
              "      border-top-color: var(--fill-color);\n",
              "      border-right-color: var(--fill-color);\n",
              "    }\n",
              "    40% {\n",
              "      border-color: transparent;\n",
              "      border-right-color: var(--fill-color);\n",
              "      border-top-color: var(--fill-color);\n",
              "    }\n",
              "    60% {\n",
              "      border-color: transparent;\n",
              "      border-right-color: var(--fill-color);\n",
              "    }\n",
              "    80% {\n",
              "      border-color: transparent;\n",
              "      border-right-color: var(--fill-color);\n",
              "      border-bottom-color: var(--fill-color);\n",
              "    }\n",
              "    90% {\n",
              "      border-color: transparent;\n",
              "      border-bottom-color: var(--fill-color);\n",
              "    }\n",
              "  }\n",
              "</style>\n",
              "\n",
              "  <script>\n",
              "    async function quickchart(key) {\n",
              "      const quickchartButtonEl =\n",
              "        document.querySelector('#' + key + ' button');\n",
              "      quickchartButtonEl.disabled = true;  // To prevent multiple clicks.\n",
              "      quickchartButtonEl.classList.add('colab-df-spinner');\n",
              "      try {\n",
              "        const charts = await google.colab.kernel.invokeFunction(\n",
              "            'suggestCharts', [key], {});\n",
              "      } catch (error) {\n",
              "        console.error('Error during call to suggestCharts:', error);\n",
              "      }\n",
              "      quickchartButtonEl.classList.remove('colab-df-spinner');\n",
              "      quickchartButtonEl.classList.add('colab-df-quickchart-complete');\n",
              "    }\n",
              "    (() => {\n",
              "      let quickchartButtonEl =\n",
              "        document.querySelector('#df-efa937cd-6c69-4c32-921d-81fa66fcc798 button');\n",
              "      quickchartButtonEl.style.display =\n",
              "        google.colab.kernel.accessAllowed ? 'block' : 'none';\n",
              "    })();\n",
              "  </script>\n",
              "</div>\n",
              "    </div>\n",
              "  </div>\n"
            ]
          },
          "metadata": {},
          "execution_count": 28
        }
      ]
    },
    {
      "cell_type": "code",
      "source": [
        "ratings_mean_count['rating_counts'].max()"
      ],
      "metadata": {
        "colab": {
          "base_uri": "https://localhost:8080/"
        },
        "id": "F3WwM0UbpEwr",
        "outputId": "d5a77b4f-120a-4fc8-85e1-4db4610e0001"
      },
      "execution_count": 29,
      "outputs": [
        {
          "output_type": "execute_result",
          "data": {
            "text/plain": [
              "2547"
            ]
          },
          "metadata": {},
          "execution_count": 29
        }
      ]
    },
    {
      "cell_type": "code",
      "source": [
        "plt.figure(figsize=(8,6))\n",
        "plt.rcParams['patch.force_edgecolor'] = True\n",
        "ratings_mean_count['rating_counts'].hist(bins=50)"
      ],
      "metadata": {
        "colab": {
          "base_uri": "https://localhost:8080/",
          "height": 540
        },
        "id": "tuxJplObpF7A",
        "outputId": "c1daea5f-f4d3-4d08-c13a-557ab3fcc994"
      },
      "execution_count": 30,
      "outputs": [
        {
          "output_type": "execute_result",
          "data": {
            "text/plain": [
              "<Figure size 800x600 with 0 Axes>"
            ]
          },
          "metadata": {},
          "execution_count": 30
        },
        {
          "output_type": "execute_result",
          "data": {
            "text/plain": [
              "<Axes: >"
            ]
          },
          "metadata": {},
          "execution_count": 30
        },
        {
          "output_type": "display_data",
          "data": {
            "text/plain": [
              "<Figure size 800x600 with 1 Axes>"
            ],
            "image/png": "[encoded data removed]"
          },
          "metadata": {}
        }
      ]
    },
    {
      "cell_type": "code",
      "source": [
        "plt.figure(figsize=(8,6))\n",
        "plt.rcParams['patch.force_edgecolor'] = True\n",
        "ratings_mean_count['Rating'].hist(bins=50)"
      ],
      "metadata": {
        "colab": {
          "base_uri": "https://localhost:8080/",
          "height": 540
        },
        "id": "520XiZICpHXU",
        "outputId": "ee559300-30ae-405b-9634-7da766037fcb"
      },
      "execution_count": 31,
      "outputs": [
        {
          "output_type": "execute_result",
          "data": {
            "text/plain": [
              "<Figure size 800x600 with 0 Axes>"
            ]
          },
          "metadata": {},
          "execution_count": 31
        },
        {
          "output_type": "execute_result",
          "data": {
            "text/plain": [
              "<Axes: >"
            ]
          },
          "metadata": {},
          "execution_count": 31
        },
        {
          "output_type": "display_data",
          "data": {
            "text/plain": [
              "<Figure size 800x600 with 1 Axes>"
            ],
            "image/png": "[encoded data removed]"
          },
          "metadata": {}
        }
      ]
    },
    {
      "cell_type": "code",
      "source": [
        "plt.figure(figsize=(8,6))\n",
        "plt.rcParams['patch.force_edgecolor'] = True\n",
        "sns.jointplot(x='Rating', y='rating_counts', data=ratings_mean_count, alpha=0.4)"
      ],
      "metadata": {
        "colab": {
          "base_uri": "https://localhost:8080/",
          "height": 644
        },
        "id": "b5CX-h1MpI6l",
        "outputId": "af330765-ae25-426f-fd02-523789017055"
      },
      "execution_count": 32,
      "outputs": [
        {
          "output_type": "execute_result",
          "data": {
            "text/plain": [
              "<Figure size 800x600 with 0 Axes>"
            ]
          },
          "metadata": {},
          "execution_count": 32
        },
        {
          "output_type": "execute_result",
          "data": {
            "text/plain": [
              "<seaborn.axisgrid.JointGrid at 0x7eb9e5c62860>"
            ]
          },
          "metadata": {},
          "execution_count": 32
        },
        {
          "output_type": "display_data",
          "data": {
            "text/plain": [
              "<Figure size 800x600 with 0 Axes>"
            ]
          },
          "metadata": {}
        },
        {
          "output_type": "display_data",
          "data": {
            "text/plain": [
              "<Figure size 600x600 with 3 Axes>"
            ],
            "image/png": "[encoded data removed]"
          },
          "metadata": {}
        }
      ]
    },
    {
      "cell_type": "code",
      "source": [
        "popular_products = pd.DataFrame(new_df.groupby('productId')['Rating'].count())\n",
        "most_popular = popular_products.sort_values('Rating', ascending=False)\n",
        "most_popular.head(30).plot(kind = \"bar\")"
      ],
      "metadata": {
        "colab": {
          "base_uri": "https://localhost:8080/",
          "height": 552
        },
        "id": "JirN4tqbpNN_",
        "outputId": "222f4006-9d90-4a91-a353-cbd1fadafd0b"
      },
      "execution_count": 33,
      "outputs": [
        {
          "output_type": "execute_result",
          "data": {
            "text/plain": [
              "<Axes: xlabel='productId'>"
            ]
          },
          "metadata": {},
          "execution_count": 33
        },
        {
          "output_type": "display_data",
          "data": {
            "text/plain": [
              "<Figure size 640x480 with 1 Axes>"
            ],
            "image/png": "[encoded data removed]"
          },
          "metadata": {}
        }
      ]
    },
    {
      "cell_type": "markdown",
      "source": [
        "# collaberative filtering (item-item recommendation)"
      ],
      "metadata": {
        "id": "lFywhsK-pP3-"
      }
    },
    {
      "cell_type": "code",
      "source": [
        "! pip install scikit-surprise"
      ],
      "metadata": {
        "colab": {
          "base_uri": "https://localhost:8080/"
        },
        "id": "UU7xp9XKpayn",
        "outputId": "e75a944b-25e3-48ce-814f-7bb055971251"
      },
      "execution_count": 38,
      "outputs": [
        {
          "output_type": "stream",
          "name": "stdout",
          "text": [
            "Collecting scikit-surprise\n",
            "  Using cached scikit-surprise-1.1.3.tar.gz (771 kB)\n",
            "  Preparing metadata (setup.py) ... \u001b[?25l\u001b[?25hdone\n",
            "Requirement already satisfied: joblib>=1.0.0 in /usr/local/lib/python3.10/dist-packages (from scikit-surprise) (1.3.2)\n",
            "Requirement already satisfied: numpy>=1.17.3 in /usr/local/lib/python3.10/dist-packages (from scikit-surprise) (1.23.5)\n",
            "Requirement already satisfied: scipy>=1.3.2 in /usr/local/lib/python3.10/dist-packages (from scikit-surprise) (1.11.3)\n",
            "Building wheels for collected packages: scikit-surprise\n",
            "  Building wheel for scikit-surprise (setup.py) ... \u001b[?25l\u001b[?25hdone\n",
            "  Created wheel for scikit-surprise: filename=scikit_surprise-1.1.3-cp310-cp310-linux_x86_64.whl size=3163486 sha256=4411e0c95bb9f63a4b3c3ef71f7fb22677cdb949299707cebf7b67860a0a0605\n",
            "  Stored in directory: /root/.cache/pip/wheels/a5/ca/a8/4e28def53797fdc4363ca4af740db15a9c2f1595ebc51fb445\n",
            "Successfully built scikit-surprise\n",
            "Installing collected packages: scikit-surprise\n",
            "Successfully installed scikit-surprise-1.1.3\n"
          ]
        }
      ]
    },
    {
      "cell_type": "code",
      "source": [
        "from surprise import KNNWithMeans\n",
        "from surprise import Dataset\n",
        "from surprise import accuracy\n",
        "from surprise import Reader\n",
        "import os\n",
        "from surprise.model_selection import train_test_split"
      ],
      "metadata": {
        "id": "A-vUiY7CpOuk"
      },
      "execution_count": 40,
      "outputs": []
    },
    {
      "cell_type": "code",
      "source": [
        "#Reading the dataset\n",
        "reader = Reader(rating_scale=(1, 5))\n",
        "data = Dataset.load_from_df(new_df,reader)"
      ],
      "metadata": {
        "id": "5K2u8cOcpWLQ"
      },
      "execution_count": 41,
      "outputs": []
    },
    {
      "cell_type": "code",
      "source": [
        "#Splitting the dataset\n",
        "trainset, testset = train_test_split(data, test_size=0.3,random_state=10)"
      ],
      "metadata": {
        "id": "5wljV7uxpopv"
      },
      "execution_count": 42,
      "outputs": []
    },
    {
      "cell_type": "code",
      "source": [
        "# Use user_based true/false to switch between user-based or item-based collaborative filtering\n",
        "algo = KNNWithMeans(k=5, sim_options={'name': 'pearson_baseline', 'user_based': False})\n",
        "algo.fit(trainset)"
      ],
      "metadata": {
        "colab": {
          "base_uri": "https://localhost:8080/"
        },
        "id": "YW97Auiappxy",
        "outputId": "9bcaa511-7933-467f-c3f3-61601e15be3e"
      },
      "execution_count": 43,
      "outputs": [
        {
          "output_type": "stream",
          "name": "stdout",
          "text": [
            "Estimating biases using als...\n",
            "Computing the pearson_baseline similarity matrix...\n",
            "Done computing similarity matrix.\n"
          ]
        },
        {
          "output_type": "execute_result",
          "data": {
            "text/plain": [
              "<surprise.prediction_algorithms.knns.KNNWithMeans at 0x7eb9e58217e0>"
            ]
          },
          "metadata": {},
          "execution_count": 43
        }
      ]
    },
    {
      "cell_type": "code",
      "source": [
        "# run the trained model against the testset\n",
        "test_pred = algo.test(testset)"
      ],
      "metadata": {
        "id": "VZZVQH3Lp0_N"
      },
      "execution_count": 44,
      "outputs": []
    },
    {
      "cell_type": "code",
      "source": [
        "test_pred"
      ],
      "metadata": {
        "colab": {
          "base_uri": "https://localhost:8080/"
        },
        "id": "89xcg_jdp17x",
        "outputId": "365c83d3-3279-45c9-cf94-e3781529a791"
      },
      "execution_count": 45,
      "outputs": [
        {
          "output_type": "execute_result",
          "data": {
            "text/plain": [
              "[Prediction(uid='A3ENIUT77P8BBI', iid='B00004RIUJ', r_ui=5.0, est=4.150881896000244, details={'was_impossible': True, 'reason': 'User and/or item is unknown.'}),\n",
              " Prediction(uid='ALZQKKKZ6VT0H', iid='B00000DM9W', r_ui=3.0, est=4.150881896000244, details={'was_impossible': True, 'reason': 'User and/or item is unknown.'}),\n",
              " Prediction(uid='A1JZSJ64NA4FQX', iid='B00000JI4F', r_ui=5.0, est=4.150881896000244, details={'was_impossible': True, 'reason': 'User and/or item is unknown.'}),\n",
              " Prediction(uid='A11FZVPW6VQ1KV', iid='B00004VX15', r_ui=5.0, est=4.150881896000244, details={'was_impossible': True, 'reason': 'User and/or item is unknown.'}),\n",
              " Prediction(uid='AN9SN664D8E8Z', iid='B00004XO1V', r_ui=1.0, est=4.150881896000244, details={'was_impossible': True, 'reason': 'User and/or item is unknown.'}),\n",
              " Prediction(uid='A3DY8TXYKMO8YI', iid='9573212919', r_ui=5.0, est=4.150881896000244, details={'was_impossible': True, 'reason': 'User and/or item is unknown.'}),\n",
              " Prediction(uid='A1FUJ5WV85Z48F', iid='140053271X', r_ui=4.0, est=4.150881896000244, details={'was_impossible': True, 'reason': 'User and/or item is unknown.'}),\n",
              " Prediction(uid='A1MTRB8ZHTTY4Z', iid='B00000K4KH', r_ui=5.0, est=4.150881896000244, details={'was_impossible': True, 'reason': 'User and/or item is unknown.'}),\n",
              " Prediction(uid='A4ITBJ2FYOFKT', iid='B00004ZCJE', r_ui=4.0, est=4.150881896000244, details={'was_impossible': True, 'reason': 'User and/or item is unknown.'}),\n",
              " Prediction(uid='A29AI2FA7SXEME', iid='B00000J1QK', r_ui=4.0, est=4.150881896000244, details={'was_impossible': True, 'reason': 'User and/or item is unknown.'}),\n",
              " Prediction(uid='A2B5APU47UONKP', iid='B00000K2YR', r_ui=1.0, est=4.150881896000244, details={'was_impossible': True, 'reason': 'User and/or item is unknown.'}),\n",
              " Prediction(uid='A2HFFI9I18BQ5C', iid='B00004Z5PY', r_ui=5.0, est=4.150881896000244, details={'was_impossible': True, 'reason': 'User and/or item is unknown.'}),\n",
              " Prediction(uid='A2MIWGGEP9GQDT', iid='B00004RC2D', r_ui=1.0, est=4.150881896000244, details={'was_impossible': True, 'reason': 'User and/or item is unknown.'}),\n",
              " Prediction(uid='AACI5VWXSEP4A', iid='B00004Z5M1', r_ui=5.0, est=4.150881896000244, details={'was_impossible': True, 'reason': 'User and/or item is unknown.'}),\n",
              " Prediction(uid='AX3KEU7DO4K3', iid='B00004TBLW', r_ui=5.0, est=4.150881896000244, details={'was_impossible': True, 'reason': 'User and/or item is unknown.'}),\n",
              " Prediction(uid='A35OZBE1LPKDAP', iid='B00004Z7G9', r_ui=4.0, est=4.150881896000244, details={'was_impossible': True, 'reason': 'User and/or item is unknown.'}),\n",
              " Prediction(uid='A1AK8ADQJRXA39', iid='B00004ZC9V', r_ui=3.0, est=4.150881896000244, details={'was_impossible': True, 'reason': 'User and/or item is unknown.'}),\n",
              " Prediction(uid='AEOGHFU5IU9SB', iid='B00000JDHV', r_ui=5.0, est=4.150881896000244, details={'was_impossible': True, 'reason': 'User and/or item is unknown.'}),\n",
              " Prediction(uid='A2YLXEVN48PL0G', iid='B00004T8R2', r_ui=5.0, est=4.150881896000244, details={'was_impossible': True, 'reason': 'User and/or item is unknown.'}),\n",
              " Prediction(uid='A1D34MLD7S5IDS', iid='B00000DM9W', r_ui=5.0, est=4.150881896000244, details={'was_impossible': True, 'reason': 'User and/or item is unknown.'}),\n",
              " Prediction(uid='A269Z2P3YBE05H', iid='B00004SABB', r_ui=5.0, est=4.150881896000244, details={'was_impossible': True, 'reason': 'User and/or item is unknown.'}),\n",
              " Prediction(uid='A2CV4SYG4SL4AM', iid='B00004VX39', r_ui=3.0, est=3.9578313253012047, details={'actual_k': 0, 'was_impossible': False}),\n",
              " Prediction(uid='A1WV0XTJROAYGK', iid='B00003CWDH', r_ui=4.0, est=4.150881896000244, details={'was_impossible': True, 'reason': 'User and/or item is unknown.'}),\n",
              " Prediction(uid='AEUVS2OQG75BD', iid='B00003ETSJ', r_ui=3.0, est=4.150881896000244, details={'was_impossible': True, 'reason': 'User and/or item is unknown.'}),\n",
              " Prediction(uid='A2A2STSMRHC225', iid='B00000K4KH', r_ui=5.0, est=4.150881896000244, details={'was_impossible': True, 'reason': 'User and/or item is unknown.'}),\n",
              " Prediction(uid='A111UHA2H22XE7', iid='0972683275', r_ui=5.0, est=4.150881896000244, details={'was_impossible': True, 'reason': 'User and/or item is unknown.'}),\n",
              " Prediction(uid='A2H01DTG05KK1Q', iid='B00004WCFY', r_ui=5.0, est=4.150881896000244, details={'was_impossible': True, 'reason': 'User and/or item is unknown.'}),\n",
              " Prediction(uid='A3II70YWYVAMMQ', iid='B00001P4XA', r_ui=2.0, est=4.150881896000244, details={'was_impossible': True, 'reason': 'User and/or item is unknown.'}),\n",
              " Prediction(uid='A2A039TZMZHH9Y', iid='B00000DM9W', r_ui=4.0, est=4.150881896000244, details={'was_impossible': True, 'reason': 'User and/or item is unknown.'}),\n",
              " Prediction(uid='A2GPBDXR0LJ7EC', iid='B00004W3ZQ', r_ui=5.0, est=4.150881896000244, details={'was_impossible': True, 'reason': 'User and/or item is unknown.'}),\n",
              " Prediction(uid='A23A3FEXAMBOIJ', iid='B00002JXFH', r_ui=5.0, est=4.150881896000244, details={'was_impossible': True, 'reason': 'User and/or item is unknown.'}),\n",
              " Prediction(uid='AI0BCEWRE04G0', iid='B00004T1XE', r_ui=4.0, est=4.150881896000244, details={'was_impossible': True, 'reason': 'User and/or item is unknown.'}),\n",
              " Prediction(uid='A24I2390PT578S', iid='140053271X', r_ui=5.0, est=4.150881896000244, details={'was_impossible': True, 'reason': 'User and/or item is unknown.'}),\n",
              " Prediction(uid='AXZ8ER8XBUNRQ', iid='B00001W0DI', r_ui=4.0, est=4.477528089887641, details={'actual_k': 0, 'was_impossible': False}),\n",
              " Prediction(uid='A1WLGKR48ALYDP', iid='B00004SB99', r_ui=5.0, est=4.150881896000244, details={'was_impossible': True, 'reason': 'User and/or item is unknown.'}),\n",
              " Prediction(uid='A1KMEZJ5KWLMD0', iid='1400599997', r_ui=5.0, est=4.150881896000244, details={'was_impossible': True, 'reason': 'User and/or item is unknown.'}),\n",
              " Prediction(uid='AQRUWS46UFC2I', iid='B00004THCZ', r_ui=5.0, est=4.150881896000244, details={'was_impossible': True, 'reason': 'User and/or item is unknown.'}),\n",
              " Prediction(uid='A1YYNAPM39IRZN', iid='B00000J1V5', r_ui=4.0, est=4.150881896000244, details={'was_impossible': True, 'reason': 'User and/or item is unknown.'}),\n",
              " Prediction(uid='A10EBAP0TYPDTD', iid='B000031KIM', r_ui=4.0, est=4.150881896000244, details={'was_impossible': True, 'reason': 'User and/or item is unknown.'}),\n",
              " Prediction(uid='A3KPC2CZV4F5R8', iid='B00001P4ZH', r_ui=5.0, est=4.150881896000244, details={'was_impossible': True, 'reason': 'User and/or item is unknown.'}),\n",
              " Prediction(uid='AIDIL9AO2EGRR', iid='B00000DM9W', r_ui=5.0, est=4.150881896000244, details={'was_impossible': True, 'reason': 'User and/or item is unknown.'}),\n",
              " Prediction(uid='A2ZAJ0MHPJ8BTJ', iid='B00004T8R2', r_ui=4.0, est=4.150881896000244, details={'was_impossible': True, 'reason': 'User and/or item is unknown.'}),\n",
              " Prediction(uid='AZGLF7856XMP7', iid='B00001P4ZH', r_ui=4.0, est=4.150881896000244, details={'was_impossible': True, 'reason': 'User and/or item is unknown.'}),\n",
              " Prediction(uid='A3A8EWK181RGFU', iid='B00002EQCW', r_ui=3.0, est=4.150881896000244, details={'was_impossible': True, 'reason': 'User and/or item is unknown.'}),\n",
              " Prediction(uid='A22ELKXGNSSWDQ', iid='B00001P4ZH', r_ui=5.0, est=4.150881896000244, details={'was_impossible': True, 'reason': 'User and/or item is unknown.'}),\n",
              " Prediction(uid='AQGEDZ4FC7GZI', iid='B00001ZWXA', r_ui=5.0, est=4.150881896000244, details={'was_impossible': True, 'reason': 'User and/or item is unknown.'}),\n",
              " Prediction(uid='A31R23MGWEU4QB', iid='B00004SB92', r_ui=5.0, est=4.150881896000244, details={'was_impossible': True, 'reason': 'User and/or item is unknown.'}),\n",
              " Prediction(uid='AOE17HCQ3Q9EN', iid='9573212919', r_ui=2.0, est=4.150881896000244, details={'was_impossible': True, 'reason': 'User and/or item is unknown.'}),\n",
              " Prediction(uid='A3F2F2UXWFGQSK', iid='0972683275', r_ui=5.0, est=4.150881896000244, details={'was_impossible': True, 'reason': 'User and/or item is unknown.'}),\n",
              " Prediction(uid='A2RM5Z9LO295E6', iid='B00004VUGJ', r_ui=1.0, est=4.150881896000244, details={'was_impossible': True, 'reason': 'User and/or item is unknown.'}),\n",
              " Prediction(uid='AOYNHGSZ5R0R4', iid='B00004VX39', r_ui=5.0, est=4.150881896000244, details={'was_impossible': True, 'reason': 'User and/or item is unknown.'}),\n",
              " Prediction(uid='A3AFPQWM1RGSDE', iid='B00001W0EQ', r_ui=5.0, est=4.150881896000244, details={'was_impossible': True, 'reason': 'User and/or item is unknown.'}),\n",
              " Prediction(uid='A12NYW41LVDZIZ', iid='B00003CWDH', r_ui=5.0, est=4.150881896000244, details={'was_impossible': True, 'reason': 'User and/or item is unknown.'}),\n",
              " Prediction(uid='A2M7LU80C9ACZO', iid='B00004Z7G9', r_ui=4.0, est=4.150881896000244, details={'was_impossible': True, 'reason': 'User and/or item is unknown.'}),\n",
              " Prediction(uid='A2PR3NOAULT3CR', iid='B00004W3ZQ', r_ui=4.0, est=4.150881896000244, details={'was_impossible': True, 'reason': 'User and/or item is unknown.'}),\n",
              " Prediction(uid='A1DNTJUTCZC5A0', iid='B00004WCIC', r_ui=5.0, est=4.150881896000244, details={'was_impossible': True, 'reason': 'User and/or item is unknown.'}),\n",
              " Prediction(uid='A1AHL90POX6J9K', iid='B00000K2YR', r_ui=2.0, est=4.150881896000244, details={'was_impossible': True, 'reason': 'User and/or item is unknown.'}),\n",
              " Prediction(uid='AGZ2CRMM66JG5', iid='B00004Z5PY', r_ui=5.0, est=4.150881896000244, details={'was_impossible': True, 'reason': 'User and/or item is unknown.'}),\n",
              " Prediction(uid='A36IHPZE3X38TG', iid='B00004WCGF', r_ui=5.0, est=4.150881896000244, details={'was_impossible': True, 'reason': 'User and/or item is unknown.'}),\n",
              " Prediction(uid='A1U27KEQJLR310', iid='B00000J4FS', r_ui=5.0, est=4.150881896000244, details={'was_impossible': True, 'reason': 'User and/or item is unknown.'}),\n",
              " Prediction(uid='A1VGWWV36PBC3W', iid='B00004SABJ', r_ui=1.0, est=4.150881896000244, details={'was_impossible': True, 'reason': 'User and/or item is unknown.'}),\n",
              " Prediction(uid='A1FQXSWVR6G3N3', iid='B00004ZCJE', r_ui=4.0, est=4.150881896000244, details={'was_impossible': True, 'reason': 'User and/or item is unknown.'}),\n",
              " Prediction(uid='A2LD7LIWQ738CG', iid='9575871979', r_ui=2.0, est=4.150881896000244, details={'was_impossible': True, 'reason': 'User and/or item is unknown.'}),\n",
              " Prediction(uid='A3CMO6EORUNEYQ', iid='B00004R8V6', r_ui=5.0, est=4.150881896000244, details={'was_impossible': True, 'reason': 'User and/or item is unknown.'}),\n",
              " Prediction(uid='A1N7N77OALNMDW', iid='B00003006K', r_ui=5.0, est=4.150881896000244, details={'was_impossible': True, 'reason': 'User and/or item is unknown.'}),\n",
              " Prediction(uid='A2FVNLWPFKGIEK', iid='B00001WRSJ', r_ui=5.0, est=4.150881896000244, details={'was_impossible': True, 'reason': 'User and/or item is unknown.'}),\n",
              " Prediction(uid='A2IQDGRW6KS0J3', iid='B00003006R', r_ui=5.0, est=4.150881896000244, details={'was_impossible': True, 'reason': 'User and/or item is unknown.'}),\n",
              " Prediction(uid='A1F0GWKAOVHJJH', iid='B00004ZC8Y', r_ui=5.0, est=4.191532258064516, details={'actual_k': 0, 'was_impossible': False}),\n",
              " Prediction(uid='ABI7M9PHNDEOC', iid='B00000J1V5', r_ui=5.0, est=4.150881896000244, details={'was_impossible': True, 'reason': 'User and/or item is unknown.'}),\n",
              " Prediction(uid='AL37PUGUBFB6E', iid='B00002CEX9', r_ui=2.0, est=4.150881896000244, details={'was_impossible': True, 'reason': 'User and/or item is unknown.'}),\n",
              " Prediction(uid='A9YXGNYGQ84GC', iid='B00004RC2D', r_ui=5.0, est=4.150881896000244, details={'was_impossible': True, 'reason': 'User and/or item is unknown.'}),\n",
              " Prediction(uid='A1GI10W19I11ZZ', iid='B00000DM9W', r_ui=4.0, est=4.150881896000244, details={'was_impossible': True, 'reason': 'User and/or item is unknown.'}),\n",
              " Prediction(uid='A1C8NVX6NPZUD', iid='B00004WCIC', r_ui=1.0, est=4.150881896000244, details={'was_impossible': True, 'reason': 'User and/or item is unknown.'}),\n",
              " Prediction(uid='A3EWDJ7JP80TDJ', iid='B00004ZC8Y', r_ui=4.0, est=4.150881896000244, details={'was_impossible': True, 'reason': 'User and/or item is unknown.'}),\n",
              " Prediction(uid='A1A3R532TXE8B3', iid='B00004WCGF', r_ui=5.0, est=4.150881896000244, details={'was_impossible': True, 'reason': 'User and/or item is unknown.'}),\n",
              " Prediction(uid='A38T55CCT4B3E6', iid='B00000JDHV', r_ui=5.0, est=4.150881896000244, details={'was_impossible': True, 'reason': 'User and/or item is unknown.'}),\n",
              " Prediction(uid='A1N1N2J25ESM3L', iid='B00003CWDG', r_ui=5.0, est=4.150881896000244, details={'was_impossible': True, 'reason': 'User and/or item is unknown.'}),\n",
              " Prediction(uid='A1QBRROS3L836R', iid='B00004WCIC', r_ui=5.0, est=4.150881896000244, details={'was_impossible': True, 'reason': 'User and/or item is unknown.'}),\n",
              " Prediction(uid='A2WKTACW026L63', iid='B00004XOM3', r_ui=5.0, est=4.762626262626263, details={'actual_k': 0, 'was_impossible': False}),\n",
              " Prediction(uid='A161XLEKIBA55W', iid='B00001P505', r_ui=5.0, est=4.150881896000244, details={'was_impossible': True, 'reason': 'User and/or item is unknown.'}),\n",
              " Prediction(uid='A3OT2V53EL3JN8', iid='B00004ZCJE', r_ui=5.0, est=4.150881896000244, details={'was_impossible': True, 'reason': 'User and/or item is unknown.'}),\n",
              " Prediction(uid='AKO5YEPVW0IKG', iid='B00000J1EP', r_ui=5.0, est=4.150881896000244, details={'was_impossible': True, 'reason': 'User and/or item is unknown.'}),\n",
              " Prediction(uid='A2HGVGBEVX1XE', iid='B00001P4ZH', r_ui=5.0, est=4.150881896000244, details={'was_impossible': True, 'reason': 'User and/or item is unknown.'}),\n",
              " Prediction(uid='A3KNDQ98179AHY', iid='B00004THCZ', r_ui=2.0, est=4.668959450480549, details={'actual_k': 1, 'was_impossible': False}),\n",
              " Prediction(uid='A3C7ZGALEMF06D', iid='B00001W0DI', r_ui=4.0, est=4.150881896000244, details={'was_impossible': True, 'reason': 'User and/or item is unknown.'}),\n",
              " Prediction(uid='A2YIJ1WIGS3NWD', iid='B00001W0EQ', r_ui=5.0, est=4.150881896000244, details={'was_impossible': True, 'reason': 'User and/or item is unknown.'}),\n",
              " Prediction(uid='A3H0KNC7PKLXU7', iid='B00004T8R2', r_ui=1.0, est=4.150881896000244, details={'was_impossible': True, 'reason': 'User and/or item is unknown.'}),\n",
              " Prediction(uid='AA0W4TGCB60UR', iid='B00004T8R2', r_ui=5.0, est=4.150881896000244, details={'was_impossible': True, 'reason': 'User and/or item is unknown.'}),\n",
              " Prediction(uid='A2CS3MSSVQ6VXP', iid='B00000K135', r_ui=4.0, est=4.150881896000244, details={'was_impossible': True, 'reason': 'User and/or item is unknown.'}),\n",
              " Prediction(uid='ASQMHGF1CUAYH', iid='B00004SGD3', r_ui=2.0, est=4.150881896000244, details={'was_impossible': True, 'reason': 'User and/or item is unknown.'}),\n",
              " Prediction(uid='A3USVJXZXK7XRI', iid='B00004Z68P', r_ui=5.0, est=4.150881896000244, details={'was_impossible': True, 'reason': 'User and/or item is unknown.'}),\n",
              " Prediction(uid='A3F9CBHV4OHFBS', iid='9983891212', r_ui=5.0, est=4.396825396825397, details={'actual_k': 0, 'was_impossible': False}),\n",
              " Prediction(uid='A3LWC833HQIG7J', iid='B00001P4XA', r_ui=5.0, est=3.8142493638676847, details={'actual_k': 0, 'was_impossible': False}),\n",
              " Prediction(uid='A5HG60WBL7S6W', iid='B000001ON6', r_ui=4.0, est=4.150881896000244, details={'was_impossible': True, 'reason': 'User and/or item is unknown.'}),\n",
              " Prediction(uid='A377ADUWT77YHX', iid='B00004WLJ9', r_ui=5.0, est=4.150881896000244, details={'was_impossible': True, 'reason': 'User and/or item is unknown.'}),\n",
              " Prediction(uid='AOK9U912FK03L', iid='B00003CWDK', r_ui=5.0, est=4.150881896000244, details={'was_impossible': True, 'reason': 'User and/or item is unknown.'}),\n",
              " Prediction(uid='A3RTHAIOQUNPS3', iid='B00004SGD3', r_ui=5.0, est=4.150881896000244, details={'was_impossible': True, 'reason': 'User and/or item is unknown.'}),\n",
              " Prediction(uid='AYFHTY5X2DG6N', iid='B00004ZCJE', r_ui=1.0, est=4.150881896000244, details={'was_impossible': True, 'reason': 'User and/or item is unknown.'}),\n",
              " Prediction(uid='A3J434ZH0AMHWD', iid='B00004T8R2', r_ui=5.0, est=4.150881896000244, details={'was_impossible': True, 'reason': 'User and/or item is unknown.'}),\n",
              " Prediction(uid='A1CTNM5CEU7NOI', iid='B00004X10B', r_ui=5.0, est=4.150881896000244, details={'was_impossible': True, 'reason': 'User and/or item is unknown.'}),\n",
              " Prediction(uid='A38A6ZIHDTCVVF', iid='B00000JYWQ', r_ui=4.0, est=4.150881896000244, details={'was_impossible': True, 'reason': 'User and/or item is unknown.'}),\n",
              " Prediction(uid='A1LU8DE959R7FV', iid='B00004Z5M1', r_ui=4.0, est=4.150881896000244, details={'was_impossible': True, 'reason': 'User and/or item is unknown.'}),\n",
              " Prediction(uid='ARZDORDLR4TA7', iid='B00004SABB', r_ui=4.0, est=4.150881896000244, details={'was_impossible': True, 'reason': 'User and/or item is unknown.'}),\n",
              " Prediction(uid='A12GDEX2RUGI67', iid='1400532736', r_ui=5.0, est=4.150881896000244, details={'was_impossible': True, 'reason': 'User and/or item is unknown.'}),\n",
              " Prediction(uid='A38DMKURZVR78H', iid='B00004SABJ', r_ui=2.0, est=4.150881896000244, details={'was_impossible': True, 'reason': 'User and/or item is unknown.'}),\n",
              " Prediction(uid='A11F8JSQ206D9J', iid='B00004Z5M1', r_ui=5.0, est=4.150881896000244, details={'was_impossible': True, 'reason': 'User and/or item is unknown.'}),\n",
              " Prediction(uid='A2HK3TPF4OVOZJ', iid='B000001ON6', r_ui=5.0, est=4.150881896000244, details={'was_impossible': True, 'reason': 'User and/or item is unknown.'}),\n",
              " Prediction(uid='AG0IWA9ZO0S3N', iid='B00004TDLD', r_ui=5.0, est=4.150881896000244, details={'was_impossible': True, 'reason': 'User and/or item is unknown.'}),\n",
              " Prediction(uid='A2Q7VY0358PA3W', iid='B00000J1V5', r_ui=5.0, est=4.150881896000244, details={'was_impossible': True, 'reason': 'User and/or item is unknown.'}),\n",
              " Prediction(uid='A2B33QVTLYD7EL', iid='B00000JDF5', r_ui=5.0, est=4.150881896000244, details={'was_impossible': True, 'reason': 'User and/or item is unknown.'}),\n",
              " Prediction(uid='AYMLP6MELRYYN', iid='B00004T8R2', r_ui=5.0, est=4.150881896000244, details={'was_impossible': True, 'reason': 'User and/or item is unknown.'}),\n",
              " Prediction(uid='A2EXABQB6TMU0G', iid='B00004VUGJ', r_ui=4.0, est=4.150881896000244, details={'was_impossible': True, 'reason': 'User and/or item is unknown.'}),\n",
              " Prediction(uid='A2T6HZVRVQCL5I', iid='B00001P4ZH', r_ui=5.0, est=4.150881896000244, details={'was_impossible': True, 'reason': 'User and/or item is unknown.'}),\n",
              " Prediction(uid='A2D3WIS7V7U9D9', iid='1400501466', r_ui=1.0, est=4.150881896000244, details={'was_impossible': True, 'reason': 'User and/or item is unknown.'}),\n",
              " Prediction(uid='A1UP0ISNOV5CFN', iid='B00004ZC9V', r_ui=4.0, est=4.150881896000244, details={'was_impossible': True, 'reason': 'User and/or item is unknown.'}),\n",
              " Prediction(uid='A2UB7M19ZXMPRT', iid='B00000K2YR', r_ui=5.0, est=4.150881896000244, details={'was_impossible': True, 'reason': 'User and/or item is unknown.'}),\n",
              " Prediction(uid='A2OBA90I6R6TQA', iid='B00004SABB', r_ui=4.0, est=4.150881896000244, details={'was_impossible': True, 'reason': 'User and/or item is unknown.'}),\n",
              " Prediction(uid='ANPRKW9PUXKP', iid='B00001X5AL', r_ui=5.0, est=4.150881896000244, details={'was_impossible': True, 'reason': 'User and/or item is unknown.'}),\n",
              " Prediction(uid='AO5LU15W13MCG', iid='B00001P4ZH', r_ui=4.0, est=4.150881896000244, details={'was_impossible': True, 'reason': 'User and/or item is unknown.'}),\n",
              " Prediction(uid='A3LIHB4OPMZ8LS', iid='B00003CWDH', r_ui=5.0, est=4.150881896000244, details={'was_impossible': True, 'reason': 'User and/or item is unknown.'}),\n",
              " Prediction(uid='A32SQEA5N5SL3D', iid='B00004SY4H', r_ui=5.0, est=4.150881896000244, details={'was_impossible': True, 'reason': 'User and/or item is unknown.'}),\n",
              " Prediction(uid='A2RDTO2JOXVYKE', iid='B00004ZC8Y', r_ui=4.0, est=4.150881896000244, details={'was_impossible': True, 'reason': 'User and/or item is unknown.'}),\n",
              " Prediction(uid='A1RU8PMA7ULICI', iid='B00004RC2E', r_ui=5.0, est=4.150881896000244, details={'was_impossible': True, 'reason': 'User and/or item is unknown.'}),\n",
              " Prediction(uid='A3MRZCQGZKEH34', iid='B00002ST80', r_ui=4.0, est=4.150881896000244, details={'was_impossible': True, 'reason': 'User and/or item is unknown.'}),\n",
              " Prediction(uid='A11KC5XGX3FX81', iid='B00004SABB', r_ui=4.0, est=4.150881896000244, details={'was_impossible': True, 'reason': 'User and/or item is unknown.'}),\n",
              " Prediction(uid='A1Y0DT4RGHTQU0', iid='B00001ZWXA', r_ui=1.0, est=4.150881896000244, details={'was_impossible': True, 'reason': 'User and/or item is unknown.'}),\n",
              " Prediction(uid='A1IR3KG8LNX84P', iid='B00000JCT8', r_ui=4.0, est=4.150881896000244, details={'was_impossible': True, 'reason': 'User and/or item is unknown.'}),\n",
              " Prediction(uid='A9XSR2WBXJ5AE', iid='B00004Z5P4', r_ui=5.0, est=4.150881896000244, details={'was_impossible': True, 'reason': 'User and/or item is unknown.'}),\n",
              " Prediction(uid='A3TCAZKJ9KNJEW', iid='B00000K135', r_ui=5.0, est=4.150881896000244, details={'was_impossible': True, 'reason': 'User and/or item is unknown.'}),\n",
              " Prediction(uid='A30QZTHY2XWJC', iid='B00004T0RC', r_ui=5.0, est=4.150881896000244, details={'was_impossible': True, 'reason': 'User and/or item is unknown.'}),\n",
              " Prediction(uid='A35TJIUIJDKJ7A', iid='B00004THCZ', r_ui=3.0, est=4.261648745519714, details={'actual_k': 0, 'was_impossible': False}),\n",
              " Prediction(uid='A18BY3WWQGG7DA', iid='B00001W0EQ', r_ui=5.0, est=4.150881896000244, details={'was_impossible': True, 'reason': 'User and/or item is unknown.'}),\n",
              " Prediction(uid='A3J1QBB1ULWDOQ', iid='B00004SABB', r_ui=5.0, est=4.150881896000244, details={'was_impossible': True, 'reason': 'User and/or item is unknown.'}),\n",
              " Prediction(uid='A2CO99JZHNE0DN', iid='B00004ZCJE', r_ui=5.0, est=4.150881896000244, details={'was_impossible': True, 'reason': 'User and/or item is unknown.'}),\n",
              " Prediction(uid='A2UM3GFX60OGMZ', iid='B00001P4ZH', r_ui=5.0, est=4.150881896000244, details={'was_impossible': True, 'reason': 'User and/or item is unknown.'}),\n",
              " Prediction(uid='A2LFAL16WRPQCT', iid='B00000J1F3', r_ui=1.0, est=4.150881896000244, details={'was_impossible': True, 'reason': 'User and/or item is unknown.'}),\n",
              " Prediction(uid='A21OA8773GTIKD', iid='B00000J1EQ', r_ui=5.0, est=4.150881896000244, details={'was_impossible': True, 'reason': 'User and/or item is unknown.'}),\n",
              " Prediction(uid='A135AEPVXDI7RL', iid='B00001WRSJ', r_ui=5.0, est=4.150881896000244, details={'was_impossible': True, 'reason': 'User and/or item is unknown.'}),\n",
              " Prediction(uid='A22RY8N8CNDF3A', iid='1400532655', r_ui=2.0, est=4.150881896000244, details={'was_impossible': True, 'reason': 'User and/or item is unknown.'}),\n",
              " Prediction(uid='A15OKJQCFZ0AX', iid='B00004XRED', r_ui=4.0, est=4.150881896000244, details={'was_impossible': True, 'reason': 'User and/or item is unknown.'}),\n",
              " Prediction(uid='AM3N5LZ7BETCB', iid='9625993428', r_ui=5.0, est=4.150881896000244, details={'was_impossible': True, 'reason': 'User and/or item is unknown.'}),\n",
              " Prediction(uid='A2ECTDEKOF3296', iid='B00004YBVF', r_ui=1.0, est=4.150881896000244, details={'was_impossible': True, 'reason': 'User and/or item is unknown.'}),\n",
              " Prediction(uid='A2RUVJ0UZQGFFG', iid='B00000J434', r_ui=5.0, est=4.150881896000244, details={'was_impossible': True, 'reason': 'User and/or item is unknown.'}),\n",
              " Prediction(uid='A34AMRIGX4RVKU', iid='B00004TX71', r_ui=5.0, est=4.150881896000244, details={'was_impossible': True, 'reason': 'User and/or item is unknown.'}),\n",
              " Prediction(uid='A1TFV97Y3OP5HT', iid='B00003CWDG', r_ui=4.0, est=4.150881896000244, details={'was_impossible': True, 'reason': 'User and/or item is unknown.'}),\n",
              " Prediction(uid='A1C6LGLCAK7BA', iid='B00004Y7TD', r_ui=5.0, est=4.150881896000244, details={'was_impossible': True, 'reason': 'User and/or item is unknown.'}),\n",
              " Prediction(uid='A1J8WLRMT6D9K5', iid='B00000J0D8', r_ui=1.0, est=4.150881896000244, details={'was_impossible': True, 'reason': 'User and/or item is unknown.'}),\n",
              " Prediction(uid='A1KUEYKLNP6CIW', iid='B00004Z5H3', r_ui=5.0, est=4.150881896000244, details={'was_impossible': True, 'reason': 'User and/or item is unknown.'}),\n",
              " Prediction(uid='AGVSX943ISXYD', iid='B00004Z5QU', r_ui=5.0, est=4.150881896000244, details={'was_impossible': True, 'reason': 'User and/or item is unknown.'}),\n",
              " Prediction(uid='A1CVG2SDTCZDEC', iid='B00004WCIC', r_ui=4.0, est=4.456338028169014, details={'actual_k': 0, 'was_impossible': False}),\n",
              " Prediction(uid='A33DH1NN4OOKX3', iid='0972683275', r_ui=2.0, est=4.150881896000244, details={'was_impossible': True, 'reason': 'User and/or item is unknown.'}),\n",
              " Prediction(uid='A1AGB332F9KAIH', iid='B00001ZWXA', r_ui=1.0, est=4.150881896000244, details={'was_impossible': True, 'reason': 'User and/or item is unknown.'}),\n",
              " Prediction(uid='A1RCSPHK0Q4IUL', iid='B00004VX3T', r_ui=4.0, est=4.150881896000244, details={'was_impossible': True, 'reason': 'User and/or item is unknown.'}),\n",
              " Prediction(uid='A2UYWTFJZZ37I6', iid='B00004RG6K', r_ui=5.0, est=4.150881896000244, details={'was_impossible': True, 'reason': 'User and/or item is unknown.'}),\n",
              " Prediction(uid='A1RHGM59GJBK8V', iid='B00001WRSJ', r_ui=5.0, est=4.150881896000244, details={'was_impossible': True, 'reason': 'User and/or item is unknown.'}),\n",
              " Prediction(uid='A1951MC13SY97C', iid='B00004THDE', r_ui=5.0, est=4.150881896000244, details={'was_impossible': True, 'reason': 'User and/or item is unknown.'}),\n",
              " Prediction(uid='A2L5YC5Z8JD34M', iid='9625993428', r_ui=5.0, est=4.150881896000244, details={'was_impossible': True, 'reason': 'User and/or item is unknown.'}),\n",
              " Prediction(uid='AJBBNIHEROLIB', iid='B0000510IA', r_ui=4.0, est=4.150881896000244, details={'was_impossible': True, 'reason': 'User and/or item is unknown.'}),\n",
              " Prediction(uid='AVVI3TH9AG6EF', iid='1400501776', r_ui=5.0, est=4.150881896000244, details={'was_impossible': True, 'reason': 'User and/or item is unknown.'}),\n",
              " Prediction(uid='A29FYIZFZ1ILZZ', iid='B000001OMI', r_ui=1.0, est=4.150881896000244, details={'was_impossible': True, 'reason': 'User and/or item is unknown.'}),\n",
              " Prediction(uid='A3F5JV08JUY06C', iid='B00003ETSJ', r_ui=5.0, est=4.150881896000244, details={'was_impossible': True, 'reason': 'User and/or item is unknown.'}),\n",
              " Prediction(uid='A19MXCWAGB9AA4', iid='B00004SB92', r_ui=5.0, est=4.150881896000244, details={'was_impossible': True, 'reason': 'User and/or item is unknown.'}),\n",
              " Prediction(uid='ANU5G1PHMDCX2', iid='B00002EQCW', r_ui=5.0, est=4.150881896000244, details={'was_impossible': True, 'reason': 'User and/or item is unknown.'}),\n",
              " Prediction(uid='A21ZZUXAM2PUCA', iid='B00001P4ZR', r_ui=5.0, est=4.085820895522388, details={'actual_k': 0, 'was_impossible': False}),\n",
              " Prediction(uid='A1MFBGRI7JJ3WT', iid='B00003ETSJ', r_ui=4.0, est=4.150881896000244, details={'was_impossible': True, 'reason': 'User and/or item is unknown.'}),\n",
              " Prediction(uid='AK9MBNYNX20W5', iid='B00003006E', r_ui=4.0, est=4.150881896000244, details={'was_impossible': True, 'reason': 'User and/or item is unknown.'}),\n",
              " Prediction(uid='A31G1PJSXDWPQL', iid='B00000DM9W', r_ui=4.0, est=4.150881896000244, details={'was_impossible': True, 'reason': 'User and/or item is unknown.'}),\n",
              " Prediction(uid='A1V5FH2KL2TABK', iid='B00001OWYM', r_ui=4.0, est=4.150881896000244, details={'was_impossible': True, 'reason': 'User and/or item is unknown.'}),\n",
              " Prediction(uid='A219SAGKHK9XG8', iid='B00004WCID', r_ui=5.0, est=4.150881896000244, details={'was_impossible': True, 'reason': 'User and/or item is unknown.'}),\n",
              " Prediction(uid='A127KI9JEAESJ1', iid='B00000JI4F', r_ui=1.0, est=4.150881896000244, details={'was_impossible': True, 'reason': 'User and/or item is unknown.'}),\n",
              " Prediction(uid='A2BUXQ05X8GB58', iid='B00001P4XH', r_ui=4.0, est=4.150881896000244, details={'was_impossible': True, 'reason': 'User and/or item is unknown.'}),\n",
              " Prediction(uid='A22KW5YWAI5YDO', iid='B000001OMI', r_ui=4.0, est=4.150881896000244, details={'was_impossible': True, 'reason': 'User and/or item is unknown.'}),\n",
              " Prediction(uid='A67M936ZS7DAK', iid='B00004Z5D1', r_ui=4.0, est=4.150881896000244, details={'was_impossible': True, 'reason': 'User and/or item is unknown.'}),\n",
              " Prediction(uid='ACJJYAE74SHDI', iid='B00001P4ZH', r_ui=5.0, est=4.150881896000244, details={'was_impossible': True, 'reason': 'User and/or item is unknown.'}),\n",
              " Prediction(uid='A4XLANZWCDP6V', iid='B00000DM9W', r_ui=5.0, est=4.150881896000244, details={'was_impossible': True, 'reason': 'User and/or item is unknown.'}),\n",
              " Prediction(uid='ACLUYMBWDAXOL', iid='B00004WCGF', r_ui=5.0, est=4.150881896000244, details={'was_impossible': True, 'reason': 'User and/or item is unknown.'}),\n",
              " Prediction(uid='A3JIY76DFIZCBH', iid='B00004TDLD', r_ui=5.0, est=4.150881896000244, details={'was_impossible': True, 'reason': 'User and/or item is unknown.'}),\n",
              " Prediction(uid='A2299X8N5C5VDI', iid='B00002EQCS', r_ui=5.0, est=4.150881896000244, details={'was_impossible': True, 'reason': 'User and/or item is unknown.'}),\n",
              " Prediction(uid='AI99KYALZG8NP', iid='1400532655', r_ui=1.0, est=4.150881896000244, details={'was_impossible': True, 'reason': 'User and/or item is unknown.'}),\n",
              " Prediction(uid='ACMPM42YEDQ4Y', iid='B00004ZCJE', r_ui=5.0, est=4.150881896000244, details={'was_impossible': True, 'reason': 'User and/or item is unknown.'}),\n",
              " Prediction(uid='A1WE838TZ5YFX9', iid='B00004Z7H5', r_ui=5.0, est=4.150881896000244, details={'was_impossible': True, 'reason': 'User and/or item is unknown.'}),\n",
              " Prediction(uid='A24NUTDF5GBBQW', iid='B00000JFE3', r_ui=4.0, est=4.150881896000244, details={'was_impossible': True, 'reason': 'User and/or item is unknown.'}),\n",
              " Prediction(uid='A1HENIY6ASC7ZO', iid='B00000J1UQ', r_ui=5.0, est=4.150881896000244, details={'was_impossible': True, 'reason': 'User and/or item is unknown.'}),\n",
              " Prediction(uid='A1GW27WMVI4O4P', iid='B00005105N', r_ui=4.0, est=4.150881896000244, details={'was_impossible': True, 'reason': 'User and/or item is unknown.'}),\n",
              " Prediction(uid='A265KPMR8MEDGT', iid='B00000JBPB', r_ui=5.0, est=4.150881896000244, details={'was_impossible': True, 'reason': 'User and/or item is unknown.'}),\n",
              " Prediction(uid='AY8AYEDGJFRCM', iid='B00004ZCJE', r_ui=4.0, est=4.150881896000244, details={'was_impossible': True, 'reason': 'User and/or item is unknown.'}),\n",
              " Prediction(uid='A2KQY994VRSR17', iid='B00004ZCJE', r_ui=5.0, est=4.150881896000244, details={'was_impossible': True, 'reason': 'User and/or item is unknown.'}),\n",
              " Prediction(uid='AO4Y5YZIZ9CX', iid='B00004ZCJE', r_ui=5.0, est=4.150881896000244, details={'was_impossible': True, 'reason': 'User and/or item is unknown.'}),\n",
              " Prediction(uid='A1P2NT7U0134O5', iid='B00004T1XK', r_ui=5.0, est=4.150881896000244, details={'was_impossible': True, 'reason': 'User and/or item is unknown.'}),\n",
              " Prediction(uid='A1ZS4RQEZH078I', iid='B00004ZC9V', r_ui=5.0, est=4.150881896000244, details={'was_impossible': True, 'reason': 'User and/or item is unknown.'}),\n",
              " Prediction(uid='A1Z3IGKHS94AYU', iid='B00004VX39', r_ui=3.0, est=4.150881896000244, details={'was_impossible': True, 'reason': 'User and/or item is unknown.'}),\n",
              " Prediction(uid='AUUQR82XBBUIO', iid='B00001P4ZH', r_ui=5.0, est=4.150881896000244, details={'was_impossible': True, 'reason': 'User and/or item is unknown.'}),\n",
              " Prediction(uid='A1NIX2WA2ZKLV7', iid='B00004XOM3', r_ui=5.0, est=4.762626262626263, details={'actual_k': 0, 'was_impossible': False}),\n",
              " Prediction(uid='A3NJPWPSD5NOCV', iid='B000001ON6', r_ui=1.0, est=4.150881896000244, details={'was_impossible': True, 'reason': 'User and/or item is unknown.'}),\n",
              " Prediction(uid='A2BYB5ICXQSZIX', iid='B00001P505', r_ui=5.0, est=4.150881896000244, details={'was_impossible': True, 'reason': 'User and/or item is unknown.'}),\n",
              " Prediction(uid='A1EK113KHKQ7LV', iid='B00000J434', r_ui=2.0, est=4.150881896000244, details={'was_impossible': True, 'reason': 'User and/or item is unknown.'}),\n",
              " Prediction(uid='AZAC8O310IK4E', iid='B00004SABB', r_ui=5.0, est=4.014905149051491, details={'actual_k': 0, 'was_impossible': False}),\n",
              " Prediction(uid='A2O7W56VRC5LQP', iid='B00004YMBK', r_ui=4.0, est=4.150881896000244, details={'was_impossible': True, 'reason': 'User and/or item is unknown.'}),\n",
              " Prediction(uid='A1M5XJAKH1TP2J', iid='B00004ZCJE', r_ui=1.0, est=4.150881896000244, details={'was_impossible': True, 'reason': 'User and/or item is unknown.'}),\n",
              " Prediction(uid='AHHRTEW5ICW6S', iid='B00000J061', r_ui=5.0, est=4.150881896000244, details={'was_impossible': True, 'reason': 'User and/or item is unknown.'}),\n",
              " Prediction(uid='A1HXC3OBE3XYP2', iid='B00004WCIC', r_ui=5.0, est=4.150881896000244, details={'was_impossible': True, 'reason': 'User and/or item is unknown.'}),\n",
              " Prediction(uid='A2EXDS5E1J7DI6', iid='B00001ZT4H', r_ui=5.0, est=4.150881896000244, details={'was_impossible': True, 'reason': 'User and/or item is unknown.'}),\n",
              " Prediction(uid='AO0HCM35LL15D', iid='B00004SGD3', r_ui=4.0, est=4.611111111111111, details={'actual_k': 0, 'was_impossible': False}),\n",
              " Prediction(uid='A2LH6N4U1XCX6R', iid='B00000K2YR', r_ui=3.0, est=4.150881896000244, details={'was_impossible': True, 'reason': 'User and/or item is unknown.'}),\n",
              " Prediction(uid='A2NYC7EQ2VXAB4', iid='B00004Z5PY', r_ui=1.0, est=4.150881896000244, details={'was_impossible': True, 'reason': 'User and/or item is unknown.'}),\n",
              " Prediction(uid='A3FRGA45EX749T', iid='B00001U0AJ', r_ui=1.0, est=4.150881896000244, details={'was_impossible': True, 'reason': 'User and/or item is unknown.'}),\n",
              " Prediction(uid='A2UO14SHXQFH1Q', iid='B00004R8V6', r_ui=5.0, est=4.150881896000244, details={'was_impossible': True, 'reason': 'User and/or item is unknown.'}),\n",
              " Prediction(uid='A1Y0N2NCM5LCGS', iid='B00004SABJ', r_ui=4.0, est=4.150881896000244, details={'was_impossible': True, 'reason': 'User and/or item is unknown.'}),\n",
              " Prediction(uid='A1IGUK3E3YTI56', iid='B00004SB92', r_ui=5.0, est=4.150881896000244, details={'was_impossible': True, 'reason': 'User and/or item is unknown.'}),\n",
              " Prediction(uid='A1J9LVA298D5OF', iid='B00000J1V5', r_ui=5.0, est=4.150881896000244, details={'was_impossible': True, 'reason': 'User and/or item is unknown.'}),\n",
              " Prediction(uid='A281AMTUNO4UI7', iid='B00000JI4F', r_ui=1.0, est=4.150881896000244, details={'was_impossible': True, 'reason': 'User and/or item is unknown.'}),\n",
              " Prediction(uid='AQOU0RN4A7EFO', iid='B00004ZCJE', r_ui=5.0, est=4.150881896000244, details={'was_impossible': True, 'reason': 'User and/or item is unknown.'}),\n",
              " Prediction(uid='A1LXPJPUMZBUS1', iid='B00004WCIC', r_ui=5.0, est=4.150881896000244, details={'was_impossible': True, 'reason': 'User and/or item is unknown.'}),\n",
              " Prediction(uid='A36FLCHRBNUUCV', iid='B00004T8R2', r_ui=5.0, est=4.150881896000244, details={'was_impossible': True, 'reason': 'User and/or item is unknown.'}),\n",
              " Prediction(uid='AGE438EAPBH44', iid='B00004ZCJE', r_ui=1.0, est=4.150881896000244, details={'was_impossible': True, 'reason': 'User and/or item is unknown.'}),\n",
              " Prediction(uid='A11L90R7RWJA8H', iid='B0000228GF', r_ui=2.0, est=4.150881896000244, details={'was_impossible': True, 'reason': 'User and/or item is unknown.'}),\n",
              " Prediction(uid='AR0B3UOOAZLIL', iid='B00004XOM3', r_ui=5.0, est=4.150881896000244, details={'was_impossible': True, 'reason': 'User and/or item is unknown.'}),\n",
              " Prediction(uid='A35A7BPIZ6SIT1', iid='B00004T8R2', r_ui=5.0, est=4.150881896000244, details={'was_impossible': True, 'reason': 'User and/or item is unknown.'}),\n",
              " Prediction(uid='A3L11EX1JUJ0HH', iid='B00001OWYM', r_ui=1.0, est=4.150881896000244, details={'was_impossible': True, 'reason': 'User and/or item is unknown.'}),\n",
              " Prediction(uid='A223RZBHF5X93G', iid='B00001P4XA', r_ui=5.0, est=4.150881896000244, details={'was_impossible': True, 'reason': 'User and/or item is unknown.'}),\n",
              " Prediction(uid='A30NT4DHQB7EJ8', iid='B00004ZC8Y', r_ui=5.0, est=4.150881896000244, details={'was_impossible': True, 'reason': 'User and/or item is unknown.'}),\n",
              " Prediction(uid='A3CRTOJK54P800', iid='B00004ZCJE', r_ui=5.0, est=4.150881896000244, details={'was_impossible': True, 'reason': 'User and/or item is unknown.'}),\n",
              " Prediction(uid='A2EJZ5ZIGVNYSE', iid='B00001W0DH', r_ui=1.0, est=4.150881896000244, details={'was_impossible': True, 'reason': 'User and/or item is unknown.'}),\n",
              " Prediction(uid='A1LQFJOSVSD5YW', iid='B00001P4XA', r_ui=3.0, est=4.150881896000244, details={'was_impossible': True, 'reason': 'User and/or item is unknown.'}),\n",
              " Prediction(uid='AOMGHL8V0S545', iid='B00000J061', r_ui=1.0, est=4.150881896000244, details={'was_impossible': True, 'reason': 'User and/or item is unknown.'}),\n",
              " Prediction(uid='A20BLOIP3YACWZ', iid='B00001ZT4H', r_ui=5.0, est=4.150881896000244, details={'was_impossible': True, 'reason': 'User and/or item is unknown.'}),\n",
              " Prediction(uid='A16K71PCBED8NC', iid='9966694544', r_ui=5.0, est=4.150881896000244, details={'was_impossible': True, 'reason': 'User and/or item is unknown.'}),\n",
              " Prediction(uid='A1KQBK7ZTYWGZV', iid='B00004Z7G9', r_ui=4.0, est=4.150881896000244, details={'was_impossible': True, 'reason': 'User and/or item is unknown.'}),\n",
              " Prediction(uid='AQ60TA0Z5FTGC', iid='B00004T8R2', r_ui=3.0, est=4.150881896000244, details={'was_impossible': True, 'reason': 'User and/or item is unknown.'}),\n",
              " Prediction(uid='A1HPEJI5K3WDL', iid='B00004THDE', r_ui=4.0, est=4.150881896000244, details={'was_impossible': True, 'reason': 'User and/or item is unknown.'}),\n",
              " Prediction(uid='A1KA3QWD5ZW9T0', iid='B00004Z0BN', r_ui=5.0, est=4.150881896000244, details={'was_impossible': True, 'reason': 'User and/or item is unknown.'}),\n",
              " Prediction(uid='AGVUB358SJMHN', iid='B00004ZCJE', r_ui=5.0, est=4.150881896000244, details={'was_impossible': True, 'reason': 'User and/or item is unknown.'}),\n",
              " Prediction(uid='A1ES2Z4ZX6IWBK', iid='1400501466', r_ui=5.0, est=4.150881896000244, details={'was_impossible': True, 'reason': 'User and/or item is unknown.'}),\n",
              " Prediction(uid='AWFS4QM00PBEO', iid='B00001P4ZH', r_ui=5.0, est=4.150881896000244, details={'was_impossible': True, 'reason': 'User and/or item is unknown.'}),\n",
              " Prediction(uid='A1GVH5W5MU7EKF', iid='B00004Z7H5', r_ui=5.0, est=4.150881896000244, details={'was_impossible': True, 'reason': 'User and/or item is unknown.'}),\n",
              " Prediction(uid='A17YTARUM8WLHC', iid='B00000JYLO', r_ui=5.0, est=4.150881896000244, details={'was_impossible': True, 'reason': 'User and/or item is unknown.'}),\n",
              " Prediction(uid='A3MTS5CEYODQFU', iid='1400501466', r_ui=5.0, est=4.150881896000244, details={'was_impossible': True, 'reason': 'User and/or item is unknown.'}),\n",
              " Prediction(uid='A202YAA9SP3S8W', iid='140053271X', r_ui=1.0, est=4.150881896000244, details={'was_impossible': True, 'reason': 'User and/or item is unknown.'}),\n",
              " Prediction(uid='A2C7RYJH9B2Z5F', iid='B00000J08Q', r_ui=1.0, est=4.150881896000244, details={'was_impossible': True, 'reason': 'User and/or item is unknown.'}),\n",
              " Prediction(uid='AA3GRRCP0JVNV', iid='B00004TWM6', r_ui=5.0, est=4.150881896000244, details={'was_impossible': True, 'reason': 'User and/or item is unknown.'}),\n",
              " Prediction(uid='A2JZGIDQ8RD9O7', iid='0972683275', r_ui=4.0, est=4.150881896000244, details={'was_impossible': True, 'reason': 'User and/or item is unknown.'}),\n",
              " Prediction(uid='A14NS9TZUB5EY1', iid='B00004ZCAT', r_ui=5.0, est=4.150881896000244, details={'was_impossible': True, 'reason': 'User and/or item is unknown.'}),\n",
              " Prediction(uid='A3FHSVKV3J8YOJ', iid='B00004SABB', r_ui=5.0, est=4.150881896000244, details={'was_impossible': True, 'reason': 'User and/or item is unknown.'}),\n",
              " Prediction(uid='AH4GJKS54ZXZ5', iid='B000028F42', r_ui=1.0, est=4.150881896000244, details={'was_impossible': True, 'reason': 'User and/or item is unknown.'}),\n",
              " Prediction(uid='A2WIE0EQTKW793', iid='B00004T8R2', r_ui=5.0, est=4.150881896000244, details={'was_impossible': True, 'reason': 'User and/or item is unknown.'}),\n",
              " Prediction(uid='A3BWZPCK34JAGO', iid='B00004SPUN', r_ui=5.0, est=4.150881896000244, details={'was_impossible': True, 'reason': 'User and/or item is unknown.'}),\n",
              " Prediction(uid='AF646AOKQW2EJ', iid='B00001P4ZH', r_ui=5.0, est=4.150881896000244, details={'was_impossible': True, 'reason': 'User and/or item is unknown.'}),\n",
              " Prediction(uid='AY1EQBBL2BONH', iid='B00004Z5M1', r_ui=5.0, est=4.150881896000244, details={'was_impossible': True, 'reason': 'User and/or item is unknown.'}),\n",
              " Prediction(uid='A33PR9LHSJY2C0', iid='B00000JII6', r_ui=3.0, est=4.150881896000244, details={'was_impossible': True, 'reason': 'User and/or item is unknown.'}),\n",
              " Prediction(uid='A345CVS3IFV9WK', iid='B00004Z7H5', r_ui=5.0, est=4.150881896000244, details={'was_impossible': True, 'reason': 'User and/or item is unknown.'}),\n",
              " Prediction(uid='A1H1RMZBHJIJO', iid='B00004WCID', r_ui=5.0, est=4.150881896000244, details={'was_impossible': True, 'reason': 'User and/or item is unknown.'}),\n",
              " Prediction(uid='A3LZEFHIYZ1FGA', iid='B00003006E', r_ui=5.0, est=4.208955223880597, details={'actual_k': 0, 'was_impossible': False}),\n",
              " Prediction(uid='AZ6DZ0FQXW2VU', iid='B00003006K', r_ui=4.0, est=4.150881896000244, details={'was_impossible': True, 'reason': 'User and/or item is unknown.'}),\n",
              " Prediction(uid='ACCPWZAL8OSBX', iid='B00000JCT8', r_ui=5.0, est=4.150881896000244, details={'was_impossible': True, 'reason': 'User and/or item is unknown.'}),\n",
              " Prediction(uid='A1W017YF7728ND', iid='B00004RG6K', r_ui=5.0, est=4.150881896000244, details={'was_impossible': True, 'reason': 'User and/or item is unknown.'}),\n",
              " Prediction(uid='AKVGN3KX629EJ', iid='B00004T8R2', r_ui=3.0, est=4.150881896000244, details={'was_impossible': True, 'reason': 'User and/or item is unknown.'}),\n",
              " Prediction(uid='A1RQEQ9N5YLNLU', iid='B00004SQET', r_ui=4.0, est=4.150881896000244, details={'was_impossible': True, 'reason': 'User and/or item is unknown.'}),\n",
              " Prediction(uid='A147YIUC72X6F', iid='B00004VUGJ', r_ui=5.0, est=4.150881896000244, details={'was_impossible': True, 'reason': 'User and/or item is unknown.'}),\n",
              " Prediction(uid='AISKUAX8A9XVA', iid='B00002JXFH', r_ui=5.0, est=4.150881896000244, details={'was_impossible': True, 'reason': 'User and/or item is unknown.'}),\n",
              " Prediction(uid='AKSD3GKHI87W6', iid='B00001W0DI', r_ui=5.0, est=4.150881896000244, details={'was_impossible': True, 'reason': 'User and/or item is unknown.'}),\n",
              " Prediction(uid='A2WWGDZPRJKL2A', iid='B00004TX71', r_ui=5.0, est=4.150881896000244, details={'was_impossible': True, 'reason': 'User and/or item is unknown.'}),\n",
              " Prediction(uid='A2OQCO9HVIPW4B', iid='B00004T0RC', r_ui=5.0, est=4.150881896000244, details={'was_impossible': True, 'reason': 'User and/or item is unknown.'}),\n",
              " Prediction(uid='A6PDTCOIAPTWE', iid='B00000J08Q', r_ui=5.0, est=4.150881896000244, details={'was_impossible': True, 'reason': 'User and/or item is unknown.'}),\n",
              " Prediction(uid='A26LR794GZOIAI', iid='B00001OWYM', r_ui=5.0, est=4.150881896000244, details={'was_impossible': True, 'reason': 'User and/or item is unknown.'}),\n",
              " Prediction(uid='A25B41NMIW8SH8', iid='B00004TL5Q', r_ui=5.0, est=4.150881896000244, details={'was_impossible': True, 'reason': 'User and/or item is unknown.'}),\n",
              " Prediction(uid='A1E5C3OW2IWHY1', iid='B00004ZC8Y', r_ui=5.0, est=4.150881896000244, details={'was_impossible': True, 'reason': 'User and/or item is unknown.'}),\n",
              " Prediction(uid='ACDCS3YUKBEWL', iid='B00000J1EJ', r_ui=4.0, est=4.150881896000244, details={'was_impossible': True, 'reason': 'User and/or item is unknown.'}),\n",
              " Prediction(uid='A3IY8S20GL2IP4', iid='B00001P4ZH', r_ui=5.0, est=4.150881896000244, details={'was_impossible': True, 'reason': 'User and/or item is unknown.'}),\n",
              " Prediction(uid='A2MX153BBACILD', iid='B00004VUGJ', r_ui=5.0, est=4.150881896000244, details={'was_impossible': True, 'reason': 'User and/or item is unknown.'}),\n",
              " Prediction(uid='A2LLHZCUFIBBNQ', iid='B00004ZCJE', r_ui=5.0, est=4.150881896000244, details={'was_impossible': True, 'reason': 'User and/or item is unknown.'}),\n",
              " Prediction(uid='A2TX40DPWRXZYN', iid='B00004ZC8Y', r_ui=5.0, est=4.150881896000244, details={'was_impossible': True, 'reason': 'User and/or item is unknown.'}),\n",
              " Prediction(uid='A1HYARKC1T498J', iid='B00001P4XH', r_ui=4.0, est=4.150881896000244, details={'was_impossible': True, 'reason': 'User and/or item is unknown.'}),\n",
              " Prediction(uid='A2I8J6GW1H6LWU', iid='0972683275', r_ui=5.0, est=4.150881896000244, details={'was_impossible': True, 'reason': 'User and/or item is unknown.'}),\n",
              " Prediction(uid='A3OKH5G69MS8D9', iid='1400532655', r_ui=4.0, est=3.38285208415739, details={'actual_k': 1, 'was_impossible': False}),\n",
              " Prediction(uid='A3FSHXS5WLOO3J', iid='B00004TDSC', r_ui=4.0, est=4.150881896000244, details={'was_impossible': True, 'reason': 'User and/or item is unknown.'}),\n",
              " Prediction(uid='A19DBWFWD1DQSJ', iid='B00003CWDK', r_ui=5.0, est=4.150881896000244, details={'was_impossible': True, 'reason': 'User and/or item is unknown.'}),\n",
              " Prediction(uid='AEC90GPFKLAAW', iid='B00004SABB', r_ui=5.0, est=4.150881896000244, details={'was_impossible': True, 'reason': 'User and/or item is unknown.'}),\n",
              " Prediction(uid='A2KNADPU27QXWU', iid='B00001WRSJ', r_ui=5.0, est=4.150881896000244, details={'was_impossible': True, 'reason': 'User and/or item is unknown.'}),\n",
              " Prediction(uid='A25OWRN8K5PDJR', iid='B00001QEMF', r_ui=5.0, est=4.150881896000244, details={'was_impossible': True, 'reason': 'User and/or item is unknown.'}),\n",
              " Prediction(uid='A23F6UI95QOZOH', iid='B00004LMEC', r_ui=5.0, est=4.150881896000244, details={'was_impossible': True, 'reason': 'User and/or item is unknown.'}),\n",
              " Prediction(uid='A359OFLUUGEK75', iid='B00004TENT', r_ui=5.0, est=4.150881896000244, details={'was_impossible': True, 'reason': 'User and/or item is unknown.'}),\n",
              " Prediction(uid='A2GFE8GCWDNOUV', iid='B00001QEMF', r_ui=4.0, est=4.150881896000244, details={'was_impossible': True, 'reason': 'User and/or item is unknown.'}),\n",
              " Prediction(uid='AM83Y0GNF3MXZ', iid='B00001P4ZH', r_ui=5.0, est=4.150881896000244, details={'was_impossible': True, 'reason': 'User and/or item is unknown.'}),\n",
              " Prediction(uid='A3D59YITKI2Y2E', iid='B00000J1V5', r_ui=4.0, est=4.150881896000244, details={'was_impossible': True, 'reason': 'User and/or item is unknown.'}),\n",
              " Prediction(uid='A1OKPYLK95MYA4', iid='B00004Z68P', r_ui=5.0, est=4.150881896000244, details={'was_impossible': True, 'reason': 'User and/or item is unknown.'}),\n",
              " Prediction(uid='A38WJKB6YULQ6J', iid='B00000J3UJ', r_ui=3.0, est=4.150881896000244, details={'was_impossible': True, 'reason': 'User and/or item is unknown.'}),\n",
              " Prediction(uid='A3PO1LO83EYIHB', iid='B00001P4ZR', r_ui=4.0, est=4.150881896000244, details={'was_impossible': True, 'reason': 'User and/or item is unknown.'}),\n",
              " Prediction(uid='AYS3LXJV9DAKB', iid='B00004TEN2', r_ui=1.0, est=4.150881896000244, details={'was_impossible': True, 'reason': 'User and/or item is unknown.'}),\n",
              " Prediction(uid='AWPODHOB4GFWL', iid='B00004TWM6', r_ui=5.0, est=4.150881896000244, details={'was_impossible': True, 'reason': 'User and/or item is unknown.'}),\n",
              " Prediction(uid='A3VRB213QR7E42', iid='B00004SABB', r_ui=4.0, est=4.150881896000244, details={'was_impossible': True, 'reason': 'User and/or item is unknown.'}),\n",
              " Prediction(uid='AYD1THHFZM4HW', iid='B00004WLJ9', r_ui=4.0, est=4.150881896000244, details={'was_impossible': True, 'reason': 'User and/or item is unknown.'}),\n",
              " Prediction(uid='A2B238ONTSS2AD', iid='B00004WCID', r_ui=4.0, est=4.150881896000244, details={'was_impossible': True, 'reason': 'User and/or item is unknown.'}),\n",
              " Prediction(uid='ART10ZK287B1U', iid='B00004ZCJE', r_ui=5.0, est=4.150881896000244, details={'was_impossible': True, 'reason': 'User and/or item is unknown.'}),\n",
              " Prediction(uid='A37EYBV536QKZV', iid='B00004Z6N6', r_ui=4.0, est=4.150881896000244, details={'was_impossible': True, 'reason': 'User and/or item is unknown.'}),\n",
              " Prediction(uid='A3UE78V8Z8G1YP', iid='B00000K135', r_ui=3.0, est=4.150881896000244, details={'was_impossible': True, 'reason': 'User and/or item is unknown.'}),\n",
              " Prediction(uid='A3S4197S2EGNPQ', iid='B00001WRSJ', r_ui=5.0, est=4.150881896000244, details={'was_impossible': True, 'reason': 'User and/or item is unknown.'}),\n",
              " Prediction(uid='A15TF6WKHCEB43', iid='B00004WCGF', r_ui=5.0, est=4.150881896000244, details={'was_impossible': True, 'reason': 'User and/or item is unknown.'}),\n",
              " Prediction(uid='A1RCYT9FRJJ6UW', iid='B00000K2YR', r_ui=5.0, est=4.150881896000244, details={'was_impossible': True, 'reason': 'User and/or item is unknown.'}),\n",
              " Prediction(uid='A9E0AWU3494WC', iid='B00004T8R2', r_ui=5.0, est=4.150881896000244, details={'was_impossible': True, 'reason': 'User and/or item is unknown.'}),\n",
              " Prediction(uid='A3HTMF9ROZGCPK', iid='B00002NDRQ', r_ui=3.0, est=4.150881896000244, details={'was_impossible': True, 'reason': 'User and/or item is unknown.'}),\n",
              " Prediction(uid='A2K1YNRFGSBZ1T', iid='B00004WCIC', r_ui=5.0, est=4.150881896000244, details={'was_impossible': True, 'reason': 'User and/or item is unknown.'}),\n",
              " Prediction(uid='A1GK35R5BHABTC', iid='B00002EQCW', r_ui=5.0, est=4.150881896000244, details={'was_impossible': True, 'reason': 'User and/or item is unknown.'}),\n",
              " Prediction(uid='A12RHMNTCAV5Z7', iid='B00004TDN0', r_ui=3.0, est=4.150881896000244, details={'was_impossible': True, 'reason': 'User and/or item is unknown.'}),\n",
              " Prediction(uid='A1Y8XZI972DCT1', iid='B00001P4XH', r_ui=5.0, est=4.150881896000244, details={'was_impossible': True, 'reason': 'User and/or item is unknown.'}),\n",
              " Prediction(uid='AIVUAPXB85B60', iid='B00000JHWX', r_ui=4.0, est=4.150881896000244, details={'was_impossible': True, 'reason': 'User and/or item is unknown.'}),\n",
              " Prediction(uid='A96K1ZGW56S2I', iid='B00000J1TX', r_ui=5.0, est=4.150881896000244, details={'was_impossible': True, 'reason': 'User and/or item is unknown.'}),\n",
              " Prediction(uid='A9BE6C2PCJ662', iid='0972683275', r_ui=5.0, est=4.150881896000244, details={'was_impossible': True, 'reason': 'User and/or item is unknown.'}),\n",
              " Prediction(uid='A1UM6YZAUGSTF8', iid='B00004WCIC', r_ui=5.0, est=4.150881896000244, details={'was_impossible': True, 'reason': 'User and/or item is unknown.'}),\n",
              " Prediction(uid='A2OQJOH4WC8SYB', iid='B00000J1U8', r_ui=5.0, est=4.150881896000244, details={'was_impossible': True, 'reason': 'User and/or item is unknown.'}),\n",
              " Prediction(uid='ADA48QJRB4NZ0', iid='B00004T8R2', r_ui=5.0, est=4.150881896000244, details={'was_impossible': True, 'reason': 'User and/or item is unknown.'}),\n",
              " Prediction(uid='ACXYBBQ8U8EPX', iid='B000001ON6', r_ui=5.0, est=4.150881896000244, details={'was_impossible': True, 'reason': 'User and/or item is unknown.'}),\n",
              " Prediction(uid='A273OUX7SF1M7F', iid='B00002EQCW', r_ui=1.0, est=4.150881896000244, details={'was_impossible': True, 'reason': 'User and/or item is unknown.'}),\n",
              " Prediction(uid='ABRGANYKUW3L5', iid='B00004Z5P4', r_ui=5.0, est=4.150881896000244, details={'was_impossible': True, 'reason': 'User and/or item is unknown.'}),\n",
              " Prediction(uid='A1SYQ7SEQHK0P9', iid='B00004THCZ', r_ui=4.0, est=4.150881896000244, details={'was_impossible': True, 'reason': 'User and/or item is unknown.'}),\n",
              " Prediction(uid='A2DZI53JLOBVPA', iid='B00004WCIC', r_ui=5.0, est=4.150881896000244, details={'was_impossible': True, 'reason': 'User and/or item is unknown.'}),\n",
              " Prediction(uid='AASSDFY9K6G2T', iid='B00004TVSP', r_ui=5.0, est=4.054945054945055, details={'actual_k': 0, 'was_impossible': False}),\n",
              " Prediction(uid='A4PBDQGL6XO5N', iid='B00004WCGF', r_ui=5.0, est=4.150881896000244, details={'was_impossible': True, 'reason': 'User and/or item is unknown.'}),\n",
              " Prediction(uid='A1PD780RE95KY2', iid='B000050LUE', r_ui=5.0, est=4.150881896000244, details={'was_impossible': True, 'reason': 'User and/or item is unknown.'}),\n",
              " Prediction(uid='A1SKJI6ERYOWXC', iid='1400532655', r_ui=1.0, est=4.150881896000244, details={'was_impossible': True, 'reason': 'User and/or item is unknown.'}),\n",
              " Prediction(uid='ARXU3FESTWMJJ', iid='B00004SGD3', r_ui=4.0, est=4.611111111111111, details={'actual_k': 0, 'was_impossible': False}),\n",
              " Prediction(uid='A2B7BUH8834Y6M', iid='B00004TL5Q', r_ui=5.0, est=4.202702702702703, details={'actual_k': 0, 'was_impossible': False}),\n",
              " Prediction(uid='A32T7C12JN1W9Y', iid='7214047977', r_ui=1.0, est=4.150881896000244, details={'was_impossible': True, 'reason': 'User and/or item is unknown.'}),\n",
              " Prediction(uid='A3G5FIA983NHQF', iid='B00004ZCJE', r_ui=1.0, est=4.150881896000244, details={'was_impossible': True, 'reason': 'User and/or item is unknown.'}),\n",
              " Prediction(uid='A2LVJDTDXIIY84', iid='0972683275', r_ui=2.0, est=4.150881896000244, details={'was_impossible': True, 'reason': 'User and/or item is unknown.'}),\n",
              " Prediction(uid='A3QVBO16EW0RRQ', iid='B00001P4ZH', r_ui=4.0, est=4.150881896000244, details={'was_impossible': True, 'reason': 'User and/or item is unknown.'}),\n",
              " Prediction(uid='A2C0DNQ54ETJ76', iid='B00004Z5M1', r_ui=5.0, est=4.150881896000244, details={'was_impossible': True, 'reason': 'User and/or item is unknown.'}),\n",
              " Prediction(uid='AK0JWTM8UX40A', iid='B00004Z5M1', r_ui=5.0, est=4.150881896000244, details={'was_impossible': True, 'reason': 'User and/or item is unknown.'}),\n",
              " Prediction(uid='ACD8ZMA7CXVF1', iid='B00004TS16', r_ui=5.0, est=4.150881896000244, details={'was_impossible': True, 'reason': 'User and/or item is unknown.'}),\n",
              " Prediction(uid='ADS062CN1SCN4', iid='B00000J4FS', r_ui=3.0, est=4.150881896000244, details={'was_impossible': True, 'reason': 'User and/or item is unknown.'}),\n",
              " Prediction(uid='A1TUEMK99GAHJ2', iid='B00004T8R2', r_ui=5.0, est=4.150881896000244, details={'was_impossible': True, 'reason': 'User and/or item is unknown.'}),\n",
              " Prediction(uid='ACBG1HCR400ZF', iid='B00004Z7H5', r_ui=5.0, est=4.150881896000244, details={'was_impossible': True, 'reason': 'User and/or item is unknown.'}),\n",
              " Prediction(uid='A2RW1VJHG8WULS', iid='B00001OWYM', r_ui=1.0, est=4.150881896000244, details={'was_impossible': True, 'reason': 'User and/or item is unknown.'}),\n",
              " Prediction(uid='A1WBVTUUJ5OSOX', iid='1400532655', r_ui=5.0, est=4.150881896000244, details={'was_impossible': True, 'reason': 'User and/or item is unknown.'}),\n",
              " Prediction(uid='AA8ORMR10LFCQ', iid='B00003006E', r_ui=5.0, est=4.208955223880597, details={'actual_k': 0, 'was_impossible': False}),\n",
              " Prediction(uid='A374T2A72YX9RR', iid='B00000JSGF', r_ui=5.0, est=4.150881896000244, details={'was_impossible': True, 'reason': 'User and/or item is unknown.'}),\n",
              " Prediction(uid='A3JGYE8KSSMBEL', iid='B00004WCGF', r_ui=4.0, est=4.150881896000244, details={'was_impossible': True, 'reason': 'User and/or item is unknown.'}),\n",
              " Prediction(uid='A2R0FHBR9OBFGM', iid='B00004T8R2', r_ui=5.0, est=4.150881896000244, details={'was_impossible': True, 'reason': 'User and/or item is unknown.'}),\n",
              " Prediction(uid='A3D8RK4E35TFAT', iid='B00001W0DH', r_ui=5.0, est=4.150881896000244, details={'was_impossible': True, 'reason': 'User and/or item is unknown.'}),\n",
              " Prediction(uid='A1FTRR0WV1H5K', iid='B00004ZCJE', r_ui=5.0, est=4.150881896000244, details={'was_impossible': True, 'reason': 'User and/or item is unknown.'}),\n",
              " Prediction(uid='A3R4KGIKCL8HV5', iid='B00004ZC9V', r_ui=4.0, est=4.150881896000244, details={'was_impossible': True, 'reason': 'User and/or item is unknown.'}),\n",
              " Prediction(uid='A1JUJGHMNIUSWR', iid='B00004TL5Q', r_ui=2.0, est=4.150881896000244, details={'was_impossible': True, 'reason': 'User and/or item is unknown.'}),\n",
              " Prediction(uid='A2DF5OGB2OXDFB', iid='B00004WCGC', r_ui=4.0, est=4.150881896000244, details={'was_impossible': True, 'reason': 'User and/or item is unknown.'}),\n",
              " Prediction(uid='AL2CD0KF155Y8', iid='B00004SABB', r_ui=5.0, est=4.150881896000244, details={'was_impossible': True, 'reason': 'User and/or item is unknown.'}),\n",
              " Prediction(uid='AR8R0VK9F1WUV', iid='B00000JD34', r_ui=2.0, est=4.150881896000244, details={'was_impossible': True, 'reason': 'User and/or item is unknown.'}),\n",
              " Prediction(uid='A5R98A9PNYBS4', iid='B000021YU8', r_ui=4.0, est=4.150881896000244, details={'was_impossible': True, 'reason': 'User and/or item is unknown.'}),\n",
              " Prediction(uid='A2EC0247ZTI7BF', iid='B00004TKVD', r_ui=5.0, est=4.150881896000244, details={'was_impossible': True, 'reason': 'User and/or item is unknown.'}),\n",
              " Prediction(uid='A312EC9CSV335F', iid='6301977173', r_ui=5.0, est=4.150881896000244, details={'was_impossible': True, 'reason': 'User and/or item is unknown.'}),\n",
              " Prediction(uid='AIW0JFVEF89B6', iid='B000021YUO', r_ui=3.0, est=4.150881896000244, details={'was_impossible': True, 'reason': 'User and/or item is unknown.'}),\n",
              " Prediction(uid='A3EZEP0FX5BC1P', iid='B00004SB92', r_ui=5.0, est=4.150881896000244, details={'was_impossible': True, 'reason': 'User and/or item is unknown.'}),\n",
              " Prediction(uid='A2EJAQH1LUHAZH', iid='1400599997', r_ui=5.0, est=4.150881896000244, details={'was_impossible': True, 'reason': 'User and/or item is unknown.'}),\n",
              " Prediction(uid='A3OQC8UHHADG7F', iid='B00004ZCJE', r_ui=2.0, est=4.150881896000244, details={'was_impossible': True, 'reason': 'User and/or item is unknown.'}),\n",
              " Prediction(uid='A3NTCS0O8PUM1D', iid='B00000K135', r_ui=3.0, est=4.150881896000244, details={'was_impossible': True, 'reason': 'User and/or item is unknown.'}),\n",
              " Prediction(uid='A17CXU1QT456OI', iid='B00000DM9W', r_ui=4.0, est=4.150881896000244, details={'was_impossible': True, 'reason': 'User and/or item is unknown.'}),\n",
              " Prediction(uid='ACIDB7VOSY6KT', iid='B00004SABJ', r_ui=5.0, est=4.150881896000244, details={'was_impossible': True, 'reason': 'User and/or item is unknown.'}),\n",
              " Prediction(uid='ALQE4N5M5HCCW', iid='B000028F42', r_ui=5.0, est=4.150881896000244, details={'was_impossible': True, 'reason': 'User and/or item is unknown.'}),\n",
              " Prediction(uid='A2L18H3JGREMXR', iid='9625993428', r_ui=1.0, est=4.150881896000244, details={'was_impossible': True, 'reason': 'User and/or item is unknown.'}),\n",
              " Prediction(uid='A3S5USAAZE6029', iid='B00004T8R2', r_ui=5.0, est=4.150881896000244, details={'was_impossible': True, 'reason': 'User and/or item is unknown.'}),\n",
              " Prediction(uid='AKGGVHCCW4RKA', iid='9575871979', r_ui=3.0, est=4.150881896000244, details={'was_impossible': True, 'reason': 'User and/or item is unknown.'}),\n",
              " Prediction(uid='A1O0EYB9Q6RDNH', iid='B00004YBVE', r_ui=4.0, est=4.150881896000244, details={'was_impossible': True, 'reason': 'User and/or item is unknown.'}),\n",
              " Prediction(uid='A2OLJ3NHHOHCHQ', iid='B00001OWYM', r_ui=2.0, est=4.150881896000244, details={'was_impossible': True, 'reason': 'User and/or item is unknown.'}),\n",
              " Prediction(uid='A1PRW0Z7L9JSAO', iid='B00003CWDG', r_ui=1.0, est=4.150881896000244, details={'was_impossible': True, 'reason': 'User and/or item is unknown.'}),\n",
              " Prediction(uid='A2TNTY0JVQGGBJ', iid='B00000JDF6', r_ui=2.0, est=4.150881896000244, details={'was_impossible': True, 'reason': 'User and/or item is unknown.'}),\n",
              " Prediction(uid='A3NZNQ0BYN0RQV', iid='B00000K2YR', r_ui=4.0, est=4.150881896000244, details={'was_impossible': True, 'reason': 'User and/or item is unknown.'}),\n",
              " Prediction(uid='A2UC08KUCYUJK9', iid='B00003CWDG', r_ui=5.0, est=4.150881896000244, details={'was_impossible': True, 'reason': 'User and/or item is unknown.'}),\n",
              " Prediction(uid='A2I4QOJB6I5C94', iid='B000001OM4', r_ui=1.0, est=4.150881896000244, details={'was_impossible': True, 'reason': 'User and/or item is unknown.'}),\n",
              " Prediction(uid='A11SBK4I0ZK9EN', iid='B00000DM9W', r_ui=5.0, est=4.150881896000244, details={'was_impossible': True, 'reason': 'User and/or item is unknown.'}),\n",
              " Prediction(uid='A16FLRBMOE2JL3', iid='B00000K13A', r_ui=5.0, est=4.150881896000244, details={'was_impossible': True, 'reason': 'User and/or item is unknown.'}),\n",
              " Prediction(uid='A3R3ZWFXB2CQBX', iid='B00004XOM3', r_ui=5.0, est=4.150881896000244, details={'was_impossible': True, 'reason': 'User and/or item is unknown.'}),\n",
              " Prediction(uid='A2AW8J4LSKGEGX', iid='B00004T8R2', r_ui=5.0, est=4.150881896000244, details={'was_impossible': True, 'reason': 'User and/or item is unknown.'}),\n",
              " Prediction(uid='A3DXSNYU5Q0OWK', iid='B00004THCZ', r_ui=5.0, est=4.150881896000244, details={'was_impossible': True, 'reason': 'User and/or item is unknown.'}),\n",
              " Prediction(uid='A201K8U3NQ3EGD', iid='B00004WCGF', r_ui=5.0, est=4.150881896000244, details={'was_impossible': True, 'reason': 'User and/or item is unknown.'}),\n",
              " Prediction(uid='AHIJ8W47167WI', iid='B00001P4XA', r_ui=4.0, est=4.150881896000244, details={'was_impossible': True, 'reason': 'User and/or item is unknown.'}),\n",
              " Prediction(uid='A37SGQ21RRMQ1S', iid='B00004T0RC', r_ui=5.0, est=4.150881896000244, details={'was_impossible': True, 'reason': 'User and/or item is unknown.'}),\n",
              " Prediction(uid='A20SWCL4A8MK7R', iid='B00004Z5D1', r_ui=5.0, est=4.150881896000244, details={'was_impossible': True, 'reason': 'User and/or item is unknown.'}),\n",
              " Prediction(uid='A2BUPVAQ8NN7EU', iid='B00004YZLX', r_ui=5.0, est=4.150881896000244, details={'was_impossible': True, 'reason': 'User and/or item is unknown.'}),\n",
              " Prediction(uid='A3LGT6UZL99IW1', iid='B000023VUL', r_ui=5.0, est=4.150881896000244, details={'was_impossible': True, 'reason': 'User and/or item is unknown.'}),\n",
              " Prediction(uid='AQHNN6GH13R5W', iid='B00004WCIC', r_ui=5.0, est=4.150881896000244, details={'was_impossible': True, 'reason': 'User and/or item is unknown.'}),\n",
              " Prediction(uid='A1JRACAW8MK4CC', iid='B00004TRD9', r_ui=5.0, est=4.150881896000244, details={'was_impossible': True, 'reason': 'User and/or item is unknown.'}),\n",
              " Prediction(uid='A2K0N8ZWHG66EZ', iid='B00000J1V5', r_ui=5.0, est=4.150881896000244, details={'was_impossible': True, 'reason': 'User and/or item is unknown.'}),\n",
              " Prediction(uid='AOFD7VRCCSF3Z', iid='B00004ZCJE', r_ui=4.0, est=4.150881896000244, details={'was_impossible': True, 'reason': 'User and/or item is unknown.'}),\n",
              " Prediction(uid='ABYBC49OP1MZN', iid='B000001OM5', r_ui=5.0, est=4.150881896000244, details={'was_impossible': True, 'reason': 'User and/or item is unknown.'}),\n",
              " Prediction(uid='A3JYD50G7SCD5A', iid='B00004Z0BN', r_ui=5.0, est=4.150881896000244, details={'was_impossible': True, 'reason': 'User and/or item is unknown.'}),\n",
              " Prediction(uid='AQ2LLT3BUVJNO', iid='B00001W0EQ', r_ui=4.0, est=4.150881896000244, details={'was_impossible': True, 'reason': 'User and/or item is unknown.'}),\n",
              " Prediction(uid='A3D36ARA7L7MII', iid='B00004WCID', r_ui=3.0, est=4.150881896000244, details={'was_impossible': True, 'reason': 'User and/or item is unknown.'}),\n",
              " Prediction(uid='A28MFYMU6V32G7', iid='B00000JHWX', r_ui=5.0, est=4.150881896000244, details={'was_impossible': True, 'reason': 'User and/or item is unknown.'}),\n",
              " Prediction(uid='A1XI665BY2UIYR', iid='B00004RIUB', r_ui=2.0, est=4.150881896000244, details={'was_impossible': True, 'reason': 'User and/or item is unknown.'}),\n",
              " Prediction(uid='ANR1PKN3HP8BR', iid='B00004T8R2', r_ui=1.0, est=4.150881896000244, details={'was_impossible': True, 'reason': 'User and/or item is unknown.'}),\n",
              " Prediction(uid='AGL7YKS3NTP4K', iid='B00004SB92', r_ui=5.0, est=4.150881896000244, details={'was_impossible': True, 'reason': 'User and/or item is unknown.'}),\n",
              " Prediction(uid='A231WM2Z2JL0U3', iid='B000050NON', r_ui=4.0, est=3.6052631578947367, details={'actual_k': 0, 'was_impossible': False}),\n",
              " Prediction(uid='AUXGETYE86593', iid='B00001ZWXA', r_ui=5.0, est=4.150881896000244, details={'was_impossible': True, 'reason': 'User and/or item is unknown.'}),\n",
              " Prediction(uid='A3F8S31LXWLLRX', iid='B00004Z5M1', r_ui=5.0, est=4.150881896000244, details={'was_impossible': True, 'reason': 'User and/or item is unknown.'}),\n",
              " Prediction(uid='A1KZIIPB4F49N', iid='B00004VX39', r_ui=4.0, est=4.150881896000244, details={'was_impossible': True, 'reason': 'User and/or item is unknown.'}),\n",
              " Prediction(uid='A104F83PVACKQF', iid='B00001OWYM', r_ui=5.0, est=4.150881896000244, details={'was_impossible': True, 'reason': 'User and/or item is unknown.'}),\n",
              " Prediction(uid='A16YRC1J4Z3H2K', iid='B00004Z7H5', r_ui=1.0, est=4.150881896000244, details={'was_impossible': True, 'reason': 'User and/or item is unknown.'}),\n",
              " Prediction(uid='A1B7AATX75MGH7', iid='B00004SY4H', r_ui=5.0, est=4.150881896000244, details={'was_impossible': True, 'reason': 'User and/or item is unknown.'}),\n",
              " Prediction(uid='A1XSQT9VGVUVIM', iid='B00004ZCJE', r_ui=5.0, est=4.150881896000244, details={'was_impossible': True, 'reason': 'User and/or item is unknown.'}),\n",
              " Prediction(uid='AZVW65SN5RTIC', iid='B00004T1XK', r_ui=5.0, est=4.150881896000244, details={'was_impossible': True, 'reason': 'User and/or item is unknown.'}),\n",
              " Prediction(uid='A1P3FWPHMCV68', iid='B00004TBLW', r_ui=5.0, est=4.150881896000244, details={'was_impossible': True, 'reason': 'User and/or item is unknown.'}),\n",
              " Prediction(uid='A2L9OKK2KHXKHR', iid='B00000K2YR', r_ui=5.0, est=4.150881896000244, details={'was_impossible': True, 'reason': 'User and/or item is unknown.'}),\n",
              " Prediction(uid='A1GCXLCQ177TFE', iid='B00004ZCJE', r_ui=5.0, est=4.150881896000244, details={'was_impossible': True, 'reason': 'User and/or item is unknown.'}),\n",
              " Prediction(uid='A2PYS280Q1UH7V', iid='B000023VUL', r_ui=5.0, est=4.150881896000244, details={'was_impossible': True, 'reason': 'User and/or item is unknown.'}),\n",
              " Prediction(uid='ASNJFFJ0QRE1S', iid='B00001W0DD', r_ui=2.0, est=4.150881896000244, details={'was_impossible': True, 'reason': 'User and/or item is unknown.'}),\n",
              " Prediction(uid='AHYQ6J8T2VAUU', iid='B00001W0DI', r_ui=4.0, est=4.150881896000244, details={'was_impossible': True, 'reason': 'User and/or item is unknown.'}),\n",
              " Prediction(uid='A2ZVXAS052AX79', iid='B00001P4ZH', r_ui=5.0, est=4.150881896000244, details={'was_impossible': True, 'reason': 'User and/or item is unknown.'}),\n",
              " Prediction(uid='A22K5QZTYPSW4X', iid='B00004WCIA', r_ui=5.0, est=4.150881896000244, details={'was_impossible': True, 'reason': 'User and/or item is unknown.'}),\n",
              " Prediction(uid='A2LJV97JA2EMLB', iid='B00004T8R2', r_ui=1.0, est=4.150881896000244, details={'was_impossible': True, 'reason': 'User and/or item is unknown.'}),\n",
              " Prediction(uid='AA81KFW4X8UIH', iid='0972683275', r_ui=5.0, est=4.150881896000244, details={'was_impossible': True, 'reason': 'User and/or item is unknown.'}),\n",
              " Prediction(uid='AS5KAYVIS06AK', iid='B00004WCID', r_ui=5.0, est=4.592689295039165, details={'actual_k': 0, 'was_impossible': False}),\n",
              " Prediction(uid='A2M0ZILSGJQS4', iid='B00004TDN0', r_ui=5.0, est=4.150881896000244, details={'was_impossible': True, 'reason': 'User and/or item is unknown.'}),\n",
              " Prediction(uid='A243ZBXXZ7IMFU', iid='B00004VX39', r_ui=4.0, est=4.150881896000244, details={'was_impossible': True, 'reason': 'User and/or item is unknown.'}),\n",
              " Prediction(uid='A3D89LR3Q2TX1V', iid='B00004Z68P', r_ui=5.0, est=4.150881896000244, details={'was_impossible': True, 'reason': 'User and/or item is unknown.'}),\n",
              " Prediction(uid='ACEOY44FS7OW1', iid='B00000DM9W', r_ui=5.0, est=4.150881896000244, details={'was_impossible': True, 'reason': 'User and/or item is unknown.'}),\n",
              " Prediction(uid='A1PRF8YIK73VH5', iid='B00004RDL5', r_ui=5.0, est=4.150881896000244, details={'was_impossible': True, 'reason': 'User and/or item is unknown.'}),\n",
              " Prediction(uid='A220841LWHZ5W7', iid='B00004Z5D1', r_ui=5.0, est=4.150881896000244, details={'was_impossible': True, 'reason': 'User and/or item is unknown.'}),\n",
              " Prediction(uid='A35WP5LHJSZ4HC', iid='B00002JXFH', r_ui=3.0, est=4.150881896000244, details={'was_impossible': True, 'reason': 'User and/or item is unknown.'}),\n",
              " Prediction(uid='ACYAUKO3PMC8Z', iid='B00004VX39', r_ui=5.0, est=4.150881896000244, details={'was_impossible': True, 'reason': 'User and/or item is unknown.'}),\n",
              " Prediction(uid='A1NUAX0GYD3076', iid='B00000J1V5', r_ui=5.0, est=4.150881896000244, details={'was_impossible': True, 'reason': 'User and/or item is unknown.'}),\n",
              " Prediction(uid='A2FI1W4LP22GM7', iid='B00004ZCKV', r_ui=5.0, est=4.150881896000244, details={'was_impossible': True, 'reason': 'User and/or item is unknown.'}),\n",
              " Prediction(uid='A2SYCZ9Y5Y6IGB', iid='B00004T8R2', r_ui=4.0, est=4.150881896000244, details={'was_impossible': True, 'reason': 'User and/or item is unknown.'}),\n",
              " Prediction(uid='AJB8PRJFA80LJ', iid='B00004T1XK', r_ui=5.0, est=4.150881896000244, details={'was_impossible': True, 'reason': 'User and/or item is unknown.'}),\n",
              " Prediction(uid='A2313V88GZN163', iid='B00000JCT8', r_ui=5.0, est=3.4468085106382977, details={'actual_k': 0, 'was_impossible': False}),\n",
              " Prediction(uid='A2IIFPUDC49ZMV', iid='B00004TDLD', r_ui=4.0, est=4.150881896000244, details={'was_impossible': True, 'reason': 'User and/or item is unknown.'}),\n",
              " Prediction(uid='AFGBBS965H3ZM', iid='B00001P4ZH', r_ui=4.0, est=4.150881896000244, details={'was_impossible': True, 'reason': 'User and/or item is unknown.'}),\n",
              " Prediction(uid='A1PWWTCLIOSYR9', iid='B00004ZCJE', r_ui=4.0, est=4.150881896000244, details={'was_impossible': True, 'reason': 'User and/or item is unknown.'}),\n",
              " Prediction(uid='A18W2S73JOQUC1', iid='B00003CWDQ', r_ui=5.0, est=4.150881896000244, details={'was_impossible': True, 'reason': 'User and/or item is unknown.'}),\n",
              " Prediction(uid='A1LZG44TNOKJSJ', iid='B00001W0EQ', r_ui=2.0, est=4.150881896000244, details={'was_impossible': True, 'reason': 'User and/or item is unknown.'}),\n",
              " Prediction(uid='A3KW6E0S4NP99E', iid='B00004T8R2', r_ui=2.0, est=4.150881896000244, details={'was_impossible': True, 'reason': 'User and/or item is unknown.'}),\n",
              " Prediction(uid='A1YP90HGXIGIP6', iid='B00004R8VC', r_ui=5.0, est=4.150881896000244, details={'was_impossible': True, 'reason': 'User and/or item is unknown.'}),\n",
              " Prediction(uid='A14PRSJB9Z7K5S', iid='B00004ZCJE', r_ui=5.0, est=4.150881896000244, details={'was_impossible': True, 'reason': 'User and/or item is unknown.'}),\n",
              " Prediction(uid='A1U7ZB7CVLPMK4', iid='B00004ZCJE', r_ui=1.0, est=4.150881896000244, details={'was_impossible': True, 'reason': 'User and/or item is unknown.'}),\n",
              " Prediction(uid='A1T7L2N730ZMF5', iid='B00004ZCJE', r_ui=1.0, est=4.150881896000244, details={'was_impossible': True, 'reason': 'User and/or item is unknown.'}),\n",
              " Prediction(uid='A386XVTK8MO63', iid='B00000J0D2', r_ui=1.0, est=4.150881896000244, details={'was_impossible': True, 'reason': 'User and/or item is unknown.'}),\n",
              " Prediction(uid='A2QGTGBNVJIW9W', iid='B00000JBAT', r_ui=4.0, est=4.150881896000244, details={'was_impossible': True, 'reason': 'User and/or item is unknown.'}),\n",
              " Prediction(uid='A2V6RGKZ1XJPDO', iid='B00004SB92', r_ui=5.0, est=4.150881896000244, details={'was_impossible': True, 'reason': 'User and/or item is unknown.'}),\n",
              " Prediction(uid='AFDSLKJ2LIAU2', iid='B00000JFMK', r_ui=5.0, est=4.150881896000244, details={'was_impossible': True, 'reason': 'User and/or item is unknown.'}),\n",
              " Prediction(uid='A343YKSLPRVQDX', iid='B00004WLJ9', r_ui=5.0, est=4.150881896000244, details={'was_impossible': True, 'reason': 'User and/or item is unknown.'}),\n",
              " Prediction(uid='A7LY4ZSQVT8K0', iid='B00000J0D5', r_ui=5.0, est=4.150881896000244, details={'was_impossible': True, 'reason': 'User and/or item is unknown.'}),\n",
              " Prediction(uid='A06127456OQRZ2TKT7EY', iid='B00004Z0C7', r_ui=5.0, est=4.150881896000244, details={'was_impossible': True, 'reason': 'User and/or item is unknown.'}),\n",
              " Prediction(uid='ATIUAYR5OH72U', iid='1400501776', r_ui=5.0, est=4.150881896000244, details={'was_impossible': True, 'reason': 'User and/or item is unknown.'}),\n",
              " Prediction(uid='AW7IV7EOYIKMO', iid='B00004VX15', r_ui=2.0, est=4.150881896000244, details={'was_impossible': True, 'reason': 'User and/or item is unknown.'}),\n",
              " Prediction(uid='AWE9DA27LRVVA', iid='B00000JI4F', r_ui=5.0, est=4.150881896000244, details={'was_impossible': True, 'reason': 'User and/or item is unknown.'}),\n",
              " Prediction(uid='A322ARXVXLTMAL', iid='B00001P4ZH', r_ui=3.0, est=4.150881896000244, details={'was_impossible': True, 'reason': 'User and/or item is unknown.'}),\n",
              " Prediction(uid='A1AQBE8U46630O', iid='B00004Z5M1', r_ui=5.0, est=4.150881896000244, details={'was_impossible': True, 'reason': 'User and/or item is unknown.'}),\n",
              " Prediction(uid='A3NOAW0YSOK8R1', iid='B00001WRSJ', r_ui=2.0, est=4.150881896000244, details={'was_impossible': True, 'reason': 'User and/or item is unknown.'}),\n",
              " Prediction(uid='A2X6QGACUAC6MH', iid='B00001P4ZH', r_ui=4.0, est=4.150881896000244, details={'was_impossible': True, 'reason': 'User and/or item is unknown.'}),\n",
              " Prediction(uid='AMXTIJ3ZY0AJE', iid='B00004Z5PY', r_ui=5.0, est=4.150881896000244, details={'was_impossible': True, 'reason': 'User and/or item is unknown.'}),\n",
              " Prediction(uid='A11KZ906QD08C5', iid='B00004WCFT', r_ui=5.0, est=4.253968253968254, details={'actual_k': 0, 'was_impossible': False}),\n",
              " Prediction(uid='A1Y9E2B2W0S8R4', iid='B00004TDLD', r_ui=5.0, est=4.150881896000244, details={'was_impossible': True, 'reason': 'User and/or item is unknown.'}),\n",
              " Prediction(uid='A3J3JW5BZIP214', iid='B00004VX39', r_ui=5.0, est=4.150881896000244, details={'was_impossible': True, 'reason': 'User and/or item is unknown.'}),\n",
              " Prediction(uid='A1TPPHM1J9HYTD', iid='B00004TDN0', r_ui=5.0, est=4.150881896000244, details={'was_impossible': True, 'reason': 'User and/or item is unknown.'}),\n",
              " Prediction(uid='A3QIBE2SWIQUR5', iid='B00004ZCJE', r_ui=5.0, est=4.150881896000244, details={'was_impossible': True, 'reason': 'User and/or item is unknown.'}),\n",
              " Prediction(uid='A2VQHPJZMAQVEP', iid='B00004THCZ', r_ui=5.0, est=4.150881896000244, details={'was_impossible': True, 'reason': 'User and/or item is unknown.'}),\n",
              " Prediction(uid='A3K5SC73WZHLZB', iid='B00003CWDH', r_ui=5.0, est=4.150881896000244, details={'was_impossible': True, 'reason': 'User and/or item is unknown.'}),\n",
              " Prediction(uid='A5QMIPVDSB8VO', iid='B00004T8R2', r_ui=4.0, est=4.150881896000244, details={'was_impossible': True, 'reason': 'User and/or item is unknown.'}),\n",
              " Prediction(uid='AH9B734YE7TEC', iid='1400698987', r_ui=2.0, est=4.150881896000244, details={'was_impossible': True, 'reason': 'User and/or item is unknown.'}),\n",
              " Prediction(uid='A3BJDNLXO9V10F', iid='B00004T8R2', r_ui=5.0, est=4.150881896000244, details={'was_impossible': True, 'reason': 'User and/or item is unknown.'}),\n",
              " Prediction(uid='A157UO8K6YEGDZ', iid='B00001P4XH', r_ui=5.0, est=4.043771043771044, details={'actual_k': 0, 'was_impossible': False}),\n",
              " Prediction(uid='A2I4KBEA963U0F', iid='B00003CWDH', r_ui=1.0, est=4.150881896000244, details={'was_impossible': True, 'reason': 'User and/or item is unknown.'}),\n",
              " Prediction(uid='A1QRJ32OKM0EVU', iid='B00004ZC8Y', r_ui=4.0, est=4.150881896000244, details={'was_impossible': True, 'reason': 'User and/or item is unknown.'}),\n",
              " Prediction(uid='A3C08AOV92YUO8', iid='B00004XRED', r_ui=5.0, est=4.150881896000244, details={'was_impossible': True, 'reason': 'User and/or item is unknown.'}),\n",
              " Prediction(uid='A2TBQ1FEE1DGFC', iid='B00003G1RG', r_ui=5.0, est=4.610619469026549, details={'actual_k': 0, 'was_impossible': False}),\n",
              " Prediction(uid='A159NRA5GP3YCA', iid='B00001P4ZH', r_ui=5.0, est=4.150881896000244, details={'was_impossible': True, 'reason': 'User and/or item is unknown.'}),\n",
              " Prediction(uid='A3OHLN2N594I8B', iid='B00004SB92', r_ui=5.0, est=4.150881896000244, details={'was_impossible': True, 'reason': 'User and/or item is unknown.'}),\n",
              " Prediction(uid='A2G6W9T0ICPVIR', iid='B00001P4ZR', r_ui=5.0, est=4.150881896000244, details={'was_impossible': True, 'reason': 'User and/or item is unknown.'}),\n",
              " Prediction(uid='A1TYASDN1QGHGS', iid='B00004Z5D1', r_ui=5.0, est=4.150881896000244, details={'was_impossible': True, 'reason': 'User and/or item is unknown.'}),\n",
              " Prediction(uid='APXFROKM2A5RL', iid='B00003006E', r_ui=5.0, est=4.150881896000244, details={'was_impossible': True, 'reason': 'User and/or item is unknown.'}),\n",
              " Prediction(uid='APVFJYDRTYNK5', iid='B00004WCIA', r_ui=5.0, est=4.150881896000244, details={'was_impossible': True, 'reason': 'User and/or item is unknown.'}),\n",
              " Prediction(uid='A3KM9XLKRNQ386', iid='B00004TVSP', r_ui=4.0, est=4.150881896000244, details={'was_impossible': True, 'reason': 'User and/or item is unknown.'}),\n",
              " Prediction(uid='A2KDQUEX1OVP16', iid='B0000228GG', r_ui=5.0, est=4.150881896000244, details={'was_impossible': True, 'reason': 'User and/or item is unknown.'}),\n",
              " Prediction(uid='A4NO5268WKDT6', iid='B00004ZCKV', r_ui=5.0, est=4.150881896000244, details={'was_impossible': True, 'reason': 'User and/or item is unknown.'}),\n",
              " Prediction(uid='AAE0R8ZINTPJH', iid='140053271X', r_ui=5.0, est=4.150881896000244, details={'was_impossible': True, 'reason': 'User and/or item is unknown.'}),\n",
              " Prediction(uid='ALL8RBDZK0WWO', iid='0972683275', r_ui=4.0, est=4.150881896000244, details={'was_impossible': True, 'reason': 'User and/or item is unknown.'}),\n",
              " Prediction(uid='AFRGJP413HUZ5', iid='B00001P4ZR', r_ui=5.0, est=4.150881896000244, details={'was_impossible': True, 'reason': 'User and/or item is unknown.'}),\n",
              " Prediction(uid='A3EJCHYG6BZGX1', iid='B00002SWUE', r_ui=5.0, est=4.150881896000244, details={'was_impossible': True, 'reason': 'User and/or item is unknown.'}),\n",
              " Prediction(uid='AAD6WJZBYE9KS', iid='B00000K135', r_ui=5.0, est=4.150881896000244, details={'was_impossible': True, 'reason': 'User and/or item is unknown.'}),\n",
              " Prediction(uid='A10K1AI4CC0588', iid='B00002SWUE', r_ui=4.0, est=4.150881896000244, details={'was_impossible': True, 'reason': 'User and/or item is unknown.'}),\n",
              " Prediction(uid='A2M8L457QZLZY8', iid='B00001P4ZH', r_ui=5.0, est=4.150881896000244, details={'was_impossible': True, 'reason': 'User and/or item is unknown.'}),\n",
              " Prediction(uid='A3RDA76TLQAW11', iid='B0000228GF', r_ui=4.0, est=4.150881896000244, details={'was_impossible': True, 'reason': 'User and/or item is unknown.'}),\n",
              " Prediction(uid='AV0VRT3FNLM5Y', iid='B00004Y7CF', r_ui=5.0, est=4.150881896000244, details={'was_impossible': True, 'reason': 'User and/or item is unknown.'}),\n",
              " Prediction(uid='A2WCRMVKYSIK9D', iid='B00004X10B', r_ui=4.0, est=4.150881896000244, details={'was_impossible': True, 'reason': 'User and/or item is unknown.'}),\n",
              " Prediction(uid='A2UIJZ47F9MNLZ', iid='B00004ZCJE', r_ui=5.0, est=4.148755656108597, details={'actual_k': 0, 'was_impossible': False}),\n",
              " Prediction(uid='A1DYPLFFMFDO4B', iid='B00004ZCJE', r_ui=1.0, est=4.150881896000244, details={'was_impossible': True, 'reason': 'User and/or item is unknown.'}),\n",
              " Prediction(uid='A3L0JLM9CB0IW0', iid='B00001WRSJ', r_ui=5.0, est=4.150881896000244, details={'was_impossible': True, 'reason': 'User and/or item is unknown.'}),\n",
              " Prediction(uid='A1AQU5XF9GP4SB', iid='140053271X', r_ui=5.0, est=4.150881896000244, details={'was_impossible': True, 'reason': 'User and/or item is unknown.'}),\n",
              " Prediction(uid='A3U97QF29KHLJQ', iid='1400501520', r_ui=5.0, est=4.150881896000244, details={'was_impossible': True, 'reason': 'User and/or item is unknown.'}),\n",
              " Prediction(uid='A1P1D5CXDAZLGL', iid='B00004XO1V', r_ui=2.0, est=4.150881896000244, details={'was_impossible': True, 'reason': 'User and/or item is unknown.'}),\n",
              " Prediction(uid='AMXTSVBUKH8SH', iid='B00000J1EP', r_ui=5.0, est=4.150881896000244, details={'was_impossible': True, 'reason': 'User and/or item is unknown.'}),\n",
              " Prediction(uid='A2MGEU9OYSEFPW', iid='B00001WRSJ', r_ui=5.0, est=4.150881896000244, details={'was_impossible': True, 'reason': 'User and/or item is unknown.'}),\n",
              " Prediction(uid='A1RPTVW5VEOSI', iid='B00004WCIA', r_ui=5.0, est=4.083333333333333, details={'actual_k': 0, 'was_impossible': False}),\n",
              " Prediction(uid='A27M5YYBSOJ814', iid='B00004YZQ8', r_ui=5.0, est=4.150881896000244, details={'was_impossible': True, 'reason': 'User and/or item is unknown.'}),\n",
              " Prediction(uid='A15AS4VQVMO9DH', iid='B00004VUGJ', r_ui=5.0, est=4.150881896000244, details={'was_impossible': True, 'reason': 'User and/or item is unknown.'}),\n",
              " Prediction(uid='A3CTZYCJ59AXC9', iid='B00005105N', r_ui=5.0, est=4.150881896000244, details={'was_impossible': True, 'reason': 'User and/or item is unknown.'}),\n",
              " Prediction(uid='A3PNTHT4OBBSJO', iid='B00004ZCJE', r_ui=5.0, est=4.150881896000244, details={'was_impossible': True, 'reason': 'User and/or item is unknown.'}),\n",
              " Prediction(uid='A1R9N4X2UJ0S7L', iid='B00001W0DD', r_ui=2.0, est=4.150881896000244, details={'was_impossible': True, 'reason': 'User and/or item is unknown.'}),\n",
              " Prediction(uid='A1GJC87QML686D', iid='B000050X97', r_ui=5.0, est=4.150881896000244, details={'was_impossible': True, 'reason': 'User and/or item is unknown.'}),\n",
              " Prediction(uid='A1CVCGOOEBYYR6', iid='B00001W0EQ', r_ui=1.0, est=4.150881896000244, details={'was_impossible': True, 'reason': 'User and/or item is unknown.'}),\n",
              " Prediction(uid='A2D96XPAI3OWKY', iid='B00004Z5L8', r_ui=5.0, est=4.150881896000244, details={'was_impossible': True, 'reason': 'User and/or item is unknown.'}),\n",
              " Prediction(uid='ALUNVOQRXOZIA', iid='1400599997', r_ui=1.0, est=3.418300653594771, details={'actual_k': 0, 'was_impossible': False}),\n",
              " Prediction(uid='A2RVU262HZUMWC', iid='B00001P4XA', r_ui=4.0, est=4.150881896000244, details={'was_impossible': True, 'reason': 'User and/or item is unknown.'}),\n",
              " Prediction(uid='A1LGSMX3ABFEHQ', iid='B00001P4ZH', r_ui=5.0, est=4.150881896000244, details={'was_impossible': True, 'reason': 'User and/or item is unknown.'}),\n",
              " Prediction(uid='A3H2OM4DBR3P3T', iid='B00001ZWXA', r_ui=5.0, est=4.150881896000244, details={'was_impossible': True, 'reason': 'User and/or item is unknown.'}),\n",
              " Prediction(uid='A3OC6XWQBWGUCT', iid='B00004SABB', r_ui=4.0, est=4.150881896000244, details={'was_impossible': True, 'reason': 'User and/or item is unknown.'}),\n",
              " Prediction(uid='A2EJ23DV7ZFT1X', iid='B00000JYWQ', r_ui=2.0, est=4.150881896000244, details={'was_impossible': True, 'reason': 'User and/or item is unknown.'}),\n",
              " Prediction(uid='A1JN05Q0XAM1C4', iid='B00004SABJ', r_ui=5.0, est=4.150881896000244, details={'was_impossible': True, 'reason': 'User and/or item is unknown.'}),\n",
              " Prediction(uid='A2L0G3CE8E045J', iid='B00001OPJZ', r_ui=1.0, est=4.150881896000244, details={'was_impossible': True, 'reason': 'User and/or item is unknown.'}),\n",
              " Prediction(uid='A3FG9NCKHAYQ63', iid='B00004T8R2', r_ui=5.0, est=4.150881896000244, details={'was_impossible': True, 'reason': 'User and/or item is unknown.'}),\n",
              " Prediction(uid='A1ROT92AR22KV3', iid='B00004TBLW', r_ui=5.0, est=4.150881896000244, details={'was_impossible': True, 'reason': 'User and/or item is unknown.'}),\n",
              " Prediction(uid='A2K5F80K0AKIB6', iid='B00004ZCJE', r_ui=5.0, est=4.150881896000244, details={'was_impossible': True, 'reason': 'User and/or item is unknown.'}),\n",
              " Prediction(uid='A3PSR2YB4GDWKF', iid='B00001WRSJ', r_ui=5.0, est=4.150881896000244, details={'was_impossible': True, 'reason': 'User and/or item is unknown.'}),\n",
              " Prediction(uid='A2HC258N3NYABH', iid='B00004VUGJ', r_ui=5.0, est=4.150881896000244, details={'was_impossible': True, 'reason': 'User and/or item is unknown.'}),\n",
              " Prediction(uid='A3775OP5VTX5ON', iid='B00001W0DI', r_ui=5.0, est=4.150881896000244, details={'was_impossible': True, 'reason': 'User and/or item is unknown.'}),\n",
              " Prediction(uid='A3MEFZZMMGIECW', iid='B00001P4ZH', r_ui=5.0, est=4.150881896000244, details={'was_impossible': True, 'reason': 'User and/or item is unknown.'}),\n",
              " Prediction(uid='A2X2RFJFKBSPZW', iid='B00001W0DI', r_ui=2.0, est=4.150881896000244, details={'was_impossible': True, 'reason': 'User and/or item is unknown.'}),\n",
              " Prediction(uid='A1N83T6XNXYRWI', iid='B00004WCFT', r_ui=4.0, est=4.150881896000244, details={'was_impossible': True, 'reason': 'User and/or item is unknown.'}),\n",
              " Prediction(uid='A1IE3HMN3Z3MD5', iid='B00000K135', r_ui=5.0, est=4.150881896000244, details={'was_impossible': True, 'reason': 'User and/or item is unknown.'}),\n",
              " Prediction(uid='A3J95OQSYN7II1', iid='B00000JDF6', r_ui=5.0, est=4.150881896000244, details={'was_impossible': True, 'reason': 'User and/or item is unknown.'}),\n",
              " Prediction(uid='A36IMG5PZY7O9Z', iid='B00004T8R2', r_ui=2.0, est=4.150881896000244, details={'was_impossible': True, 'reason': 'User and/or item is unknown.'}),\n",
              " Prediction(uid='A2CXUCBWQ8HOE7', iid='B00004SB92', r_ui=5.0, est=3.893793103448276, details={'actual_k': 0, 'was_impossible': False}),\n",
              " Prediction(uid='A21HD9LIRFID71', iid='B00004THCZ', r_ui=3.0, est=4.150881896000244, details={'was_impossible': True, 'reason': 'User and/or item is unknown.'}),\n",
              " Prediction(uid='A1ACUIN0UZC4K4', iid='B00004SABB', r_ui=5.0, est=4.150881896000244, details={'was_impossible': True, 'reason': 'User and/or item is unknown.'}),\n",
              " Prediction(uid='A1A7XNFD363QIS', iid='B00004WIMW', r_ui=4.0, est=4.150881896000244, details={'was_impossible': True, 'reason': 'User and/or item is unknown.'}),\n",
              " Prediction(uid='A3B4Z70SCPMG11', iid='B00001WRSJ', r_ui=5.0, est=4.150881896000244, details={'was_impossible': True, 'reason': 'User and/or item is unknown.'}),\n",
              " Prediction(uid='AP7MYGA4UEE67', iid='B00000J05A', r_ui=1.0, est=4.150881896000244, details={'was_impossible': True, 'reason': 'User and/or item is unknown.'}),\n",
              " Prediction(uid='A3UDJTVGX4PF8M', iid='B00001W0DH', r_ui=4.0, est=4.150881896000244, details={'was_impossible': True, 'reason': 'User and/or item is unknown.'}),\n",
              " Prediction(uid='AIIKEFQE51NBE', iid='B00004ZCJE', r_ui=4.0, est=4.150881896000244, details={'was_impossible': True, 'reason': 'User and/or item is unknown.'}),\n",
              " Prediction(uid='A2E4HOXHPDN7AJ', iid='B00004THCZ', r_ui=5.0, est=4.150881896000244, details={'was_impossible': True, 'reason': 'User and/or item is unknown.'}),\n",
              " Prediction(uid='A5FLOIBFWYR2L', iid='B00004ZCJE', r_ui=3.0, est=4.150881896000244, details={'was_impossible': True, 'reason': 'User and/or item is unknown.'}),\n",
              " Prediction(uid='A38NELQT98S4H8', iid='B00004ZC8Y', r_ui=4.0, est=4.150881896000244, details={'was_impossible': True, 'reason': 'User and/or item is unknown.'}),\n",
              " Prediction(uid='A22U7ZC5OOI4JF', iid='B00000J1EJ', r_ui=5.0, est=4.150881896000244, details={'was_impossible': True, 'reason': 'User and/or item is unknown.'}),\n",
              " Prediction(uid='AGLQC9LUYCFRH', iid='B00001P4XA', r_ui=4.0, est=4.150881896000244, details={'was_impossible': True, 'reason': 'User and/or item is unknown.'}),\n",
              " Prediction(uid='A1SBLO3LP0IVLQ', iid='B00004ZCDD', r_ui=4.0, est=4.3076923076923075, details={'actual_k': 0, 'was_impossible': False}),\n",
              " Prediction(uid='ACBC46ESG5PQR', iid='B00004Z5D1', r_ui=5.0, est=4.150881896000244, details={'was_impossible': True, 'reason': 'User and/or item is unknown.'}),\n",
              " Prediction(uid='A1YIBJJC910PCQ', iid='B00000K2YR', r_ui=4.0, est=4.150881896000244, details={'was_impossible': True, 'reason': 'User and/or item is unknown.'}),\n",
              " Prediction(uid='A6MA0VVEUCEVQ', iid='B00001P4ZH', r_ui=4.0, est=4.150881896000244, details={'was_impossible': True, 'reason': 'User and/or item is unknown.'}),\n",
              " Prediction(uid='A3GG7QSSI58HJV', iid='B00001P4ZR', r_ui=5.0, est=4.150881896000244, details={'was_impossible': True, 'reason': 'User and/or item is unknown.'}),\n",
              " Prediction(uid='A2LZF7JK3KS77J', iid='B00004ZC9V', r_ui=5.0, est=4.150881896000244, details={'was_impossible': True, 'reason': 'User and/or item is unknown.'}),\n",
              " Prediction(uid='A1Q2A7I344K5WL', iid='B00004SB92', r_ui=5.0, est=4.150881896000244, details={'was_impossible': True, 'reason': 'User and/or item is unknown.'}),\n",
              " Prediction(uid='AQNA6UCUDHLTU', iid='B00004Z7G9', r_ui=5.0, est=4.150881896000244, details={'was_impossible': True, 'reason': 'User and/or item is unknown.'}),\n",
              " Prediction(uid='AHXU85QHWB8JM', iid='B00000J1V5', r_ui=5.0, est=4.150881896000244, details={'was_impossible': True, 'reason': 'User and/or item is unknown.'}),\n",
              " Prediction(uid='A110YPASL8X70I', iid='B00001WRSJ', r_ui=4.0, est=4.150881896000244, details={'was_impossible': True, 'reason': 'User and/or item is unknown.'}),\n",
              " Prediction(uid='AFPECD598SO8J', iid='B00004SPUN', r_ui=5.0, est=4.150881896000244, details={'was_impossible': True, 'reason': 'User and/or item is unknown.'}),\n",
              " Prediction(uid='A29IAGVK0I30WA', iid='B00004T1XK', r_ui=5.0, est=4.150881896000244, details={'was_impossible': True, 'reason': 'User and/or item is unknown.'}),\n",
              " Prediction(uid='A3OYBTP0TDS9VW', iid='B0000222MY', r_ui=2.0, est=4.150881896000244, details={'was_impossible': True, 'reason': 'User and/or item is unknown.'}),\n",
              " Prediction(uid='A24G60LY07HW3R', iid='9983891212', r_ui=5.0, est=4.150881896000244, details={'was_impossible': True, 'reason': 'User and/or item is unknown.'}),\n",
              " Prediction(uid='A2078QF5G24774', iid='B00004ZCA5', r_ui=5.0, est=4.150881896000244, details={'was_impossible': True, 'reason': 'User and/or item is unknown.'}),\n",
              " Prediction(uid='A15N48O6R2YXDP', iid='B00001P4XH', r_ui=5.0, est=4.150881896000244, details={'was_impossible': True, 'reason': 'User and/or item is unknown.'}),\n",
              " Prediction(uid='A2ONUWLMER7TPJ', iid='B00000K135', r_ui=5.0, est=4.150881896000244, details={'was_impossible': True, 'reason': 'User and/or item is unknown.'}),\n",
              " Prediction(uid='A2F6CMXFKEB118', iid='B00004Z0C7', r_ui=2.0, est=4.150881896000244, details={'was_impossible': True, 'reason': 'User and/or item is unknown.'}),\n",
              " Prediction(uid='A3D4TBZGQSYXW9', iid='B00004WCGC', r_ui=5.0, est=4.150881896000244, details={'was_impossible': True, 'reason': 'User and/or item is unknown.'}),\n",
              " Prediction(uid='A25BLIAULU3LAZ', iid='B00004WCGF', r_ui=5.0, est=4.150881896000244, details={'was_impossible': True, 'reason': 'User and/or item is unknown.'}),\n",
              " Prediction(uid='A2N8JNXSX664YK', iid='B00000JI4F', r_ui=4.0, est=4.150881896000244, details={'was_impossible': True, 'reason': 'User and/or item is unknown.'}),\n",
              " Prediction(uid='AN51IIO35LRYU', iid='B00001P4ZH', r_ui=5.0, est=4.150881896000244, details={'was_impossible': True, 'reason': 'User and/or item is unknown.'}),\n",
              " Prediction(uid='AFBHHGKL81PDH', iid='B00004TVSP', r_ui=5.0, est=4.150881896000244, details={'was_impossible': True, 'reason': 'User and/or item is unknown.'}),\n",
              " Prediction(uid='A2BMXOTFK1KNL3', iid='B00002EQCW', r_ui=5.0, est=4.150881896000244, details={'was_impossible': True, 'reason': 'User and/or item is unknown.'}),\n",
              " Prediction(uid='A30HUZHJBOX1LK', iid='B00000JI4F', r_ui=5.0, est=4.150881896000244, details={'was_impossible': True, 'reason': 'User and/or item is unknown.'}),\n",
              " Prediction(uid='AQMSLJIR1BNEA', iid='B00001P4ZH', r_ui=4.0, est=4.150881896000244, details={'was_impossible': True, 'reason': 'User and/or item is unknown.'}),\n",
              " Prediction(uid='A1FY6M66BL53KX', iid='B00004YMBK', r_ui=5.0, est=4.150881896000244, details={'was_impossible': True, 'reason': 'User and/or item is unknown.'}),\n",
              " Prediction(uid='A11H5YU6EZAAA8', iid='B00000K2YR', r_ui=5.0, est=4.150881896000244, details={'was_impossible': True, 'reason': 'User and/or item is unknown.'}),\n",
              " Prediction(uid='A227EDUVIE7857', iid='B00004T1XE', r_ui=5.0, est=4.150881896000244, details={'was_impossible': True, 'reason': 'User and/or item is unknown.'}),\n",
              " Prediction(uid='A1ZDA6FK1313QJ', iid='9983891212', r_ui=4.0, est=4.396825396825397, details={'actual_k': 0, 'was_impossible': False}),\n",
              " Prediction(uid='A1763E6I4K7PUS', iid='B00004T8R2', r_ui=4.0, est=4.150881896000244, details={'was_impossible': True, 'reason': 'User and/or item is unknown.'}),\n",
              " Prediction(uid='AEOAMS0G96E8B', iid='B00004SPUN', r_ui=4.0, est=4.150881896000244, details={'was_impossible': True, 'reason': 'User and/or item is unknown.'}),\n",
              " Prediction(uid='A2BXK4PJXF74B0', iid='B00004YMCA', r_ui=5.0, est=4.150881896000244, details={'was_impossible': True, 'reason': 'User and/or item is unknown.'}),\n",
              " Prediction(uid='A1Y4E3GC388ZK0', iid='B00002EQCW', r_ui=5.0, est=4.150881896000244, details={'was_impossible': True, 'reason': 'User and/or item is unknown.'}),\n",
              " Prediction(uid='ADP9OKUYOSYCW', iid='B000031KIM', r_ui=4.0, est=4.150881896000244, details={'was_impossible': True, 'reason': 'User and/or item is unknown.'}),\n",
              " Prediction(uid='A1HMNSFTRIEE8W', iid='B00000J1QR', r_ui=5.0, est=4.150881896000244, details={'was_impossible': True, 'reason': 'User and/or item is unknown.'}),\n",
              " Prediction(uid='A2VU2PKR6AI3W', iid='B00004T8R2', r_ui=4.0, est=4.150881896000244, details={'was_impossible': True, 'reason': 'User and/or item is unknown.'}),\n",
              " Prediction(uid='A1AR3H5HMAEXM7', iid='B00004TDLD', r_ui=5.0, est=4.150881896000244, details={'was_impossible': True, 'reason': 'User and/or item is unknown.'}),\n",
              " Prediction(uid='A1F2QYMDONSF7I', iid='B00004THCZ', r_ui=4.0, est=4.261648745519714, details={'actual_k': 0, 'was_impossible': False}),\n",
              " Prediction(uid='ATEQ0KDIJ7K89', iid='B00001P4XH', r_ui=4.0, est=4.150881896000244, details={'was_impossible': True, 'reason': 'User and/or item is unknown.'}),\n",
              " Prediction(uid='A2WJWA1ZPD2UJM', iid='B00004SABB', r_ui=5.0, est=4.150881896000244, details={'was_impossible': True, 'reason': 'User and/or item is unknown.'}),\n",
              " Prediction(uid='AAMLNY52OM37K', iid='B00004TWM6', r_ui=1.0, est=4.150881896000244, details={'was_impossible': True, 'reason': 'User and/or item is unknown.'}),\n",
              " Prediction(uid='A34DDHXIY8JNZO', iid='B00004VX15', r_ui=3.0, est=4.150881896000244, details={'was_impossible': True, 'reason': 'User and/or item is unknown.'}),\n",
              " Prediction(uid='A26OJGKBOGMGVM', iid='B00001P4XH', r_ui=5.0, est=4.150881896000244, details={'was_impossible': True, 'reason': 'User and/or item is unknown.'}),\n",
              " Prediction(uid='ASJSX783R5HTZ', iid='B00003CWDG', r_ui=5.0, est=4.124352331606218, details={'actual_k': 0, 'was_impossible': False}),\n",
              " Prediction(uid='A3A89R9U1BJ65Y', iid='B00004Y3UX', r_ui=2.0, est=4.150881896000244, details={'was_impossible': True, 'reason': 'User and/or item is unknown.'}),\n",
              " Prediction(uid='A2G1X23J9AATJ', iid='B00000J1TX', r_ui=5.0, est=4.150881896000244, details={'was_impossible': True, 'reason': 'User and/or item is unknown.'}),\n",
              " Prediction(uid='A111UPH2YO18NH', iid='B00004ZC8Y', r_ui=1.0, est=4.150881896000244, details={'was_impossible': True, 'reason': 'User and/or item is unknown.'}),\n",
              " Prediction(uid='A1VQYR6UJPQTBG', iid='140053271X', r_ui=4.0, est=4.150881896000244, details={'was_impossible': True, 'reason': 'User and/or item is unknown.'}),\n",
              " Prediction(uid='A11G2KNJ9TWXRQ', iid='B00004XOM3', r_ui=5.0, est=4.150881896000244, details={'was_impossible': True, 'reason': 'User and/or item is unknown.'}),\n",
              " Prediction(uid='A1TQX2UG2247MI', iid='B00005108H', r_ui=2.0, est=4.150881896000244, details={'was_impossible': True, 'reason': 'User and/or item is unknown.'}),\n",
              " Prediction(uid='A2AWPIB1AJ0H1E', iid='B00000J0D5', r_ui=5.0, est=4.150881896000244, details={'was_impossible': True, 'reason': 'User and/or item is unknown.'}),\n",
              " Prediction(uid='A2V6Q9HL3WLS4N', iid='140053271X', r_ui=5.0, est=4.150881896000244, details={'was_impossible': True, 'reason': 'User and/or item is unknown.'}),\n",
              " Prediction(uid='A31Q7NE0NP3IH4', iid='B00004ZCJE', r_ui=5.0, est=4.150881896000244, details={'was_impossible': True, 'reason': 'User and/or item is unknown.'}),\n",
              " Prediction(uid='A3AGVFQM0TJJW4', iid='B00004SABJ', r_ui=5.0, est=4.150881896000244, details={'was_impossible': True, 'reason': 'User and/or item is unknown.'}),\n",
              " Prediction(uid='A231WM2Z2JL0U3', iid='B00004YRVY', r_ui=4.0, est=4.217391304347826, details={'actual_k': 0, 'was_impossible': False}),\n",
              " Prediction(uid='A1KOOIDITRFGPY', iid='B00004SABB', r_ui=3.0, est=4.150881896000244, details={'was_impossible': True, 'reason': 'User and/or item is unknown.'}),\n",
              " Prediction(uid='A3FG4UJ6YPKV8S', iid='B00000J1U8', r_ui=5.0, est=4.150881896000244, details={'was_impossible': True, 'reason': 'User and/or item is unknown.'}),\n",
              " Prediction(uid='AETRJPXHC2NE0', iid='B00004Z5D1', r_ui=5.0, est=4.150881896000244, details={'was_impossible': True, 'reason': 'User and/or item is unknown.'}),\n",
              " Prediction(uid='A2XM786PX5P97H', iid='9888002198', r_ui=5.0, est=4.150881896000244, details={'was_impossible': True, 'reason': 'User and/or item is unknown.'}),\n",
              " Prediction(uid='A37HULJ59GY82', iid='B00004ZCJE', r_ui=4.0, est=4.150881896000244, details={'was_impossible': True, 'reason': 'User and/or item is unknown.'}),\n",
              " Prediction(uid='A2LJOY6ZQI5TEQ', iid='B00000K13A', r_ui=5.0, est=4.150881896000244, details={'was_impossible': True, 'reason': 'User and/or item is unknown.'}),\n",
              " Prediction(uid='A3C66I82HQT9JB', iid='B00003CWDK', r_ui=5.0, est=4.150881896000244, details={'was_impossible': True, 'reason': 'User and/or item is unknown.'}),\n",
              " Prediction(uid='AIPBIJW68H2Y', iid='B00001P4XA', r_ui=3.0, est=4.150881896000244, details={'was_impossible': True, 'reason': 'User and/or item is unknown.'}),\n",
              " Prediction(uid='A141YGFO0JOO9Z', iid='B00000J4EY', r_ui=5.0, est=4.150881896000244, details={'was_impossible': True, 'reason': 'User and/or item is unknown.'}),\n",
              " Prediction(uid='A2DJV7DOSX55WG', iid='B00004SABB', r_ui=1.0, est=4.150881896000244, details={'was_impossible': True, 'reason': 'User and/or item is unknown.'}),\n",
              " Prediction(uid='A3QX75BRMZMGM2', iid='B00004VX15', r_ui=5.0, est=3.4080459770114944, details={'actual_k': 0, 'was_impossible': False}),\n",
              " Prediction(uid='A39SIBOG8D75H3', iid='B000050NPX', r_ui=5.0, est=4.150881896000244, details={'was_impossible': True, 'reason': 'User and/or item is unknown.'}),\n",
              " Prediction(uid='A182E7KGSLL58B', iid='B00002CEX9', r_ui=4.0, est=4.150881896000244, details={'was_impossible': True, 'reason': 'User and/or item is unknown.'}),\n",
              " Prediction(uid='A3GLNPRYRBWEFE', iid='B00004TDN2', r_ui=5.0, est=4.150881896000244, details={'was_impossible': True, 'reason': 'User and/or item is unknown.'}),\n",
              " Prediction(uid='A5F6K5I9450SX', iid='B00001P4ZH', r_ui=5.0, est=4.150881896000244, details={'was_impossible': True, 'reason': 'User and/or item is unknown.'}),\n",
              " Prediction(uid='ALXNC0U4KAGTI', iid='B00001P4ZR', r_ui=4.0, est=4.150881896000244, details={'was_impossible': True, 'reason': 'User and/or item is unknown.'}),\n",
              " Prediction(uid='A6OZA4FA3XNQ', iid='B00004TX71', r_ui=5.0, est=4.150881896000244, details={'was_impossible': True, 'reason': 'User and/or item is unknown.'}),\n",
              " Prediction(uid='ANULQGVN63906', iid='B00004THDE', r_ui=2.0, est=4.150881896000244, details={'was_impossible': True, 'reason': 'User and/or item is unknown.'}),\n",
              " Prediction(uid='AXE7F0BH7O6YJ', iid='B00004ZC8Y', r_ui=1.0, est=4.150881896000244, details={'was_impossible': True, 'reason': 'User and/or item is unknown.'}),\n",
              " Prediction(uid='A16GBXDS51J019', iid='B000038AB2', r_ui=4.0, est=4.150881896000244, details={'was_impossible': True, 'reason': 'User and/or item is unknown.'}),\n",
              " Prediction(uid='A1OTHFFHEYQKUH', iid='B00004T8R2', r_ui=5.0, est=4.150881896000244, details={'was_impossible': True, 'reason': 'User and/or item is unknown.'}),\n",
              " Prediction(uid='AS28WVBBZ3G99', iid='B00002EQCW', r_ui=5.0, est=4.150881896000244, details={'was_impossible': True, 'reason': 'User and/or item is unknown.'}),\n",
              " Prediction(uid='AFRHDYC5PBU2Q', iid='B00004TWM6', r_ui=1.0, est=4.150881896000244, details={'was_impossible': True, 'reason': 'User and/or item is unknown.'}),\n",
              " Prediction(uid='A1934DFU3POAA8', iid='B00004SABB', r_ui=4.0, est=4.150881896000244, details={'was_impossible': True, 'reason': 'User and/or item is unknown.'}),\n",
              " Prediction(uid='AGAJ8FI42QV3W', iid='B00003CWDH', r_ui=1.0, est=4.150881896000244, details={'was_impossible': True, 'reason': 'User and/or item is unknown.'}),\n",
              " Prediction(uid='A3DM0HHJ69YK4G', iid='B00004WCID', r_ui=5.0, est=4.150881896000244, details={'was_impossible': True, 'reason': 'User and/or item is unknown.'}),\n",
              " Prediction(uid='A1FLUD22FIDAL2', iid='B00004Z0C7', r_ui=2.0, est=4.150881896000244, details={'was_impossible': True, 'reason': 'User and/or item is unknown.'}),\n",
              " Prediction(uid='A5JLAU2ARJ0BO', iid='B00004Z5L8', r_ui=5.0, est=4.456206896551724, details={'actual_k': 1, 'was_impossible': False}),\n",
              " Prediction(uid='A7ITY3BK45RO9', iid='B00001WRSJ', r_ui=5.0, est=4.150881896000244, details={'was_impossible': True, 'reason': 'User and/or item is unknown.'}),\n",
              " Prediction(uid='A26TMB2N2BVSBU', iid='B00004WCID', r_ui=5.0, est=4.150881896000244, details={'was_impossible': True, 'reason': 'User and/or item is unknown.'}),\n",
              " Prediction(uid='A2JMM5RPC0Z0EK', iid='B00004ZC8Y', r_ui=2.0, est=4.150881896000244, details={'was_impossible': True, 'reason': 'User and/or item is unknown.'}),\n",
              " Prediction(uid='A1Y6JFR8J74FLZ', iid='B000050NON', r_ui=5.0, est=4.150881896000244, details={'was_impossible': True, 'reason': 'User and/or item is unknown.'}),\n",
              " Prediction(uid='A3P18KE1S0P0Y0', iid='B00001QEMF', r_ui=5.0, est=4.150881896000244, details={'was_impossible': True, 'reason': 'User and/or item is unknown.'}),\n",
              " Prediction(uid='A15BPPSTV8F5PV', iid='1400532620', r_ui=2.0, est=4.150881896000244, details={'was_impossible': True, 'reason': 'User and/or item is unknown.'}),\n",
              " Prediction(uid='A2HX5KDLIX1Q2I', iid='B0000504DH', r_ui=3.0, est=4.150881896000244, details={'was_impossible': True, 'reason': 'User and/or item is unknown.'}),\n",
              " Prediction(uid='A3IS16HKSTF3TL', iid='B00004ZCJE', r_ui=3.0, est=4.150881896000244, details={'was_impossible': True, 'reason': 'User and/or item is unknown.'}),\n",
              " Prediction(uid='AX29N7JEJUNAQ', iid='9983891212', r_ui=4.0, est=4.150881896000244, details={'was_impossible': True, 'reason': 'User and/or item is unknown.'}),\n",
              " Prediction(uid='A2IQTGLZ3PIWAM', iid='B00001OWYM', r_ui=1.0, est=4.150881896000244, details={'was_impossible': True, 'reason': 'User and/or item is unknown.'}),\n",
              " Prediction(uid='A2WG72C4OT4P3S', iid='1400532655', r_ui=5.0, est=4.150881896000244, details={'was_impossible': True, 'reason': 'User and/or item is unknown.'}),\n",
              " Prediction(uid='ABS2NQL9VS562', iid='B00004ZCB4', r_ui=5.0, est=4.150881896000244, details={'was_impossible': True, 'reason': 'User and/or item is unknown.'}),\n",
              " Prediction(uid='APGC0C29UAYAF', iid='B00001QEMF', r_ui=4.0, est=4.150881896000244, details={'was_impossible': True, 'reason': 'User and/or item is unknown.'}),\n",
              " Prediction(uid='A3VCFY50MWGIUT', iid='B00004Z5D1', r_ui=5.0, est=4.150881896000244, details={'was_impossible': True, 'reason': 'User and/or item is unknown.'}),\n",
              " Prediction(uid='A1Y5MKCRAWXO6X', iid='B00004Z5D1', r_ui=4.0, est=4.150881896000244, details={'was_impossible': True, 'reason': 'User and/or item is unknown.'}),\n",
              " Prediction(uid='A3TJ67V5EYBS4G', iid='B00004ZCJE', r_ui=5.0, est=4.150881896000244, details={'was_impossible': True, 'reason': 'User and/or item is unknown.'}),\n",
              " Prediction(uid='A2SEEF9VPIU8ZW', iid='B00004THCZ', r_ui=4.0, est=4.150881896000244, details={'was_impossible': True, 'reason': 'User and/or item is unknown.'}),\n",
              " Prediction(uid='A1IU7S4HCK1XK0', iid='B000031KIM', r_ui=4.0, est=4.178217821782178, details={'actual_k': 0, 'was_impossible': False}),\n",
              " Prediction(uid='A3T767O02CHFN1', iid='B00001W0DG', r_ui=3.0, est=3.604651162790698, details={'actual_k': 0, 'was_impossible': False}),\n",
              " Prediction(uid='A2QEG22Z2GS5RA', iid='B00002SWHH', r_ui=2.0, est=4.150881896000244, details={'was_impossible': True, 'reason': 'User and/or item is unknown.'}),\n",
              " Prediction(uid='A2YB1K40KYTUXQ', iid='B00004ZC8Y', r_ui=5.0, est=4.150881896000244, details={'was_impossible': True, 'reason': 'User and/or item is unknown.'}),\n",
              " Prediction(uid='A38U3AE5UPKVHF', iid='B00004XOM3', r_ui=4.0, est=4.150881896000244, details={'was_impossible': True, 'reason': 'User and/or item is unknown.'}),\n",
              " Prediction(uid='A1CM83OHE53Z5W', iid='B000001OMI', r_ui=1.0, est=4.150881896000244, details={'was_impossible': True, 'reason': 'User and/or item is unknown.'}),\n",
              " Prediction(uid='AL71YZ81NVELE', iid='B00004ZC9V', r_ui=5.0, est=4.150881896000244, details={'was_impossible': True, 'reason': 'User and/or item is unknown.'}),\n",
              " Prediction(uid='AQI1990MUKI51', iid='B00004W3YX', r_ui=3.0, est=4.150881896000244, details={'was_impossible': True, 'reason': 'User and/or item is unknown.'}),\n",
              " Prediction(uid='A1O69IUURXLQBZ', iid='B00004ZCJE', r_ui=5.0, est=4.150881896000244, details={'was_impossible': True, 'reason': 'User and/or item is unknown.'}),\n",
              " Prediction(uid='A2UP5C6G0KK9AI', iid='B00004R8V6', r_ui=5.0, est=4.150881896000244, details={'was_impossible': True, 'reason': 'User and/or item is unknown.'}),\n",
              " Prediction(uid='AK9Y7Z6Y2IPW8', iid='B00000JI4F', r_ui=3.0, est=4.150881896000244, details={'was_impossible': True, 'reason': 'User and/or item is unknown.'}),\n",
              " Prediction(uid='A2B8BKFO5JML7E', iid='B00004ZCJE', r_ui=5.0, est=4.150881896000244, details={'was_impossible': True, 'reason': 'User and/or item is unknown.'}),\n",
              " Prediction(uid='A1RF8ZH2QJZ9KN', iid='B00004WCGF', r_ui=5.0, est=4.150881896000244, details={'was_impossible': True, 'reason': 'User and/or item is unknown.'}),\n",
              " Prediction(uid='A30624TFRT3074', iid='B00004Z0C7', r_ui=5.0, est=4.115942028985507, details={'actual_k': 0, 'was_impossible': False}),\n",
              " Prediction(uid='A22NKRL9CFKHWC', iid='8862935293', r_ui=5.0, est=4.150881896000244, details={'was_impossible': True, 'reason': 'User and/or item is unknown.'}),\n",
              " Prediction(uid='A2PI7I77V28F6G', iid='B00004Z5PY', r_ui=5.0, est=4.150881896000244, details={'was_impossible': True, 'reason': 'User and/or item is unknown.'}),\n",
              " Prediction(uid='A2CT31YC5M1V6X', iid='B00003G1RG', r_ui=5.0, est=4.150881896000244, details={'was_impossible': True, 'reason': 'User and/or item is unknown.'}),\n",
              " Prediction(uid='A2KI66DFD40WL3', iid='B00000J1GA', r_ui=1.0, est=4.150881896000244, details={'was_impossible': True, 'reason': 'User and/or item is unknown.'}),\n",
              " Prediction(uid='A15JZP6QIYV0P9', iid='B00001P4ZH', r_ui=5.0, est=4.150881896000244, details={'was_impossible': True, 'reason': 'User and/or item is unknown.'}),\n",
              " Prediction(uid='ARK29LMYU638S', iid='B00004SABB', r_ui=5.0, est=4.150881896000244, details={'was_impossible': True, 'reason': 'User and/or item is unknown.'}),\n",
              " Prediction(uid='A2GYSIW57NNYHR', iid='B00004WCID', r_ui=5.0, est=4.150881896000244, details={'was_impossible': True, 'reason': 'User and/or item is unknown.'}),\n",
              " Prediction(uid='AD8W37JIESF4G', iid='B00004T1XK', r_ui=5.0, est=4.150881896000244, details={'was_impossible': True, 'reason': 'User and/or item is unknown.'}),\n",
              " Prediction(uid='A3F9UU02IJ2ECZ', iid='B00003CWDK', r_ui=5.0, est=4.150881896000244, details={'was_impossible': True, 'reason': 'User and/or item is unknown.'}),\n",
              " Prediction(uid='A358OWNNJY4W9Q', iid='B00004ZCKV', r_ui=5.0, est=4.150881896000244, details={'was_impossible': True, 'reason': 'User and/or item is unknown.'}),\n",
              " Prediction(uid='A32MC2TP6QVGVV', iid='B00004T8R2', r_ui=1.0, est=4.150881896000244, details={'was_impossible': True, 'reason': 'User and/or item is unknown.'}),\n",
              " Prediction(uid='A14BAG06UAKQXJ', iid='B00000JDF5', r_ui=4.0, est=4.150881896000244, details={'was_impossible': True, 'reason': 'User and/or item is unknown.'}),\n",
              " Prediction(uid='A2E61F3HYTVH8B', iid='B00004THDE', r_ui=5.0, est=4.150881896000244, details={'was_impossible': True, 'reason': 'User and/or item is unknown.'}),\n",
              " Prediction(uid='A394KTQFK85XPW', iid='B00001P4ZR', r_ui=5.0, est=4.150881896000244, details={'was_impossible': True, 'reason': 'User and/or item is unknown.'}),\n",
              " Prediction(uid='A29WJRK4DIF025', iid='B00004TWM6', r_ui=1.0, est=4.150881896000244, details={'was_impossible': True, 'reason': 'User and/or item is unknown.'}),\n",
              " Prediction(uid='AW73C28I3Z901', iid='B00000J4EY', r_ui=5.0, est=4.150881896000244, details={'was_impossible': True, 'reason': 'User and/or item is unknown.'}),\n",
              " Prediction(uid='A3SRELT0KNIPM1', iid='B000031KIM', r_ui=5.0, est=4.150881896000244, details={'was_impossible': True, 'reason': 'User and/or item is unknown.'}),\n",
              " Prediction(uid='AAZMOY5QFUMS7', iid='B000026D8E', r_ui=5.0, est=4.150881896000244, details={'was_impossible': True, 'reason': 'User and/or item is unknown.'}),\n",
              " Prediction(uid='A2Z8VF1YR3RS47', iid='B00004ZCJE', r_ui=5.0, est=4.150881896000244, details={'was_impossible': True, 'reason': 'User and/or item is unknown.'}),\n",
              " Prediction(uid='A3U2NVZ94D5232', iid='7214047977', r_ui=5.0, est=4.150881896000244, details={'was_impossible': True, 'reason': 'User and/or item is unknown.'}),\n",
              " Prediction(uid='A1R2514DVWIIMV', iid='0972683275', r_ui=4.0, est=4.150881896000244, details={'was_impossible': True, 'reason': 'User and/or item is unknown.'}),\n",
              " Prediction(uid='AGO7YP8E0T914', iid='B00004VUGJ', r_ui=5.0, est=4.150881896000244, details={'was_impossible': True, 'reason': 'User and/or item is unknown.'}),\n",
              " Prediction(uid='A2MAJCYOOW7PB6', iid='B00004WGNF', r_ui=5.0, est=4.150881896000244, details={'was_impossible': True, 'reason': 'User and/or item is unknown.'}),\n",
              " Prediction(uid='A2CVP56ALVSHHJ', iid='B00001P4ZH', r_ui=5.0, est=4.150881896000244, details={'was_impossible': True, 'reason': 'User and/or item is unknown.'}),\n",
              " Prediction(uid='A2SKYPCF3RH7E4', iid='B00000JDF5', r_ui=5.0, est=4.150881896000244, details={'was_impossible': True, 'reason': 'User and/or item is unknown.'}),\n",
              " Prediction(uid='A3F66CWNNM3OD', iid='B00004Z5D1', r_ui=5.0, est=4.150881896000244, details={'was_impossible': True, 'reason': 'User and/or item is unknown.'}),\n",
              " Prediction(uid='A2624IHUDRUSA7', iid='B00004ZC8Y', r_ui=5.0, est=4.150881896000244, details={'was_impossible': True, 'reason': 'User and/or item is unknown.'}),\n",
              " Prediction(uid='A13GP6DZ3BDYB6', iid='B00004SD88', r_ui=5.0, est=4.150881896000244, details={'was_impossible': True, 'reason': 'User and/or item is unknown.'}),\n",
              " Prediction(uid='A3IE50QN2MI6X8', iid='B00004TYBM', r_ui=4.0, est=4.150881896000244, details={'was_impossible': True, 'reason': 'User and/or item is unknown.'}),\n",
              " Prediction(uid='A53M4H9EK6OPL', iid='B00004WCGC', r_ui=5.0, est=4.150881896000244, details={'was_impossible': True, 'reason': 'User and/or item is unknown.'}),\n",
              " Prediction(uid='A11JMKQV38P9J4', iid='B00004SB92', r_ui=5.0, est=4.150881896000244, details={'was_impossible': True, 'reason': 'User and/or item is unknown.'}),\n",
              " Prediction(uid='A1A8TXS6CBWQCN', iid='B00004Z5H3', r_ui=5.0, est=4.150881896000244, details={'was_impossible': True, 'reason': 'User and/or item is unknown.'}),\n",
              " Prediction(uid='A1I4RXOW06NLW0', iid='B00001WRSJ', r_ui=5.0, est=4.150881896000244, details={'was_impossible': True, 'reason': 'User and/or item is unknown.'}),\n",
              " Prediction(uid='A3TY6PPZA7DGL8', iid='7214047977', r_ui=4.0, est=4.150881896000244, details={'was_impossible': True, 'reason': 'User and/or item is unknown.'}),\n",
              " Prediction(uid='AYJOU1ZXU0407', iid='B00004ZC9V', r_ui=5.0, est=4.474452554744525, details={'actual_k': 0, 'was_impossible': False}),\n",
              " Prediction(uid='A382XPXKY11IIN', iid='B00004RDMR', r_ui=4.0, est=4.150881896000244, details={'was_impossible': True, 'reason': 'User and/or item is unknown.'}),\n",
              " Prediction(uid='A20DMD3NSG6CCJ', iid='B00001X5AL', r_ui=1.0, est=4.150881896000244, details={'was_impossible': True, 'reason': 'User and/or item is unknown.'}),\n",
              " Prediction(uid='AS73HS4266EBF', iid='B00004THCZ', r_ui=5.0, est=4.150881896000244, details={'was_impossible': True, 'reason': 'User and/or item is unknown.'}),\n",
              " Prediction(uid='A1GQL9U9A1HZRV', iid='B000050XL7', r_ui=4.0, est=4.150881896000244, details={'was_impossible': True, 'reason': 'User and/or item is unknown.'}),\n",
              " Prediction(uid='A33JL4KF82QHIP', iid='B00004TWM6', r_ui=5.0, est=4.150881896000244, details={'was_impossible': True, 'reason': 'User and/or item is unknown.'}),\n",
              " Prediction(uid='A3PBQYLXZ77BGK', iid='B00001WRSJ', r_ui=2.0, est=4.150881896000244, details={'was_impossible': True, 'reason': 'User and/or item is unknown.'}),\n",
              " Prediction(uid='ABA9I86U5F9ZM', iid='B00004THCZ', r_ui=2.0, est=4.150881896000244, details={'was_impossible': True, 'reason': 'User and/or item is unknown.'}),\n",
              " Prediction(uid='A21Z1CR925TBR2', iid='B00004T0RC', r_ui=5.0, est=4.150881896000244, details={'was_impossible': True, 'reason': 'User and/or item is unknown.'}),\n",
              " Prediction(uid='A2QQVDM64Z5CS', iid='B00004T1XE', r_ui=4.0, est=4.150881896000244, details={'was_impossible': True, 'reason': 'User and/or item is unknown.'}),\n",
              " Prediction(uid='A29HQXXCBUHJL8', iid='B00004Z0BO', r_ui=4.0, est=4.150881896000244, details={'was_impossible': True, 'reason': 'User and/or item is unknown.'}),\n",
              " Prediction(uid='A1KWGCD5N8J846', iid='B00004ZCJE', r_ui=5.0, est=4.048299035104031, details={'actual_k': 1, 'was_impossible': False}),\n",
              " Prediction(uid='A2LXFSSBFJ6QWX', iid='B00000JI4F', r_ui=2.0, est=4.150881896000244, details={'was_impossible': True, 'reason': 'User and/or item is unknown.'}),\n",
              " Prediction(uid='AVENYEDTDXVBF', iid='B00004VUGJ', r_ui=5.0, est=4.150881896000244, details={'was_impossible': True, 'reason': 'User and/or item is unknown.'}),\n",
              " Prediction(uid='A1SHK7D1XG7RIY', iid='1400532620', r_ui=5.0, est=4.150881896000244, details={'was_impossible': True, 'reason': 'User and/or item is unknown.'}),\n",
              " Prediction(uid='A13XDM0WWSBIL5', iid='B00004T8R2', r_ui=3.0, est=4.150881896000244, details={'was_impossible': True, 'reason': 'User and/or item is unknown.'}),\n",
              " Prediction(uid='A154Q8G3EXQ0Y0', iid='1400532655', r_ui=1.0, est=4.150881896000244, details={'was_impossible': True, 'reason': 'User and/or item is unknown.'}),\n",
              " Prediction(uid='A2Y5BS2YVXGT6L', iid='B00004Z61H', r_ui=4.0, est=4.150881896000244, details={'was_impossible': True, 'reason': 'User and/or item is unknown.'}),\n",
              " Prediction(uid='A3G1R25I8B5CP', iid='B00004VUGJ', r_ui=5.0, est=4.150881896000244, details={'was_impossible': True, 'reason': 'User and/or item is unknown.'}),\n",
              " Prediction(uid='A2ZLSOA4XP6A9Z', iid='B00004VX39', r_ui=4.0, est=4.150881896000244, details={'was_impossible': True, 'reason': 'User and/or item is unknown.'}),\n",
              " Prediction(uid='A2SJVK0G3KLIB1', iid='B00001W0EQ', r_ui=5.0, est=4.150881896000244, details={'was_impossible': True, 'reason': 'User and/or item is unknown.'}),\n",
              " Prediction(uid='AOBYHJ5PTV67H', iid='B00004T8R2', r_ui=5.0, est=4.150881896000244, details={'was_impossible': True, 'reason': 'User and/or item is unknown.'}),\n",
              " Prediction(uid='A3KAFTYT1T0WAI', iid='B00001P4ZH', r_ui=5.0, est=4.150881896000244, details={'was_impossible': True, 'reason': 'User and/or item is unknown.'}),\n",
              " Prediction(uid='A349JI2UDHNV2L', iid='B00004ZCJE', r_ui=5.0, est=4.150881896000244, details={'was_impossible': True, 'reason': 'User and/or item is unknown.'}),\n",
              " Prediction(uid='A312FYFS8KVEYX', iid='B00004WCID', r_ui=4.0, est=4.150881896000244, details={'was_impossible': True, 'reason': 'User and/or item is unknown.'}),\n",
              " Prediction(uid='A2PR0TAA4JAH33', iid='B000001OM5', r_ui=5.0, est=4.150881896000244, details={'was_impossible': True, 'reason': 'User and/or item is unknown.'}),\n",
              " Prediction(uid='AQOCOE5WSOVW', iid='B00004WCGF', r_ui=5.0, est=4.150881896000244, details={'was_impossible': True, 'reason': 'User and/or item is unknown.'}),\n",
              " Prediction(uid='A2S9AIQQ6YLRTD', iid='B00000K2YR', r_ui=4.0, est=4.150881896000244, details={'was_impossible': True, 'reason': 'User and/or item is unknown.'}),\n",
              " Prediction(uid='A321L399QGWQYY', iid='B00004TWLY', r_ui=4.0, est=4.150881896000244, details={'was_impossible': True, 'reason': 'User and/or item is unknown.'}),\n",
              " Prediction(uid='A1AM8TKXTMT5AU', iid='B00001W0DH', r_ui=5.0, est=4.150881896000244, details={'was_impossible': True, 'reason': 'User and/or item is unknown.'}),\n",
              " Prediction(uid='A1S95WASXJ02VX', iid='B00001P4XA', r_ui=5.0, est=4.150881896000244, details={'was_impossible': True, 'reason': 'User and/or item is unknown.'}),\n",
              " Prediction(uid='AZQJQBJ75DHMS', iid='B00000J1F3', r_ui=4.0, est=4.150881896000244, details={'was_impossible': True, 'reason': 'User and/or item is unknown.'}),\n",
              " Prediction(uid='A3CTI2ARGG2T7X', iid='B00000JYWQ', r_ui=4.0, est=4.150881896000244, details={'was_impossible': True, 'reason': 'User and/or item is unknown.'}),\n",
              " Prediction(uid='A2RM5I9G6D7FPB', iid='B00001WRSJ', r_ui=4.0, est=4.150881896000244, details={'was_impossible': True, 'reason': 'User and/or item is unknown.'}),\n",
              " Prediction(uid='ASWCLDH4MRFDU', iid='B00000J4FS', r_ui=4.0, est=3.9165190203230846, details={'actual_k': 1, 'was_impossible': False}),\n",
              " Prediction(uid='A1MADL7UMDRH89', iid='B00004SABB', r_ui=3.0, est=4.150881896000244, details={'was_impossible': True, 'reason': 'User and/or item is unknown.'}),\n",
              " Prediction(uid='A22P83D8JRKI16', iid='B00001QEMF', r_ui=5.0, est=4.150881896000244, details={'was_impossible': True, 'reason': 'User and/or item is unknown.'}),\n",
              " Prediction(uid='A35HVY8BVXEBUA', iid='B00004ZC9V', r_ui=3.0, est=4.150881896000244, details={'was_impossible': True, 'reason': 'User and/or item is unknown.'}),\n",
              " Prediction(uid='A2CC2CRU24E44X', iid='B00004RDMR', r_ui=5.0, est=4.150881896000244, details={'was_impossible': True, 'reason': 'User and/or item is unknown.'}),\n",
              " Prediction(uid='A3HUXZD8SN7G4C', iid='B00001P4XA', r_ui=1.0, est=4.150881896000244, details={'was_impossible': True, 'reason': 'User and/or item is unknown.'}),\n",
              " Prediction(uid='A212REVB5AFP02', iid='0972683275', r_ui=4.0, est=4.150881896000244, details={'was_impossible': True, 'reason': 'User and/or item is unknown.'}),\n",
              " Prediction(uid='A1QO6N3XBPLB6C', iid='B00000J1QR', r_ui=4.0, est=4.150881896000244, details={'was_impossible': True, 'reason': 'User and/or item is unknown.'}),\n",
              " Prediction(uid='AC9CQKGVC7BW9', iid='B00004XOM3', r_ui=5.0, est=4.150881896000244, details={'was_impossible': True, 'reason': 'User and/or item is unknown.'}),\n",
              " Prediction(uid='A2CZVODK1JP5KT', iid='B00004SQET', r_ui=5.0, est=4.150881896000244, details={'was_impossible': True, 'reason': 'User and/or item is unknown.'}),\n",
              " Prediction(uid='A3LV9A9GG0JHNC', iid='B00004T8R2', r_ui=5.0, est=4.150881896000244, details={'was_impossible': True, 'reason': 'User and/or item is unknown.'}),\n",
              " Prediction(uid='A1XFI340SHOS5K', iid='B00000J4GE', r_ui=4.0, est=4.150881896000244, details={'was_impossible': True, 'reason': 'User and/or item is unknown.'}),\n",
              " Prediction(uid='A39J88AKDWZQLG', iid='B00004ZC8Y', r_ui=4.0, est=4.150881896000244, details={'was_impossible': True, 'reason': 'User and/or item is unknown.'}),\n",
              " Prediction(uid='A2GP5CQEHN0MVO', iid='B00004ZCJE', r_ui=3.0, est=4.150881896000244, details={'was_impossible': True, 'reason': 'User and/or item is unknown.'}),\n",
              " Prediction(uid='A36N2I7T8KSQEF', iid='B00000J1V5', r_ui=5.0, est=4.150881896000244, details={'was_impossible': True, 'reason': 'User and/or item is unknown.'}),\n",
              " Prediction(uid='A1F3BUDAE2HVK0', iid='B00004TBLW', r_ui=5.0, est=4.150881896000244, details={'was_impossible': True, 'reason': 'User and/or item is unknown.'}),\n",
              " Prediction(uid='AFNOPXO7ZG3ET', iid='B00003CWDG', r_ui=5.0, est=4.150881896000244, details={'was_impossible': True, 'reason': 'User and/or item is unknown.'}),\n",
              " Prediction(uid='A3H8R9RBN7MYD', iid='B00000K4KH', r_ui=4.0, est=4.150881896000244, details={'was_impossible': True, 'reason': 'User and/or item is unknown.'}),\n",
              " Prediction(uid='A2SPHWZWS6HGPJ', iid='B00004T0RC', r_ui=4.0, est=4.386363636363637, details={'actual_k': 0, 'was_impossible': False}),\n",
              " Prediction(uid='ALBXRG8LSR6TW', iid='B00004Z5M1', r_ui=5.0, est=4.150881896000244, details={'was_impossible': True, 'reason': 'User and/or item is unknown.'}),\n",
              " Prediction(uid='A1BW517GI5GWBI', iid='B00004WCIC', r_ui=5.0, est=4.150881896000244, details={'was_impossible': True, 'reason': 'User and/or item is unknown.'}),\n",
              " Prediction(uid='A1ABFPAYZTSPJY', iid='B00000J1TX', r_ui=5.0, est=4.150881896000244, details={'was_impossible': True, 'reason': 'User and/or item is unknown.'}),\n",
              " Prediction(uid='A3KP5RT824NFXW', iid='B00004THDE', r_ui=4.0, est=4.150881896000244, details={'was_impossible': True, 'reason': 'User and/or item is unknown.'}),\n",
              " Prediction(uid='A2ZCYLJDBI25GJ', iid='B00004SB92', r_ui=4.0, est=4.150881896000244, details={'was_impossible': True, 'reason': 'User and/or item is unknown.'}),\n",
              " Prediction(uid='A1T3BLDYI85T0W', iid='B00004Y7TD', r_ui=5.0, est=4.150881896000244, details={'was_impossible': True, 'reason': 'User and/or item is unknown.'}),\n",
              " Prediction(uid='ACTDPSHFSWRD1', iid='B00004Z5M1', r_ui=5.0, est=4.150881896000244, details={'was_impossible': True, 'reason': 'User and/or item is unknown.'}),\n",
              " Prediction(uid='A3UI9U9NOOAM9S', iid='B00004SQET', r_ui=5.0, est=4.150881896000244, details={'was_impossible': True, 'reason': 'User and/or item is unknown.'}),\n",
              " Prediction(uid='A3A9TQ7L5240KQ', iid='B00001W0DI', r_ui=5.0, est=4.150881896000244, details={'was_impossible': True, 'reason': 'User and/or item is unknown.'}),\n",
              " Prediction(uid='AMQVTGAQ4OY3T', iid='B0000228GF', r_ui=5.0, est=4.150881896000244, details={'was_impossible': True, 'reason': 'User and/or item is unknown.'}),\n",
              " Prediction(uid='A21ZOMZ93G306Y', iid='B00004T1XE', r_ui=5.0, est=4.150881896000244, details={'was_impossible': True, 'reason': 'User and/or item is unknown.'}),\n",
              " Prediction(uid='A2PM4ZSP28ZXIH', iid='B000001ON6', r_ui=5.0, est=4.150881896000244, details={'was_impossible': True, 'reason': 'User and/or item is unknown.'}),\n",
              " Prediction(uid='AYOKRAK8MOQXB', iid='1400532620', r_ui=3.0, est=4.150881896000244, details={'was_impossible': True, 'reason': 'User and/or item is unknown.'}),\n",
              " Prediction(uid='A1DJ1ABOWCUV02', iid='B00004RDMR', r_ui=5.0, est=4.150881896000244, details={'was_impossible': True, 'reason': 'User and/or item is unknown.'}),\n",
              " Prediction(uid='A3H3Z5CS13K02F', iid='B00004WCGF', r_ui=5.0, est=4.150881896000244, details={'was_impossible': True, 'reason': 'User and/or item is unknown.'}),\n",
              " Prediction(uid='A3DF40X8T0QP39', iid='B00001WRSJ', r_ui=5.0, est=4.150881896000244, details={'was_impossible': True, 'reason': 'User and/or item is unknown.'}),\n",
              " Prediction(uid='A1BOP5C0PKARME', iid='B00004VX39', r_ui=3.0, est=4.150881896000244, details={'was_impossible': True, 'reason': 'User and/or item is unknown.'}),\n",
              " Prediction(uid='A22QA7TZH6EM23', iid='9573212919', r_ui=5.0, est=4.150881896000244, details={'was_impossible': True, 'reason': 'User and/or item is unknown.'}),\n",
              " Prediction(uid='A2BF5WUJUGIV04', iid='B00000J1EP', r_ui=5.0, est=4.150881896000244, details={'was_impossible': True, 'reason': 'User and/or item is unknown.'}),\n",
              " Prediction(uid='A24CK01UQZPZJ1', iid='B00004WCID', r_ui=4.0, est=4.150881896000244, details={'was_impossible': True, 'reason': 'User and/or item is unknown.'}),\n",
              " Prediction(uid='A563J338VLB3I', iid='B00004TBLW', r_ui=5.0, est=4.150881896000244, details={'was_impossible': True, 'reason': 'User and/or item is unknown.'}),\n",
              " Prediction(uid='A35YLDC2W0EWAY', iid='B00004ZCJE', r_ui=3.0, est=4.150881896000244, details={'was_impossible': True, 'reason': 'User and/or item is unknown.'}),\n",
              " Prediction(uid='A2UDBHS7MZP06L', iid='B00000J0D5', r_ui=1.0, est=4.150881896000244, details={'was_impossible': True, 'reason': 'User and/or item is unknown.'}),\n",
              " Prediction(uid='AAPWPPOYXW9NW', iid='B00004ZCJE', r_ui=1.0, est=4.150881896000244, details={'was_impossible': True, 'reason': 'User and/or item is unknown.'}),\n",
              " Prediction(uid='AZSKORJRCSQ38', iid='B00000K135', r_ui=5.0, est=4.150881896000244, details={'was_impossible': True, 'reason': 'User and/or item is unknown.'}),\n",
              " Prediction(uid='A14VXKTBKGZ9SD', iid='B00004RIUB', r_ui=3.0, est=3.230769230769231, details={'actual_k': 0, 'was_impossible': False}),\n",
              " Prediction(uid='A1O4TG1QT4O1AN', iid='B00000JDF6', r_ui=5.0, est=4.150881896000244, details={'was_impossible': True, 'reason': 'User and/or item is unknown.'}),\n",
              " Prediction(uid='A3DN53KH724BR4', iid='9575871979', r_ui=5.0, est=4.150881896000244, details={'was_impossible': True, 'reason': 'User and/or item is unknown.'}),\n",
              " Prediction(uid='A33MCC7G5GBS1E', iid='B00000J1F3', r_ui=5.0, est=4.150881896000244, details={'was_impossible': True, 'reason': 'User and/or item is unknown.'}),\n",
              " Prediction(uid='A2WO1AMGXON0QH', iid='B00004Z5H3', r_ui=5.0, est=4.7272727272727275, details={'actual_k': 0, 'was_impossible': False}),\n",
              " Prediction(uid='AUFX5ZHXKCQ8V', iid='B00003006K', r_ui=1.0, est=4.150881896000244, details={'was_impossible': True, 'reason': 'User and/or item is unknown.'}),\n",
              " Prediction(uid='A39FCPRLJAEA78', iid='B00004Z0BO', r_ui=4.0, est=4.150881896000244, details={'was_impossible': True, 'reason': 'User and/or item is unknown.'}),\n",
              " Prediction(uid='A3CKOHHF5F5XXD', iid='B00000K135', r_ui=5.0, est=4.150881896000244, details={'was_impossible': True, 'reason': 'User and/or item is unknown.'}),\n",
              " Prediction(uid='A1SVVOKIP0TQ0Z', iid='B00004T8R2', r_ui=4.0, est=4.150881896000244, details={'was_impossible': True, 'reason': 'User and/or item is unknown.'}),\n",
              " Prediction(uid='AMZEA27C3RX5G', iid='B00001WRSJ', r_ui=4.0, est=4.150881896000244, details={'was_impossible': True, 'reason': 'User and/or item is unknown.'}),\n",
              " Prediction(uid='A331QL8HZVT10S', iid='B00004WCFY', r_ui=1.0, est=4.150881896000244, details={'was_impossible': True, 'reason': 'User and/or item is unknown.'}),\n",
              " Prediction(uid='A3IPRU0TEG4DI3', iid='B00004VX15', r_ui=1.0, est=4.150881896000244, details={'was_impossible': True, 'reason': 'User and/or item is unknown.'}),\n",
              " Prediction(uid='A2B9512AVQKMAW', iid='B00004RFB8', r_ui=3.0, est=4.150881896000244, details={'was_impossible': True, 'reason': 'User and/or item is unknown.'}),\n",
              " Prediction(uid='A2S0NL455FEH08', iid='B00000J3Q7', r_ui=4.0, est=4.150881896000244, details={'was_impossible': True, 'reason': 'User and/or item is unknown.'}),\n",
              " Prediction(uid='A1MFAPVBW9BEGD', iid='B00004ZCJE', r_ui=1.0, est=4.150881896000244, details={'was_impossible': True, 'reason': 'User and/or item is unknown.'}),\n",
              " Prediction(uid='A1GDQX6K5CR1PE', iid='B00004SY4H', r_ui=5.0, est=4.150881896000244, details={'was_impossible': True, 'reason': 'User and/or item is unknown.'}),\n",
              " Prediction(uid='A2H3HEVGSEURNL', iid='1400501520', r_ui=5.0, est=4.150881896000244, details={'was_impossible': True, 'reason': 'User and/or item is unknown.'}),\n",
              " Prediction(uid='A3E6ZJMPO9SQWO', iid='B00001W0DH', r_ui=3.0, est=4.150881896000244, details={'was_impossible': True, 'reason': 'User and/or item is unknown.'}),\n",
              " Prediction(uid='A2A9S6UDMWNJW7', iid='B00004YMBK', r_ui=5.0, est=4.150881896000244, details={'was_impossible': True, 'reason': 'User and/or item is unknown.'}),\n",
              " Prediction(uid='A1E6K9O23JFL46', iid='B00004ZCJE', r_ui=1.0, est=4.150881896000244, details={'was_impossible': True, 'reason': 'User and/or item is unknown.'}),\n",
              " Prediction(uid='A2HJSW72PHY9CI', iid='B00001P4ZR', r_ui=1.0, est=4.150881896000244, details={'was_impossible': True, 'reason': 'User and/or item is unknown.'}),\n",
              " Prediction(uid='A10A8UOBJ5J510', iid='B00004VX3T', r_ui=5.0, est=4.150881896000244, details={'was_impossible': True, 'reason': 'User and/or item is unknown.'}),\n",
              " Prediction(uid='AF1FR1OU7Z4VP', iid='B00004VUGJ', r_ui=3.0, est=4.150881896000244, details={'was_impossible': True, 'reason': 'User and/or item is unknown.'}),\n",
              " Prediction(uid='A17D6N3Q065U7C', iid='B00004Z5QU', r_ui=5.0, est=4.150881896000244, details={'was_impossible': True, 'reason': 'User and/or item is unknown.'}),\n",
              " Prediction(uid='AFJSHXR3XGIT3', iid='B00004ZCJE', r_ui=5.0, est=4.150881896000244, details={'was_impossible': True, 'reason': 'User and/or item is unknown.'}),\n",
              " Prediction(uid='A228B35PGJ9S8I', iid='B00004T1XK', r_ui=5.0, est=4.150881896000244, details={'was_impossible': True, 'reason': 'User and/or item is unknown.'}),\n",
              " Prediction(uid='A1SVIUGTMO4V3', iid='B00004THCZ', r_ui=5.0, est=4.150881896000244, details={'was_impossible': True, 'reason': 'User and/or item is unknown.'}),\n",
              " Prediction(uid='A1GACZO8MIN43U', iid='B00000K2YR', r_ui=3.0, est=4.150881896000244, details={'was_impossible': True, 'reason': 'User and/or item is unknown.'}),\n",
              " Prediction(uid='AU4ZDB7EVHTNL', iid='B00004Z5M1', r_ui=5.0, est=4.150881896000244, details={'was_impossible': True, 'reason': 'User and/or item is unknown.'}),\n",
              " Prediction(uid='AZNMO6T8G0ZEU', iid='9573212919', r_ui=5.0, est=4.150881896000244, details={'was_impossible': True, 'reason': 'User and/or item is unknown.'}),\n",
              " Prediction(uid='AQH81SCMBJ7CL', iid='B00004VX15', r_ui=4.0, est=4.150881896000244, details={'was_impossible': True, 'reason': 'User and/or item is unknown.'}),\n",
              " Prediction(uid='A9TJ1RCR5117O', iid='B00004WLJ2', r_ui=5.0, est=4.150881896000244, details={'was_impossible': True, 'reason': 'User and/or item is unknown.'}),\n",
              " Prediction(uid='A2PWKSFDA16C48', iid='B00000K2YR', r_ui=5.0, est=4.150881896000244, details={'was_impossible': True, 'reason': 'User and/or item is unknown.'}),\n",
              " Prediction(uid='ANSIV0EZ3E7FU', iid='B00001P4XA', r_ui=5.0, est=4.150881896000244, details={'was_impossible': True, 'reason': 'User and/or item is unknown.'}),\n",
              " Prediction(uid='A1QEC6Q65TBN6V', iid='B00004S9AK', r_ui=1.0, est=4.150881896000244, details={'was_impossible': True, 'reason': 'User and/or item is unknown.'}),\n",
              " Prediction(uid='ATX95B0EJUFSK', iid='B00004TDN2', r_ui=5.0, est=4.150881896000244, details={'was_impossible': True, 'reason': 'User and/or item is unknown.'}),\n",
              " Prediction(uid='A2AX6FWM46HA5Z', iid='B00001W0DI', r_ui=5.0, est=4.150881896000244, details={'was_impossible': True, 'reason': 'User and/or item is unknown.'}),\n",
              " Prediction(uid='A38QCD9809EMRL', iid='6301977173', r_ui=1.0, est=4.150881896000244, details={'was_impossible': True, 'reason': 'User and/or item is unknown.'}),\n",
              " Prediction(uid='A3DDMPCH7U3J3N', iid='140053271X', r_ui=5.0, est=4.150881896000244, details={'was_impossible': True, 'reason': 'User and/or item is unknown.'}),\n",
              " Prediction(uid='AOYEO5AIEZ7IF', iid='B00004YZQ8', r_ui=5.0, est=4.538461538461538, details={'actual_k': 0, 'was_impossible': False}),\n",
              " Prediction(uid='A3KZPOFMFB7W9V', iid='B00000J1UQ', r_ui=5.0, est=4.150881896000244, details={'was_impossible': True, 'reason': 'User and/or item is unknown.'}),\n",
              " Prediction(uid='A2ES6573Q9SSYM', iid='B00004W3ZQ', r_ui=4.0, est=4.150881896000244, details={'was_impossible': True, 'reason': 'User and/or item is unknown.'}),\n",
              " Prediction(uid='A1Z45DENVX2PQ1', iid='B00004WGNF', r_ui=5.0, est=4.150881896000244, details={'was_impossible': True, 'reason': 'User and/or item is unknown.'}),\n",
              " Prediction(uid='A1XIWCK1ZGS1YW', iid='B00004TL5Q', r_ui=1.0, est=4.150881896000244, details={'was_impossible': True, 'reason': 'User and/or item is unknown.'}),\n",
              " Prediction(uid='A342GDCG6CIYQ2', iid='B00001P4ZR', r_ui=4.0, est=4.150881896000244, details={'was_impossible': True, 'reason': 'User and/or item is unknown.'}),\n",
              " Prediction(uid='AEV35RD3BFEO2', iid='B00004Z5M1', r_ui=5.0, est=4.150881896000244, details={'was_impossible': True, 'reason': 'User and/or item is unknown.'}),\n",
              " Prediction(uid='A37MY77HL3M1G8', iid='B00004YBVF', r_ui=3.0, est=4.150881896000244, details={'was_impossible': True, 'reason': 'User and/or item is unknown.'}),\n",
              " Prediction(uid='A1SUX14C5HPA8D', iid='B00000JYLO', r_ui=5.0, est=4.150881896000244, details={'was_impossible': True, 'reason': 'User and/or item is unknown.'}),\n",
              " Prediction(uid='APWY5SPO12LJQ', iid='B00004Y7CF', r_ui=1.0, est=3.8533333333333335, details={'actual_k': 0, 'was_impossible': False}),\n",
              " Prediction(uid='A1WNUS05V9D0PP', iid='B00001WRSJ', r_ui=3.0, est=4.150881896000244, details={'was_impossible': True, 'reason': 'User and/or item is unknown.'}),\n",
              " Prediction(uid='A1IIQO2453V234', iid='B00004Z5KA', r_ui=5.0, est=4.150881896000244, details={'was_impossible': True, 'reason': 'User and/or item is unknown.'}),\n",
              " Prediction(uid='A1ACFL171PN8UZ', iid='B00001P4ZR', r_ui=5.0, est=4.150881896000244, details={'was_impossible': True, 'reason': 'User and/or item is unknown.'}),\n",
              " Prediction(uid='A1OZAYRJQAERTK', iid='B00001WRSJ', r_ui=5.0, est=4.150881896000244, details={'was_impossible': True, 'reason': 'User and/or item is unknown.'}),\n",
              " Prediction(uid='AH5PJZ52HEXA', iid='B00000J4GE', r_ui=5.0, est=4.150881896000244, details={'was_impossible': True, 'reason': 'User and/or item is unknown.'}),\n",
              " Prediction(uid='A3B9JQZSXFSEQU', iid='B00004Z0BO', r_ui=5.0, est=4.150881896000244, details={'was_impossible': True, 'reason': 'User and/or item is unknown.'}),\n",
              " Prediction(uid='AVOFGZ70P39BH', iid='B000038AB2', r_ui=5.0, est=4.411764705882353, details={'actual_k': 0, 'was_impossible': False}),\n",
              " Prediction(uid='A1JAREBNI5AWYP', iid='B00003CWDH', r_ui=5.0, est=4.150881896000244, details={'was_impossible': True, 'reason': 'User and/or item is unknown.'}),\n",
              " Prediction(uid='A186SYJ56RFQPG', iid='B00003CWDG', r_ui=5.0, est=4.150881896000244, details={'was_impossible': True, 'reason': 'User and/or item is unknown.'}),\n",
              " Prediction(uid='A2OHEHPGQ8MNJX', iid='B00003CWDQ', r_ui=5.0, est=4.150881896000244, details={'was_impossible': True, 'reason': 'User and/or item is unknown.'}),\n",
              " Prediction(uid='A1519QJOZ6UQF6', iid='B00004T1XK', r_ui=4.0, est=4.150881896000244, details={'was_impossible': True, 'reason': 'User and/or item is unknown.'}),\n",
              " Prediction(uid='A2KIMAZIYPF61G', iid='B00004WCGF', r_ui=5.0, est=4.150881896000244, details={'was_impossible': True, 'reason': 'User and/or item is unknown.'}),\n",
              " Prediction(uid='A2GEIU1J1KD2EB', iid='B00004T8R2', r_ui=4.0, est=4.150881896000244, details={'was_impossible': True, 'reason': 'User and/or item is unknown.'}),\n",
              " Prediction(uid='A2Z3MTRP228NQ0', iid='B00004TDN2', r_ui=4.0, est=4.150881896000244, details={'was_impossible': True, 'reason': 'User and/or item is unknown.'}),\n",
              " Prediction(uid='AWNEUA33SAJZK', iid='B00004Z5KA', r_ui=5.0, est=4.150881896000244, details={'was_impossible': True, 'reason': 'User and/or item is unknown.'}),\n",
              " Prediction(uid='A33ENNU5G60VIH', iid='B00004TS16', r_ui=5.0, est=4.150881896000244, details={'was_impossible': True, 'reason': 'User and/or item is unknown.'}),\n",
              " Prediction(uid='A65T3WOHGE773', iid='B00004Z5M1', r_ui=5.0, est=4.150881896000244, details={'was_impossible': True, 'reason': 'User and/or item is unknown.'}),\n",
              " Prediction(uid='ALFXV7Q0TL2QN', iid='B00004TWVY', r_ui=5.0, est=4.150881896000244, details={'was_impossible': True, 'reason': 'User and/or item is unknown.'}),\n",
              " Prediction(uid='A33M2ZVFW2OR2S', iid='B00004THCZ', r_ui=4.0, est=4.150881896000244, details={'was_impossible': True, 'reason': 'User and/or item is unknown.'}),\n",
              " Prediction(uid='AGR1G5S0BO3R6', iid='B00004Z5L8', r_ui=5.0, est=4.150881896000244, details={'was_impossible': True, 'reason': 'User and/or item is unknown.'}),\n",
              " Prediction(uid='A3TPPI48UN9CCK', iid='B00003CWDH', r_ui=5.0, est=4.150881896000244, details={'was_impossible': True, 'reason': 'User and/or item is unknown.'}),\n",
              " Prediction(uid='A1TA8VI0AJEMKM', iid='B00004WCGF', r_ui=5.0, est=4.150881896000244, details={'was_impossible': True, 'reason': 'User and/or item is unknown.'}),\n",
              " Prediction(uid='ACS6ZU5VY4XJ0', iid='B00004VUGJ', r_ui=5.0, est=4.150881896000244, details={'was_impossible': True, 'reason': 'User and/or item is unknown.'}),\n",
              " Prediction(uid='A2YY4HK2BC0IAX', iid='B000023VUL', r_ui=3.0, est=4.150881896000244, details={'was_impossible': True, 'reason': 'User and/or item is unknown.'}),\n",
              " Prediction(uid='A2MIHZY78PDLW3', iid='B00004WCIC', r_ui=5.0, est=4.150881896000244, details={'was_impossible': True, 'reason': 'User and/or item is unknown.'}),\n",
              " Prediction(uid='ATY7T4WPLOCYX', iid='B00004T8R2', r_ui=5.0, est=4.150881896000244, details={'was_impossible': True, 'reason': 'User and/or item is unknown.'}),\n",
              " Prediction(uid='A31PXV9XPENREQ', iid='B00000J1V5', r_ui=5.0, est=4.150881896000244, details={'was_impossible': True, 'reason': 'User and/or item is unknown.'}),\n",
              " Prediction(uid='A3LQBA9SJGJWU6', iid='B00004SABB', r_ui=4.0, est=4.150881896000244, details={'was_impossible': True, 'reason': 'User and/or item is unknown.'}),\n",
              " Prediction(uid='A3CN0OHFUCV3RL', iid='B00004TWM6', r_ui=5.0, est=4.150881896000244, details={'was_impossible': True, 'reason': 'User and/or item is unknown.'}),\n",
              " Prediction(uid='A1ZM1M2598O5I3', iid='B00001OWYM', r_ui=1.0, est=4.150881896000244, details={'was_impossible': True, 'reason': 'User and/or item is unknown.'}),\n",
              " Prediction(uid='A1XNU4TJ7F0L7D', iid='B00004Z6N6', r_ui=5.0, est=4.150881896000244, details={'was_impossible': True, 'reason': 'User and/or item is unknown.'}),\n",
              " Prediction(uid='A10IPK523CLXBZ', iid='B00000K2YR', r_ui=4.0, est=4.150881896000244, details={'was_impossible': True, 'reason': 'User and/or item is unknown.'}),\n",
              " Prediction(uid='A7JQDI5K9XZY8', iid='B00004SQET', r_ui=3.0, est=4.150881896000244, details={'was_impossible': True, 'reason': 'User and/or item is unknown.'}),\n",
              " Prediction(uid='A3UW23DBF2KHWC', iid='B00004TDLD', r_ui=5.0, est=4.150881896000244, details={'was_impossible': True, 'reason': 'User and/or item is unknown.'}),\n",
              " Prediction(uid='APR3ZRKQK0NB5', iid='1400501466', r_ui=5.0, est=4.150881896000244, details={'was_impossible': True, 'reason': 'User and/or item is unknown.'}),\n",
              " Prediction(uid='A1CJRU6C1KLCEC', iid='B00003ETSJ', r_ui=2.0, est=4.150881896000244, details={'was_impossible': True, 'reason': 'User and/or item is unknown.'}),\n",
              " Prediction(uid='AXDOKAD6WGV51', iid='1400599997', r_ui=5.0, est=4.150881896000244, details={'was_impossible': True, 'reason': 'User and/or item is unknown.'}),\n",
              " Prediction(uid='A27HEUJQO590Z6', iid='B00004Y3UX', r_ui=2.0, est=4.150881896000244, details={'was_impossible': True, 'reason': 'User and/or item is unknown.'}),\n",
              " Prediction(uid='A8TZ88OM8YOLW', iid='B00000J0D5', r_ui=5.0, est=4.150881896000244, details={'was_impossible': True, 'reason': 'User and/or item is unknown.'}),\n",
              " Prediction(uid='A1R6JUYS66WMF5', iid='B00001P4ZH', r_ui=5.0, est=4.150881896000244, details={'was_impossible': True, 'reason': 'User and/or item is unknown.'}),\n",
              " Prediction(uid='A1LMUHXVNBLTGZ', iid='1400698987', r_ui=5.0, est=4.150881896000244, details={'was_impossible': True, 'reason': 'User and/or item is unknown.'}),\n",
              " Prediction(uid='A18DNS1HSB7V57', iid='B00004VXNF', r_ui=5.0, est=4.150881896000244, details={'was_impossible': True, 'reason': 'User and/or item is unknown.'}),\n",
              " Prediction(uid='A2NE7D8GC41UCL', iid='B00004Z0C7', r_ui=5.0, est=4.150881896000244, details={'was_impossible': True, 'reason': 'User and/or item is unknown.'}),\n",
              " Prediction(uid='A1B4C6TN0LGA2V', iid='B00001OWYM', r_ui=5.0, est=4.150881896000244, details={'was_impossible': True, 'reason': 'User and/or item is unknown.'}),\n",
              " Prediction(uid='A3W3FY5E1XB6JA', iid='B00004T8R2', r_ui=4.0, est=4.150881896000244, details={'was_impossible': True, 'reason': 'User and/or item is unknown.'}),\n",
              " Prediction(uid='A3ET6XZ2JJQJWD', iid='B00001WRSJ', r_ui=5.0, est=4.150881896000244, details={'was_impossible': True, 'reason': 'User and/or item is unknown.'}),\n",
              " Prediction(uid='A794AYQY5Z2UE', iid='B00004VUGJ', r_ui=5.0, est=4.150881896000244, details={'was_impossible': True, 'reason': 'User and/or item is unknown.'}),\n",
              " Prediction(uid='A1GLT310XTKZG8', iid='B00001WRSJ', r_ui=5.0, est=4.150881896000244, details={'was_impossible': True, 'reason': 'User and/or item is unknown.'}),\n",
              " Prediction(uid='A3FPCBHDKRPKED', iid='B00001W0EQ', r_ui=5.0, est=4.150881896000244, details={'was_impossible': True, 'reason': 'User and/or item is unknown.'}),\n",
              " Prediction(uid='A3S87DO1MRT0PE', iid='B00004Z7G9', r_ui=5.0, est=4.150881896000244, details={'was_impossible': True, 'reason': 'User and/or item is unknown.'}),\n",
              " Prediction(uid='A269VOM10K2MLG', iid='B00004WHFK', r_ui=1.0, est=4.150881896000244, details={'was_impossible': True, 'reason': 'User and/or item is unknown.'}),\n",
              " Prediction(uid='A1BBF33D07KLC3', iid='B00001P4ZH', r_ui=1.0, est=4.150881896000244, details={'was_impossible': True, 'reason': 'User and/or item is unknown.'}),\n",
              " Prediction(uid='A1DZXYQ7Z6XJ9U', iid='B00004ZCJE', r_ui=4.0, est=4.150881896000244, details={'was_impossible': True, 'reason': 'User and/or item is unknown.'}),\n",
              " Prediction(uid='AAEJHROQ2PFTM', iid='B00004SB92', r_ui=1.0, est=4.150881896000244, details={'was_impossible': True, 'reason': 'User and/or item is unknown.'}),\n",
              " Prediction(uid='A31AKOYZ4WCYTO', iid='B00002N7FQ', r_ui=5.0, est=4.150881896000244, details={'was_impossible': True, 'reason': 'User and/or item is unknown.'}),\n",
              " Prediction(uid='A30E73YLNXH2LJ', iid='B00001P4ZH', r_ui=4.0, est=4.150881896000244, details={'was_impossible': True, 'reason': 'User and/or item is unknown.'}),\n",
              " Prediction(uid='AHS3YB1E1QHZS', iid='B00004Z5P4', r_ui=5.0, est=4.150881896000244, details={'was_impossible': True, 'reason': 'User and/or item is unknown.'}),\n",
              " Prediction(uid='A21RBSWKD5M3PV', iid='B00004WCGF', r_ui=5.0, est=4.150881896000244, details={'was_impossible': True, 'reason': 'User and/or item is unknown.'}),\n",
              " Prediction(uid='AHMSFDCBNUBVI', iid='B00004THCZ', r_ui=4.0, est=4.150881896000244, details={'was_impossible': True, 'reason': 'User and/or item is unknown.'}),\n",
              " Prediction(uid='A3VW9L6XJHNQ5Z', iid='1400501466', r_ui=5.0, est=4.150881896000244, details={'was_impossible': True, 'reason': 'User and/or item is unknown.'}),\n",
              " Prediction(uid='A13XI97FOS25H4', iid='B00004ZC8Y', r_ui=5.0, est=4.150881896000244, details={'was_impossible': True, 'reason': 'User and/or item is unknown.'}),\n",
              " Prediction(uid='A1T4P08RT6KB6R', iid='B00000J0D2', r_ui=2.0, est=4.150881896000244, details={'was_impossible': True, 'reason': 'User and/or item is unknown.'}),\n",
              " Prediction(uid='A1WR5GC0TCUVC', iid='0972683275', r_ui=5.0, est=4.150881896000244, details={'was_impossible': True, 'reason': 'User and/or item is unknown.'}),\n",
              " Prediction(uid='A3GJF1RYLXMQOD', iid='B00000J061', r_ui=5.0, est=4.150881896000244, details={'was_impossible': True, 'reason': 'User and/or item is unknown.'}),\n",
              " Prediction(uid='A3R29F3F4PMC0F', iid='B00004TWM6', r_ui=4.0, est=4.150881896000244, details={'was_impossible': True, 'reason': 'User and/or item is unknown.'}),\n",
              " Prediction(uid='AIXOU10V3MKGJ', iid='B00004ZCJE', r_ui=5.0, est=4.150881896000244, details={'was_impossible': True, 'reason': 'User and/or item is unknown.'}),\n",
              " Prediction(uid='A1XWGTKBH3GGXP', iid='B00004TVSP', r_ui=4.0, est=4.150881896000244, details={'was_impossible': True, 'reason': 'User and/or item is unknown.'}),\n",
              " Prediction(uid='A2X92GFMN2QUY2', iid='B00004SABB', r_ui=5.0, est=4.150881896000244, details={'was_impossible': True, 'reason': 'User and/or item is unknown.'}),\n",
              " Prediction(uid='ABDHAYPNM28US', iid='B00000J3Q7', r_ui=5.0, est=4.150881896000244, details={'was_impossible': True, 'reason': 'User and/or item is unknown.'}),\n",
              " Prediction(uid='A1241RSXXBXDCX', iid='B00004ZCKV', r_ui=5.0, est=4.150881896000244, details={'was_impossible': True, 'reason': 'User and/or item is unknown.'}),\n",
              " Prediction(uid='A3OC83QRQF91H5', iid='B00000J4FS', r_ui=5.0, est=4.150881896000244, details={'was_impossible': True, 'reason': 'User and/or item is unknown.'}),\n",
              " Prediction(uid='A3RBI5561EMQHV', iid='B00004S9AK', r_ui=5.0, est=4.150881896000244, details={'was_impossible': True, 'reason': 'User and/or item is unknown.'}),\n",
              " Prediction(uid='ANLBF667T1WZA', iid='B00001QEMF', r_ui=4.0, est=4.150881896000244, details={'was_impossible': True, 'reason': 'User and/or item is unknown.'}),\n",
              " Prediction(uid='A3TKXRKTXN6YJH', iid='B00004ZCJE', r_ui=5.0, est=4.150881896000244, details={'was_impossible': True, 'reason': 'User and/or item is unknown.'}),\n",
              " Prediction(uid='A26PKR5Z17WHM2', iid='B00000K2YR', r_ui=3.0, est=4.150881896000244, details={'was_impossible': True, 'reason': 'User and/or item is unknown.'}),\n",
              " Prediction(uid='A3AGSFLNNIFKNJ', iid='B00000K4KH', r_ui=5.0, est=4.150881896000244, details={'was_impossible': True, 'reason': 'User and/or item is unknown.'}),\n",
              " Prediction(uid='A35FH52NBPUWQ8', iid='B00000J4GE', r_ui=5.0, est=4.150881896000244, details={'was_impossible': True, 'reason': 'User and/or item is unknown.'}),\n",
              " Prediction(uid='A3BYXF82DN7ZKC', iid='B00000JI4F', r_ui=1.0, est=4.150881896000244, details={'was_impossible': True, 'reason': 'User and/or item is unknown.'}),\n",
              " Prediction(uid='A2IMZNPSJGB2HQ', iid='B00004THCZ', r_ui=3.0, est=4.805310717350699, details={'actual_k': 1, 'was_impossible': False}),\n",
              " Prediction(uid='A2RCL56GS0CO3V', iid='B00000K135', r_ui=5.0, est=4.150881896000244, details={'was_impossible': True, 'reason': 'User and/or item is unknown.'}),\n",
              " Prediction(uid='AXBJ8BC52Q10M', iid='B000050XL7', r_ui=2.0, est=4.150881896000244, details={'was_impossible': True, 'reason': 'User and/or item is unknown.'}),\n",
              " Prediction(uid='A3RAUIWRFKXAIQ', iid='B00004TBLW', r_ui=4.0, est=4.150881896000244, details={'was_impossible': True, 'reason': 'User and/or item is unknown.'}),\n",
              " Prediction(uid='A39FX5FTFK8LK8', iid='1400599997', r_ui=5.0, est=3.418300653594771, details={'actual_k': 0, 'was_impossible': False}),\n",
              " Prediction(uid='AP0WZQR4P44NU', iid='B00001P4ZH', r_ui=4.0, est=4.150881896000244, details={'was_impossible': True, 'reason': 'User and/or item is unknown.'}),\n",
              " Prediction(uid='A2UOMPBTQYA59S', iid='B00001P4ZR', r_ui=5.0, est=4.150881896000244, details={'was_impossible': True, 'reason': 'User and/or item is unknown.'}),\n",
              " Prediction(uid='A3OEGVSXY0Y07W', iid='B00004TDLD', r_ui=5.0, est=4.150881896000244, details={'was_impossible': True, 'reason': 'User and/or item is unknown.'}),\n",
              " Prediction(uid='A1I71FH786ZQZ7', iid='B00004TBLW', r_ui=5.0, est=4.150881896000244, details={'was_impossible': True, 'reason': 'User and/or item is unknown.'}),\n",
              " Prediction(uid='A3SRXMPLAEZ6DP', iid='0972683275', r_ui=4.0, est=4.150881896000244, details={'was_impossible': True, 'reason': 'User and/or item is unknown.'}),\n",
              " Prediction(uid='A1RFPSOISQTSQD', iid='B00004WCGF', r_ui=3.0, est=4.150881896000244, details={'was_impossible': True, 'reason': 'User and/or item is unknown.'}),\n",
              " Prediction(uid='A2B3DUEUUQ8QD9', iid='B00004Z5D1', r_ui=5.0, est=4.150881896000244, details={'was_impossible': True, 'reason': 'User and/or item is unknown.'}),\n",
              " Prediction(uid='A18WKADVOE3BJI', iid='B00004Z5M1', r_ui=5.0, est=4.150881896000244, details={'was_impossible': True, 'reason': 'User and/or item is unknown.'}),\n",
              " Prediction(uid='AM803W85Q5IWB', iid='B00004WCIC', r_ui=5.0, est=4.150881896000244, details={'was_impossible': True, 'reason': 'User and/or item is unknown.'}),\n",
              " Prediction(uid='A30XHDCAO6MAEV', iid='B00004SB92', r_ui=4.0, est=4.150881896000244, details={'was_impossible': True, 'reason': 'User and/or item is unknown.'}),\n",
              " Prediction(uid='ASUEU546EVTH1', iid='B00004SB99', r_ui=4.0, est=4.150881896000244, details={'was_impossible': True, 'reason': 'User and/or item is unknown.'}),\n",
              " Prediction(uid='A24T8X9K45JPT1', iid='B000001OM5', r_ui=5.0, est=4.150881896000244, details={'was_impossible': True, 'reason': 'User and/or item is unknown.'}),\n",
              " Prediction(uid='ALRI5VCFB206H', iid='B00004VUGJ', r_ui=5.0, est=4.150881896000244, details={'was_impossible': True, 'reason': 'User and/or item is unknown.'}),\n",
              " Prediction(uid='A2GCUTSKDQ1PL5', iid='B00001W0EQ', r_ui=5.0, est=4.150881896000244, details={'was_impossible': True, 'reason': 'User and/or item is unknown.'}),\n",
              " Prediction(uid='AMFE8VDYAN5D3', iid='1400532655', r_ui=5.0, est=4.150881896000244, details={'was_impossible': True, 'reason': 'User and/or item is unknown.'}),\n",
              " Prediction(uid='A3D47HV399UL4R', iid='B00004ZC8Y', r_ui=5.0, est=4.150881896000244, details={'was_impossible': True, 'reason': 'User and/or item is unknown.'}),\n",
              " Prediction(uid='A248UVZUKJBGN', iid='B00001P4ZH', r_ui=3.0, est=4.150881896000244, details={'was_impossible': True, 'reason': 'User and/or item is unknown.'}),\n",
              " Prediction(uid='A1P1GDQ03K62W1', iid='B00000J1QR', r_ui=5.0, est=4.150881896000244, details={'was_impossible': True, 'reason': 'User and/or item is unknown.'}),\n",
              " Prediction(uid='A2J900PB5CD1XI', iid='B00001WRSJ', r_ui=5.0, est=4.150881896000244, details={'was_impossible': True, 'reason': 'User and/or item is unknown.'}),\n",
              " Prediction(uid='A6BSGI2UPSA5F', iid='B00004VX15', r_ui=3.0, est=4.150881896000244, details={'was_impossible': True, 'reason': 'User and/or item is unknown.'}),\n",
              " Prediction(uid='A3H2FLYFGK9Q47', iid='B00004TWM6', r_ui=4.0, est=4.150881896000244, details={'was_impossible': True, 'reason': 'User and/or item is unknown.'}),\n",
              " Prediction(uid='A2QWU14M1ZKTNN', iid='B00004ZC9V', r_ui=4.0, est=4.150881896000244, details={'was_impossible': True, 'reason': 'User and/or item is unknown.'}),\n",
              " Prediction(uid='AWO7V8RR26RMX', iid='B00000J3UJ', r_ui=4.0, est=4.150881896000244, details={'was_impossible': True, 'reason': 'User and/or item is unknown.'}),\n",
              " Prediction(uid='A1G9AB1ZYCDK51', iid='B00001WRSJ', r_ui=5.0, est=4.150881896000244, details={'was_impossible': True, 'reason': 'User and/or item is unknown.'}),\n",
              " Prediction(uid='A3HT6T0E6HZE59', iid='B00004Z5H3', r_ui=5.0, est=4.150881896000244, details={'was_impossible': True, 'reason': 'User and/or item is unknown.'}),\n",
              " Prediction(uid='A26ZVDMARXTWJV', iid='B00004TYBM', r_ui=5.0, est=4.150881896000244, details={'was_impossible': True, 'reason': 'User and/or item is unknown.'}),\n",
              " Prediction(uid='A36VRTU7YUGH39', iid='0972683275', r_ui=5.0, est=4.150881896000244, details={'was_impossible': True, 'reason': 'User and/or item is unknown.'}),\n",
              " Prediction(uid='A55GIBH557294', iid='B00004WCIC', r_ui=5.0, est=4.150881896000244, details={'was_impossible': True, 'reason': 'User and/or item is unknown.'}),\n",
              " Prediction(uid='A2GSRPYE8SC69J', iid='B00004T8R2', r_ui=5.0, est=4.150881896000244, details={'was_impossible': True, 'reason': 'User and/or item is unknown.'}),\n",
              " Prediction(uid='A1OEI8XTRP0G4F', iid='B00004X0ZO', r_ui=4.0, est=4.150881896000244, details={'was_impossible': True, 'reason': 'User and/or item is unknown.'}),\n",
              " Prediction(uid='A1N63K8FHO3AML', iid='1400532655', r_ui=1.0, est=4.150881896000244, details={'was_impossible': True, 'reason': 'User and/or item is unknown.'}),\n",
              " Prediction(uid='AZNOGBRXKFYO2', iid='B000050XL7', r_ui=4.0, est=4.150881896000244, details={'was_impossible': True, 'reason': 'User and/or item is unknown.'}),\n",
              " Prediction(uid='AX7WMCGWR1DEL', iid='B00004Z5M1', r_ui=5.0, est=4.150881896000244, details={'was_impossible': True, 'reason': 'User and/or item is unknown.'}),\n",
              " Prediction(uid='A1579QZEPU1TZ6', iid='B00004SABJ', r_ui=5.0, est=4.150881896000244, details={'was_impossible': True, 'reason': 'User and/or item is unknown.'}),\n",
              " Prediction(uid='AHEP4N0XIJR1K', iid='1400501466', r_ui=5.0, est=4.150881896000244, details={'was_impossible': True, 'reason': 'User and/or item is unknown.'}),\n",
              " Prediction(uid='A2S7HTJPK1B2TQ', iid='B00001P4ZH', r_ui=5.0, est=4.150881896000244, details={'was_impossible': True, 'reason': 'User and/or item is unknown.'}),\n",
              " Prediction(uid='A1QKLZGGDC88KT', iid='B00001WRSJ', r_ui=5.0, est=4.150881896000244, details={'was_impossible': True, 'reason': 'User and/or item is unknown.'}),\n",
              " Prediction(uid='A3ROX2UHKY3FLC', iid='B00001ZT4H', r_ui=1.0, est=4.150881896000244, details={'was_impossible': True, 'reason': 'User and/or item is unknown.'}),\n",
              " Prediction(uid='A1YR1VCW6FDU5G', iid='B00004ZC8Y', r_ui=5.0, est=4.717079703319991, details={'actual_k': 1, 'was_impossible': False}),\n",
              " Prediction(uid='A3SCZ8TXDBHMM2', iid='B00004TVSP', r_ui=1.0, est=4.150881896000244, details={'was_impossible': True, 'reason': 'User and/or item is unknown.'}),\n",
              " Prediction(uid='A1FSUCQC0DV7DO', iid='B00004TZE5', r_ui=4.0, est=4.150881896000244, details={'was_impossible': True, 'reason': 'User and/or item is unknown.'}),\n",
              " Prediction(uid='AXFNCOSQUW1KY', iid='B00004XOM3', r_ui=4.0, est=4.150881896000244, details={'was_impossible': True, 'reason': 'User and/or item is unknown.'}),\n",
              " Prediction(uid='A2O2WCGLHHOTF6', iid='B00004ZCJE', r_ui=5.0, est=4.150881896000244, details={'was_impossible': True, 'reason': 'User and/or item is unknown.'}),\n",
              " Prediction(uid='A35SQCUQBEZUKD', iid='B00004WCIC', r_ui=5.0, est=4.456338028169014, details={'actual_k': 0, 'was_impossible': False}),\n",
              " Prediction(uid='A1ZG9WMHNMGY62', iid='B00002JXFH', r_ui=5.0, est=4.150881896000244, details={'was_impossible': True, 'reason': 'User and/or item is unknown.'}),\n",
              " Prediction(uid='A2GNJ3RTUEO4HG', iid='B00004THCZ', r_ui=5.0, est=4.150881896000244, details={'was_impossible': True, 'reason': 'User and/or item is unknown.'}),\n",
              " Prediction(uid='A3S4A7WVE8PXMQ', iid='B00001P4ZH', r_ui=5.0, est=4.150881896000244, details={'was_impossible': True, 'reason': 'User and/or item is unknown.'}),\n",
              " Prediction(uid='A1I2VGX1RQZUJH', iid='B00001WRSJ', r_ui=4.0, est=4.150881896000244, details={'was_impossible': True, 'reason': 'User and/or item is unknown.'}),\n",
              " Prediction(uid='A1S923NQ3OBFEW', iid='B00004ZCJE', r_ui=5.0, est=4.150881896000244, details={'was_impossible': True, 'reason': 'User and/or item is unknown.'}),\n",
              " Prediction(uid='A2TIONDDH0I9N1', iid='B00004TBLW', r_ui=5.0, est=4.150881896000244, details={'was_impossible': True, 'reason': 'User and/or item is unknown.'}),\n",
              " Prediction(uid='AR5NIAV08HU3S', iid='B00004THCZ', r_ui=4.0, est=4.150881896000244, details={'was_impossible': True, 'reason': 'User and/or item is unknown.'}),\n",
              " Prediction(uid='A239ON6G2S2E9E', iid='B00001P4ZR', r_ui=5.0, est=4.085820895522388, details={'actual_k': 0, 'was_impossible': False}),\n",
              " Prediction(uid='A39I7G8W0SSL9V', iid='B00000JI4F', r_ui=4.0, est=4.150881896000244, details={'was_impossible': True, 'reason': 'User and/or item is unknown.'}),\n",
              " Prediction(uid='A3PVOKGXUM0QUJ', iid='B00004TBLW', r_ui=2.0, est=4.150881896000244, details={'was_impossible': True, 'reason': 'User and/or item is unknown.'}),\n",
              " Prediction(uid='A32B832WK76HYN', iid='B000026D8E', r_ui=2.0, est=4.150881896000244, details={'was_impossible': True, 'reason': 'User and/or item is unknown.'}),\n",
              " Prediction(uid='A2XYGJ7FAK0QR7', iid='B00004TDL2', r_ui=4.0, est=4.150881896000244, details={'was_impossible': True, 'reason': 'User and/or item is unknown.'}),\n",
              " Prediction(uid='A2BWX768VJ5QFS', iid='0972683275', r_ui=5.0, est=4.150881896000244, details={'was_impossible': True, 'reason': 'User and/or item is unknown.'}),\n",
              " Prediction(uid='A2AFCJZGMJ8VDP', iid='B00000JCT8', r_ui=2.0, est=4.150881896000244, details={'was_impossible': True, 'reason': 'User and/or item is unknown.'}),\n",
              " Prediction(uid='A3RQ5J9K9NUNCU', iid='B00000J1TX', r_ui=5.0, est=4.150881896000244, details={'was_impossible': True, 'reason': 'User and/or item is unknown.'}),\n",
              " Prediction(uid='A3R85JHOR8H9OK', iid='B00003CWDH', r_ui=5.0, est=4.433789954337899, details={'actual_k': 0, 'was_impossible': False}),\n",
              " Prediction(uid='A39KGML5OYIU00', iid='B00004T0RC', r_ui=4.0, est=4.150881896000244, details={'was_impossible': True, 'reason': 'User and/or item is unknown.'}),\n",
              " Prediction(uid='A16H8R140V6LJ', iid='B00004ZCJE', r_ui=5.0, est=4.150881896000244, details={'was_impossible': True, 'reason': 'User and/or item is unknown.'}),\n",
              " Prediction(uid='A1BGYUHC6NL99N', iid='B00004RC2D', r_ui=5.0, est=4.150881896000244, details={'was_impossible': True, 'reason': 'User and/or item is unknown.'}),\n",
              " Prediction(uid='A3UJCNGSCEAPK8', iid='B00004WCGF', r_ui=5.0, est=4.150881896000244, details={'was_impossible': True, 'reason': 'User and/or item is unknown.'}),\n",
              " Prediction(uid='A1M2JTFHREYECK', iid='B00004ZC9V', r_ui=5.0, est=5, details={'actual_k': 1, 'was_impossible': False}),\n",
              " Prediction(uid='A1DR4FI83WSC1G', iid='B00001P4ZR', r_ui=5.0, est=4.150881896000244, details={'was_impossible': True, 'reason': 'User and/or item is unknown.'}),\n",
              " Prediction(uid='AMEKP32Q9TYNU', iid='B00001P4XH', r_ui=1.0, est=4.150881896000244, details={'was_impossible': True, 'reason': 'User and/or item is unknown.'}),\n",
              " Prediction(uid='A234RB5UMJM9MR', iid='B00004WCGF', r_ui=5.0, est=4.150881896000244, details={'was_impossible': True, 'reason': 'User and/or item is unknown.'}),\n",
              " Prediction(uid='A3A0ULRM4SEHG3', iid='B00004TZE5', r_ui=5.0, est=4.150881896000244, details={'was_impossible': True, 'reason': 'User and/or item is unknown.'}),\n",
              " Prediction(uid='A20KOPCCZVFGAA', iid='B00000K4KH', r_ui=4.0, est=4.150881896000244, details={'was_impossible': True, 'reason': 'User and/or item is unknown.'}),\n",
              " Prediction(uid='A17Q3909PAFXSQ', iid='B00004T1XK', r_ui=5.0, est=4.150881896000244, details={'was_impossible': True, 'reason': 'User and/or item is unknown.'}),\n",
              " Prediction(uid='A17D61V9XSUA3N', iid='B00004T1XE', r_ui=4.0, est=4.150881896000244, details={'was_impossible': True, 'reason': 'User and/or item is unknown.'}),\n",
              " Prediction(uid='AHP58GS4FXDLJ', iid='B00000J1EQ', r_ui=5.0, est=4.150881896000244, details={'was_impossible': True, 'reason': 'User and/or item is unknown.'}),\n",
              " Prediction(uid='A35AKZ5PI4AQ3K', iid='9573212919', r_ui=5.0, est=4.150881896000244, details={'was_impossible': True, 'reason': 'User and/or item is unknown.'}),\n",
              " Prediction(uid='A1V5ILQUKTTSJC', iid='B00004ZCJE', r_ui=5.0, est=4.150881896000244, details={'was_impossible': True, 'reason': 'User and/or item is unknown.'}),\n",
              " Prediction(uid='A3LDPF5FMB782Z', iid='1400501776', r_ui=5.0, est=5, details={'actual_k': 1, 'was_impossible': False}),\n",
              " Prediction(uid='A20B06VXQO8HAT', iid='B00004ZCJE', r_ui=5.0, est=4.150881896000244, details={'was_impossible': True, 'reason': 'User and/or item is unknown.'}),\n",
              " Prediction(uid='A1357YH2UF34VS', iid='B00004THCZ', r_ui=5.0, est=4.150881896000244, details={'was_impossible': True, 'reason': 'User and/or item is unknown.'}),\n",
              " Prediction(uid='A3XTPXD4DU5JN', iid='B00000K13A', r_ui=5.0, est=4.150881896000244, details={'was_impossible': True, 'reason': 'User and/or item is unknown.'}),\n",
              " Prediction(uid='A2ZC3GLUIQANON', iid='B00004TKVD', r_ui=5.0, est=4.150881896000244, details={'was_impossible': True, 'reason': 'User and/or item is unknown.'}),\n",
              " Prediction(uid='A18VFNFOEQTJ4H', iid='B00004ZCKV', r_ui=1.0, est=4.100456621004566, details={'actual_k': 0, 'was_impossible': False}),\n",
              " Prediction(uid='AZWMBFVSZ66G2', iid='B00004S9AK', r_ui=1.0, est=4.150881896000244, details={'was_impossible': True, 'reason': 'User and/or item is unknown.'}),\n",
              " Prediction(uid='A1I9FUFTIEGKCB', iid='B00001WRSJ', r_ui=5.0, est=4.150881896000244, details={'was_impossible': True, 'reason': 'User and/or item is unknown.'}),\n",
              " Prediction(uid='A1066SPRZJCRU0', iid='B00004Z6XS', r_ui=5.0, est=4.150881896000244, details={'was_impossible': True, 'reason': 'User and/or item is unknown.'}),\n",
              " Prediction(uid='A3ELVB3PTMAPA7', iid='B00004TDN2', r_ui=1.0, est=4.150881896000244, details={'was_impossible': True, 'reason': 'User and/or item is unknown.'}),\n",
              " Prediction(uid='A2UKE398XW8Z6J', iid='B00000J1QR', r_ui=2.0, est=4.150881896000244, details={'was_impossible': True, 'reason': 'User and/or item is unknown.'}),\n",
              " Prediction(uid='A3Q0E9A328NXAG', iid='B00004WCGC', r_ui=2.0, est=4.150881896000244, details={'was_impossible': True, 'reason': 'User and/or item is unknown.'}),\n",
              " Prediction(uid='A37187ZFJZKUPY', iid='B00003006E', r_ui=5.0, est=4.150881896000244, details={'was_impossible': True, 'reason': 'User and/or item is unknown.'}),\n",
              " Prediction(uid='A2CTQROHYPPLR', iid='0972683275', r_ui=5.0, est=4.150881896000244, details={'was_impossible': True, 'reason': 'User and/or item is unknown.'}),\n",
              " Prediction(uid='A17MH3UHMGOOC5', iid='B00001W0DH', r_ui=4.0, est=4.150881896000244, details={'was_impossible': True, 'reason': 'User and/or item is unknown.'}),\n",
              " Prediction(uid='A2ZJ1W13DPKLR2', iid='B00004WCIC', r_ui=5.0, est=4.456338028169014, details={'actual_k': 0, 'was_impossible': False}),\n",
              " Prediction(uid='A3C43KP1O80CDS', iid='B00001WRSJ', r_ui=3.0, est=4.150881896000244, details={'was_impossible': True, 'reason': 'User and/or item is unknown.'}),\n",
              " Prediction(uid='A2624IHUDRUSA7', iid='B00004ZCDD', r_ui=5.0, est=4.150881896000244, details={'was_impossible': True, 'reason': 'User and/or item is unknown.'}),\n",
              " Prediction(uid='A35Z3TBNCQU3VY', iid='B00001P4ZH', r_ui=5.0, est=4.150881896000244, details={'was_impossible': True, 'reason': 'User and/or item is unknown.'}),\n",
              " Prediction(uid='A5FCESN8AS2JX', iid='B00004Z7H5', r_ui=5.0, est=4.150881896000244, details={'was_impossible': True, 'reason': 'User and/or item is unknown.'}),\n",
              " Prediction(uid='AFLZC8684HBY6', iid='B00004T8R2', r_ui=5.0, est=4.150881896000244, details={'was_impossible': True, 'reason': 'User and/or item is unknown.'}),\n",
              " Prediction(uid='ANWG20S4PIA2X', iid='B00004Z5M1', r_ui=5.0, est=4.150881896000244, details={'was_impossible': True, 'reason': 'User and/or item is unknown.'}),\n",
              " Prediction(uid='A17UUXE3O09SXP', iid='B00004RIUB', r_ui=2.0, est=4.150881896000244, details={'was_impossible': True, 'reason': 'User and/or item is unknown.'}),\n",
              " Prediction(uid='A8EXC1WHLCXJR', iid='7214047977', r_ui=5.0, est=4.150881896000244, details={'was_impossible': True, 'reason': 'User and/or item is unknown.'}),\n",
              " Prediction(uid='A3JT29L4YFEIMJ', iid='B00004VX39', r_ui=5.0, est=4.150881896000244, details={'was_impossible': True, 'reason': 'User and/or item is unknown.'}),\n",
              " Prediction(uid='AEH6EQL2LG02J', iid='B00000JCTO', r_ui=3.0, est=4.150881896000244, details={'was_impossible': True, 'reason': 'User and/or item is unknown.'}),\n",
              " Prediction(uid='A2QC57J6UDRHY1', iid='B00001W0EQ', r_ui=3.0, est=4.150881896000244, details={'was_impossible': True, 'reason': 'User and/or item is unknown.'}),\n",
              " Prediction(uid='AFAYKJTL8K8GY', iid='B00004XOM3', r_ui=5.0, est=4.150881896000244, details={'was_impossible': True, 'reason': 'User and/or item is unknown.'}),\n",
              " Prediction(uid='A2R4F9CYGWUJLG', iid='B00004THDE', r_ui=5.0, est=4.150881896000244, details={'was_impossible': True, 'reason': 'User and/or item is unknown.'}),\n",
              " Prediction(uid='ASFUUFA3EKP6T', iid='B00004SB92', r_ui=5.0, est=4.150881896000244, details={'was_impossible': True, 'reason': 'User and/or item is unknown.'}),\n",
              " Prediction(uid='A12YC1CY1XZ6KQ', iid='B00004SABB', r_ui=4.0, est=4.150881896000244, details={'was_impossible': True, 'reason': 'User and/or item is unknown.'}),\n",
              " Prediction(uid='A2OIYHO9V3E9J9', iid='B00004Y3UY', r_ui=5.0, est=4.150881896000244, details={'was_impossible': True, 'reason': 'User and/or item is unknown.'}),\n",
              " Prediction(uid='A2EJJTOWAEL7SJ', iid='0972683275', r_ui=5.0, est=4.150881896000244, details={'was_impossible': True, 'reason': 'User and/or item is unknown.'}),\n",
              " Prediction(uid='A2E9JNP5WHFLFU', iid='B00004Z5CQ', r_ui=1.0, est=4.150881896000244, details={'was_impossible': True, 'reason': 'User and/or item is unknown.'}),\n",
              " Prediction(uid='A2XFVS9GBQW2U1', iid='B00001WRSJ', r_ui=5.0, est=4.150881896000244, details={'was_impossible': True, 'reason': 'User and/or item is unknown.'}),\n",
              " Prediction(uid='A3FDC2YOXVMXI0', iid='B00004T8R2', r_ui=5.0, est=4.150881896000244, details={'was_impossible': True, 'reason': 'User and/or item is unknown.'}),\n",
              " ...]"
            ]
          },
          "metadata": {},
          "execution_count": 45
        }
      ]
    },
    {
      "cell_type": "code",
      "source": [
        "# get RMSE\n",
        "print(\"Item-based Model : Test Set\")\n",
        "accuracy.rmse(test_pred, verbose=True)"
      ],
      "metadata": {
        "colab": {
          "base_uri": "https://localhost:8080/"
        },
        "id": "7CQ90CFFp3EH",
        "outputId": "85425e99-452d-48d6-c93e-c5bcd4cc2c7c"
      },
      "execution_count": 46,
      "outputs": [
        {
          "output_type": "stream",
          "name": "stdout",
          "text": [
            "Item-based Model : Test Set\n",
            "RMSE: 1.2811\n"
          ]
        },
        {
          "output_type": "execute_result",
          "data": {
            "text/plain": [
              "1.281146295986459"
            ]
          },
          "metadata": {},
          "execution_count": 46
        }
      ]
    },
    {
      "cell_type": "markdown",
      "source": [
        "# model based collaborative filtering system"
      ],
      "metadata": {
        "id": "PPiDlVXDp356"
      }
    },
    {
      "cell_type": "code",
      "source": [
        "new_df1=new_df.head(10000)\n",
        "ratings_matrix = new_df1.pivot_table(values='Rating', index='userId', columns='productId', fill_value=0)\n",
        "ratings_matrix.head()"
      ],
      "metadata": {
        "colab": {
          "base_uri": "https://localhost:8080/",
          "height": 287
        },
        "id": "HPqYWnaIp6_2",
        "outputId": "98ca92fa-fa8f-441c-9309-395a467e0b17"
      },
      "execution_count": 47,
      "outputs": [
        {
          "output_type": "execute_result",
          "data": {
            "text/plain": [
              "productId              0972683275  1400501466  1400501520  1400501776  \\\n",
              "userId                                                                  \n",
              "A01852072Z7B68UHLI5UG           0           0           0           0   \n",
              "A0266076X6KPZ6CCHGVS            0           0           0           0   \n",
              "A0293130VTX2ZXA70JQS            5           0           0           0   \n",
              "A030530627MK66BD8V4LN           4           0           0           0   \n",
              "A0571176384K8RBNKGF8O           0           0           0           0   \n",
              "\n",
              "productId              1400532620  1400532655  140053271X  1400532736  \\\n",
              "userId                                                                  \n",
              "A01852072Z7B68UHLI5UG           0           0           0           0   \n",
              "A0266076X6KPZ6CCHGVS            0           0           0           0   \n",
              "A0293130VTX2ZXA70JQS            0           0           0           0   \n",
              "A030530627MK66BD8V4LN           0           0           0           0   \n",
              "A0571176384K8RBNKGF8O           0           0           0           0   \n",
              "\n",
              "productId              1400599997  1400698987  ...  B00000JFMK  B00000JHWX  \\\n",
              "userId                                         ...                           \n",
              "A01852072Z7B68UHLI5UG           0           0  ...           0           0   \n",
              "A0266076X6KPZ6CCHGVS            0           0  ...           0           0   \n",
              "A0293130VTX2ZXA70JQS            0           0  ...           0           0   \n",
              "A030530627MK66BD8V4LN           0           0  ...           0           0   \n",
              "A0571176384K8RBNKGF8O           0           0  ...           0           0   \n",
              "\n",
              "productId              B00000JI4F  B00000JII6  B00000JMUG  B00000JPPI  \\\n",
              "userId                                                                  \n",
              "A01852072Z7B68UHLI5UG           0           0           0           0   \n",
              "A0266076X6KPZ6CCHGVS            0           0           0           0   \n",
              "A0293130VTX2ZXA70JQS            0           0           0           0   \n",
              "A030530627MK66BD8V4LN           0           0           0           0   \n",
              "A0571176384K8RBNKGF8O           0           0           0           0   \n",
              "\n",
              "productId              B00000JSGF  B00000JYLO  B00000JYWQ  B00000K135  \n",
              "userId                                                                 \n",
              "A01852072Z7B68UHLI5UG           0           0           0           0  \n",
              "A0266076X6KPZ6CCHGVS            0           0           0           0  \n",
              "A0293130VTX2ZXA70JQS            0           0           0           0  \n",
              "A030530627MK66BD8V4LN           0           0           0           0  \n",
              "A0571176384K8RBNKGF8O           0           0           0           0  \n",
              "\n",
              "[5 rows x 76 columns]"
            ],
            "text/html": [
              "\n",
              "  <div id=\"df-2da7408d-4aa3-4c3b-a182-8ee711809b7c\" class=\"colab-df-container\">\n",
              "    <div>\n",
              "<style scoped>\n",
              "    .dataframe tbody tr th:only-of-type {\n",
              "        vertical-align: middle;\n",
              "    }\n",
              "\n",
              "    .dataframe tbody tr th {\n",
              "        vertical-align: top;\n",
              "    }\n",
              "\n",
              "    .dataframe thead th {\n",
              "        text-align: right;\n",
              "    }\n",
              "</style>\n",
              "<table border=\"1\" class=\"dataframe\">\n",
              "  <thead>\n",
              "    <tr style=\"text-align: right;\">\n",
              "      <th>productId</th>\n",
              "      <th>0972683275</th>\n",
              "      <th>1400501466</th>\n",
              "      <th>1400501520</th>\n",
              "      <th>1400501776</th>\n",
              "      <th>1400532620</th>\n",
              "      <th>1400532655</th>\n",
              "      <th>140053271X</th>\n",
              "      <th>1400532736</th>\n",
              "      <th>1400599997</th>\n",
              "      <th>1400698987</th>\n",
              "      <th>...</th>\n",
              "      <th>B00000JFMK</th>\n",
              "      <th>B00000JHWX</th>\n",
              "      <th>B00000JI4F</th>\n",
              "      <th>B00000JII6</th>\n",
              "      <th>B00000JMUG</th>\n",
              "      <th>B00000JPPI</th>\n",
              "      <th>B00000JSGF</th>\n",
              "      <th>B00000JYLO</th>\n",
              "      <th>B00000JYWQ</th>\n",
              "      <th>B00000K135</th>\n",
              "    </tr>\n",
              "    <tr>\n",
              "      <th>userId</th>\n",
              "      <th></th>\n",
              "      <th></th>\n",
              "      <th></th>\n",
              "      <th></th>\n",
              "      <th></th>\n",
              "      <th></th>\n",
              "      <th></th>\n",
              "      <th></th>\n",
              "      <th></th>\n",
              "      <th></th>\n",
              "      <th></th>\n",
              "      <th></th>\n",
              "      <th></th>\n",
              "      <th></th>\n",
              "      <th></th>\n",
              "      <th></th>\n",
              "      <th></th>\n",
              "      <th></th>\n",
              "      <th></th>\n",
              "      <th></th>\n",
              "      <th></th>\n",
              "    </tr>\n",
              "  </thead>\n",
              "  <tbody>\n",
              "    <tr>\n",
              "      <th>A01852072Z7B68UHLI5UG</th>\n",
              "      <td>0</td>\n",
              "      <td>0</td>\n",
              "      <td>0</td>\n",
              "      <td>0</td>\n",
              "      <td>0</td>\n",
              "      <td>0</td>\n",
              "      <td>0</td>\n",
              "      <td>0</td>\n",
              "      <td>0</td>\n",
              "      <td>0</td>\n",
              "      <td>...</td>\n",
              "      <td>0</td>\n",
              "      <td>0</td>\n",
              "      <td>0</td>\n",
              "      <td>0</td>\n",
              "      <td>0</td>\n",
              "      <td>0</td>\n",
              "      <td>0</td>\n",
              "      <td>0</td>\n",
              "      <td>0</td>\n",
              "      <td>0</td>\n",
              "    </tr>\n",
              "    <tr>\n",
              "      <th>A0266076X6KPZ6CCHGVS</th>\n",
              "      <td>0</td>\n",
              "      <td>0</td>\n",
              "      <td>0</td>\n",
              "      <td>0</td>\n",
              "      <td>0</td>\n",
              "      <td>0</td>\n",
              "      <td>0</td>\n",
              "      <td>0</td>\n",
              "      <td>0</td>\n",
              "      <td>0</td>\n",
              "      <td>...</td>\n",
              "      <td>0</td>\n",
              "      <td>0</td>\n",
              "      <td>0</td>\n",
              "      <td>0</td>\n",
              "      <td>0</td>\n",
              "      <td>0</td>\n",
              "      <td>0</td>\n",
              "      <td>0</td>\n",
              "      <td>0</td>\n",
              "      <td>0</td>\n",
              "    </tr>\n",
              "    <tr>\n",
              "      <th>A0293130VTX2ZXA70JQS</th>\n",
              "      <td>5</td>\n",
              "      <td>0</td>\n",
              "      <td>0</td>\n",
              "      <td>0</td>\n",
              "      <td>0</td>\n",
              "      <td>0</td>\n",
              "      <td>0</td>\n",
              "      <td>0</td>\n",
              "      <td>0</td>\n",
              "      <td>0</td>\n",
              "      <td>...</td>\n",
              "      <td>0</td>\n",
              "      <td>0</td>\n",
              "      <td>0</td>\n",
              "      <td>0</td>\n",
              "      <td>0</td>\n",
              "      <td>0</td>\n",
              "      <td>0</td>\n",
              "      <td>0</td>\n",
              "      <td>0</td>\n",
              "      <td>0</td>\n",
              "    </tr>\n",
              "    <tr>\n",
              "      <th>A030530627MK66BD8V4LN</th>\n",
              "      <td>4</td>\n",
              "      <td>0</td>\n",
              "      <td>0</td>\n",
              "      <td>0</td>\n",
              "      <td>0</td>\n",
              "      <td>0</td>\n",
              "      <td>0</td>\n",
              "      <td>0</td>\n",
              "      <td>0</td>\n",
              "      <td>0</td>\n",
              "      <td>...</td>\n",
              "      <td>0</td>\n",
              "      <td>0</td>\n",
              "      <td>0</td>\n",
              "      <td>0</td>\n",
              "      <td>0</td>\n",
              "      <td>0</td>\n",
              "      <td>0</td>\n",
              "      <td>0</td>\n",
              "      <td>0</td>\n",
              "      <td>0</td>\n",
              "    </tr>\n",
              "    <tr>\n",
              "      <th>A0571176384K8RBNKGF8O</th>\n",
              "      <td>0</td>\n",
              "      <td>0</td>\n",
              "      <td>0</td>\n",
              "      <td>0</td>\n",
              "      <td>0</td>\n",
              "      <td>0</td>\n",
              "      <td>0</td>\n",
              "      <td>0</td>\n",
              "      <td>0</td>\n",
              "      <td>0</td>\n",
              "      <td>...</td>\n",
              "      <td>0</td>\n",
              "      <td>0</td>\n",
              "      <td>0</td>\n",
              "      <td>0</td>\n",
              "      <td>0</td>\n",
              "      <td>0</td>\n",
              "      <td>0</td>\n",
              "      <td>0</td>\n",
              "      <td>0</td>\n",
              "      <td>0</td>\n",
              "    </tr>\n",
              "  </tbody>\n",
              "</table>\n",
              "<p>5 rows × 76 columns</p>\n",
              "</div>\n",
              "    <div class=\"colab-df-buttons\">\n",
              "\n",
              "  <div class=\"colab-df-container\">\n",
              "    <button class=\"colab-df-convert\" onclick=\"convertToInteractive('df-2da7408d-4aa3-4c3b-a182-8ee711809b7c')\"\n",
              "            title=\"Convert this dataframe to an interactive table.\"\n",
              "            style=\"display:none;\">\n",
              "\n",
              "  <svg xmlns=\"http://www.w3.org/2000/svg\" height=\"24px\" viewBox=\"0 -960 960 960\">\n",
              "    <path d=\"M120-120v-720h720v720H120Zm60-500h600v-160H180v160Zm220 220h160v-160H400v160Zm0 220h160v-160H400v160ZM180-400h160v-160H180v160Zm440 0h160v-160H620v160ZM180-180h160v-160H180v160Zm440 0h160v-160H620v160Z\"/>\n",
              "  </svg>\n",
              "    </button>\n",
              "\n",
              "  <style>\n",
              "    .colab-df-container {\n",
              "      display:flex;\n",
              "      gap: 12px;\n",
              "    }\n",
              "\n",
              "    .colab-df-convert {\n",
              "      background-color: #E8F0FE;\n",
              "      border: none;\n",
              "      border-radius: 50%;\n",
              "      cursor: pointer;\n",
              "      display: none;\n",
              "      fill: #1967D2;\n",
              "      height: 32px;\n",
              "      padding: 0 0 0 0;\n",
              "      width: 32px;\n",
              "    }\n",
              "\n",
              "    .colab-df-convert:hover {\n",
              "      background-color: #E2EBFA;\n",
              "      box-shadow: 0px 1px 2px rgba(60, 64, 67, 0.3), 0px 1px 3px 1px rgba(60, 64, 67, 0.15);\n",
              "      fill: #174EA6;\n",
              "    }\n",
              "\n",
              "    .colab-df-buttons div {\n",
              "      margin-bottom: 4px;\n",
              "    }\n",
              "\n",
              "    [theme=dark] .colab-df-convert {\n",
              "      background-color: #3B4455;\n",
              "      fill: #D2E3FC;\n",
              "    }\n",
              "\n",
              "    [theme=dark] .colab-df-convert:hover {\n",
              "      background-color: #434B5C;\n",
              "      box-shadow: 0px 1px 3px 1px rgba(0, 0, 0, 0.15);\n",
              "      filter: drop-shadow(0px 1px 2px rgba(0, 0, 0, 0.3));\n",
              "      fill: #FFFFFF;\n",
              "    }\n",
              "  </style>\n",
              "\n",
              "    <script>\n",
              "      const buttonEl =\n",
              "        document.querySelector('#df-2da7408d-4aa3-4c3b-a182-8ee711809b7c button.colab-df-convert');\n",
              "      buttonEl.style.display =\n",
              "        google.colab.kernel.accessAllowed ? 'block' : 'none';\n",
              "\n",
              "      async function convertToInteractive(key) {\n",
              "        const element = document.querySelector('#df-2da7408d-4aa3-4c3b-a182-8ee711809b7c');\n",
              "        const dataTable =\n",
              "          await google.colab.kernel.invokeFunction('convertToInteractive',\n",
              "                                                    [key], {});\n",
              "        if (!dataTable) return;\n",
              "\n",
              "        const docLinkHtml = 'Like what you see? Visit the ' +\n",
              "          '<a target=\"_blank\" href=https://colab.research.google.com/notebooks/data_table.ipynb>data table notebook</a>'\n",
              "          + ' to learn more about interactive tables.';\n",
              "        element.innerHTML = '';\n",
              "        dataTable['output_type'] = 'display_data';\n",
              "        await google.colab.output.renderOutput(dataTable, element);\n",
              "        const docLink = document.createElement('div');\n",
              "        docLink.innerHTML = docLinkHtml;\n",
              "        element.appendChild(docLink);\n",
              "      }\n",
              "    </script>\n",
              "  </div>\n",
              "\n",
              "\n",
              "<div id=\"df-4a4dfbda-fbcf-4993-be55-c02fc4b0e8c5\">\n",
              "  <button class=\"colab-df-quickchart\" onclick=\"quickchart('df-4a4dfbda-fbcf-4993-be55-c02fc4b0e8c5')\"\n",
              "            title=\"Suggest charts\"\n",
              "            style=\"display:none;\">\n",
              "\n",
              "<svg xmlns=\"http://www.w3.org/2000/svg\" height=\"24px\"viewBox=\"0 0 24 24\"\n",
              "     width=\"24px\">\n",
              "    <g>\n",
              "        <path d=\"M19 3H5c-1.1 0-2 .9-2 2v14c0 1.1.9 2 2 2h14c1.1 0 2-.9 2-2V5c0-1.1-.9-2-2-2zM9 17H7v-7h2v7zm4 0h-2V7h2v10zm4 0h-2v-4h2v4z\"/>\n",
              "    </g>\n",
              "</svg>\n",
              "  </button>\n",
              "\n",
              "<style>\n",
              "  .colab-df-quickchart {\n",
              "      --bg-color: #E8F0FE;\n",
              "      --fill-color: #1967D2;\n",
              "      --hover-bg-color: #E2EBFA;\n",
              "      --hover-fill-color: #174EA6;\n",
              "      --disabled-fill-color: #AAA;\n",
              "      --disabled-bg-color: #DDD;\n",
              "  }\n",
              "\n",
              "  [theme=dark] .colab-df-quickchart {\n",
              "      --bg-color: #3B4455;\n",
              "      --fill-color: #D2E3FC;\n",
              "      --hover-bg-color: #434B5C;\n",
              "      --hover-fill-color: #FFFFFF;\n",
              "      --disabled-bg-color: #3B4455;\n",
              "      --disabled-fill-color: #666;\n",
              "  }\n",
              "\n",
              "  .colab-df-quickchart {\n",
              "    background-color: var(--bg-color);\n",
              "    border: none;\n",
              "    border-radius: 50%;\n",
              "    cursor: pointer;\n",
              "    display: none;\n",
              "    fill: var(--fill-color);\n",
              "    height: 32px;\n",
              "    padding: 0;\n",
              "    width: 32px;\n",
              "  }\n",
              "\n",
              "  .colab-df-quickchart:hover {\n",
              "    background-color: var(--hover-bg-color);\n",
              "    box-shadow: 0 1px 2px rgba(60, 64, 67, 0.3), 0 1px 3px 1px rgba(60, 64, 67, 0.15);\n",
              "    fill: var(--button-hover-fill-color);\n",
              "  }\n",
              "\n",
              "  .colab-df-quickchart-complete:disabled,\n",
              "  .colab-df-quickchart-complete:disabled:hover {\n",
              "    background-color: var(--disabled-bg-color);\n",
              "    fill: var(--disabled-fill-color);\n",
              "    box-shadow: none;\n",
              "  }\n",
              "\n",
              "  .colab-df-spinner {\n",
              "    border: 2px solid var(--fill-color);\n",
              "    border-color: transparent;\n",
              "    border-bottom-color: var(--fill-color);\n",
              "    animation:\n",
              "      spin 1s steps(1) infinite;\n",
              "  }\n",
              "\n",
              "  @keyframes spin {\n",
              "    0% {\n",
              "      border-color: transparent;\n",
              "      border-bottom-color: var(--fill-color);\n",
              "      border-left-color: var(--fill-color);\n",
              "    }\n",
              "    20% {\n",
              "      border-color: transparent;\n",
              "      border-left-color: var(--fill-color);\n",
              "      border-top-color: var(--fill-color);\n",
              "    }\n",
              "    30% {\n",
              "      border-color: transparent;\n",
              "      border-left-color: var(--fill-color);\n",
              "      border-top-color: var(--fill-color);\n",
              "      border-right-color: var(--fill-color);\n",
              "    }\n",
              "    40% {\n",
              "      border-color: transparent;\n",
              "      border-right-color: var(--fill-color);\n",
              "      border-top-color: var(--fill-color);\n",
              "    }\n",
              "    60% {\n",
              "      border-color: transparent;\n",
              "      border-right-color: var(--fill-color);\n",
              "    }\n",
              "    80% {\n",
              "      border-color: transparent;\n",
              "      border-right-color: var(--fill-color);\n",
              "      border-bottom-color: var(--fill-color);\n",
              "    }\n",
              "    90% {\n",
              "      border-color: transparent;\n",
              "      border-bottom-color: var(--fill-color);\n",
              "    }\n",
              "  }\n",
              "</style>\n",
              "\n",
              "  <script>\n",
              "    async function quickchart(key) {\n",
              "      const quickchartButtonEl =\n",
              "        document.querySelector('#' + key + ' button');\n",
              "      quickchartButtonEl.disabled = true;  // To prevent multiple clicks.\n",
              "      quickchartButtonEl.classList.add('colab-df-spinner');\n",
              "      try {\n",
              "        const charts = await google.colab.kernel.invokeFunction(\n",
              "            'suggestCharts', [key], {});\n",
              "      } catch (error) {\n",
              "        console.error('Error during call to suggestCharts:', error);\n",
              "      }\n",
              "      quickchartButtonEl.classList.remove('colab-df-spinner');\n",
              "      quickchartButtonEl.classList.add('colab-df-quickchart-complete');\n",
              "    }\n",
              "    (() => {\n",
              "      let quickchartButtonEl =\n",
              "        document.querySelector('#df-4a4dfbda-fbcf-4993-be55-c02fc4b0e8c5 button');\n",
              "      quickchartButtonEl.style.display =\n",
              "        google.colab.kernel.accessAllowed ? 'block' : 'none';\n",
              "    })();\n",
              "  </script>\n",
              "</div>\n",
              "    </div>\n",
              "  </div>\n"
            ]
          },
          "metadata": {},
          "execution_count": 47
        }
      ]
    },
    {
      "cell_type": "code",
      "source": [
        "ratings_matrix.shape"
      ],
      "metadata": {
        "colab": {
          "base_uri": "https://localhost:8080/"
        },
        "id": "UyfI_Kj0p8VH",
        "outputId": "69059f62-358e-4155-8725-4719edc7ff76"
      },
      "execution_count": 48,
      "outputs": [
        {
          "output_type": "execute_result",
          "data": {
            "text/plain": [
              "(9832, 76)"
            ]
          },
          "metadata": {},
          "execution_count": 48
        }
      ]
    },
    {
      "cell_type": "code",
      "source": [
        "X = ratings_matrix.T\n",
        "X.head()"
      ],
      "metadata": {
        "colab": {
          "base_uri": "https://localhost:8080/",
          "height": 287
        },
        "id": "lwanFLttp_fD",
        "outputId": "118dd079-807e-4e02-cab4-a671707c705b"
      },
      "execution_count": 49,
      "outputs": [
        {
          "output_type": "execute_result",
          "data": {
            "text/plain": [
              "userId      A01852072Z7B68UHLI5UG  A0266076X6KPZ6CCHGVS  A0293130VTX2ZXA70JQS  \\\n",
              "productId                                                                       \n",
              "0972683275                      0                     0                     5   \n",
              "1400501466                      0                     0                     0   \n",
              "1400501520                      0                     0                     0   \n",
              "1400501776                      0                     0                     0   \n",
              "1400532620                      0                     0                     0   \n",
              "\n",
              "userId      A030530627MK66BD8V4LN  A0571176384K8RBNKGF8O  \\\n",
              "productId                                                  \n",
              "0972683275                      4                      0   \n",
              "1400501466                      0                      0   \n",
              "1400501520                      0                      0   \n",
              "1400501776                      0                      0   \n",
              "1400532620                      0                      0   \n",
              "\n",
              "userId      A0590501PZ7HOWJKBGQ4  A0641581307AKT5MAOU0Q  \\\n",
              "productId                                                 \n",
              "0972683275                     0                      0   \n",
              "1400501466                     0                      0   \n",
              "1400501520                     0                      0   \n",
              "1400501776                     0                      0   \n",
              "1400532620                     0                      0   \n",
              "\n",
              "userId      A076219533YHEV2LJO988  A0821988FXKFYX53V4QG  \\\n",
              "productId                                                 \n",
              "0972683275                      0                     0   \n",
              "1400501466                      0                     0   \n",
              "1400501520                      0                     0   \n",
              "1400501776                      0                     0   \n",
              "1400532620                      0                     0   \n",
              "\n",
              "userId      A099626739FNCRNHIKBCG  ...  AZWOPBY75SGAM  AZX0ZDVAFMN78  \\\n",
              "productId                          ...                                 \n",
              "0972683275                      0  ...              0              0   \n",
              "1400501466                      0  ...              0              0   \n",
              "1400501520                      3  ...              0              0   \n",
              "1400501776                      0  ...              0              0   \n",
              "1400532620                      0  ...              0              0   \n",
              "\n",
              "userId      AZX5LAN9JEAFF  AZX7I110AF0W2  AZXKUK895VGSM  AZXP46IB63PU8  \\\n",
              "productId                                                                \n",
              "0972683275              0              0              0              0   \n",
              "1400501466              0              0              0              0   \n",
              "1400501520              0              0              0              0   \n",
              "1400501776              0              0              0              0   \n",
              "1400532620              0              0              0              0   \n",
              "\n",
              "userId      AZYTSU42BZ7TP  AZZGJ2KMWB7R  AZZMV5VT9W7Y8  AZZST8OYL5P4Q  \n",
              "productId                                                              \n",
              "0972683275              0             0              0              0  \n",
              "1400501466              0             0              0              0  \n",
              "1400501520              0             0              0              0  \n",
              "1400501776              0             0              1              0  \n",
              "1400532620              0             0              0              0  \n",
              "\n",
              "[5 rows x 9832 columns]"
            ],
            "text/html": [
              "\n",
              "  <div id=\"df-ea3a98b7-c8a1-4db3-a1b0-9fd921689430\" class=\"colab-df-container\">\n",
              "    <div>\n",
              "<style scoped>\n",
              "    .dataframe tbody tr th:only-of-type {\n",
              "        vertical-align: middle;\n",
              "    }\n",
              "\n",
              "    .dataframe tbody tr th {\n",
              "        vertical-align: top;\n",
              "    }\n",
              "\n",
              "    .dataframe thead th {\n",
              "        text-align: right;\n",
              "    }\n",
              "</style>\n",
              "<table border=\"1\" class=\"dataframe\">\n",
              "  <thead>\n",
              "    <tr style=\"text-align: right;\">\n",
              "      <th>userId</th>\n",
              "      <th>A01852072Z7B68UHLI5UG</th>\n",
              "      <th>A0266076X6KPZ6CCHGVS</th>\n",
              "      <th>A0293130VTX2ZXA70JQS</th>\n",
              "      <th>A030530627MK66BD8V4LN</th>\n",
              "      <th>A0571176384K8RBNKGF8O</th>\n",
              "      <th>A0590501PZ7HOWJKBGQ4</th>\n",
              "      <th>A0641581307AKT5MAOU0Q</th>\n",
              "      <th>A076219533YHEV2LJO988</th>\n",
              "      <th>A0821988FXKFYX53V4QG</th>\n",
              "      <th>A099626739FNCRNHIKBCG</th>\n",
              "      <th>...</th>\n",
              "      <th>AZWOPBY75SGAM</th>\n",
              "      <th>AZX0ZDVAFMN78</th>\n",
              "      <th>AZX5LAN9JEAFF</th>\n",
              "      <th>AZX7I110AF0W2</th>\n",
              "      <th>AZXKUK895VGSM</th>\n",
              "      <th>AZXP46IB63PU8</th>\n",
              "      <th>AZYTSU42BZ7TP</th>\n",
              "      <th>AZZGJ2KMWB7R</th>\n",
              "      <th>AZZMV5VT9W7Y8</th>\n",
              "      <th>AZZST8OYL5P4Q</th>\n",
              "    </tr>\n",
              "    <tr>\n",
              "      <th>productId</th>\n",
              "      <th></th>\n",
              "      <th></th>\n",
              "      <th></th>\n",
              "      <th></th>\n",
              "      <th></th>\n",
              "      <th></th>\n",
              "      <th></th>\n",
              "      <th></th>\n",
              "      <th></th>\n",
              "      <th></th>\n",
              "      <th></th>\n",
              "      <th></th>\n",
              "      <th></th>\n",
              "      <th></th>\n",
              "      <th></th>\n",
              "      <th></th>\n",
              "      <th></th>\n",
              "      <th></th>\n",
              "      <th></th>\n",
              "      <th></th>\n",
              "      <th></th>\n",
              "    </tr>\n",
              "  </thead>\n",
              "  <tbody>\n",
              "    <tr>\n",
              "      <th>0972683275</th>\n",
              "      <td>0</td>\n",
              "      <td>0</td>\n",
              "      <td>5</td>\n",
              "      <td>4</td>\n",
              "      <td>0</td>\n",
              "      <td>0</td>\n",
              "      <td>0</td>\n",
              "      <td>0</td>\n",
              "      <td>0</td>\n",
              "      <td>0</td>\n",
              "      <td>...</td>\n",
              "      <td>0</td>\n",
              "      <td>0</td>\n",
              "      <td>0</td>\n",
              "      <td>0</td>\n",
              "      <td>0</td>\n",
              "      <td>0</td>\n",
              "      <td>0</td>\n",
              "      <td>0</td>\n",
              "      <td>0</td>\n",
              "      <td>0</td>\n",
              "    </tr>\n",
              "    <tr>\n",
              "      <th>1400501466</th>\n",
              "      <td>0</td>\n",
              "      <td>0</td>\n",
              "      <td>0</td>\n",
              "      <td>0</td>\n",
              "      <td>0</td>\n",
              "      <td>0</td>\n",
              "      <td>0</td>\n",
              "      <td>0</td>\n",
              "      <td>0</td>\n",
              "      <td>0</td>\n",
              "      <td>...</td>\n",
              "      <td>0</td>\n",
              "      <td>0</td>\n",
              "      <td>0</td>\n",
              "      <td>0</td>\n",
              "      <td>0</td>\n",
              "      <td>0</td>\n",
              "      <td>0</td>\n",
              "      <td>0</td>\n",
              "      <td>0</td>\n",
              "      <td>0</td>\n",
              "    </tr>\n",
              "    <tr>\n",
              "      <th>1400501520</th>\n",
              "      <td>0</td>\n",
              "      <td>0</td>\n",
              "      <td>0</td>\n",
              "      <td>0</td>\n",
              "      <td>0</td>\n",
              "      <td>0</td>\n",
              "      <td>0</td>\n",
              "      <td>0</td>\n",
              "      <td>0</td>\n",
              "      <td>3</td>\n",
              "      <td>...</td>\n",
              "      <td>0</td>\n",
              "      <td>0</td>\n",
              "      <td>0</td>\n",
              "      <td>0</td>\n",
              "      <td>0</td>\n",
              "      <td>0</td>\n",
              "      <td>0</td>\n",
              "      <td>0</td>\n",
              "      <td>0</td>\n",
              "      <td>0</td>\n",
              "    </tr>\n",
              "    <tr>\n",
              "      <th>1400501776</th>\n",
              "      <td>0</td>\n",
              "      <td>0</td>\n",
              "      <td>0</td>\n",
              "      <td>0</td>\n",
              "      <td>0</td>\n",
              "      <td>0</td>\n",
              "      <td>0</td>\n",
              "      <td>0</td>\n",
              "      <td>0</td>\n",
              "      <td>0</td>\n",
              "      <td>...</td>\n",
              "      <td>0</td>\n",
              "      <td>0</td>\n",
              "      <td>0</td>\n",
              "      <td>0</td>\n",
              "      <td>0</td>\n",
              "      <td>0</td>\n",
              "      <td>0</td>\n",
              "      <td>0</td>\n",
              "      <td>1</td>\n",
              "      <td>0</td>\n",
              "    </tr>\n",
              "    <tr>\n",
              "      <th>1400532620</th>\n",
              "      <td>0</td>\n",
              "      <td>0</td>\n",
              "      <td>0</td>\n",
              "      <td>0</td>\n",
              "      <td>0</td>\n",
              "      <td>0</td>\n",
              "      <td>0</td>\n",
              "      <td>0</td>\n",
              "      <td>0</td>\n",
              "      <td>0</td>\n",
              "      <td>...</td>\n",
              "      <td>0</td>\n",
              "      <td>0</td>\n",
              "      <td>0</td>\n",
              "      <td>0</td>\n",
              "      <td>0</td>\n",
              "      <td>0</td>\n",
              "      <td>0</td>\n",
              "      <td>0</td>\n",
              "      <td>0</td>\n",
              "      <td>0</td>\n",
              "    </tr>\n",
              "  </tbody>\n",
              "</table>\n",
              "<p>5 rows × 9832 columns</p>\n",
              "</div>\n",
              "    <div class=\"colab-df-buttons\">\n",
              "\n",
              "  <div class=\"colab-df-container\">\n",
              "    <button class=\"colab-df-convert\" onclick=\"convertToInteractive('df-ea3a98b7-c8a1-4db3-a1b0-9fd921689430')\"\n",
              "            title=\"Convert this dataframe to an interactive table.\"\n",
              "            style=\"display:none;\">\n",
              "\n",
              "  <svg xmlns=\"http://www.w3.org/2000/svg\" height=\"24px\" viewBox=\"0 -960 960 960\">\n",
              "    <path d=\"M120-120v-720h720v720H120Zm60-500h600v-160H180v160Zm220 220h160v-160H400v160Zm0 220h160v-160H400v160ZM180-400h160v-160H180v160Zm440 0h160v-160H620v160ZM180-180h160v-160H180v160Zm440 0h160v-160H620v160Z\"/>\n",
              "  </svg>\n",
              "    </button>\n",
              "\n",
              "  <style>\n",
              "    .colab-df-container {\n",
              "      display:flex;\n",
              "      gap: 12px;\n",
              "    }\n",
              "\n",
              "    .colab-df-convert {\n",
              "      background-color: #E8F0FE;\n",
              "      border: none;\n",
              "      border-radius: 50%;\n",
              "      cursor: pointer;\n",
              "      display: none;\n",
              "      fill: #1967D2;\n",
              "      height: 32px;\n",
              "      padding: 0 0 0 0;\n",
              "      width: 32px;\n",
              "    }\n",
              "\n",
              "    .colab-df-convert:hover {\n",
              "      background-color: #E2EBFA;\n",
              "      box-shadow: 0px 1px 2px rgba(60, 64, 67, 0.3), 0px 1px 3px 1px rgba(60, 64, 67, 0.15);\n",
              "      fill: #174EA6;\n",
              "    }\n",
              "\n",
              "    .colab-df-buttons div {\n",
              "      margin-bottom: 4px;\n",
              "    }\n",
              "\n",
              "    [theme=dark] .colab-df-convert {\n",
              "      background-color: #3B4455;\n",
              "      fill: #D2E3FC;\n",
              "    }\n",
              "\n",
              "    [theme=dark] .colab-df-convert:hover {\n",
              "      background-color: #434B5C;\n",
              "      box-shadow: 0px 1px 3px 1px rgba(0, 0, 0, 0.15);\n",
              "      filter: drop-shadow(0px 1px 2px rgba(0, 0, 0, 0.3));\n",
              "      fill: #FFFFFF;\n",
              "    }\n",
              "  </style>\n",
              "\n",
              "    <script>\n",
              "      const buttonEl =\n",
              "        document.querySelector('#df-ea3a98b7-c8a1-4db3-a1b0-9fd921689430 button.colab-df-convert');\n",
              "      buttonEl.style.display =\n",
              "        google.colab.kernel.accessAllowed ? 'block' : 'none';\n",
              "\n",
              "      async function convertToInteractive(key) {\n",
              "        const element = document.querySelector('#df-ea3a98b7-c8a1-4db3-a1b0-9fd921689430');\n",
              "        const dataTable =\n",
              "          await google.colab.kernel.invokeFunction('convertToInteractive',\n",
              "                                                    [key], {});\n",
              "        if (!dataTable) return;\n",
              "\n",
              "        const docLinkHtml = 'Like what you see? Visit the ' +\n",
              "          '<a target=\"_blank\" href=https://colab.research.google.com/notebooks/data_table.ipynb>data table notebook</a>'\n",
              "          + ' to learn more about interactive tables.';\n",
              "        element.innerHTML = '';\n",
              "        dataTable['output_type'] = 'display_data';\n",
              "        await google.colab.output.renderOutput(dataTable, element);\n",
              "        const docLink = document.createElement('div');\n",
              "        docLink.innerHTML = docLinkHtml;\n",
              "        element.appendChild(docLink);\n",
              "      }\n",
              "    </script>\n",
              "  </div>\n",
              "\n",
              "\n",
              "<div id=\"df-3ad76267-e005-4ad4-9cb9-1b390dfe14be\">\n",
              "  <button class=\"colab-df-quickchart\" onclick=\"quickchart('df-3ad76267-e005-4ad4-9cb9-1b390dfe14be')\"\n",
              "            title=\"Suggest charts\"\n",
              "            style=\"display:none;\">\n",
              "\n",
              "<svg xmlns=\"http://www.w3.org/2000/svg\" height=\"24px\"viewBox=\"0 0 24 24\"\n",
              "     width=\"24px\">\n",
              "    <g>\n",
              "        <path d=\"M19 3H5c-1.1 0-2 .9-2 2v14c0 1.1.9 2 2 2h14c1.1 0 2-.9 2-2V5c0-1.1-.9-2-2-2zM9 17H7v-7h2v7zm4 0h-2V7h2v10zm4 0h-2v-4h2v4z\"/>\n",
              "    </g>\n",
              "</svg>\n",
              "  </button>\n",
              "\n",
              "<style>\n",
              "  .colab-df-quickchart {\n",
              "      --bg-color: #E8F0FE;\n",
              "      --fill-color: #1967D2;\n",
              "      --hover-bg-color: #E2EBFA;\n",
              "      --hover-fill-color: #174EA6;\n",
              "      --disabled-fill-color: #AAA;\n",
              "      --disabled-bg-color: #DDD;\n",
              "  }\n",
              "\n",
              "  [theme=dark] .colab-df-quickchart {\n",
              "      --bg-color: #3B4455;\n",
              "      --fill-color: #D2E3FC;\n",
              "      --hover-bg-color: #434B5C;\n",
              "      --hover-fill-color: #FFFFFF;\n",
              "      --disabled-bg-color: #3B4455;\n",
              "      --disabled-fill-color: #666;\n",
              "  }\n",
              "\n",
              "  .colab-df-quickchart {\n",
              "    background-color: var(--bg-color);\n",
              "    border: none;\n",
              "    border-radius: 50%;\n",
              "    cursor: pointer;\n",
              "    display: none;\n",
              "    fill: var(--fill-color);\n",
              "    height: 32px;\n",
              "    padding: 0;\n",
              "    width: 32px;\n",
              "  }\n",
              "\n",
              "  .colab-df-quickchart:hover {\n",
              "    background-color: var(--hover-bg-color);\n",
              "    box-shadow: 0 1px 2px rgba(60, 64, 67, 0.3), 0 1px 3px 1px rgba(60, 64, 67, 0.15);\n",
              "    fill: var(--button-hover-fill-color);\n",
              "  }\n",
              "\n",
              "  .colab-df-quickchart-complete:disabled,\n",
              "  .colab-df-quickchart-complete:disabled:hover {\n",
              "    background-color: var(--disabled-bg-color);\n",
              "    fill: var(--disabled-fill-color);\n",
              "    box-shadow: none;\n",
              "  }\n",
              "\n",
              "  .colab-df-spinner {\n",
              "    border: 2px solid var(--fill-color);\n",
              "    border-color: transparent;\n",
              "    border-bottom-color: var(--fill-color);\n",
              "    animation:\n",
              "      spin 1s steps(1) infinite;\n",
              "  }\n",
              "\n",
              "  @keyframes spin {\n",
              "    0% {\n",
              "      border-color: transparent;\n",
              "      border-bottom-color: var(--fill-color);\n",
              "      border-left-color: var(--fill-color);\n",
              "    }\n",
              "    20% {\n",
              "      border-color: transparent;\n",
              "      border-left-color: var(--fill-color);\n",
              "      border-top-color: var(--fill-color);\n",
              "    }\n",
              "    30% {\n",
              "      border-color: transparent;\n",
              "      border-left-color: var(--fill-color);\n",
              "      border-top-color: var(--fill-color);\n",
              "      border-right-color: var(--fill-color);\n",
              "    }\n",
              "    40% {\n",
              "      border-color: transparent;\n",
              "      border-right-color: var(--fill-color);\n",
              "      border-top-color: var(--fill-color);\n",
              "    }\n",
              "    60% {\n",
              "      border-color: transparent;\n",
              "      border-right-color: var(--fill-color);\n",
              "    }\n",
              "    80% {\n",
              "      border-color: transparent;\n",
              "      border-right-color: var(--fill-color);\n",
              "      border-bottom-color: var(--fill-color);\n",
              "    }\n",
              "    90% {\n",
              "      border-color: transparent;\n",
              "      border-bottom-color: var(--fill-color);\n",
              "    }\n",
              "  }\n",
              "</style>\n",
              "\n",
              "  <script>\n",
              "    async function quickchart(key) {\n",
              "      const quickchartButtonEl =\n",
              "        document.querySelector('#' + key + ' button');\n",
              "      quickchartButtonEl.disabled = true;  // To prevent multiple clicks.\n",
              "      quickchartButtonEl.classList.add('colab-df-spinner');\n",
              "      try {\n",
              "        const charts = await google.colab.kernel.invokeFunction(\n",
              "            'suggestCharts', [key], {});\n",
              "      } catch (error) {\n",
              "        console.error('Error during call to suggestCharts:', error);\n",
              "      }\n",
              "      quickchartButtonEl.classList.remove('colab-df-spinner');\n",
              "      quickchartButtonEl.classList.add('colab-df-quickchart-complete');\n",
              "    }\n",
              "    (() => {\n",
              "      let quickchartButtonEl =\n",
              "        document.querySelector('#df-3ad76267-e005-4ad4-9cb9-1b390dfe14be button');\n",
              "      quickchartButtonEl.style.display =\n",
              "        google.colab.kernel.accessAllowed ? 'block' : 'none';\n",
              "    })();\n",
              "  </script>\n",
              "</div>\n",
              "    </div>\n",
              "  </div>\n"
            ]
          },
          "metadata": {},
          "execution_count": 49
        }
      ]
    },
    {
      "cell_type": "code",
      "source": [
        "X.shape"
      ],
      "metadata": {
        "colab": {
          "base_uri": "https://localhost:8080/"
        },
        "id": "pbyQVbKxqAYs",
        "outputId": "5d9bfc9f-4af5-47a7-d6e7-df52883290ea"
      },
      "execution_count": 50,
      "outputs": [
        {
          "output_type": "execute_result",
          "data": {
            "text/plain": [
              "(76, 9832)"
            ]
          },
          "metadata": {},
          "execution_count": 50
        }
      ]
    },
    {
      "cell_type": "code",
      "source": [
        "X1 = X"
      ],
      "metadata": {
        "id": "rZ_kO-8YqBOH"
      },
      "execution_count": 51,
      "outputs": []
    },
    {
      "cell_type": "code",
      "source": [
        "#Decomposing the Matrix\n",
        "from sklearn.decomposition import TruncatedSVD\n",
        "SVD = TruncatedSVD(n_components=10)\n",
        "decomposed_matrix = SVD.fit_transform(X)\n",
        "decomposed_matrix.shape"
      ],
      "metadata": {
        "colab": {
          "base_uri": "https://localhost:8080/"
        },
        "id": "Bss_pBS_qCLf",
        "outputId": "4618f12b-4dcb-4e69-fcfd-bfdd35f2a2fc"
      },
      "execution_count": 52,
      "outputs": [
        {
          "output_type": "execute_result",
          "data": {
            "text/plain": [
              "(76, 10)"
            ]
          },
          "metadata": {},
          "execution_count": 52
        }
      ]
    },
    {
      "cell_type": "code",
      "source": [
        "#Correlation Matrix\n",
        "\n",
        "correlation_matrix = np.corrcoef(decomposed_matrix)\n",
        "correlation_matrix.shape"
      ],
      "metadata": {
        "colab": {
          "base_uri": "https://localhost:8080/"
        },
        "id": "T-DXDQmUqDD7",
        "outputId": "33bd35e4-d3aa-4e64-e552-b7cef48ad570"
      },
      "execution_count": 53,
      "outputs": [
        {
          "output_type": "execute_result",
          "data": {
            "text/plain": [
              "(76, 76)"
            ]
          },
          "metadata": {},
          "execution_count": 53
        }
      ]
    },
    {
      "cell_type": "code",
      "source": [
        "X.index[75]"
      ],
      "metadata": {
        "colab": {
          "base_uri": "https://localhost:8080/",
          "height": 35
        },
        "id": "7CZc03kQqEO0",
        "outputId": "3d9a995c-2ea7-4b58-c0b2-5576004d8929"
      },
      "execution_count": 54,
      "outputs": [
        {
          "output_type": "execute_result",
          "data": {
            "text/plain": [
              "'B00000K135'"
            ],
            "application/vnd.google.colaboratory.intrinsic+json": {
              "type": "string"
            }
          },
          "metadata": {},
          "execution_count": 54
        }
      ]
    },
    {
      "cell_type": "code",
      "source": [
        "i = \"B00000K135\"\n",
        "\n",
        "product_names = list(X.index)\n",
        "product_ID = product_names.index(i)\n",
        "product_ID"
      ],
      "metadata": {
        "colab": {
          "base_uri": "https://localhost:8080/"
        },
        "id": "FiBucc4OqFzr",
        "outputId": "fc063edd-6a49-4cd5-8aac-bd3c9c4de170"
      },
      "execution_count": 55,
      "outputs": [
        {
          "output_type": "execute_result",
          "data": {
            "text/plain": [
              "75"
            ]
          },
          "metadata": {},
          "execution_count": 55
        }
      ]
    },
    {
      "cell_type": "code",
      "source": [
        "correlation_product_ID = correlation_matrix[product_ID]\n",
        "correlation_product_ID.shape"
      ],
      "metadata": {
        "colab": {
          "base_uri": "https://localhost:8080/"
        },
        "id": "YZcA2uuiqIcB",
        "outputId": "ce7a79f8-0ddb-4c7a-a7c9-f20f41a2ffe2"
      },
      "execution_count": 56,
      "outputs": [
        {
          "output_type": "execute_result",
          "data": {
            "text/plain": [
              "(76,)"
            ]
          },
          "metadata": {},
          "execution_count": 56
        }
      ]
    },
    {
      "cell_type": "code",
      "source": [
        "Recommend = list(X.index[correlation_product_ID > 0.65])\n",
        "\n",
        "# Removes the item already bought by the customer\n",
        "Recommend.remove(i)\n",
        "\n",
        "Recommend[0:24]"
      ],
      "metadata": {
        "colab": {
          "base_uri": "https://localhost:8080/"
        },
        "id": "wJsO_VaKqJdW",
        "outputId": "ef824e28-32f0-4b21-c72c-bc3966ac6ce5"
      },
      "execution_count": 57,
      "outputs": [
        {
          "output_type": "execute_result",
          "data": {
            "text/plain": [
              "['9573212919',\n",
              " 'B000001OM4',\n",
              " 'B000001OM5',\n",
              " 'B00000IGBF',\n",
              " 'B00000J05A',\n",
              " 'B00000J1U8',\n",
              " 'B00000J1UQ',\n",
              " 'B00000JDHV']"
            ]
          },
          "metadata": {},
          "execution_count": 57
        }
      ]
    },
    {
      "cell_type": "code",
      "source": [],
      "metadata": {
        "id": "xwBRvCEaqPBc"
      },
      "execution_count": 57,
      "outputs": []
    }
  ]
}