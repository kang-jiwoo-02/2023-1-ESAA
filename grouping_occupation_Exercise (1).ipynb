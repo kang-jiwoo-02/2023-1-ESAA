{
  "nbformat": 4,
  "nbformat_minor": 0,
  "metadata": {
    "kernelspec": {
      "display_name": "Python 2",
      "language": "python",
      "name": "python2"
    },
    "language_info": {
      "codemirror_mode": {
        "name": "ipython",
        "version": 2
      },
      "file_extension": ".py",
      "mimetype": "text/x-python",
      "name": "python",
      "nbconvert_exporter": "python",
      "pygments_lexer": "ipython2",
      "version": "2.7.11"
    },
    "colab": {
      "provenance": []
    }
  },
  "cells": [
    {
      "cell_type": "markdown",
      "metadata": {
        "id": "RYQSB73_akvl"
      },
      "source": [
        "# Occupation"
      ]
    },
    {
      "cell_type": "markdown",
      "metadata": {
        "id": "Ez-pV6Jaakvs"
      },
      "source": [
        "### Introduction:\n",
        "\n",
        "Special thanks to: https://github.com/justmarkham for sharing the dataset and materials.\n",
        "\n",
        "### Step 1. Import the necessary libraries"
      ]
    },
    {
      "cell_type": "code",
      "metadata": {
        "id": "s-DFQmeNakvu"
      },
      "source": [
        "import pandas as pd\n",
        "import numpy as np"
      ],
      "execution_count": null,
      "outputs": []
    },
    {
      "cell_type": "markdown",
      "metadata": {
        "id": "ShhIzySnakvw"
      },
      "source": [
        "### Step 2. Import the dataset from this [address](https://raw.githubusercontent.com/justmarkham/DAT8/master/data/u.user). "
      ]
    },
    {
      "cell_type": "markdown",
      "metadata": {
        "id": "03hsscjRakvx"
      },
      "source": [
        "### Step 3. Assign it to a variable called users."
      ]
    },
    {
      "cell_type": "code",
      "metadata": {
        "id": "5RdM7Sj-akvy"
      },
      "source": [
        "users = pd.read_csv('https://raw.githubusercontent.com/justmarkham/DAT8/master/data/u.user', sep='|')"
      ],
      "execution_count": null,
      "outputs": []
    },
    {
      "cell_type": "markdown",
      "metadata": {
        "id": "p4rTx11Sakvz"
      },
      "source": [
        "### Step 4. Discover what is the mean age per occupation"
      ]
    },
    {
      "cell_type": "code",
      "metadata": {
        "id": "PNUZKNafakv1",
        "colab": {
          "base_uri": "https://localhost:8080/"
        },
        "outputId": "9b11ed24-b046-49a5-a9d1-de5b192fea8a"
      },
      "source": [
        "users.groupby('occupation').age.mean()"
      ],
      "execution_count": null,
      "outputs": [
        {
          "output_type": "execute_result",
          "data": {
            "text/plain": [
              "occupation\n",
              "administrator    38.746835\n",
              "artist           31.392857\n",
              "doctor           43.571429\n",
              "educator         42.010526\n",
              "engineer         36.388060\n",
              "entertainment    29.222222\n",
              "executive        38.718750\n",
              "healthcare       41.562500\n",
              "homemaker        32.571429\n",
              "lawyer           36.750000\n",
              "librarian        40.000000\n",
              "marketing        37.615385\n",
              "none             26.555556\n",
              "other            34.523810\n",
              "programmer       33.121212\n",
              "retired          63.071429\n",
              "salesman         35.666667\n",
              "scientist        35.548387\n",
              "student          22.081633\n",
              "technician       33.148148\n",
              "writer           36.311111\n",
              "Name: age, dtype: float64"
            ]
          },
          "metadata": {},
          "execution_count": 3
        }
      ]
    },
    {
      "cell_type": "markdown",
      "metadata": {
        "id": "b9Va6b3Qakv3"
      },
      "source": [
        "### Step 5. Discover the Male ratio per occupation and sort it from the most to the least\n",
        "\n",
        "(Define 'function' to solve this probelm)"
      ]
    },
    {
      "cell_type": "code",
      "metadata": {
        "id": "xb3LjNPRakv5",
        "colab": {
          "base_uri": "https://localhost:8080/"
        },
        "outputId": "0d100d3d-bc29-4ab2-fa46-5bfedaee0c4d"
      },
      "source": [
        "users['is_male'] = users['gender'].apply(lambda x: True if x =='M' else False)\n",
        "users['is_male']\n",
        "\n",
        "a = users.groupby('occupation')['is_male'].sum() / users.groupby('occupation')['gender'].count()  # occupation 별 남성 비율\n",
        "b = a.sort_values(ascending=False)  # 내림차순으로 정렬\n",
        "print(b)"
      ],
      "execution_count": null,
      "outputs": [
        {
          "output_type": "stream",
          "name": "stdout",
          "text": [
            "occupation\n",
            "doctor           1.000000\n",
            "engineer         0.970149\n",
            "technician       0.962963\n",
            "retired          0.928571\n",
            "programmer       0.909091\n",
            "executive        0.906250\n",
            "scientist        0.903226\n",
            "entertainment    0.888889\n",
            "lawyer           0.833333\n",
            "salesman         0.750000\n",
            "educator         0.726316\n",
            "student          0.693878\n",
            "other            0.657143\n",
            "marketing        0.615385\n",
            "writer           0.577778\n",
            "none             0.555556\n",
            "administrator    0.544304\n",
            "artist           0.535714\n",
            "librarian        0.431373\n",
            "healthcare       0.312500\n",
            "homemaker        0.142857\n",
            "dtype: float64\n"
          ]
        }
      ]
    },
    {
      "cell_type": "code",
      "source": [
        "def gender_to_numeric(x):\n",
        "    if x == 'M':\n",
        "        return 1\n",
        "    if x == 'F':\n",
        "        return 0\n",
        "\n",
        "users['gender_n'] = users['gender'].apply(gender_to_numeric)\n",
        "print(users)\n",
        "a = users.groupby('occupation').gender_n.sum()/users.occupation.value_counts()*100\n",
        "print(a)\n",
        "a.sort_values(ascending=False)"
      ],
      "metadata": {
        "colab": {
          "base_uri": "https://localhost:8080/"
        },
        "id": "rbjUmEwnEHgc",
        "outputId": "6a2db585-4348-4565-a01c-1d2fce893c0b"
      },
      "execution_count": null,
      "outputs": [
        {
          "output_type": "stream",
          "name": "stdout",
          "text": [
            "     user_id  age gender     occupation zip_code  is_male  gender_n\n",
            "0          1   24      M     technician    85711     True         1\n",
            "1          2   53      F          other    94043    False         0\n",
            "2          3   23      M         writer    32067     True         1\n",
            "3          4   24      M     technician    43537     True         1\n",
            "4          5   33      F          other    15213    False         0\n",
            "..       ...  ...    ...            ...      ...      ...       ...\n",
            "938      939   26      F        student    33319    False         0\n",
            "939      940   32      M  administrator    02215     True         1\n",
            "940      941   20      M        student    97229     True         1\n",
            "941      942   48      F      librarian    78209    False         0\n",
            "942      943   22      M        student    77841     True         1\n",
            "\n",
            "[943 rows x 7 columns]\n",
            "administrator     54.430380\n",
            "artist            53.571429\n",
            "doctor           100.000000\n",
            "educator          72.631579\n",
            "engineer          97.014925\n",
            "entertainment     88.888889\n",
            "executive         90.625000\n",
            "healthcare        31.250000\n",
            "homemaker         14.285714\n",
            "lawyer            83.333333\n",
            "librarian         43.137255\n",
            "marketing         61.538462\n",
            "none              55.555556\n",
            "other             65.714286\n",
            "programmer        90.909091\n",
            "retired           92.857143\n",
            "salesman          75.000000\n",
            "scientist         90.322581\n",
            "student           69.387755\n",
            "technician        96.296296\n",
            "writer            57.777778\n",
            "dtype: float64\n"
          ]
        },
        {
          "output_type": "execute_result",
          "data": {
            "text/plain": [
              "doctor           100.000000\n",
              "engineer          97.014925\n",
              "technician        96.296296\n",
              "retired           92.857143\n",
              "programmer        90.909091\n",
              "executive         90.625000\n",
              "scientist         90.322581\n",
              "entertainment     88.888889\n",
              "lawyer            83.333333\n",
              "salesman          75.000000\n",
              "educator          72.631579\n",
              "student           69.387755\n",
              "other             65.714286\n",
              "marketing         61.538462\n",
              "writer            57.777778\n",
              "none              55.555556\n",
              "administrator     54.430380\n",
              "artist            53.571429\n",
              "librarian         43.137255\n",
              "healthcare        31.250000\n",
              "homemaker         14.285714\n",
              "dtype: float64"
            ]
          },
          "metadata": {},
          "execution_count": 31
        }
      ]
    },
    {
      "cell_type": "markdown",
      "metadata": {
        "id": "V8iyNzOiakv6"
      },
      "source": [
        "### Step 6. For each occupation, calculate the minimum and maximum ages"
      ]
    },
    {
      "cell_type": "code",
      "metadata": {
        "id": "_XxSd_XWakv7",
        "colab": {
          "base_uri": "https://localhost:8080/",
          "height": 739
        },
        "outputId": "abf8e16e-7c8c-4671-a38b-a876e98b8c85"
      },
      "source": [
        "users.groupby('occupation')['age'].agg([min,max])"
      ],
      "execution_count": null,
      "outputs": [
        {
          "output_type": "execute_result",
          "data": {
            "text/plain": [
              "               min  max\n",
              "occupation             \n",
              "administrator   21   70\n",
              "artist          19   48\n",
              "doctor          28   64\n",
              "educator        23   63\n",
              "engineer        22   70\n",
              "entertainment   15   50\n",
              "executive       22   69\n",
              "healthcare      22   62\n",
              "homemaker       20   50\n",
              "lawyer          21   53\n",
              "librarian       23   69\n",
              "marketing       24   55\n",
              "none            11   55\n",
              "other           13   64\n",
              "programmer      20   63\n",
              "retired         51   73\n",
              "salesman        18   66\n",
              "scientist       23   55\n",
              "student          7   42\n",
              "technician      21   55\n",
              "writer          18   60"
            ],
            "text/html": [
              "\n",
              "  <div id=\"df-14862389-bb71-4c00-8ecb-cfa940acd8af\">\n",
              "    <div class=\"colab-df-container\">\n",
              "      <div>\n",
              "<style scoped>\n",
              "    .dataframe tbody tr th:only-of-type {\n",
              "        vertical-align: middle;\n",
              "    }\n",
              "\n",
              "    .dataframe tbody tr th {\n",
              "        vertical-align: top;\n",
              "    }\n",
              "\n",
              "    .dataframe thead th {\n",
              "        text-align: right;\n",
              "    }\n",
              "</style>\n",
              "<table border=\"1\" class=\"dataframe\">\n",
              "  <thead>\n",
              "    <tr style=\"text-align: right;\">\n",
              "      <th></th>\n",
              "      <th>min</th>\n",
              "      <th>max</th>\n",
              "    </tr>\n",
              "    <tr>\n",
              "      <th>occupation</th>\n",
              "      <th></th>\n",
              "      <th></th>\n",
              "    </tr>\n",
              "  </thead>\n",
              "  <tbody>\n",
              "    <tr>\n",
              "      <th>administrator</th>\n",
              "      <td>21</td>\n",
              "      <td>70</td>\n",
              "    </tr>\n",
              "    <tr>\n",
              "      <th>artist</th>\n",
              "      <td>19</td>\n",
              "      <td>48</td>\n",
              "    </tr>\n",
              "    <tr>\n",
              "      <th>doctor</th>\n",
              "      <td>28</td>\n",
              "      <td>64</td>\n",
              "    </tr>\n",
              "    <tr>\n",
              "      <th>educator</th>\n",
              "      <td>23</td>\n",
              "      <td>63</td>\n",
              "    </tr>\n",
              "    <tr>\n",
              "      <th>engineer</th>\n",
              "      <td>22</td>\n",
              "      <td>70</td>\n",
              "    </tr>\n",
              "    <tr>\n",
              "      <th>entertainment</th>\n",
              "      <td>15</td>\n",
              "      <td>50</td>\n",
              "    </tr>\n",
              "    <tr>\n",
              "      <th>executive</th>\n",
              "      <td>22</td>\n",
              "      <td>69</td>\n",
              "    </tr>\n",
              "    <tr>\n",
              "      <th>healthcare</th>\n",
              "      <td>22</td>\n",
              "      <td>62</td>\n",
              "    </tr>\n",
              "    <tr>\n",
              "      <th>homemaker</th>\n",
              "      <td>20</td>\n",
              "      <td>50</td>\n",
              "    </tr>\n",
              "    <tr>\n",
              "      <th>lawyer</th>\n",
              "      <td>21</td>\n",
              "      <td>53</td>\n",
              "    </tr>\n",
              "    <tr>\n",
              "      <th>librarian</th>\n",
              "      <td>23</td>\n",
              "      <td>69</td>\n",
              "    </tr>\n",
              "    <tr>\n",
              "      <th>marketing</th>\n",
              "      <td>24</td>\n",
              "      <td>55</td>\n",
              "    </tr>\n",
              "    <tr>\n",
              "      <th>none</th>\n",
              "      <td>11</td>\n",
              "      <td>55</td>\n",
              "    </tr>\n",
              "    <tr>\n",
              "      <th>other</th>\n",
              "      <td>13</td>\n",
              "      <td>64</td>\n",
              "    </tr>\n",
              "    <tr>\n",
              "      <th>programmer</th>\n",
              "      <td>20</td>\n",
              "      <td>63</td>\n",
              "    </tr>\n",
              "    <tr>\n",
              "      <th>retired</th>\n",
              "      <td>51</td>\n",
              "      <td>73</td>\n",
              "    </tr>\n",
              "    <tr>\n",
              "      <th>salesman</th>\n",
              "      <td>18</td>\n",
              "      <td>66</td>\n",
              "    </tr>\n",
              "    <tr>\n",
              "      <th>scientist</th>\n",
              "      <td>23</td>\n",
              "      <td>55</td>\n",
              "    </tr>\n",
              "    <tr>\n",
              "      <th>student</th>\n",
              "      <td>7</td>\n",
              "      <td>42</td>\n",
              "    </tr>\n",
              "    <tr>\n",
              "      <th>technician</th>\n",
              "      <td>21</td>\n",
              "      <td>55</td>\n",
              "    </tr>\n",
              "    <tr>\n",
              "      <th>writer</th>\n",
              "      <td>18</td>\n",
              "      <td>60</td>\n",
              "    </tr>\n",
              "  </tbody>\n",
              "</table>\n",
              "</div>\n",
              "      <button class=\"colab-df-convert\" onclick=\"convertToInteractive('df-14862389-bb71-4c00-8ecb-cfa940acd8af')\"\n",
              "              title=\"Convert this dataframe to an interactive table.\"\n",
              "              style=\"display:none;\">\n",
              "        \n",
              "  <svg xmlns=\"http://www.w3.org/2000/svg\" height=\"24px\"viewBox=\"0 0 24 24\"\n",
              "       width=\"24px\">\n",
              "    <path d=\"M0 0h24v24H0V0z\" fill=\"none\"/>\n",
              "    <path d=\"M18.56 5.44l.94 2.06.94-2.06 2.06-.94-2.06-.94-.94-2.06-.94 2.06-2.06.94zm-11 1L8.5 8.5l.94-2.06 2.06-.94-2.06-.94L8.5 2.5l-.94 2.06-2.06.94zm10 10l.94 2.06.94-2.06 2.06-.94-2.06-.94-.94-2.06-.94 2.06-2.06.94z\"/><path d=\"M17.41 7.96l-1.37-1.37c-.4-.4-.92-.59-1.43-.59-.52 0-1.04.2-1.43.59L10.3 9.45l-7.72 7.72c-.78.78-.78 2.05 0 2.83L4 21.41c.39.39.9.59 1.41.59.51 0 1.02-.2 1.41-.59l7.78-7.78 2.81-2.81c.8-.78.8-2.07 0-2.86zM5.41 20L4 18.59l7.72-7.72 1.47 1.35L5.41 20z\"/>\n",
              "  </svg>\n",
              "      </button>\n",
              "      \n",
              "  <style>\n",
              "    .colab-df-container {\n",
              "      display:flex;\n",
              "      flex-wrap:wrap;\n",
              "      gap: 12px;\n",
              "    }\n",
              "\n",
              "    .colab-df-convert {\n",
              "      background-color: #E8F0FE;\n",
              "      border: none;\n",
              "      border-radius: 50%;\n",
              "      cursor: pointer;\n",
              "      display: none;\n",
              "      fill: #1967D2;\n",
              "      height: 32px;\n",
              "      padding: 0 0 0 0;\n",
              "      width: 32px;\n",
              "    }\n",
              "\n",
              "    .colab-df-convert:hover {\n",
              "      background-color: #E2EBFA;\n",
              "      box-shadow: 0px 1px 2px rgba(60, 64, 67, 0.3), 0px 1px 3px 1px rgba(60, 64, 67, 0.15);\n",
              "      fill: #174EA6;\n",
              "    }\n",
              "\n",
              "    [theme=dark] .colab-df-convert {\n",
              "      background-color: #3B4455;\n",
              "      fill: #D2E3FC;\n",
              "    }\n",
              "\n",
              "    [theme=dark] .colab-df-convert:hover {\n",
              "      background-color: #434B5C;\n",
              "      box-shadow: 0px 1px 3px 1px rgba(0, 0, 0, 0.15);\n",
              "      filter: drop-shadow(0px 1px 2px rgba(0, 0, 0, 0.3));\n",
              "      fill: #FFFFFF;\n",
              "    }\n",
              "  </style>\n",
              "\n",
              "      <script>\n",
              "        const buttonEl =\n",
              "          document.querySelector('#df-14862389-bb71-4c00-8ecb-cfa940acd8af button.colab-df-convert');\n",
              "        buttonEl.style.display =\n",
              "          google.colab.kernel.accessAllowed ? 'block' : 'none';\n",
              "\n",
              "        async function convertToInteractive(key) {\n",
              "          const element = document.querySelector('#df-14862389-bb71-4c00-8ecb-cfa940acd8af');\n",
              "          const dataTable =\n",
              "            await google.colab.kernel.invokeFunction('convertToInteractive',\n",
              "                                                     [key], {});\n",
              "          if (!dataTable) return;\n",
              "\n",
              "          const docLinkHtml = 'Like what you see? Visit the ' +\n",
              "            '<a target=\"_blank\" href=https://colab.research.google.com/notebooks/data_table.ipynb>data table notebook</a>'\n",
              "            + ' to learn more about interactive tables.';\n",
              "          element.innerHTML = '';\n",
              "          dataTable['output_type'] = 'display_data';\n",
              "          await google.colab.output.renderOutput(dataTable, element);\n",
              "          const docLink = document.createElement('div');\n",
              "          docLink.innerHTML = docLinkHtml;\n",
              "          element.appendChild(docLink);\n",
              "        }\n",
              "      </script>\n",
              "    </div>\n",
              "  </div>\n",
              "  "
            ]
          },
          "metadata": {},
          "execution_count": 8
        }
      ]
    },
    {
      "cell_type": "markdown",
      "metadata": {
        "id": "IITVNpN_akv8"
      },
      "source": [
        "### Step 7. For each combination of occupation and gender, calculate the mean age"
      ]
    },
    {
      "cell_type": "code",
      "metadata": {
        "id": "xDKQPz57akv9",
        "colab": {
          "base_uri": "https://localhost:8080/"
        },
        "outputId": "c45266f7-7230-41c6-bcff-3fa92db641aa"
      },
      "source": [
        "users.groupby(['occupation','gender'])['age'].mean()"
      ],
      "execution_count": null,
      "outputs": [
        {
          "output_type": "execute_result",
          "data": {
            "text/plain": [
              "occupation     gender\n",
              "administrator  F         40.638889\n",
              "               M         37.162791\n",
              "artist         F         30.307692\n",
              "               M         32.333333\n",
              "doctor         M         43.571429\n",
              "educator       F         39.115385\n",
              "               M         43.101449\n",
              "engineer       F         29.500000\n",
              "               M         36.600000\n",
              "entertainment  F         31.000000\n",
              "               M         29.000000\n",
              "executive      F         44.000000\n",
              "               M         38.172414\n",
              "healthcare     F         39.818182\n",
              "               M         45.400000\n",
              "homemaker      F         34.166667\n",
              "               M         23.000000\n",
              "lawyer         F         39.500000\n",
              "               M         36.200000\n",
              "librarian      F         40.000000\n",
              "               M         40.000000\n",
              "marketing      F         37.200000\n",
              "               M         37.875000\n",
              "none           F         36.500000\n",
              "               M         18.600000\n",
              "other          F         35.472222\n",
              "               M         34.028986\n",
              "programmer     F         32.166667\n",
              "               M         33.216667\n",
              "retired        F         70.000000\n",
              "               M         62.538462\n",
              "salesman       F         27.000000\n",
              "               M         38.555556\n",
              "scientist      F         28.333333\n",
              "               M         36.321429\n",
              "student        F         20.750000\n",
              "               M         22.669118\n",
              "technician     F         38.000000\n",
              "               M         32.961538\n",
              "writer         F         37.631579\n",
              "               M         35.346154\n",
              "Name: age, dtype: float64"
            ]
          },
          "metadata": {},
          "execution_count": 9
        }
      ]
    },
    {
      "cell_type": "markdown",
      "metadata": {
        "id": "6cfimN8Eakv-"
      },
      "source": [
        "### Step 8.  For each occupation present the percentage of women and men"
      ]
    },
    {
      "cell_type": "code",
      "source": [
        "def gender_to_numeric(x):\n",
        "    if x == 'M':\n",
        "        return 1\n",
        "    if x == 'F':\n",
        "        return 0\n",
        "\n",
        "users['gender_n'] = users['gender'].apply(gender_to_numeric)\n",
        "print(users)\n",
        "a = users.groupby('occupation').gender_n.sum()/users.occupation.value_counts()*100\n",
        "print(a)\n",
        "a.sort_values(ascending=False)\n",
        "print(100-a)"
      ],
      "metadata": {
        "colab": {
          "base_uri": "https://localhost:8080/"
        },
        "id": "9Kj_t3V5EuNv",
        "outputId": "456a53f4-e5e0-4749-88d3-c19fdf43927c"
      },
      "execution_count": null,
      "outputs": [
        {
          "output_type": "stream",
          "name": "stdout",
          "text": [
            "     user_id  age gender     occupation zip_code  is_male  gender_n\n",
            "0          1   24      M     technician    85711     True         1\n",
            "1          2   53      F          other    94043    False         0\n",
            "2          3   23      M         writer    32067     True         1\n",
            "3          4   24      M     technician    43537     True         1\n",
            "4          5   33      F          other    15213    False         0\n",
            "..       ...  ...    ...            ...      ...      ...       ...\n",
            "938      939   26      F        student    33319    False         0\n",
            "939      940   32      M  administrator    02215     True         1\n",
            "940      941   20      M        student    97229     True         1\n",
            "941      942   48      F      librarian    78209    False         0\n",
            "942      943   22      M        student    77841     True         1\n",
            "\n",
            "[943 rows x 7 columns]\n",
            "administrator     54.430380\n",
            "artist            53.571429\n",
            "doctor           100.000000\n",
            "educator          72.631579\n",
            "engineer          97.014925\n",
            "entertainment     88.888889\n",
            "executive         90.625000\n",
            "healthcare        31.250000\n",
            "homemaker         14.285714\n",
            "lawyer            83.333333\n",
            "librarian         43.137255\n",
            "marketing         61.538462\n",
            "none              55.555556\n",
            "other             65.714286\n",
            "programmer        90.909091\n",
            "retired           92.857143\n",
            "salesman          75.000000\n",
            "scientist         90.322581\n",
            "student           69.387755\n",
            "technician        96.296296\n",
            "writer            57.777778\n",
            "dtype: float64\n",
            "administrator    45.569620\n",
            "artist           46.428571\n",
            "doctor            0.000000\n",
            "educator         27.368421\n",
            "engineer          2.985075\n",
            "entertainment    11.111111\n",
            "executive         9.375000\n",
            "healthcare       68.750000\n",
            "homemaker        85.714286\n",
            "lawyer           16.666667\n",
            "librarian        56.862745\n",
            "marketing        38.461538\n",
            "none             44.444444\n",
            "other            34.285714\n",
            "programmer        9.090909\n",
            "retired           7.142857\n",
            "salesman         25.000000\n",
            "scientist         9.677419\n",
            "student          30.612245\n",
            "technician        3.703704\n",
            "writer           42.222222\n",
            "dtype: float64\n"
          ]
        }
      ]
    },
    {
      "cell_type": "code",
      "source": [],
      "metadata": {
        "id": "G9Wend1GEwIt"
      },
      "execution_count": null,
      "outputs": []
    },
    {
      "cell_type": "code",
      "source": [],
      "metadata": {
        "id": "e9o3bDGu7YM0"
      },
      "execution_count": null,
      "outputs": []
    }
  ]
}